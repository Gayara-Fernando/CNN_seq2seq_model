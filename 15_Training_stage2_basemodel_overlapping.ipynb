{
 "cells": [
  {
   "cell_type": "code",
   "execution_count": 1,
   "id": "f10d2af6-0456-474d-81a2-c608934d91ec",
   "metadata": {},
   "outputs": [
    {
     "name": "stderr",
     "output_type": "stream",
     "text": [
      "2025-07-17 18:46:06.005866: I tensorflow/core/util/port.cc:113] oneDNN custom operations are on. You may see slightly different numerical results due to floating-point round-off errors from different computation orders. To turn them off, set the environment variable `TF_ENABLE_ONEDNN_OPTS=0`.\n",
      "2025-07-17 18:46:07.219399: E external/local_xla/xla/stream_executor/cuda/cuda_dnn.cc:9261] Unable to register cuDNN factory: Attempting to register factory for plugin cuDNN when one has already been registered\n",
      "2025-07-17 18:46:07.219479: E external/local_xla/xla/stream_executor/cuda/cuda_fft.cc:607] Unable to register cuFFT factory: Attempting to register factory for plugin cuFFT when one has already been registered\n",
      "2025-07-17 18:46:07.363599: E external/local_xla/xla/stream_executor/cuda/cuda_blas.cc:1515] Unable to register cuBLAS factory: Attempting to register factory for plugin cuBLAS when one has already been registered\n",
      "2025-07-17 18:46:07.671582: I tensorflow/core/platform/cpu_feature_guard.cc:182] This TensorFlow binary is optimized to use available CPU instructions in performance-critical operations.\n",
      "To enable the following instructions: SSE4.1 SSE4.2 AVX AVX2 AVX512F AVX512_VNNI FMA, in other operations, rebuild TensorFlow with the appropriate compiler flags.\n"
     ]
    }
   ],
   "source": [
    "import tensorflow as tf\n",
    "import numpy as np\n",
    "import matplotlib.pyplot as plt\n",
    "import os\n",
    "from data_generator import DataGenerator"
   ]
  },
  {
   "cell_type": "code",
   "execution_count": 2,
   "id": "041ed62f-38b8-427f-bdd3-b77f168b7c06",
   "metadata": {},
   "outputs": [],
   "source": [
    "# Import the train and validation input and target data"
   ]
  },
  {
   "cell_type": "code",
   "execution_count": 3,
   "id": "8aac5b7f-aa11-4b21-99d3-8a74481337a6",
   "metadata": {},
   "outputs": [],
   "source": [
    "X_train = np.load(\"data/Overlapping_data/Train_features_and_targets/all_train_features.npy\")\n",
    "train_targets = np.load(\"data/Stage2_base_model/Overlapping/train_targets/all_train_targets.npy\")"
   ]
  },
  {
   "cell_type": "code",
   "execution_count": 4,
   "id": "bded1e88-041d-4c19-a318-3c9fa425186a",
   "metadata": {},
   "outputs": [
    {
     "data": {
      "text/plain": [
       "(49152, 13, 32, 32, 3)"
      ]
     },
     "execution_count": 4,
     "metadata": {},
     "output_type": "execute_result"
    }
   ],
   "source": [
    "X_train.shape"
   ]
  },
  {
   "cell_type": "code",
   "execution_count": 5,
   "id": "ba55dcca-f619-4bf1-92e4-a4575053b67d",
   "metadata": {},
   "outputs": [
    {
     "data": {
      "text/plain": [
       "(49152, 7)"
      ]
     },
     "execution_count": 5,
     "metadata": {},
     "output_type": "execute_result"
    }
   ],
   "source": [
    "train_targets.shape"
   ]
  },
  {
   "cell_type": "code",
   "execution_count": 6,
   "id": "e1f5737a-abd6-4b21-89c9-52479ed24eb7",
   "metadata": {},
   "outputs": [],
   "source": [
    "# we need the train data in the shape (49152, 7, 1) - let's reshape this"
   ]
  },
  {
   "cell_type": "code",
   "execution_count": 7,
   "id": "d0102d4f-e7d1-4185-93b6-f7842f027354",
   "metadata": {},
   "outputs": [],
   "source": [
    "y_train = train_targets.reshape(49152, 7, 1)"
   ]
  },
  {
   "cell_type": "code",
   "execution_count": 8,
   "id": "9a761622-b265-49cc-b2bc-ab703947f0e1",
   "metadata": {},
   "outputs": [
    {
     "data": {
      "text/plain": [
       "(49152, 7, 1)"
      ]
     },
     "execution_count": 8,
     "metadata": {},
     "output_type": "execute_result"
    }
   ],
   "source": [
    "y_train.shape"
   ]
  },
  {
   "cell_type": "code",
   "execution_count": 9,
   "id": "ee007e6f-3098-4167-9db5-c6d7cf361d7f",
   "metadata": {},
   "outputs": [],
   "source": [
    "# Load the validation data\n",
    "X_valid = np.load(\"data/Overlapping_data/Valid_features_and_targets/all_valid_features.npy\")\n",
    "valid_targets = np.load(\"data/Stage2_base_model/Overlapping/valid_targets/all_valid_targets.npy\")"
   ]
  },
  {
   "cell_type": "code",
   "execution_count": 10,
   "id": "d41e7b8a-ad33-4c90-ba2b-b2f5bc605d99",
   "metadata": {},
   "outputs": [
    {
     "data": {
      "text/plain": [
       "((12288, 13, 32, 32, 3), (12288, 7))"
      ]
     },
     "execution_count": 10,
     "metadata": {},
     "output_type": "execute_result"
    }
   ],
   "source": [
    "X_valid.shape, valid_targets.shape"
   ]
  },
  {
   "cell_type": "code",
   "execution_count": 11,
   "id": "cbe3e32f-8eb1-4b91-bebe-c1b2777640a0",
   "metadata": {},
   "outputs": [],
   "source": [
    "# reshape validation target"
   ]
  },
  {
   "cell_type": "code",
   "execution_count": 12,
   "id": "09d9fcdc-ecf4-47b5-bea0-73acff49290f",
   "metadata": {},
   "outputs": [],
   "source": [
    "y_valid = valid_targets.reshape(12288, 7, 1)"
   ]
  },
  {
   "cell_type": "code",
   "execution_count": 13,
   "id": "2bd7cb11-ff17-40e7-b212-f466dffce270",
   "metadata": {},
   "outputs": [
    {
     "data": {
      "text/plain": [
       "(12288, 7, 1)"
      ]
     },
     "execution_count": 13,
     "metadata": {},
     "output_type": "execute_result"
    }
   ],
   "source": [
    "y_valid.shape"
   ]
  },
  {
   "cell_type": "code",
   "execution_count": 14,
   "id": "998408bb-6c53-4fed-a3d1-e5da88741767",
   "metadata": {},
   "outputs": [
    {
     "name": "stderr",
     "output_type": "stream",
     "text": [
      "2025-07-17 18:48:13.987364: I tensorflow/core/common_runtime/gpu/gpu_device.cc:1929] Created device /job:localhost/replica:0/task:0/device:GPU:0 with 31134 MB memory:  -> device: 0, name: Tesla V100S-PCIE-32GB, pci bus id: 0000:06:00.0, compute capability: 7.0\n"
     ]
    }
   ],
   "source": [
    "# let's load and define the model below\n",
    "CNN_model = tf.keras.models.load_model('../../Spring_2024/Bayes_for_comps/TS_bayes_implementation_for_TN/models/trained_gmp_model_dense_32_new.h5')"
   ]
  },
  {
   "cell_type": "code",
   "execution_count": 15,
   "id": "e5c83aa5-0bf0-46f5-b70c-5154524d05a8",
   "metadata": {},
   "outputs": [
    {
     "name": "stdout",
     "output_type": "stream",
     "text": [
      "Model: \"model_1\"\n",
      "_________________________________________________________________\n",
      " Layer (type)                Output Shape              Param #   \n",
      "=================================================================\n",
      " input_1 (InputLayer)        [(None, None, None, 3)]   0         \n",
      "                                                                 \n",
      " conv2d (Conv2D)             (None, None, None, 32)    896       \n",
      "                                                                 \n",
      " activation (Activation)     (None, None, None, 32)    0         \n",
      "                                                                 \n",
      " conv2d_1 (Conv2D)           (None, None, None, 32)    9248      \n",
      "                                                                 \n",
      " activation_1 (Activation)   (None, None, None, 32)    0         \n",
      "                                                                 \n",
      " max_pooling2d (MaxPooling2  (None, None, None, 32)    0         \n",
      " D)                                                              \n",
      "                                                                 \n",
      " dropout (Dropout)           (None, None, None, 32)    0         \n",
      "                                                                 \n",
      " conv2d_2 (Conv2D)           (None, None, None, 64)    18496     \n",
      "                                                                 \n",
      " activation_2 (Activation)   (None, None, None, 64)    0         \n",
      "                                                                 \n",
      " conv2d_3 (Conv2D)           (None, None, None, 64)    36928     \n",
      "                                                                 \n",
      " activation_3 (Activation)   (None, None, None, 64)    0         \n",
      "                                                                 \n",
      " max_pooling2d_1 (MaxPoolin  (None, None, None, 64)    0         \n",
      " g2D)                                                            \n",
      "                                                                 \n",
      " New_dropout_0 (Dropout)     (None, None, None, 64)    0         \n",
      "                                                                 \n",
      " global_max_pooling2d (Glob  (None, 64)                0         \n",
      " alMaxPooling2D)                                                 \n",
      "                                                                 \n",
      " New_Dense_0 (Dense)         (None, 64)                4160      \n",
      "                                                                 \n",
      " New_Activation_0 (Activati  (None, 64)                0         \n",
      " on)                                                             \n",
      "                                                                 \n",
      " New_dropout_1 (Dropout)     (None, 64)                0         \n",
      "                                                                 \n",
      " New_Dense_1 (Dense)         (None, 32)                2080      \n",
      "                                                                 \n",
      " New_Activation_1 (Activati  (None, 32)                0         \n",
      " on)                                                             \n",
      "                                                                 \n",
      " New_dropout_2 (Dropout)     (None, 32)                0         \n",
      "                                                                 \n",
      " New_Dense_2 (Dense)         (None, 1)                 33        \n",
      "                                                                 \n",
      " New_Activation_2 (Activati  (None, 1)                 0         \n",
      " on)                                                             \n",
      "                                                                 \n",
      "=================================================================\n",
      "Total params: 71841 (280.63 KB)\n",
      "Trainable params: 43201 (168.75 KB)\n",
      "Non-trainable params: 28640 (111.88 KB)\n",
      "_________________________________________________________________\n"
     ]
    }
   ],
   "source": [
    "CNN_model.summary()"
   ]
  },
  {
   "cell_type": "code",
   "execution_count": 16,
   "id": "4e049f91-5c40-449f-b548-9fdee41e18ed",
   "metadata": {},
   "outputs": [],
   "source": [
    "# Define this reduced model\n",
    "\n",
    "output_reduced = CNN_model.layers[-11].output"
   ]
  },
  {
   "cell_type": "code",
   "execution_count": 17,
   "id": "8f15523d-a375-40ba-a9a1-d0be87accb5f",
   "metadata": {},
   "outputs": [],
   "source": [
    "reduced_model = tf.keras.models.Model(inputs = CNN_model.input, outputs = output_reduced)"
   ]
  },
  {
   "cell_type": "code",
   "execution_count": 18,
   "id": "efe77866-15bb-4e16-963f-6c410ac3ddc0",
   "metadata": {},
   "outputs": [
    {
     "name": "stdout",
     "output_type": "stream",
     "text": [
      "Model: \"model\"\n",
      "_________________________________________________________________\n",
      " Layer (type)                Output Shape              Param #   \n",
      "=================================================================\n",
      " input_1 (InputLayer)        [(None, None, None, 3)]   0         \n",
      "                                                                 \n",
      " conv2d (Conv2D)             (None, None, None, 32)    896       \n",
      "                                                                 \n",
      " activation (Activation)     (None, None, None, 32)    0         \n",
      "                                                                 \n",
      " conv2d_1 (Conv2D)           (None, None, None, 32)    9248      \n",
      "                                                                 \n",
      " activation_1 (Activation)   (None, None, None, 32)    0         \n",
      "                                                                 \n",
      " max_pooling2d (MaxPooling2  (None, None, None, 32)    0         \n",
      " D)                                                              \n",
      "                                                                 \n",
      " dropout (Dropout)           (None, None, None, 32)    0         \n",
      "                                                                 \n",
      " conv2d_2 (Conv2D)           (None, None, None, 64)    18496     \n",
      "                                                                 \n",
      " activation_2 (Activation)   (None, None, None, 64)    0         \n",
      "                                                                 \n",
      " conv2d_3 (Conv2D)           (None, None, None, 64)    36928     \n",
      "                                                                 \n",
      " activation_3 (Activation)   (None, None, None, 64)    0         \n",
      "                                                                 \n",
      " max_pooling2d_1 (MaxPoolin  (None, None, None, 64)    0         \n",
      " g2D)                                                            \n",
      "                                                                 \n",
      "=================================================================\n",
      "Total params: 65568 (256.12 KB)\n",
      "Trainable params: 36928 (144.25 KB)\n",
      "Non-trainable params: 28640 (111.88 KB)\n",
      "_________________________________________________________________\n"
     ]
    }
   ],
   "source": [
    "reduced_model.summary()"
   ]
  },
  {
   "cell_type": "code",
   "execution_count": 19,
   "id": "ff4d38d0-53f2-48f1-8569-ddb9e6cb9e3a",
   "metadata": {},
   "outputs": [],
   "source": [
    "# okay, now need to add back the dropout, the dense and activation\n",
    "\n",
    "# add dropout\n",
    "added_dropout = tf.keras.layers.Dropout(0.5, name = \"New_dropout_0\")(CNN_model.layers[-11].output)\n",
    "\n",
    "# add global max pooling\n",
    "added_flatten = tf.keras.layers.GlobalMaxPooling2D()(added_dropout)\n",
    "\n",
    "# add dense\n",
    "added_dense = tf.keras.layers.Dense(64, name = \"New_Dense_0\")(added_flatten)\n",
    "\n",
    "# add activation\n",
    "added_Act = tf.keras.layers.Activation('relu', name = \"New_Activation_0\")(added_dense)\n",
    "\n",
    "# add dropout\n",
    "added_dropout2 = tf.keras.layers.Dropout(0.5, name = \"New_dropout_1\")(added_Act)\n",
    "\n",
    "# # add another dense\n",
    "added_dense_1 = tf.keras.layers.Dense(32, name = \"New_Dense_1\")(added_dropout2)\n",
    "\n",
    "# # add activation\n",
    "added_Act_1 = tf.keras.layers.Activation('relu', name = \"New_Activation_1\")(added_dense_1)\n",
    "\n",
    "new_model = tf.keras.models.Model(CNN_model.input, added_Act_1)"
   ]
  },
  {
   "cell_type": "code",
   "execution_count": 20,
   "id": "0b834494-4236-45e0-8265-29c3fa1aee45",
   "metadata": {},
   "outputs": [
    {
     "name": "stdout",
     "output_type": "stream",
     "text": [
      "Model: \"model_1\"\n",
      "_________________________________________________________________\n",
      " Layer (type)                Output Shape              Param #   \n",
      "=================================================================\n",
      " input_1 (InputLayer)        [(None, None, None, 3)]   0         \n",
      "                                                                 \n",
      " conv2d (Conv2D)             (None, None, None, 32)    896       \n",
      "                                                                 \n",
      " activation (Activation)     (None, None, None, 32)    0         \n",
      "                                                                 \n",
      " conv2d_1 (Conv2D)           (None, None, None, 32)    9248      \n",
      "                                                                 \n",
      " activation_1 (Activation)   (None, None, None, 32)    0         \n",
      "                                                                 \n",
      " max_pooling2d (MaxPooling2  (None, None, None, 32)    0         \n",
      " D)                                                              \n",
      "                                                                 \n",
      " dropout (Dropout)           (None, None, None, 32)    0         \n",
      "                                                                 \n",
      " conv2d_2 (Conv2D)           (None, None, None, 64)    18496     \n",
      "                                                                 \n",
      " activation_2 (Activation)   (None, None, None, 64)    0         \n",
      "                                                                 \n",
      " conv2d_3 (Conv2D)           (None, None, None, 64)    36928     \n",
      "                                                                 \n",
      " activation_3 (Activation)   (None, None, None, 64)    0         \n",
      "                                                                 \n",
      " max_pooling2d_1 (MaxPoolin  (None, None, None, 64)    0         \n",
      " g2D)                                                            \n",
      "                                                                 \n",
      " New_dropout_0 (Dropout)     (None, None, None, 64)    0         \n",
      "                                                                 \n",
      " global_max_pooling2d (Glob  (None, 64)                0         \n",
      " alMaxPooling2D)                                                 \n",
      "                                                                 \n",
      " New_Dense_0 (Dense)         (None, 64)                4160      \n",
      "                                                                 \n",
      " New_Activation_0 (Activati  (None, 64)                0         \n",
      " on)                                                             \n",
      "                                                                 \n",
      " New_dropout_1 (Dropout)     (None, 64)                0         \n",
      "                                                                 \n",
      " New_Dense_1 (Dense)         (None, 32)                2080      \n",
      "                                                                 \n",
      " New_Activation_1 (Activati  (None, 32)                0         \n",
      " on)                                                             \n",
      "                                                                 \n",
      "=================================================================\n",
      "Total params: 71808 (280.50 KB)\n",
      "Trainable params: 43168 (168.62 KB)\n",
      "Non-trainable params: 28640 (111.88 KB)\n",
      "_________________________________________________________________\n"
     ]
    }
   ],
   "source": [
    "new_model.summary()"
   ]
  },
  {
   "cell_type": "code",
   "execution_count": 21,
   "id": "c973b303-34f9-4d21-82a1-6d5567801998",
   "metadata": {},
   "outputs": [
    {
     "data": {
      "text/plain": [
       "43168"
      ]
     },
     "execution_count": 21,
     "metadata": {},
     "output_type": "execute_result"
    }
   ],
   "source": [
    "36928 + 4160 + 2080"
   ]
  },
  {
   "cell_type": "code",
   "execution_count": 22,
   "id": "bef50948-2bb0-43df-8f8d-9631bd177821",
   "metadata": {},
   "outputs": [
    {
     "name": "stdout",
     "output_type": "stream",
     "text": [
      "WARNING:tensorflow:Layer lstm will not use cuDNN kernels since it doesn't meet the criteria. It will use a generic GPU kernel as fallback when running on GPU.\n",
      "WARNING:tensorflow:Layer lstm_1 will not use cuDNN kernels since it doesn't meet the criteria. It will use a generic GPU kernel as fallback when running on GPU.\n"
     ]
    }
   ],
   "source": [
    "# Okay, now define our model\n",
    "input_time = 13\n",
    "output_time = 7\n",
    "feature_size = 1\n",
    "# Encoder part\n",
    "\n",
    "# input\n",
    "Encoder_input = tf.keras.layers.Input(shape = [input_time, None, None, 3])\n",
    "\n",
    "# pass model through TD layer\n",
    "TD_model = tf.keras.layers.TimeDistributed(new_model)\n",
    "\n",
    "TD_out = TD_model(Encoder_input)\n",
    "\n",
    "# pass this through a sequence model to adress the sequential nature of the input image sequence\n",
    "lstm_layer = tf.keras.layers.LSTM(64, dropout = 0.2, recurrent_dropout = 0.2, return_sequences = False, return_state = True)\n",
    "\n",
    "lstm_out, state_h, state_c = lstm_layer(TD_out)\n",
    "\n",
    "# Decoder part\n",
    "\n",
    "# repeat the context vector\n",
    "decoder_inp = tf.keras.layers.RepeatVector(output_time)(lstm_out)\n",
    "\n",
    "# Add an LSTM layer for the decoder\n",
    "decoder_LSTM = tf.keras.layers.LSTM(64, dropout = 0.2, recurrent_dropout = 0.2, return_sequences = True, return_state = False)\n",
    "\n",
    "lstm_out = decoder_LSTM(decoder_inp, initial_state = [state_h, state_c])\n",
    "\n",
    "# add a dense layer to get the targets\n",
    "dense_layer = tf.keras.layers.TimeDistributed(tf.keras.layers.Dense(feature_size, activation = 'relu'))\n",
    "\n",
    "pred_head = dense_layer(lstm_out)"
   ]
  },
  {
   "cell_type": "code",
   "execution_count": 23,
   "id": "1fa1ad9d-14cc-4b35-a17c-2a49b8c07a59",
   "metadata": {},
   "outputs": [],
   "source": [
    "base_model = tf.keras.models.Model(inputs = Encoder_input, outputs = pred_head)"
   ]
  },
  {
   "cell_type": "code",
   "execution_count": 24,
   "id": "5d94a0da-c2ae-4e96-ac4c-491b14a7629d",
   "metadata": {},
   "outputs": [
    {
     "name": "stdout",
     "output_type": "stream",
     "text": [
      "Model: \"model_2\"\n",
      "__________________________________________________________________________________________________\n",
      " Layer (type)                Output Shape                 Param #   Connected to                  \n",
      "==================================================================================================\n",
      " input_1 (InputLayer)        [(None, 13, None, None, 3)   0         []                            \n",
      "                             ]                                                                    \n",
      "                                                                                                  \n",
      " time_distributed (TimeDist  (None, 13, 32)               71808     ['input_1[0][0]']             \n",
      " ributed)                                                                                         \n",
      "                                                                                                  \n",
      " lstm (LSTM)                 [(None, 64),                 24832     ['time_distributed[0][0]']    \n",
      "                              (None, 64),                                                         \n",
      "                              (None, 64)]                                                         \n",
      "                                                                                                  \n",
      " repeat_vector (RepeatVecto  (None, 7, 64)                0         ['lstm[0][0]']                \n",
      " r)                                                                                               \n",
      "                                                                                                  \n",
      " lstm_1 (LSTM)               (None, 7, 64)                33024     ['repeat_vector[0][0]',       \n",
      "                                                                     'lstm[0][1]',                \n",
      "                                                                     'lstm[0][2]']                \n",
      "                                                                                                  \n",
      " time_distributed_1 (TimeDi  (None, 7, 1)                 65        ['lstm_1[0][0]']              \n",
      " stributed)                                                                                       \n",
      "                                                                                                  \n",
      "==================================================================================================\n",
      "Total params: 129729 (506.75 KB)\n",
      "Trainable params: 101089 (394.88 KB)\n",
      "Non-trainable params: 28640 (111.88 KB)\n",
      "__________________________________________________________________________________________________\n"
     ]
    }
   ],
   "source": [
    "base_model.summary()"
   ]
  },
  {
   "cell_type": "code",
   "execution_count": 25,
   "id": "57900a9e-375d-4c50-bf75-8218b8867698",
   "metadata": {},
   "outputs": [
    {
     "data": {
      "image/png": "[encoded data removed]",
      "text/plain": [
       "<IPython.core.display.Image object>"
      ]
     },
     "execution_count": 25,
     "metadata": {},
     "output_type": "execute_result"
    }
   ],
   "source": [
    "tf.keras.utils.plot_model(base_model)"
   ]
  },
  {
   "cell_type": "code",
   "execution_count": 26,
   "id": "0df26371-a667-4e1a-bff2-ab6ca6b873b7",
   "metadata": {},
   "outputs": [],
   "source": [
    "# Need to also take care of freezing and unfreezing weights during model training"
   ]
  },
  {
   "cell_type": "code",
   "execution_count": 27,
   "id": "a272984b-d5f9-43be-aad0-9489caa90e4c",
   "metadata": {},
   "outputs": [],
   "source": [
    "# freeze the layers\n",
    "for layer in CNN_model.layers:\n",
    "    layer.trainable = False"
   ]
  },
  {
   "cell_type": "code",
   "execution_count": 28,
   "id": "a0977402-adf7-4bd2-84db-c7a9e267342f",
   "metadata": {},
   "outputs": [
    {
     "name": "stdout",
     "output_type": "stream",
     "text": [
      "Model: \"model_2\"\n",
      "__________________________________________________________________________________________________\n",
      " Layer (type)                Output Shape                 Param #   Connected to                  \n",
      "==================================================================================================\n",
      " input_1 (InputLayer)        [(None, 13, None, None, 3)   0         []                            \n",
      "                             ]                                                                    \n",
      "                                                                                                  \n",
      " time_distributed (TimeDist  (None, 13, 32)               71808     ['input_1[0][0]']             \n",
      " ributed)                                                                                         \n",
      "                                                                                                  \n",
      " lstm (LSTM)                 [(None, 64),                 24832     ['time_distributed[0][0]']    \n",
      "                              (None, 64),                                                         \n",
      "                              (None, 64)]                                                         \n",
      "                                                                                                  \n",
      " repeat_vector (RepeatVecto  (None, 7, 64)                0         ['lstm[0][0]']                \n",
      " r)                                                                                               \n",
      "                                                                                                  \n",
      " lstm_1 (LSTM)               (None, 7, 64)                33024     ['repeat_vector[0][0]',       \n",
      "                                                                     'lstm[0][1]',                \n",
      "                                                                     'lstm[0][2]']                \n",
      "                                                                                                  \n",
      " time_distributed_1 (TimeDi  (None, 7, 1)                 65        ['lstm_1[0][0]']              \n",
      " stributed)                                                                                       \n",
      "                                                                                                  \n",
      "==================================================================================================\n",
      "Total params: 129729 (506.75 KB)\n",
      "Trainable params: 64161 (250.63 KB)\n",
      "Non-trainable params: 65568 (256.12 KB)\n",
      "__________________________________________________________________________________________________\n"
     ]
    }
   ],
   "source": [
    "base_model.summary()"
   ]
  },
  {
   "cell_type": "code",
   "execution_count": 29,
   "id": "85aec132-66b4-4dbc-b796-f57f07bd548c",
   "metadata": {},
   "outputs": [],
   "source": [
    "# Let's run this model with a generator?\n",
    "\n",
    "# Else eveything would be stored in the memory, and we will run into issues"
   ]
  },
  {
   "cell_type": "code",
   "execution_count": 30,
   "id": "49bdbc06-3895-4234-a4cb-7b5a9ae3161a",
   "metadata": {},
   "outputs": [
    {
     "name": "stdout",
     "output_type": "stream",
     "text": [
      "CPU times: user 0 ns, sys: 823 µs, total: 823 µs\n",
      "Wall time: 757 µs\n"
     ]
    }
   ],
   "source": [
    "%%time\n",
    "batch_size = 64\n",
    "generator_batch_size = 64\n",
    "train_gen = DataGenerator(X_train, y_train, batch_size, shuffle=False)\n",
    "val_gen = DataGenerator(X_valid, y_valid, batch_size, shuffle=False)"
   ]
  },
  {
   "cell_type": "code",
   "execution_count": 31,
   "id": "d889839d-0533-484d-85c1-3c36b3632684",
   "metadata": {},
   "outputs": [],
   "source": [
    "steps_per_epoch = int(np.ceil(len(X_train) / batch_size))\n",
    "train_steps = int(np.ceil(len(X_train) / generator_batch_size))\n",
    "validation_steps = int(np.ceil(len(X_valid) / generator_batch_size))"
   ]
  },
  {
   "cell_type": "code",
   "execution_count": 32,
   "id": "064c7749-30a5-4daa-b2b0-57c0f5a74b02",
   "metadata": {
    "scrolled": true
   },
   "outputs": [
    {
     "name": "stdout",
     "output_type": "stream",
     "text": [
      "Epoch 1/100\n"
     ]
    },
    {
     "name": "stderr",
     "output_type": "stream",
     "text": [
      "2025-07-17 18:48:21.447634: E tensorflow/core/grappler/optimizers/meta_optimizer.cc:961] layout failed: INVALID_ARGUMENT: Size of values 0 does not match size of permutation 4 @ fanin shape inmodel_2/time_distributed/model_1/dropout/dropout/SelectV2-2-TransposeNHWCToNCHW-LayoutOptimizer\n",
      "2025-07-17 18:48:22.511598: I external/local_xla/xla/stream_executor/cuda/cuda_dnn.cc:454] Loaded cuDNN version 8907\n",
      "2025-07-17 18:48:25.904213: I external/local_xla/xla/service/service.cc:168] XLA service 0x150874858b90 initialized for platform CUDA (this does not guarantee that XLA will be used). Devices:\n",
      "2025-07-17 18:48:25.904253: I external/local_xla/xla/service/service.cc:176]   StreamExecutor device (0): Tesla V100S-PCIE-32GB, Compute Capability 7.0\n",
      "2025-07-17 18:48:25.914555: I tensorflow/compiler/mlir/tensorflow/utils/dump_mlir_util.cc:269] disabling MLIR crash reproducer, set env var `MLIR_CRASH_REPRODUCER_DIRECTORY` to enable.\n",
      "WARNING: All log messages before absl::InitializeLog() is called are written to STDERR\n",
      "I0000 00:00:1752796106.056220  965563 device_compiler.h:186] Compiled cluster using XLA!  This line is logged at most once for the lifetime of the process.\n"
     ]
    },
    {
     "name": "stdout",
     "output_type": "stream",
     "text": [
      "768/768 [==============================] - 59s 65ms/step - loss: 0.0278 - mean_absolute_error: 0.0685 - val_loss: 0.0153 - val_mean_absolute_error: 0.0321\n",
      "Epoch 2/100\n",
      "768/768 [==============================] - 50s 65ms/step - loss: 0.0267 - mean_absolute_error: 0.0674 - val_loss: 0.0151 - val_mean_absolute_error: 0.0333\n",
      "Epoch 3/100\n",
      "768/768 [==============================] - 50s 65ms/step - loss: 0.0263 - mean_absolute_error: 0.0671 - val_loss: 0.0149 - val_mean_absolute_error: 0.0361\n",
      "Epoch 4/100\n",
      "768/768 [==============================] - 50s 64ms/step - loss: 0.0261 - mean_absolute_error: 0.0673 - val_loss: 0.0148 - val_mean_absolute_error: 0.0388\n",
      "Epoch 5/100\n",
      "768/768 [==============================] - 50s 65ms/step - loss: 0.0260 - mean_absolute_error: 0.0672 - val_loss: 0.0149 - val_mean_absolute_error: 0.0452\n",
      "Epoch 6/100\n",
      "768/768 [==============================] - 50s 65ms/step - loss: 0.0259 - mean_absolute_error: 0.0676 - val_loss: 0.0147 - val_mean_absolute_error: 0.0374\n",
      "Epoch 7/100\n",
      "768/768 [==============================] - 50s 64ms/step - loss: 0.0258 - mean_absolute_error: 0.0668 - val_loss: 0.0150 - val_mean_absolute_error: 0.0533\n",
      "Epoch 8/100\n",
      "768/768 [==============================] - 49s 64ms/step - loss: 0.0257 - mean_absolute_error: 0.0673 - val_loss: 0.0151 - val_mean_absolute_error: 0.0587\n",
      "Epoch 9/100\n",
      "768/768 [==============================] - 49s 64ms/step - loss: 0.0256 - mean_absolute_error: 0.0672 - val_loss: 0.0148 - val_mean_absolute_error: 0.0478\n",
      "Epoch 10/100\n",
      "768/768 [==============================] - 49s 64ms/step - loss: 0.0256 - mean_absolute_error: 0.0671 - val_loss: 0.0149 - val_mean_absolute_error: 0.0523\n",
      "Epoch 11/100\n",
      "768/768 [==============================] - 49s 64ms/step - loss: 0.0256 - mean_absolute_error: 0.0667 - val_loss: 0.0150 - val_mean_absolute_error: 0.0548\n",
      "Epoch 12/100\n",
      "768/768 [==============================] - 50s 64ms/step - loss: 0.0254 - mean_absolute_error: 0.0666 - val_loss: 0.0149 - val_mean_absolute_error: 0.0511\n",
      "Epoch 13/100\n",
      "768/768 [==============================] - 50s 65ms/step - loss: 0.0254 - mean_absolute_error: 0.0669 - val_loss: 0.0151 - val_mean_absolute_error: 0.0575\n",
      "Epoch 14/100\n",
      "768/768 [==============================] - 49s 64ms/step - loss: 0.0254 - mean_absolute_error: 0.0665 - val_loss: 0.0150 - val_mean_absolute_error: 0.0556\n",
      "Epoch 15/100\n",
      "768/768 [==============================] - 50s 65ms/step - loss: 0.0254 - mean_absolute_error: 0.0665 - val_loss: 0.0153 - val_mean_absolute_error: 0.0626\n",
      "Epoch 16/100\n",
      "768/768 [==============================] - 49s 64ms/step - loss: 0.0253 - mean_absolute_error: 0.0660 - val_loss: 0.0156 - val_mean_absolute_error: 0.0670\n",
      "Epoch 17/100\n",
      "768/768 [==============================] - 49s 64ms/step - loss: 0.0253 - mean_absolute_error: 0.0663 - val_loss: 0.0151 - val_mean_absolute_error: 0.0595\n",
      "Epoch 18/100\n",
      "768/768 [==============================] - 49s 64ms/step - loss: 0.0252 - mean_absolute_error: 0.0662 - val_loss: 0.0152 - val_mean_absolute_error: 0.0617\n",
      "Epoch 19/100\n",
      "768/768 [==============================] - 49s 64ms/step - loss: 0.0252 - mean_absolute_error: 0.0660 - val_loss: 0.0156 - val_mean_absolute_error: 0.0676\n",
      "Epoch 20/100\n",
      "768/768 [==============================] - 49s 64ms/step - loss: 0.0252 - mean_absolute_error: 0.0660 - val_loss: 0.0152 - val_mean_absolute_error: 0.0583\n",
      "Epoch 21/100\n",
      "768/768 [==============================] - 49s 64ms/step - loss: 0.0251 - mean_absolute_error: 0.0658 - val_loss: 0.0152 - val_mean_absolute_error: 0.0604\n",
      "Epoch 22/100\n",
      "768/768 [==============================] - 49s 64ms/step - loss: 0.0251 - mean_absolute_error: 0.0657 - val_loss: 0.0151 - val_mean_absolute_error: 0.0585\n",
      "Epoch 23/100\n",
      "768/768 [==============================] - 49s 64ms/step - loss: 0.0251 - mean_absolute_error: 0.0659 - val_loss: 0.0153 - val_mean_absolute_error: 0.0614\n",
      "Epoch 24/100\n",
      "768/768 [==============================] - 49s 64ms/step - loss: 0.0251 - mean_absolute_error: 0.0656 - val_loss: 0.0155 - val_mean_absolute_error: 0.0647\n",
      "Epoch 25/100\n",
      "768/768 [==============================] - 49s 63ms/step - loss: 0.0250 - mean_absolute_error: 0.0653 - val_loss: 0.0161 - val_mean_absolute_error: 0.0723\n",
      "Epoch 26/100\n",
      "768/768 [==============================] - ETA: 0s - loss: 0.0251 - mean_absolute_error: 0.0658Restoring model weights from the end of the best epoch: 6.\n",
      "768/768 [==============================] - 49s 64ms/step - loss: 0.0251 - mean_absolute_error: 0.0658 - val_loss: 0.0153 - val_mean_absolute_error: 0.0628\n",
      "Epoch 26: early stopping\n",
      "CPU times: user 41min 56s, sys: 3min 6s, total: 45min 3s\n",
      "Wall time: 21min 34s\n"
     ]
    }
   ],
   "source": [
    "%%time\n",
    "\n",
    "# Since the training is taking too much time and we would like to figure out the inference part, let's have the patience at 2 and run it just for 10 epochs\n",
    "# compile the model\n",
    "opt = tf.keras.optimizers.Adam(learning_rate=0.0001)\n",
    "base_model.compile(loss='mean_squared_error', optimizer=opt, metrics = ['mean_absolute_error'])\n",
    "    \n",
    "# add early stopping\n",
    "es = tf.keras.callbacks.EarlyStopping(monitor='val_loss', restore_best_weights = True, verbose=1, patience=20)\n",
    "\n",
    "# fit the generator - the steps are a must here\n",
    "history = base_model.fit(train_gen,\n",
    "          validation_data = val_gen, steps_per_epoch=steps_per_epoch, \n",
    "                                  validation_steps=validation_steps,           \n",
    "          epochs = 100, callbacks = [es])"
   ]
  },
  {
   "cell_type": "code",
   "execution_count": 33,
   "id": "190126bf-e444-49b2-aa59-81b1b6aeba4c",
   "metadata": {},
   "outputs": [
    {
     "data": {
      "image/png": "[encoded data removed]",
      "text/plain": [
       "<Figure size 1500x700 with 1 Axes>"
      ]
     },
     "metadata": {},
     "output_type": "display_data"
    }
   ],
   "source": [
    "# plot the losses\n",
    "plt.figure(figsize = (15,7))\n",
    "plt.plot(history.history['loss'], label='Training Loss')\n",
    "plt.plot(history.history['val_loss'], label='Validation Loss')\n",
    "plt.title(\"Learning curves for the losses\")\n",
    "plt.xlabel('Epochs')\n",
    "plt.ylabel('Loss')\n",
    "plt.legend()\n",
    "plt.show()\n",
    "# history.history['loss']"
   ]
  },
  {
   "cell_type": "code",
   "execution_count": 34,
   "id": "0a355ffd-7200-4380-abf2-2b70e29db58b",
   "metadata": {},
   "outputs": [],
   "source": [
    "# Now unfreeze the last CNN layer\n",
    "CNN_model.trainable = True\n",
    "\n",
    "set_trainable = False\n",
    "\n",
    "for layer in CNN_model.layers:\n",
    "    if layer.name == 'conv2d_3':\n",
    "        set_trainable = True\n",
    "    if set_trainable:\n",
    "        layer.trainable = True\n",
    "    else:\n",
    "        layer.trainable = False"
   ]
  },
  {
   "cell_type": "code",
   "execution_count": 35,
   "id": "4fe75ae8-21a8-4778-b72b-a7e92c425374",
   "metadata": {},
   "outputs": [
    {
     "name": "stdout",
     "output_type": "stream",
     "text": [
      "Model: \"model_2\"\n",
      "__________________________________________________________________________________________________\n",
      " Layer (type)                Output Shape                 Param #   Connected to                  \n",
      "==================================================================================================\n",
      " input_1 (InputLayer)        [(None, 13, None, None, 3)   0         []                            \n",
      "                             ]                                                                    \n",
      "                                                                                                  \n",
      " time_distributed (TimeDist  (None, 13, 32)               71808     ['input_1[0][0]']             \n",
      " ributed)                                                                                         \n",
      "                                                                                                  \n",
      " lstm (LSTM)                 [(None, 64),                 24832     ['time_distributed[0][0]']    \n",
      "                              (None, 64),                                                         \n",
      "                              (None, 64)]                                                         \n",
      "                                                                                                  \n",
      " repeat_vector (RepeatVecto  (None, 7, 64)                0         ['lstm[0][0]']                \n",
      " r)                                                                                               \n",
      "                                                                                                  \n",
      " lstm_1 (LSTM)               (None, 7, 64)                33024     ['repeat_vector[0][0]',       \n",
      "                                                                     'lstm[0][1]',                \n",
      "                                                                     'lstm[0][2]']                \n",
      "                                                                                                  \n",
      " time_distributed_1 (TimeDi  (None, 7, 1)                 65        ['lstm_1[0][0]']              \n",
      " stributed)                                                                                       \n",
      "                                                                                                  \n",
      "==================================================================================================\n",
      "Total params: 129729 (506.75 KB)\n",
      "Trainable params: 101089 (394.88 KB)\n",
      "Non-trainable params: 28640 (111.88 KB)\n",
      "__________________________________________________________________________________________________\n"
     ]
    }
   ],
   "source": [
    "base_model.summary()"
   ]
  },
  {
   "cell_type": "code",
   "execution_count": 36,
   "id": "83c98560-2ffd-46ce-a6ea-92e1239cee5a",
   "metadata": {
    "scrolled": true
   },
   "outputs": [
    {
     "name": "stdout",
     "output_type": "stream",
     "text": [
      "Epoch 1/100\n"
     ]
    },
    {
     "name": "stderr",
     "output_type": "stream",
     "text": [
      "2025-07-17 19:09:56.246840: E tensorflow/core/grappler/optimizers/meta_optimizer.cc:961] layout failed: INVALID_ARGUMENT: Size of values 0 does not match size of permutation 4 @ fanin shape inmodel_2/time_distributed/model_1/dropout/dropout/SelectV2-2-TransposeNHWCToNCHW-LayoutOptimizer\n"
     ]
    },
    {
     "name": "stdout",
     "output_type": "stream",
     "text": [
      "768/768 [==============================] - 56s 66ms/step - loss: 0.0258 - mean_absolute_error: 0.0670 - val_loss: 0.0149 - val_mean_absolute_error: 0.0463\n",
      "Epoch 2/100\n",
      "768/768 [==============================] - 50s 66ms/step - loss: 0.0257 - mean_absolute_error: 0.0673 - val_loss: 0.0148 - val_mean_absolute_error: 0.0476\n",
      "Epoch 3/100\n",
      "768/768 [==============================] - 51s 66ms/step - loss: 0.0255 - mean_absolute_error: 0.0668 - val_loss: 0.0148 - val_mean_absolute_error: 0.0454\n",
      "Epoch 4/100\n",
      "768/768 [==============================] - 51s 66ms/step - loss: 0.0254 - mean_absolute_error: 0.0664 - val_loss: 0.0148 - val_mean_absolute_error: 0.0509\n",
      "Epoch 5/100\n",
      "768/768 [==============================] - 50s 66ms/step - loss: 0.0253 - mean_absolute_error: 0.0664 - val_loss: 0.0150 - val_mean_absolute_error: 0.0562\n",
      "Epoch 6/100\n",
      "768/768 [==============================] - 50s 66ms/step - loss: 0.0253 - mean_absolute_error: 0.0661 - val_loss: 0.0148 - val_mean_absolute_error: 0.0496\n",
      "Epoch 7/100\n",
      "768/768 [==============================] - 50s 66ms/step - loss: 0.0252 - mean_absolute_error: 0.0657 - val_loss: 0.0150 - val_mean_absolute_error: 0.0551\n",
      "Epoch 8/100\n",
      "768/768 [==============================] - 50s 66ms/step - loss: 0.0251 - mean_absolute_error: 0.0658 - val_loss: 0.0152 - val_mean_absolute_error: 0.0602\n",
      "Epoch 9/100\n",
      "768/768 [==============================] - 50s 65ms/step - loss: 0.0251 - mean_absolute_error: 0.0656 - val_loss: 0.0148 - val_mean_absolute_error: 0.0519\n",
      "Epoch 10/100\n",
      "768/768 [==============================] - 51s 66ms/step - loss: 0.0250 - mean_absolute_error: 0.0655 - val_loss: 0.0150 - val_mean_absolute_error: 0.0570\n",
      "Epoch 11/100\n",
      "768/768 [==============================] - 50s 66ms/step - loss: 0.0250 - mean_absolute_error: 0.0654 - val_loss: 0.0148 - val_mean_absolute_error: 0.0514\n",
      "Epoch 12/100\n",
      "768/768 [==============================] - 50s 66ms/step - loss: 0.0250 - mean_absolute_error: 0.0651 - val_loss: 0.0155 - val_mean_absolute_error: 0.0646\n",
      "Epoch 13/100\n",
      "768/768 [==============================] - 51s 66ms/step - loss: 0.0249 - mean_absolute_error: 0.0652 - val_loss: 0.0151 - val_mean_absolute_error: 0.0596\n",
      "Epoch 14/100\n",
      "768/768 [==============================] - 50s 66ms/step - loss: 0.0248 - mean_absolute_error: 0.0649 - val_loss: 0.0153 - val_mean_absolute_error: 0.0623\n",
      "Epoch 15/100\n",
      "768/768 [==============================] - 51s 66ms/step - loss: 0.0248 - mean_absolute_error: 0.0649 - val_loss: 0.0149 - val_mean_absolute_error: 0.0549\n",
      "Epoch 16/100\n",
      "768/768 [==============================] - 50s 66ms/step - loss: 0.0248 - mean_absolute_error: 0.0647 - val_loss: 0.0153 - val_mean_absolute_error: 0.0616\n",
      "Epoch 17/100\n",
      "768/768 [==============================] - 50s 66ms/step - loss: 0.0247 - mean_absolute_error: 0.0647 - val_loss: 0.0150 - val_mean_absolute_error: 0.0559\n",
      "Epoch 18/100\n",
      "768/768 [==============================] - 50s 65ms/step - loss: 0.0247 - mean_absolute_error: 0.0642 - val_loss: 0.0153 - val_mean_absolute_error: 0.0602\n",
      "Epoch 19/100\n",
      "768/768 [==============================] - 50s 66ms/step - loss: 0.0247 - mean_absolute_error: 0.0646 - val_loss: 0.0157 - val_mean_absolute_error: 0.0686\n",
      "Epoch 20/100\n",
      "768/768 [==============================] - 50s 65ms/step - loss: 0.0246 - mean_absolute_error: 0.0644 - val_loss: 0.0151 - val_mean_absolute_error: 0.0602\n",
      "Epoch 21/100\n",
      "768/768 [==============================] - 51s 66ms/step - loss: 0.0245 - mean_absolute_error: 0.0643 - val_loss: 0.0155 - val_mean_absolute_error: 0.0641\n",
      "Epoch 22/100\n",
      "768/768 [==============================] - 50s 65ms/step - loss: 0.0246 - mean_absolute_error: 0.0642 - val_loss: 0.0154 - val_mean_absolute_error: 0.0634\n",
      "Epoch 23/100\n",
      "768/768 [==============================] - 50s 65ms/step - loss: 0.0245 - mean_absolute_error: 0.0643 - val_loss: 0.0151 - val_mean_absolute_error: 0.0571\n",
      "Epoch 24/100\n",
      "768/768 [==============================] - 50s 65ms/step - loss: 0.0245 - mean_absolute_error: 0.0640 - val_loss: 0.0155 - val_mean_absolute_error: 0.0648\n",
      "Epoch 25/100\n",
      "768/768 [==============================] - 50s 65ms/step - loss: 0.0245 - mean_absolute_error: 0.0640 - val_loss: 0.0152 - val_mean_absolute_error: 0.0616\n",
      "Epoch 26/100\n",
      "768/768 [==============================] - ETA: 0s - loss: 0.0244 - mean_absolute_error: 0.0643Restoring model weights from the end of the best epoch: 6.\n",
      "768/768 [==============================] - 50s 65ms/step - loss: 0.0244 - mean_absolute_error: 0.0643 - val_loss: 0.0152 - val_mean_absolute_error: 0.0597\n",
      "Epoch 26: early stopping\n",
      "CPU times: user 42min 22s, sys: 3min 18s, total: 45min 40s\n",
      "Wall time: 21min 56s\n"
     ]
    }
   ],
   "source": [
    "%%time\n",
    "\n",
    "# compile the model\n",
    "opt = tf.keras.optimizers.Adam(learning_rate=0.0001)\n",
    "base_model.compile(loss='mean_squared_error', optimizer=opt, metrics = ['mean_absolute_error'])\n",
    "    \n",
    "# add early stopping\n",
    "es = tf.keras.callbacks.EarlyStopping(monitor='val_loss', restore_best_weights = True, verbose=1, patience=20)\n",
    "\n",
    "# fit the generator - the steps are a must here\n",
    "history_new = base_model.fit(train_gen,\n",
    "          validation_data = val_gen, steps_per_epoch=steps_per_epoch, \n",
    "                                  validation_steps=validation_steps,           \n",
    "          epochs = 100, callbacks = [es])"
   ]
  },
  {
   "cell_type": "code",
   "execution_count": 37,
   "id": "b1540fed-59b6-43ba-9bb4-3a367d25e474",
   "metadata": {},
   "outputs": [
    {
     "data": {
      "image/png": "[encoded data removed]",
      "text/plain": [
       "<Figure size 1500x700 with 1 Axes>"
      ]
     },
     "metadata": {},
     "output_type": "display_data"
    }
   ],
   "source": [
    "# plot the losses\n",
    "plt.figure(figsize = (15,7))\n",
    "plt.plot(history_new.history['loss'], label='Training Loss')\n",
    "plt.plot(history_new.history['val_loss'], label='Validation Loss')\n",
    "plt.title(\"Learning curves for the losses\")\n",
    "plt.xlabel('Epochs')\n",
    "plt.ylabel('Loss')\n",
    "plt.legend()\n",
    "plt.show()\n",
    "# history.history['loss']"
   ]
  },
  {
   "cell_type": "code",
   "execution_count": 38,
   "id": "6465cdb6-fa70-4c02-b8ab-976efd1a772f",
   "metadata": {},
   "outputs": [],
   "source": [
    "# save the train model\n",
    "# save this model\n",
    "model_name_finetuned = 'stage2_base_model_overlapping.keras'\n",
    "base_model.save('models' + '/' + model_name_finetuned)"
   ]
  }
 ],
 "metadata": {
  "kernelspec": {
   "display_name": "Python (nrdstor_tfp_for_TN)",
   "language": "python",
   "name": "nrdstor_tfp_for_tn"
  },
  "language_info": {
   "codemirror_mode": {
    "name": "ipython",
    "version": 3
   },
   "file_extension": ".py",
   "mimetype": "text/x-python",
   "name": "python",
   "nbconvert_exporter": "python",
   "pygments_lexer": "ipython3",
   "version": "3.10.14"
  }
 },
 "nbformat": 4,
 "nbformat_minor": 5
}

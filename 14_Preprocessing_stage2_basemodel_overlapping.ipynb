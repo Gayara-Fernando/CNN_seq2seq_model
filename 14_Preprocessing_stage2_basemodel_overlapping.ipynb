{
 "cells": [
  {
   "cell_type": "markdown",
   "id": "f70d26b3-a990-452a-90a6-fce9b190dd18",
   "metadata": {},
   "source": [
    "We have preprocessed the subimages (inputs) earlier. We need to preprocess the targets for the base model for comparison with our final model."
   ]
  },
  {
   "cell_type": "code",
   "execution_count": null,
   "id": "e7d959ca-59f0-462c-a4dd-d05252a02c0f",
   "metadata": {},
   "outputs": [],
   "source": [
    "import numpy as np\n",
    "import pandas as pd\n",
    "import matplotlib.pyplot as plt\n",
    "import tensorflow as tf\n",
    "import os\n",
    "from scipy import ndimage\n",
    "import xml\n",
    "import xml.etree.ElementTree as ET\n",
    "import cv2\n",
    "import warnings\n",
    "from skimage.transform import resize"
   ]
  },
  {
   "cell_type": "code",
   "execution_count": null,
   "id": "03a7e0f0-1d00-4e78-8013-b92c4c1f7929",
   "metadata": {},
   "outputs": [],
   "source": [
    "tf.config.list_physical_devices(\"GPU\")"
   ]
  },
  {
   "cell_type": "code",
   "execution_count": null,
   "id": "3e9c75e9-70e7-4432-a12d-c80dceddf808",
   "metadata": {},
   "outputs": [],
   "source": [
    "# Locate the train and validation images and the xml files? - We also only  need the horizontal images for our task\n",
    "\n",
    "# Train data locations\n",
    "block_0101 = '../../Spring_2024/S_lab_TasselNet/Block_1_TN/Block_1_images_and_xml'\n",
    "block_0102 = '../../Spring_2024/S_lab_TasselNet/Block_2_TN/Block_2_images_and_xml'\n",
    "block_0203 = '../../Spring_2024/S_lab_TasselNet/Block_9_TN/Block_9_images_and_xml'\n",
    "block_0301 = '../../Spring_2024/S_lab_TasselNet/Block_13_TN/Block_13_images_and_xml'\n",
    "\n",
    "# train_blocks = [block_0101, block_0102, block_0203, block_0301]\n",
    "\n",
    "# valid data location\n",
    "block_0204 = '../../Spring_2024/S_lab_TasselNet/Block_10_TN/Block_10_images_and_xml'\n",
    "\n",
    "# valid_blocks = [block_0204]"
   ]
  },
  {
   "cell_type": "code",
   "execution_count": null,
   "id": "dd1a05ac-1a85-4e81-b7a3-6ffbed010d6d",
   "metadata": {},
   "outputs": [],
   "source": [
    "def chose_xml_and_jpeg(file_location):\n",
    "    # list all files in location\n",
    "    list_of_all_files = os.listdir(file_location)\n",
    "    # sort files\n",
    "    list_of_all_files.sort()\n",
    "    # separate xml and jpeg files\n",
    "    all_xml_files = [file for file in list_of_all_files if file.split('.')[-1] == 'xml']\n",
    "    all_xml_files.sort()\n",
    "    all_jpeg_files = [file for file in list_of_all_files if file not in all_xml_files]\n",
    "    all_jpeg_files.sort()\n",
    "    # get the final 20 files\n",
    "    chosen_xml_files = all_xml_files[-20:]\n",
    "    chosen_jpeg_files = all_jpeg_files[-20:]\n",
    "    # make sure the xml and jpeg files correspond to each other?\n",
    "    mean = np.mean([file.split('.')[0] for file in chosen_xml_files] == [file.split('.')[0] for file in chosen_jpeg_files])\n",
    "\n",
    "    # chose the required files only - notice that for the inputs we do not need to create their density maps - therefore we do not need the xml files\n",
    "    task_specific_image_files = chosen_jpeg_files[-7:]\n",
    "    task_specific_xml_files =chosen_xml_files[-7:]\n",
    "    return(task_specific_image_files, task_specific_xml_files, mean)"
   ]
  },
  {
   "cell_type": "code",
   "execution_count": null,
   "id": "ccda7cc1-4c65-4a12-b7c0-3e9a46a38005",
   "metadata": {},
   "outputs": [],
   "source": [
    "block_0101_target_ims, block_0101_target_xmls, block_0101_mean = chose_xml_and_jpeg(block_0101)"
   ]
  },
  {
   "cell_type": "code",
   "execution_count": null,
   "id": "eeb36603-2568-40a6-90f2-09d5e44eb67b",
   "metadata": {},
   "outputs": [],
   "source": [
    "block_0101_target_ims"
   ]
  },
  {
   "cell_type": "code",
   "execution_count": null,
   "id": "30c5cc7d-f4b1-4cff-8eb3-10f42605682c",
   "metadata": {},
   "outputs": [],
   "source": [
    "block_0101_target_xmls"
   ]
  },
  {
   "cell_type": "code",
   "execution_count": null,
   "id": "d60a54ed-1f04-42f6-a8c7-7650a21036dd",
   "metadata": {},
   "outputs": [],
   "source": [
    "block_0101_mean"
   ]
  },
  {
   "cell_type": "code",
   "execution_count": null,
   "id": "27035f8d-69a0-447b-9be4-85bd3a470e0e",
   "metadata": {},
   "outputs": [],
   "source": [
    "# Do we need to save the intermediate density maps as np arrays? - Well ruling against it as seems just an additional step and takes up disk space unnecessarily."
   ]
  },
  {
   "cell_type": "code",
   "execution_count": null,
   "id": "28280d27-fd23-4909-bc84-d9f224dbad96",
   "metadata": {},
   "outputs": [],
   "source": [
    "# Okay, moving forward with this in mind. Let's write a function for the convolution for the density maps."
   ]
  },
  {
   "cell_type": "code",
   "execution_count": null,
   "id": "495c4b1f-b7a4-4024-95ec-4e09cbf70a02",
   "metadata": {},
   "outputs": [],
   "source": [
    "# for vertically annotated images\n",
    "def get_density_maps_horizontal(file_name, image_path, xml_path):\n",
    "    xml_file = file_name + '.xml'\n",
    "    xml_file_path = os.path.join(xml_path, xml_file)\n",
    "\n",
    "    # Get coords from the xml file\n",
    "    # parse the xml file\n",
    "    parsed_file = ET.parse(xml_file_path)\n",
    "    # get the roots\n",
    "    root = parsed_file.getroot()\n",
    "    # get the roots here\n",
    "    coords = []\n",
    "    for child in root:\n",
    "        for i in child:\n",
    "            for j in i:\n",
    "                coords.append(int(j.text))\n",
    "    \n",
    "    # chunk the points into sets of 4 - these are the coordinates of the bounding boxes\n",
    "    points_tupples = []\n",
    "    for i in range(0, len(coords), 4):\n",
    "        points_tupples.append(coords[i:i + 4])\n",
    "\n",
    "    # make a dataframe with these points\n",
    "    coords_df = pd.DataFrame(points_tupples, columns = [\"bleft_x\", \"bleft_y\", \"tright_x\", \"tright_y\"])\n",
    "\n",
    "    # compute the number of tassels in each image\n",
    "    no_of_tassels = len(points_tupples)\n",
    "\n",
    "    # compute the mid coordinates\n",
    "    coords_df[\"mid_x\"] = (round(0.5*(coords_df[\"bleft_x\"] + coords_df[\"tright_x\"]))).astype(int)\n",
    "    coords_df[\"mid_y\"] = (round(0.5*(coords_df[\"bleft_y\"] + coords_df[\"tright_y\"]))).astype(int)\n",
    "\n",
    "    # extract the mid cordinates\n",
    "    mid_coords = coords_df[[\"mid_x\", \"mid_y\"]]\n",
    "    # cap the coords at the max height and width values\n",
    "    mid_coords.loc[mid_coords['mid_x'] > 1024, 'mid_x'] = 1023\n",
    "    mid_coords.loc[mid_coords['mid_y'] > 768, 'mid_y'] = 767\n",
    "    warnings.filterwarnings(\"ignore\")\n",
    "\n",
    "    # plot the bounding boxes on images\n",
    "    # get image name and path\n",
    "    image_name = file_name + '.jpeg'\n",
    "    imge_file_path = os.path.join(image_path, image_name)\n",
    "    # read the image\n",
    "    read_image = plt.imread(imge_file_path)\n",
    "    read_image = ndimage.rotate(read_image, 0)\n",
    "\n",
    "    # check the shape of the read image\n",
    "    read_image_shape = read_image.shape\n",
    "    #  plot the bounding boxes on the image\n",
    "    for points in points_tupples:\n",
    "        annotated_image = cv2.rectangle(read_image, (points[0],points[1]), (points[2],points[3]), color = (255,0,0), thickness = 2)\n",
    "    # plt.figure(figsize = (12,18))\n",
    "    plt.imshow(annotated_image)\n",
    "    plt.show()\n",
    "\n",
    "    # plot the mid points on the image\n",
    "    coords_list = mid_coords.values.tolist()\n",
    "    # read the image again\n",
    "    read_image_again = plt.imread(imge_file_path)\n",
    "    read_image_again = ndimage.rotate(read_image_again, 0)\n",
    "    # draw the circles on image\n",
    "    for i in coords_list:\n",
    "        image_with_mids = cv2.circle(read_image_again, i, radius=5, color=(255, 0, 0), thickness=-1)\n",
    "    # look at the annotated image\n",
    "    # plt.figure(figsize = (12,18))\n",
    "    plt.imshow(image_with_mids)\n",
    "    plt.show()\n",
    "\n",
    "    # also try creating the density map here\n",
    "    # first create the empty maps\n",
    "    np_image = np.zeros((read_image_shape[0], read_image_shape[1]))\n",
    "    # get the dot maps\n",
    "    for point in coords_list:\n",
    "        np_image[point[1], point[0]] = 1\n",
    "    # plot the image\n",
    "    # plt.figure(figsize = (12,18))\n",
    "    plt.imshow(np_image, cmap = \"Greys\")\n",
    "    plt.show()\n",
    "\n",
    "    # now define the kernel and run the convolution\n",
    "    one_d_kerenel = cv2.getGaussianKernel(50,5)\n",
    "    two_d_kernel = np.multiply(one_d_kerenel.T, one_d_kerenel)\n",
    "\n",
    "    # Shape of the 2D kernel\n",
    "    twoD_shape = two_d_kernel.shape\n",
    "        \n",
    "    # do the convolution\n",
    "    convolution = ndimage.convolve(np_image, two_d_kernel)\n",
    "        \n",
    "    # plot the density map\n",
    "    # plt.figure(figsize = (12,18))\n",
    "    plt.imshow(convolution, cmap = \"Greys\")\n",
    "    plt.show()\n",
    "        \n",
    "    # get the sums of the images\n",
    "    img_sum = np.sum(convolution)\n",
    "\n",
    "    ## save the density map\n",
    "    # np.save(save_density_path + '/' + file_name + '_density_map.npy', convolution)\n",
    "\n",
    "    return(file_name, read_image_shape, no_of_tassels, img_sum, convolution)"
   ]
  },
  {
   "cell_type": "code",
   "execution_count": null,
   "id": "4f2a9be3-af0a-4f76-9087-cbc47e7a4e58",
   "metadata": {},
   "outputs": [],
   "source": [
    "# Notice we only need the file names for this exercise, therefore let's do that first\n",
    "block_0101_file_names = [file.split(\".\")[0] for file in block_0101_target_ims]"
   ]
  },
  {
   "cell_type": "code",
   "execution_count": null,
   "id": "1366d08e-4bc5-48f7-adb4-e9e41f7693bb",
   "metadata": {},
   "outputs": [],
   "source": [
    "block_0101_file_names"
   ]
  },
  {
   "cell_type": "code",
   "execution_count": null,
   "id": "13801747-9a0f-496d-8c9a-94c6e34e5f95",
   "metadata": {
    "scrolled": true
   },
   "outputs": [],
   "source": [
    "%%time\n",
    "# Get the density maps\n",
    "block_0101_names = []\n",
    "block_0101_im_shapes = []\n",
    "block_0101_tassel_count = []\n",
    "block_0101_tassel_count_alt = []\n",
    "# capture the density maps here\n",
    "block_0101_convs = []\n",
    "for file in block_0101_file_names:\n",
    "    name, shape, no_tassels, no_tassel_alt, conv = get_density_maps_horizontal(file, block_0101, block_0101)\n",
    "    block_0101_names.append(name)\n",
    "    block_0101_im_shapes.append(shape)\n",
    "    block_0101_tassel_count.append(no_tassels)\n",
    "    block_0101_tassel_count_alt.append(no_tassel_alt)\n",
    "    block_0101_convs.append(conv)"
   ]
  },
  {
   "cell_type": "code",
   "execution_count": null,
   "id": "a152fc92-e6f5-49f0-96a0-084744bca437",
   "metadata": {},
   "outputs": [],
   "source": [
    "block_0101_names"
   ]
  },
  {
   "cell_type": "code",
   "execution_count": null,
   "id": "b4f9eed0-aa9a-45a3-90d7-805137327ea9",
   "metadata": {},
   "outputs": [],
   "source": [
    "block_0101_im_shapes"
   ]
  },
  {
   "cell_type": "code",
   "execution_count": null,
   "id": "8e45d768-8e92-4f02-b82a-0b1ffaf8a90f",
   "metadata": {},
   "outputs": [],
   "source": [
    "block_0101_tassel_count, block_0101_tassel_count_alt"
   ]
  },
  {
   "cell_type": "code",
   "execution_count": null,
   "id": "cb44875e-8dd9-45c8-97b3-18566e5c0bb4",
   "metadata": {},
   "outputs": [],
   "source": [
    "np.mean(np.round(block_0101_tassel_count, 0) == np.round(block_0101_tassel_count_alt, 0))"
   ]
  },
  {
   "cell_type": "code",
   "execution_count": null,
   "id": "89336501-99f5-4f93-b2e2-d807ebb5083e",
   "metadata": {},
   "outputs": [],
   "source": [
    "block_0101_convs[0].shape"
   ]
  },
  {
   "cell_type": "code",
   "execution_count": null,
   "id": "088fc769-0bf1-442a-ac53-f1e21c568d9f",
   "metadata": {},
   "outputs": [],
   "source": [
    "len(block_0101_convs)"
   ]
  },
  {
   "cell_type": "code",
   "execution_count": null,
   "id": "f9409235-ef5f-4438-9d21-1cf211522f68",
   "metadata": {},
   "outputs": [],
   "source": [
    "# Okay, now we loop though and stack the densities? in folder Stage2_base_model\n",
    "\n",
    "# Use the function below\n",
    "def create_densities_for_subwindows(density_map, stride = 8, kernel_size = 32):\n",
    "        \n",
    "    # create the counts for the subwindows as follows\n",
    "    img_height = density_map.shape[0]\n",
    "    img_width = density_map.shape[1]\n",
    "    \n",
    "    density_sums = []\n",
    "    for i in  range(0, img_height, stride):\n",
    "        for j in range(0, img_width, stride):\n",
    "            # sub_window = loaded_im_file[i: i + kernel_size, j : j + kernel_size,:]\n",
    "            density = density_map[i: i + kernel_size, j : j + kernel_size]\n",
    "            dense_sum = np.sum(density)\n",
    "            density_sums.append(dense_sum)\n",
    "\n",
    "    # but this does not make sense here, as we have overlapping sub windows\n",
    "    print(\"The below counts do not make sense here, but printing them anyway!\")\n",
    "    print(\"sum of the convolved map: \", np.sum(density_sums))\n",
    "    return density_sums"
   ]
  },
  {
   "cell_type": "code",
   "execution_count": null,
   "id": "e1e20c5c-0d74-44c7-b5f9-289f256de591",
   "metadata": {},
   "outputs": [],
   "source": [
    "%%time\n",
    "# Get the stacks?\n",
    "block_0101_density_list = []\n",
    "for conv in block_0101_convs:\n",
    "    density_values = create_densities_for_subwindows(conv, 8, 32)\n",
    "    block_0101_density_list.append(density_values)"
   ]
  },
  {
   "cell_type": "code",
   "execution_count": null,
   "id": "cd6dddf5-81c2-4f29-ba88-6d1ade21d97d",
   "metadata": {},
   "outputs": [],
   "source": [
    "len(block_0101_density_list)"
   ]
  },
  {
   "cell_type": "code",
   "execution_count": null,
   "id": "849161f6-6bc1-46a0-a5cd-497eb42b39b9",
   "metadata": {},
   "outputs": [],
   "source": [
    "len(block_0101_density_list[0])"
   ]
  },
  {
   "cell_type": "code",
   "execution_count": null,
   "id": "572ab437-f6f0-4bc8-9a01-ae1f0e7270e3",
   "metadata": {},
   "outputs": [],
   "source": [
    "# need to stack this list\n",
    "block_0101_all_density_stack = np.stack(block_0101_density_list, axis = 1)"
   ]
  },
  {
   "cell_type": "code",
   "execution_count": null,
   "id": "b99b1d94-b444-4474-b084-6baaf0a8dfc7",
   "metadata": {},
   "outputs": [],
   "source": [
    "block_0101_all_density_stack.shape"
   ]
  },
  {
   "cell_type": "code",
   "execution_count": null,
   "id": "295438dc-b76b-4c18-ab21-34448e0f3d3f",
   "metadata": {},
   "outputs": [],
   "source": [
    "# # May need to do a sanity check - Does not apply here\n",
    "\n",
    "# # maybe sum across axis = 0 to see if the values match the counts?\n",
    "np.sum(block_0101_all_density_stack, axis = 0)"
   ]
  },
  {
   "cell_type": "code",
   "execution_count": null,
   "id": "fda7d850-e1a5-40b2-9c6f-239f861f766d",
   "metadata": {},
   "outputs": [],
   "source": [
    "# Let's hold onto this stack for now, and save onl the final train stack (and not the indiidual blocks)"
   ]
  },
  {
   "cell_type": "code",
   "execution_count": null,
   "id": "da7d2f1d-a341-4438-a048-7dc119eeb739",
   "metadata": {},
   "outputs": [],
   "source": [
    "# Okay, let's do the same for th rest of the train blocks"
   ]
  },
  {
   "cell_type": "code",
   "execution_count": null,
   "id": "60030960-7ff3-4a47-9e49-85529c2712d4",
   "metadata": {},
   "outputs": [],
   "source": [
    "# Block 0102"
   ]
  },
  {
   "cell_type": "code",
   "execution_count": null,
   "id": "8b85d96e-9f46-4bb6-ad98-0fd482688879",
   "metadata": {},
   "outputs": [],
   "source": [
    "# get im and xml files\n",
    "block_0102_target_ims, block_0102_target_xmls, block_0102_mean = chose_xml_and_jpeg(block_0102)"
   ]
  },
  {
   "cell_type": "code",
   "execution_count": null,
   "id": "36f08d27-de6c-4f0b-8fa3-9eb706de937f",
   "metadata": {},
   "outputs": [],
   "source": [
    "block_0102_target_ims"
   ]
  },
  {
   "cell_type": "code",
   "execution_count": null,
   "id": "a39e8b3c-dae1-4ab2-9b96-83bca55feef4",
   "metadata": {},
   "outputs": [],
   "source": [
    "block_0102_target_xmls"
   ]
  },
  {
   "cell_type": "code",
   "execution_count": null,
   "id": "52d15031-6e6c-4fa2-895c-f8b1c66ee95d",
   "metadata": {},
   "outputs": [],
   "source": [
    "block_0102_mean"
   ]
  },
  {
   "cell_type": "code",
   "execution_count": null,
   "id": "1942d0ec-f4b6-47ef-8c37-3edd71bc1473",
   "metadata": {},
   "outputs": [],
   "source": [
    "# just file names\n",
    "block_0102_file_names = [file.split(\".\")[0] for file in block_0102_target_ims]"
   ]
  },
  {
   "cell_type": "code",
   "execution_count": null,
   "id": "4bc1c8ca-50f3-4a55-8f91-1a7068811365",
   "metadata": {},
   "outputs": [],
   "source": [
    "block_0102_file_names"
   ]
  },
  {
   "cell_type": "code",
   "execution_count": null,
   "id": "9fb8af42-f7f7-4ac8-8207-3a08c35780ed",
   "metadata": {
    "scrolled": true
   },
   "outputs": [],
   "source": [
    "%%time\n",
    "# Get the density maps\n",
    "block_0102_names = []\n",
    "block_0102_im_shapes = []\n",
    "block_0102_tassel_count = []\n",
    "block_0102_tassel_count_alt = []\n",
    "# capture the density maps here\n",
    "block_0102_convs = []\n",
    "for file in block_0102_file_names:\n",
    "    name, shape, no_tassels, no_tassel_alt, conv = get_density_maps_horizontal(file, block_0102, block_0102)\n",
    "    block_0102_names.append(name)\n",
    "    block_0102_im_shapes.append(shape)\n",
    "    block_0102_tassel_count.append(no_tassels)\n",
    "    block_0102_tassel_count_alt.append(no_tassel_alt)\n",
    "    block_0102_convs.append(conv)"
   ]
  },
  {
   "cell_type": "code",
   "execution_count": null,
   "id": "757f6c17-e86b-40ab-891a-f205a6eee77e",
   "metadata": {},
   "outputs": [],
   "source": [
    "block_0102_names"
   ]
  },
  {
   "cell_type": "code",
   "execution_count": null,
   "id": "8f9fccc1-3eb3-4149-90db-1813ce689d66",
   "metadata": {},
   "outputs": [],
   "source": [
    "block_0102_im_shapes"
   ]
  },
  {
   "cell_type": "code",
   "execution_count": null,
   "id": "4fc1f90e-919e-4ab8-bf46-f1c6cec0476d",
   "metadata": {},
   "outputs": [],
   "source": [
    "block_0102_tassel_count, block_0102_tassel_count_alt"
   ]
  },
  {
   "cell_type": "code",
   "execution_count": null,
   "id": "efc595a7-4d50-400c-aa78-d4939b4de6d7",
   "metadata": {},
   "outputs": [],
   "source": [
    "np.mean(np.round(block_0102_tassel_count, 0) == np.round(block_0102_tassel_count_alt, 0))"
   ]
  },
  {
   "cell_type": "code",
   "execution_count": null,
   "id": "ec1bff8b-69e9-4111-99b3-aad927921f74",
   "metadata": {},
   "outputs": [],
   "source": [
    "%%time\n",
    "# Get the stacks?\n",
    "block_0102_density_list = []\n",
    "for conv in block_0102_convs:\n",
    "    density_values = create_densities_for_subwindows(conv, 8, 32)\n",
    "    block_0102_density_list.append(density_values)"
   ]
  },
  {
   "cell_type": "code",
   "execution_count": null,
   "id": "068b3b08-2c91-49aa-a39b-86b94bf6a6ba",
   "metadata": {},
   "outputs": [],
   "source": [
    "len(block_0102_density_list)"
   ]
  },
  {
   "cell_type": "code",
   "execution_count": null,
   "id": "92781fbc-ea2e-44a6-aa3d-ec4173ec88f3",
   "metadata": {},
   "outputs": [],
   "source": [
    "len(block_0102_density_list[0])"
   ]
  },
  {
   "cell_type": "code",
   "execution_count": null,
   "id": "188b4ca8-364a-4795-b414-b46e8e7af6d1",
   "metadata": {},
   "outputs": [],
   "source": [
    "# block_0102_density_list[0][0]"
   ]
  },
  {
   "cell_type": "code",
   "execution_count": null,
   "id": "9660af52-c679-4da9-a462-9ed315e2ad73",
   "metadata": {},
   "outputs": [],
   "source": [
    "# need to stack this list\n",
    "block_0102_all_density_stack = np.stack(block_0102_density_list, axis = 1)"
   ]
  },
  {
   "cell_type": "code",
   "execution_count": null,
   "id": "2d7cffee-df94-4c26-8dfd-60b5582457de",
   "metadata": {},
   "outputs": [],
   "source": [
    "block_0102_all_density_stack.shape"
   ]
  },
  {
   "cell_type": "code",
   "execution_count": null,
   "id": "f4b2308b-922e-45c2-af48-0e413a636cec",
   "metadata": {},
   "outputs": [],
   "source": [
    "# np.sum(block_0102_all_density_stack, axis = 0)"
   ]
  },
  {
   "cell_type": "code",
   "execution_count": null,
   "id": "d5bb6120-4a3c-4fc9-8ccb-7da1d411eab9",
   "metadata": {},
   "outputs": [],
   "source": [
    "# Block 0203"
   ]
  },
  {
   "cell_type": "code",
   "execution_count": null,
   "id": "788bb889-453f-4991-9222-0fc0726b01e9",
   "metadata": {},
   "outputs": [],
   "source": [
    "# get im and xml files\n",
    "block_0203_target_ims, block_0203_target_xmls, block_0203_mean = chose_xml_and_jpeg(block_0203)"
   ]
  },
  {
   "cell_type": "code",
   "execution_count": null,
   "id": "fbdb997b-e9cb-49c5-8064-69a23063818a",
   "metadata": {},
   "outputs": [],
   "source": [
    "block_0203_target_ims"
   ]
  },
  {
   "cell_type": "code",
   "execution_count": null,
   "id": "8417b473-346f-4554-8f9c-a5433835d740",
   "metadata": {},
   "outputs": [],
   "source": [
    "block_0203_target_xmls"
   ]
  },
  {
   "cell_type": "code",
   "execution_count": null,
   "id": "e3e3c7bf-ec4d-47ef-918f-1ad08e1ea7c4",
   "metadata": {},
   "outputs": [],
   "source": [
    "block_0203_mean"
   ]
  },
  {
   "cell_type": "code",
   "execution_count": null,
   "id": "533e40ec-799f-490b-8964-c95da907b9c1",
   "metadata": {},
   "outputs": [],
   "source": [
    "# just file names\n",
    "block_0203_file_names = [file.split(\".\")[0] for file in block_0203_target_ims]"
   ]
  },
  {
   "cell_type": "code",
   "execution_count": null,
   "id": "0c5908b2-1c1a-4fb8-8b8a-733210f9db1b",
   "metadata": {},
   "outputs": [],
   "source": [
    "block_0203_file_names"
   ]
  },
  {
   "cell_type": "code",
   "execution_count": null,
   "id": "35017a0e-e2f1-4105-b3bd-1eb8af5667f2",
   "metadata": {
    "scrolled": true
   },
   "outputs": [],
   "source": [
    "%%time\n",
    "# Get the density maps\n",
    "block_0203_names = []\n",
    "block_0203_im_shapes = []\n",
    "block_0203_tassel_count = []\n",
    "block_0203_tassel_count_alt = []\n",
    "# capture the density maps here\n",
    "block_0203_convs = []\n",
    "for file in block_0203_file_names:\n",
    "    name, shape, no_tassels, no_tassel_alt, conv = get_density_maps_horizontal(file, block_0203, block_0203)\n",
    "    block_0203_names.append(name)\n",
    "    block_0203_im_shapes.append(shape)\n",
    "    block_0203_tassel_count.append(no_tassels)\n",
    "    block_0203_tassel_count_alt.append(no_tassel_alt)\n",
    "    block_0203_convs.append(conv)"
   ]
  },
  {
   "cell_type": "code",
   "execution_count": null,
   "id": "acf6d072-cbad-4fa1-b2fb-81132483e0d2",
   "metadata": {},
   "outputs": [],
   "source": [
    "block_0203_names"
   ]
  },
  {
   "cell_type": "code",
   "execution_count": null,
   "id": "0e47bdb4-21f8-4911-8dc1-14e5f839686e",
   "metadata": {},
   "outputs": [],
   "source": [
    "block_0203_im_shapes"
   ]
  },
  {
   "cell_type": "code",
   "execution_count": null,
   "id": "fb8187e6-5619-4d19-b304-b3e466b30079",
   "metadata": {},
   "outputs": [],
   "source": [
    "block_0203_tassel_count, block_0203_tassel_count_alt"
   ]
  },
  {
   "cell_type": "code",
   "execution_count": null,
   "id": "5c20e980-13c8-479d-922d-946e1ae70332",
   "metadata": {},
   "outputs": [],
   "source": [
    "np.mean(np.round(block_0203_tassel_count, 0) == np.round(block_0203_tassel_count_alt, 0))"
   ]
  },
  {
   "cell_type": "code",
   "execution_count": null,
   "id": "ab234a2c-9044-4954-a3b0-f58b9c109ce5",
   "metadata": {},
   "outputs": [],
   "source": [
    "%%time\n",
    "# Get the stacks?\n",
    "block_0203_density_list = []\n",
    "for conv in block_0203_convs:\n",
    "    density_values = create_densities_for_subwindows(conv, 8, 32)\n",
    "    block_0203_density_list.append(density_values)"
   ]
  },
  {
   "cell_type": "code",
   "execution_count": null,
   "id": "bdb47c1f-f895-4de6-9f08-89e61ca755d1",
   "metadata": {},
   "outputs": [],
   "source": [
    "len(block_0203_density_list)"
   ]
  },
  {
   "cell_type": "code",
   "execution_count": null,
   "id": "fc069347-2682-49cb-90bd-88e333b2db00",
   "metadata": {},
   "outputs": [],
   "source": [
    "len(block_0203_density_list[0])"
   ]
  },
  {
   "cell_type": "code",
   "execution_count": null,
   "id": "2df7aca8-b267-4d96-b488-a801da78be66",
   "metadata": {},
   "outputs": [],
   "source": [
    "# need to stack this list\n",
    "block_0203_all_density_stack = np.stack(block_0203_density_list, axis = 1)"
   ]
  },
  {
   "cell_type": "code",
   "execution_count": null,
   "id": "615e8eab-86ec-4aac-9709-7bd847b482fe",
   "metadata": {},
   "outputs": [],
   "source": [
    "block_0203_all_density_stack.shape"
   ]
  },
  {
   "cell_type": "code",
   "execution_count": null,
   "id": "f90f46d3-7736-4bc1-86b7-ad2a2fde82d0",
   "metadata": {},
   "outputs": [],
   "source": [
    "np.sum(block_0203_all_density_stack, axis = 0)"
   ]
  },
  {
   "cell_type": "code",
   "execution_count": null,
   "id": "82d17fdd-3f46-415d-bd6c-e9aed6fbe0be",
   "metadata": {},
   "outputs": [],
   "source": [
    "# Block 0301"
   ]
  },
  {
   "cell_type": "code",
   "execution_count": null,
   "id": "4f3e61bf-4f81-49db-9005-392a96529152",
   "metadata": {},
   "outputs": [],
   "source": [
    "# get im and xml files\n",
    "block_0301_target_ims, block_0301_target_xmls, block_0301_mean = chose_xml_and_jpeg(block_0301)"
   ]
  },
  {
   "cell_type": "code",
   "execution_count": null,
   "id": "0d710931-a5d0-4c78-b381-a9be6f2443eb",
   "metadata": {},
   "outputs": [],
   "source": [
    "block_0301_target_ims"
   ]
  },
  {
   "cell_type": "code",
   "execution_count": null,
   "id": "79458d5a-ac84-4ee3-b8a0-9a5bc644151e",
   "metadata": {},
   "outputs": [],
   "source": [
    "block_0301_target_xmls"
   ]
  },
  {
   "cell_type": "code",
   "execution_count": null,
   "id": "a7e25610-f43b-4048-b734-2c857db39a06",
   "metadata": {},
   "outputs": [],
   "source": [
    "block_0301_mean"
   ]
  },
  {
   "cell_type": "code",
   "execution_count": null,
   "id": "3ad553fe-7d76-4be6-b6ee-2cbb9f257abc",
   "metadata": {},
   "outputs": [],
   "source": [
    "# just file names\n",
    "block_0301_file_names = [file.split(\".\")[0] for file in block_0301_target_ims]"
   ]
  },
  {
   "cell_type": "code",
   "execution_count": null,
   "id": "15b6971a-16c4-4b9d-81de-cb3bca0ca67a",
   "metadata": {},
   "outputs": [],
   "source": [
    "block_0301_file_names"
   ]
  },
  {
   "cell_type": "code",
   "execution_count": null,
   "id": "623ca8e2-5cfe-4732-9454-359cf6b879b2",
   "metadata": {
    "scrolled": true
   },
   "outputs": [],
   "source": [
    "%%time\n",
    "# Get the density maps\n",
    "block_0301_names = []\n",
    "block_0301_im_shapes = []\n",
    "block_0301_tassel_count = []\n",
    "block_0301_tassel_count_alt = []\n",
    "# capture the density maps here\n",
    "block_0301_convs = []\n",
    "for file in block_0301_file_names:\n",
    "    name, shape, no_tassels, no_tassel_alt, conv = get_density_maps_horizontal(file, block_0301, block_0301)\n",
    "    block_0301_names.append(name)\n",
    "    block_0301_im_shapes.append(shape)\n",
    "    block_0301_tassel_count.append(no_tassels)\n",
    "    block_0301_tassel_count_alt.append(no_tassel_alt)\n",
    "    block_0301_convs.append(conv)"
   ]
  },
  {
   "cell_type": "code",
   "execution_count": null,
   "id": "5fa850b7-0d90-435a-a900-720b23f33ab8",
   "metadata": {},
   "outputs": [],
   "source": [
    "block_0301_names"
   ]
  },
  {
   "cell_type": "code",
   "execution_count": null,
   "id": "7c28e2ec-ea7f-46cb-abad-8d2543d36490",
   "metadata": {},
   "outputs": [],
   "source": [
    "block_0301_im_shapes"
   ]
  },
  {
   "cell_type": "code",
   "execution_count": null,
   "id": "4fedefc9-cb19-42e6-89a9-9822f39c7e8c",
   "metadata": {},
   "outputs": [],
   "source": [
    "block_0301_tassel_count, block_0301_tassel_count_alt"
   ]
  },
  {
   "cell_type": "code",
   "execution_count": null,
   "id": "e6dd5e50-7f79-4b11-905f-9481457f4864",
   "metadata": {},
   "outputs": [],
   "source": [
    "np.mean(np.round(block_0301_tassel_count, 0) == np.round(block_0301_tassel_count_alt, 0))"
   ]
  },
  {
   "cell_type": "code",
   "execution_count": null,
   "id": "b740e193-3334-49ad-a62a-366a7a10a1fe",
   "metadata": {},
   "outputs": [],
   "source": [
    "%%time\n",
    "# Get the stacks?\n",
    "block_0301_density_list = []\n",
    "for conv in block_0301_convs:\n",
    "    density_values = create_densities_for_subwindows(conv, 8, 32)\n",
    "    block_0301_density_list.append(density_values)"
   ]
  },
  {
   "cell_type": "code",
   "execution_count": null,
   "id": "6ba2e9f3-9b91-4571-ae18-1d91350e9656",
   "metadata": {},
   "outputs": [],
   "source": [
    "len(block_0301_density_list)"
   ]
  },
  {
   "cell_type": "code",
   "execution_count": null,
   "id": "986ae09d-cbae-4eba-b31a-485f39a8e021",
   "metadata": {},
   "outputs": [],
   "source": [
    "len(block_0301_density_list[0])"
   ]
  },
  {
   "cell_type": "code",
   "execution_count": null,
   "id": "a3df92a3-3136-4dd4-b6c1-eb5dd9fc1eb8",
   "metadata": {},
   "outputs": [],
   "source": [
    "# need to stack this list\n",
    "block_0301_all_density_stack = np.stack(block_0301_density_list, axis = 1)"
   ]
  },
  {
   "cell_type": "code",
   "execution_count": null,
   "id": "c10b1799-8b98-432a-8da0-c655371bbb28",
   "metadata": {},
   "outputs": [],
   "source": [
    "block_0301_all_density_stack.shape"
   ]
  },
  {
   "cell_type": "code",
   "execution_count": null,
   "id": "083d7b35-83c5-4827-8311-649da01c0d1e",
   "metadata": {},
   "outputs": [],
   "source": [
    "np.sum(block_0301_all_density_stack, axis = 0)"
   ]
  },
  {
   "cell_type": "code",
   "execution_count": null,
   "id": "2f3f1949-41ab-4e0b-9143-0e76097933cc",
   "metadata": {},
   "outputs": [],
   "source": [
    "# stack the train data together\n",
    "train_list = [block_0101_all_density_stack, block_0102_all_density_stack, block_0203_all_density_stack, block_0301_all_density_stack]"
   ]
  },
  {
   "cell_type": "code",
   "execution_count": null,
   "id": "848e4c79-68e8-45dd-886d-62fed8e68740",
   "metadata": {},
   "outputs": [],
   "source": [
    "all_train_data = np.vstack(train_list)"
   ]
  },
  {
   "cell_type": "code",
   "execution_count": null,
   "id": "690a3f9c-51b5-442d-8c88-c1657940702e",
   "metadata": {},
   "outputs": [],
   "source": [
    "all_train_data.shape"
   ]
  },
  {
   "cell_type": "code",
   "execution_count": null,
   "id": "f4c52188-bbcd-4b6b-9cf6-5f972021294d",
   "metadata": {},
   "outputs": [],
   "source": [
    "# sanity check\n",
    "print(np.mean(block_0101_all_density_stack == all_train_data[12288*0: 12288*1, :]))\n",
    "print(np.mean(block_0102_all_density_stack == all_train_data[12288*1: 12288*2, :]))\n",
    "print(np.mean(block_0203_all_density_stack == all_train_data[12288*2: 12288*3, :]))\n",
    "print(np.mean(block_0301_all_density_stack == all_train_data[12288*3: 12288*4, :]))"
   ]
  },
  {
   "cell_type": "code",
   "execution_count": null,
   "id": "db088561-6785-47a0-86d8-9d108c9b1b42",
   "metadata": {},
   "outputs": [],
   "source": [
    "# save this stack\n",
    "np.save(\"data/Stage2_base_model/Overlapping/train_targets/all_train_targets.npy\", all_train_data)"
   ]
  },
  {
   "cell_type": "code",
   "execution_count": null,
   "id": "695cfba0-00e7-4c6d-a98a-124326d2faf5",
   "metadata": {},
   "outputs": [],
   "source": [
    "np.mean(np.load(\"data/Stage2_base_model/Overlapping/train_targets/all_train_targets.npy\") == all_train_data)"
   ]
  },
  {
   "cell_type": "code",
   "execution_count": null,
   "id": "4fae9592-9c83-4c0c-8e20-8fbb06f29fb2",
   "metadata": {},
   "outputs": [],
   "source": [
    "# Validation data\n",
    "\n",
    "# Block 0204"
   ]
  },
  {
   "cell_type": "code",
   "execution_count": null,
   "id": "f173c07b-2d82-47b0-be91-b0c7287c4742",
   "metadata": {},
   "outputs": [],
   "source": [
    "# get im and xml files\n",
    "block_0204_target_ims, block_0204_target_xmls, block_0204_mean = chose_xml_and_jpeg(block_0204)"
   ]
  },
  {
   "cell_type": "code",
   "execution_count": null,
   "id": "ab58a16b-cce6-4703-a79c-def3c38ba883",
   "metadata": {},
   "outputs": [],
   "source": [
    "block_0204_target_ims"
   ]
  },
  {
   "cell_type": "code",
   "execution_count": null,
   "id": "55a6e485-4e3c-49f1-9ec8-95554ac94890",
   "metadata": {},
   "outputs": [],
   "source": [
    "block_0204_target_xmls"
   ]
  },
  {
   "cell_type": "code",
   "execution_count": null,
   "id": "8320cd67-6d6c-4c48-a2a2-f88f2b368daa",
   "metadata": {},
   "outputs": [],
   "source": [
    "block_0204_mean"
   ]
  },
  {
   "cell_type": "code",
   "execution_count": null,
   "id": "57c50043-1c1d-49a7-9412-ebdcc3af0e61",
   "metadata": {},
   "outputs": [],
   "source": [
    "# just file names\n",
    "block_0204_file_names = [file.split(\".\")[0] for file in block_0204_target_ims]"
   ]
  },
  {
   "cell_type": "code",
   "execution_count": null,
   "id": "71389ab7-7679-4857-a101-a70639e9cba8",
   "metadata": {},
   "outputs": [],
   "source": [
    "block_0204_file_names"
   ]
  },
  {
   "cell_type": "code",
   "execution_count": null,
   "id": "cb32b38f-081d-4407-88d4-290beadfc30a",
   "metadata": {
    "scrolled": true
   },
   "outputs": [],
   "source": [
    "%%time\n",
    "# Get the density maps\n",
    "block_0204_names = []\n",
    "block_0204_im_shapes = []\n",
    "block_0204_tassel_count = []\n",
    "block_0204_tassel_count_alt = []\n",
    "# capture the density maps here\n",
    "block_0204_convs = []\n",
    "for file in block_0204_file_names:\n",
    "    name, shape, no_tassels, no_tassel_alt, conv = get_density_maps_horizontal(file, block_0204, block_0204)\n",
    "    block_0204_names.append(name)\n",
    "    block_0204_im_shapes.append(shape)\n",
    "    block_0204_tassel_count.append(no_tassels)\n",
    "    block_0204_tassel_count_alt.append(no_tassel_alt)\n",
    "    block_0204_convs.append(conv)"
   ]
  },
  {
   "cell_type": "code",
   "execution_count": null,
   "id": "ff8b495a-0355-4c43-9578-a8c24190faf1",
   "metadata": {},
   "outputs": [],
   "source": [
    "block_0204_names"
   ]
  },
  {
   "cell_type": "code",
   "execution_count": null,
   "id": "2bd61b61-891d-44f1-a165-e8b7376ed03c",
   "metadata": {},
   "outputs": [],
   "source": [
    "block_0204_im_shapes"
   ]
  },
  {
   "cell_type": "code",
   "execution_count": null,
   "id": "420901ab-a122-4a8d-bdfd-1113c01e2451",
   "metadata": {},
   "outputs": [],
   "source": [
    "block_0204_tassel_count, block_0204_tassel_count_alt"
   ]
  },
  {
   "cell_type": "code",
   "execution_count": null,
   "id": "07015f84-cc08-4584-87d5-c618808ef3ae",
   "metadata": {},
   "outputs": [],
   "source": [
    "np.mean(np.round(block_0204_tassel_count, 0) == np.round(block_0204_tassel_count_alt, 0))"
   ]
  },
  {
   "cell_type": "code",
   "execution_count": null,
   "id": "13107235-b50e-4d5a-a66e-eb947c7d918a",
   "metadata": {},
   "outputs": [],
   "source": [
    "%%time\n",
    "# Get the stacks?\n",
    "block_0204_density_list = []\n",
    "for conv in block_0204_convs:\n",
    "    density_values = create_densities_for_subwindows(conv, 8, 32)\n",
    "    block_0204_density_list.append(density_values)"
   ]
  },
  {
   "cell_type": "code",
   "execution_count": null,
   "id": "344a1849-bc7d-47bf-8667-284b8437a41a",
   "metadata": {},
   "outputs": [],
   "source": [
    "len(block_0204_density_list)"
   ]
  },
  {
   "cell_type": "code",
   "execution_count": null,
   "id": "d514071a-8b36-4e20-86e4-8cea4e62b942",
   "metadata": {},
   "outputs": [],
   "source": [
    "len(block_0204_density_list[0])"
   ]
  },
  {
   "cell_type": "code",
   "execution_count": null,
   "id": "92ae322b-170f-4781-99ba-fbaf5ef23e1e",
   "metadata": {},
   "outputs": [],
   "source": [
    "# need to stack this list\n",
    "block_0204_all_density_stack = np.stack(block_0204_density_list, axis = 1)"
   ]
  },
  {
   "cell_type": "code",
   "execution_count": null,
   "id": "699c1604-a561-4f88-a907-3c13019194fc",
   "metadata": {},
   "outputs": [],
   "source": [
    "block_0204_all_density_stack.shape"
   ]
  },
  {
   "cell_type": "code",
   "execution_count": null,
   "id": "82bce6ba-d2d5-4d68-a765-7d93cd0d70b6",
   "metadata": {},
   "outputs": [],
   "source": [
    "np.sum(block_0204_all_density_stack, axis = 0)"
   ]
  },
  {
   "cell_type": "code",
   "execution_count": null,
   "id": "1cc32566-8fce-4f4b-bc36-9a819314c4a5",
   "metadata": {},
   "outputs": [],
   "source": [
    "# save this stack\n",
    "np.save(\"data/Stage2_base_model/Overlapping/valid_targets/all_valid_targets.npy\", block_0204_all_density_stack)"
   ]
  },
  {
   "cell_type": "code",
   "execution_count": null,
   "id": "733b3c70-a803-40a8-b1a9-bde263c1754d",
   "metadata": {},
   "outputs": [],
   "source": [
    "np.mean(np.load(\"data/Stage2_base_model/Overlapping/valid_targets/all_valid_targets.npy\") == block_0204_all_density_stack)"
   ]
  },
  {
   "cell_type": "code",
   "execution_count": null,
   "id": "b712082f-c427-4015-b81b-21babc036795",
   "metadata": {},
   "outputs": [],
   "source": [
    "# Okay, now we will do this for all the test data"
   ]
  },
  {
   "cell_type": "code",
   "execution_count": null,
   "id": "a5111ac3-72d8-44c5-aa31-65508576e101",
   "metadata": {},
   "outputs": [],
   "source": [
    "# Block 0103"
   ]
  },
  {
   "cell_type": "code",
   "execution_count": null,
   "id": "a16e86d3-3424-4dac-ab9b-27c1f72e9409",
   "metadata": {},
   "outputs": [],
   "source": [
    "block_0103 = '../../Spring_2024/S_lab_TasselNet/Block_3_TN/Block_3_images_and_xml'"
   ]
  },
  {
   "cell_type": "code",
   "execution_count": null,
   "id": "dc66f6fe-e41b-4a0c-bacf-90fbc97c64d7",
   "metadata": {},
   "outputs": [],
   "source": [
    "# get im and xml files\n",
    "block_0103_target_ims, block_0103_target_xmls, block_0103_mean = chose_xml_and_jpeg(block_0103)"
   ]
  },
  {
   "cell_type": "code",
   "execution_count": null,
   "id": "abf7d9f5-d6bf-4718-8706-0f3913ea05b1",
   "metadata": {},
   "outputs": [],
   "source": [
    "block_0103_target_ims"
   ]
  },
  {
   "cell_type": "code",
   "execution_count": null,
   "id": "37680583-a8c8-474c-84af-cccde008d031",
   "metadata": {},
   "outputs": [],
   "source": [
    "block_0103_target_xmls"
   ]
  },
  {
   "cell_type": "code",
   "execution_count": null,
   "id": "15c78f53-0aff-4f62-bb18-df8d88756826",
   "metadata": {},
   "outputs": [],
   "source": [
    "block_0103_mean"
   ]
  },
  {
   "cell_type": "code",
   "execution_count": null,
   "id": "62505e87-a8e2-4e9e-ba3a-d31b4fbda26b",
   "metadata": {},
   "outputs": [],
   "source": [
    "# just file names\n",
    "block_0103_file_names = [file.split(\".\")[0] for file in block_0103_target_ims]"
   ]
  },
  {
   "cell_type": "code",
   "execution_count": null,
   "id": "60f43599-2873-44dc-8f14-c669e445a078",
   "metadata": {},
   "outputs": [],
   "source": [
    "block_0103_file_names"
   ]
  },
  {
   "cell_type": "code",
   "execution_count": null,
   "id": "41e529df-0535-4197-9bc5-e6ebf8aa0c2b",
   "metadata": {
    "scrolled": true
   },
   "outputs": [],
   "source": [
    "%%time\n",
    "# Get the density maps\n",
    "block_0103_names = []\n",
    "block_0103_im_shapes = []\n",
    "block_0103_tassel_count = []\n",
    "block_0103_tassel_count_alt = []\n",
    "# capture the density maps here\n",
    "block_0103_convs = []\n",
    "for file in block_0103_file_names:\n",
    "    name, shape, no_tassels, no_tassel_alt, conv = get_density_maps_horizontal(file, block_0103, block_0103)\n",
    "    block_0103_names.append(name)\n",
    "    block_0103_im_shapes.append(shape)\n",
    "    block_0103_tassel_count.append(no_tassels)\n",
    "    block_0103_tassel_count_alt.append(no_tassel_alt)\n",
    "    block_0103_convs.append(conv)"
   ]
  },
  {
   "cell_type": "code",
   "execution_count": null,
   "id": "dc3e6826-3e5a-420b-9989-a044988a025f",
   "metadata": {},
   "outputs": [],
   "source": [
    "block_0103_names"
   ]
  },
  {
   "cell_type": "code",
   "execution_count": null,
   "id": "f545a665-0f3d-4930-a7c7-2101deac2262",
   "metadata": {},
   "outputs": [],
   "source": [
    "block_0103_im_shapes"
   ]
  },
  {
   "cell_type": "code",
   "execution_count": null,
   "id": "8b7af0b6-d544-4d53-882e-4a290e2909bd",
   "metadata": {},
   "outputs": [],
   "source": [
    "block_0103_tassel_count, block_0103_tassel_count_alt"
   ]
  },
  {
   "cell_type": "code",
   "execution_count": null,
   "id": "16c1f499-8da2-4e2f-809b-0af3fb11ba39",
   "metadata": {},
   "outputs": [],
   "source": [
    "np.mean(np.round(block_0103_tassel_count, 0) == np.round(block_0103_tassel_count_alt, 0))"
   ]
  },
  {
   "cell_type": "code",
   "execution_count": null,
   "id": "0eab37b7-fe6e-422e-ba55-1104aa6af331",
   "metadata": {},
   "outputs": [],
   "source": [
    "%%time\n",
    "# Get the stacks?\n",
    "block_0103_density_list = []\n",
    "for conv in block_0103_convs:\n",
    "    density_values = create_densities_for_subwindows(conv, 8, 32)\n",
    "    block_0103_density_list.append(density_values)"
   ]
  },
  {
   "cell_type": "code",
   "execution_count": null,
   "id": "68d7a03b-9da8-4614-bbbb-a8ee35c9411c",
   "metadata": {},
   "outputs": [],
   "source": [
    "len(block_0103_density_list)"
   ]
  },
  {
   "cell_type": "code",
   "execution_count": null,
   "id": "53c9ad76-16cc-4d85-a8b8-9a92adfe43d3",
   "metadata": {},
   "outputs": [],
   "source": [
    "len(block_0103_density_list[0])"
   ]
  },
  {
   "cell_type": "code",
   "execution_count": null,
   "id": "6195b48f-53cb-4dd4-b9b5-fad1fd7636ef",
   "metadata": {},
   "outputs": [],
   "source": [
    "# need to stack this list\n",
    "block_0103_all_density_stack = np.stack(block_0103_density_list, axis = 1)"
   ]
  },
  {
   "cell_type": "code",
   "execution_count": null,
   "id": "4060cf56-8ab7-4708-85d4-530f87106414",
   "metadata": {},
   "outputs": [],
   "source": [
    "block_0103_all_density_stack.shape"
   ]
  },
  {
   "cell_type": "code",
   "execution_count": null,
   "id": "4d403e42-0426-4243-a162-86cf89bb9272",
   "metadata": {},
   "outputs": [],
   "source": [
    "np.sum(block_0103_all_density_stack, axis = 0)"
   ]
  },
  {
   "cell_type": "code",
   "execution_count": null,
   "id": "b0d9da96-8f0a-4007-92ed-eaa047493eeb",
   "metadata": {},
   "outputs": [],
   "source": [
    "# save this stack\n",
    "np.save(\"data/Stage2_base_model/Overlapping/test_targets/block_0103_targets.npy\", block_0103_all_density_stack)"
   ]
  },
  {
   "cell_type": "code",
   "execution_count": null,
   "id": "9652c52c-0ce2-4674-9a6d-b3ad86733f5a",
   "metadata": {},
   "outputs": [],
   "source": [
    "# verify\n",
    "np.mean(np.load(\"data/Stage2_base_model/Overlapping/test_targets/block_0103_targets.npy\") == block_0103_all_density_stack)"
   ]
  },
  {
   "cell_type": "code",
   "execution_count": null,
   "id": "d850cbe3-18a4-4ed3-8a89-ccc83b2545ae",
   "metadata": {},
   "outputs": [],
   "source": [
    "# Block 0104"
   ]
  },
  {
   "cell_type": "code",
   "execution_count": null,
   "id": "69c5489c-dff8-482a-9299-2ca6fa37b96d",
   "metadata": {},
   "outputs": [],
   "source": [
    "block_0104 = '../../Spring_2024/S_lab_TasselNet/Block_4_TN/Block_4_images_and_xml'"
   ]
  },
  {
   "cell_type": "code",
   "execution_count": null,
   "id": "a2cd1667-7683-4654-a47d-a540cd77f2ce",
   "metadata": {},
   "outputs": [],
   "source": [
    "# get im and xml files\n",
    "block_0104_target_ims, block_0104_target_xmls, block_0104_mean = chose_xml_and_jpeg(block_0104)"
   ]
  },
  {
   "cell_type": "code",
   "execution_count": null,
   "id": "d4c3e1c3-41f6-447f-9cae-0741e3b8b369",
   "metadata": {},
   "outputs": [],
   "source": [
    "block_0104_target_ims"
   ]
  },
  {
   "cell_type": "code",
   "execution_count": null,
   "id": "25aa5475-cf6b-480b-80d1-53d15b7a2076",
   "metadata": {},
   "outputs": [],
   "source": [
    "block_0104_target_xmls"
   ]
  },
  {
   "cell_type": "code",
   "execution_count": null,
   "id": "3d41919c-2f30-42c6-8708-04b74e4f9a08",
   "metadata": {},
   "outputs": [],
   "source": [
    "block_0104_mean"
   ]
  },
  {
   "cell_type": "code",
   "execution_count": null,
   "id": "045b53d0-afe9-415e-a51d-d3ebd1ccbda4",
   "metadata": {},
   "outputs": [],
   "source": [
    "# just file names\n",
    "block_0104_file_names = [file.split(\".\")[0] for file in block_0104_target_ims]"
   ]
  },
  {
   "cell_type": "code",
   "execution_count": null,
   "id": "7d8d9d1b-5c47-4a45-a3d8-511ef103fcff",
   "metadata": {},
   "outputs": [],
   "source": [
    "block_0104_file_names"
   ]
  },
  {
   "cell_type": "code",
   "execution_count": null,
   "id": "3506b77b-a108-4a41-bce3-a612ff19a59d",
   "metadata": {
    "scrolled": true
   },
   "outputs": [],
   "source": [
    "%%time\n",
    "# Get the density maps\n",
    "block_0104_names = []\n",
    "block_0104_im_shapes = []\n",
    "block_0104_tassel_count = []\n",
    "block_0104_tassel_count_alt = []\n",
    "# capture the density maps here\n",
    "block_0104_convs = []\n",
    "for file in block_0104_file_names:\n",
    "    name, shape, no_tassels, no_tassel_alt, conv = get_density_maps_horizontal(file, block_0104, block_0104)\n",
    "    block_0104_names.append(name)\n",
    "    block_0104_im_shapes.append(shape)\n",
    "    block_0104_tassel_count.append(no_tassels)\n",
    "    block_0104_tassel_count_alt.append(no_tassel_alt)\n",
    "    block_0104_convs.append(conv)"
   ]
  },
  {
   "cell_type": "code",
   "execution_count": null,
   "id": "b64414a8-8704-4f75-8dba-0a2a3becd5eb",
   "metadata": {},
   "outputs": [],
   "source": [
    "block_0104_names"
   ]
  },
  {
   "cell_type": "code",
   "execution_count": null,
   "id": "7a45dc2c-7a0b-4d23-b284-85a5f69a78ec",
   "metadata": {},
   "outputs": [],
   "source": [
    "block_0104_im_shapes"
   ]
  },
  {
   "cell_type": "code",
   "execution_count": null,
   "id": "5e170729-5b16-42f3-83cf-145ba2c13531",
   "metadata": {},
   "outputs": [],
   "source": [
    "block_0104_tassel_count, block_0104_tassel_count_alt"
   ]
  },
  {
   "cell_type": "code",
   "execution_count": null,
   "id": "35cca665-0564-47cf-8664-44643c49532a",
   "metadata": {},
   "outputs": [],
   "source": [
    "np.mean(np.round(block_0104_tassel_count, 0) == np.round(block_0104_tassel_count_alt, 0))"
   ]
  },
  {
   "cell_type": "code",
   "execution_count": null,
   "id": "6b4352cc-c3e3-49d8-840f-b8271c5a658d",
   "metadata": {},
   "outputs": [],
   "source": [
    "%%time\n",
    "# Get the stacks?\n",
    "block_0104_density_list = []\n",
    "for conv in block_0104_convs:\n",
    "    density_values = create_densities_for_subwindows(conv, 8, 32)\n",
    "    block_0104_density_list.append(density_values)"
   ]
  },
  {
   "cell_type": "code",
   "execution_count": null,
   "id": "8149f747-09fb-4d26-b19a-0c419fb882eb",
   "metadata": {},
   "outputs": [],
   "source": [
    "len(block_0104_density_list)"
   ]
  },
  {
   "cell_type": "code",
   "execution_count": null,
   "id": "06422b93-e9fb-472f-9775-12fb1dbeff19",
   "metadata": {},
   "outputs": [],
   "source": [
    "len(block_0104_density_list[0])"
   ]
  },
  {
   "cell_type": "code",
   "execution_count": null,
   "id": "0e755c7d-22c4-4555-a477-35c7b1a59520",
   "metadata": {},
   "outputs": [],
   "source": [
    "# need to stack this list\n",
    "block_0104_all_density_stack = np.stack(block_0104_density_list, axis = 1)"
   ]
  },
  {
   "cell_type": "code",
   "execution_count": null,
   "id": "3ae4fc60-42fd-40fd-9ca2-80755efd896d",
   "metadata": {},
   "outputs": [],
   "source": [
    "block_0104_all_density_stack.shape"
   ]
  },
  {
   "cell_type": "code",
   "execution_count": null,
   "id": "3051eeb4-e58c-49ed-82e4-c0dfad082582",
   "metadata": {},
   "outputs": [],
   "source": [
    "np.sum(block_0104_all_density_stack, axis = 0)"
   ]
  },
  {
   "cell_type": "code",
   "execution_count": null,
   "id": "297a4376-652d-4002-b6dd-a9230409addf",
   "metadata": {},
   "outputs": [],
   "source": [
    "# save this stack\n",
    "np.save(\"data/Stage2_base_model/Overlapping/test_targets/block_0104_targets.npy\", block_0104_all_density_stack)"
   ]
  },
  {
   "cell_type": "code",
   "execution_count": null,
   "id": "c17dfa70-81d1-43ef-821d-6b6e6a5f2a58",
   "metadata": {},
   "outputs": [],
   "source": [
    "np.mean(np.load(\"data/Stage2_base_model/Overlapping/test_targets/block_0104_targets.npy\") == block_0104_all_density_stack)"
   ]
  },
  {
   "cell_type": "code",
   "execution_count": null,
   "id": "727dc4a0-a2e9-48c1-92eb-24b046adc376",
   "metadata": {},
   "outputs": [],
   "source": [
    "# np.mean(block_0104_all_density_stack == block_0103_all_density_stack)"
   ]
  },
  {
   "cell_type": "code",
   "execution_count": null,
   "id": "2ccd32c1-958e-42eb-92da-0ff8403d59bf",
   "metadata": {},
   "outputs": [],
   "source": [
    "# Block 0105"
   ]
  },
  {
   "cell_type": "code",
   "execution_count": null,
   "id": "4e0386af-6e61-44a3-9d4d-adef2d435dff",
   "metadata": {},
   "outputs": [],
   "source": [
    "block_0105 = '../../Spring_2024/S_lab_TasselNet/Block_5_TN/Block_5_images_and_xml'"
   ]
  },
  {
   "cell_type": "code",
   "execution_count": null,
   "id": "092536bc-fa3b-46e3-b22f-f732f2f42e2d",
   "metadata": {},
   "outputs": [],
   "source": [
    "# get im and xml files\n",
    "block_0105_target_ims, block_0105_target_xmls, block_0105_mean = chose_xml_and_jpeg(block_0105)"
   ]
  },
  {
   "cell_type": "code",
   "execution_count": null,
   "id": "4a223106-e695-416a-9bda-54b928d21dee",
   "metadata": {},
   "outputs": [],
   "source": [
    "block_0105_target_ims"
   ]
  },
  {
   "cell_type": "code",
   "execution_count": null,
   "id": "027fcea1-d536-456b-aca3-5f7644b08535",
   "metadata": {},
   "outputs": [],
   "source": [
    "block_0105_target_xmls"
   ]
  },
  {
   "cell_type": "code",
   "execution_count": null,
   "id": "d7c6d106-312d-482a-8e01-246d1e0d7cdb",
   "metadata": {},
   "outputs": [],
   "source": [
    "block_0105_mean"
   ]
  },
  {
   "cell_type": "code",
   "execution_count": null,
   "id": "b623ddc4-08f6-4790-9ccd-7638e29b6edc",
   "metadata": {},
   "outputs": [],
   "source": [
    "# just file names\n",
    "block_0105_file_names = [file.split(\".\")[0] for file in block_0105_target_ims]"
   ]
  },
  {
   "cell_type": "code",
   "execution_count": null,
   "id": "839497cb-591a-43e1-9491-a21b096a4215",
   "metadata": {},
   "outputs": [],
   "source": [
    "block_0105_file_names"
   ]
  },
  {
   "cell_type": "code",
   "execution_count": null,
   "id": "5bb067ba-e5d0-4315-8fbb-c3e7ba0cb4d9",
   "metadata": {
    "scrolled": true
   },
   "outputs": [],
   "source": [
    "%%time\n",
    "# Get the density maps\n",
    "block_0105_names = []\n",
    "block_0105_im_shapes = []\n",
    "block_0105_tassel_count = []\n",
    "block_0105_tassel_count_alt = []\n",
    "# capture the density maps here\n",
    "block_0105_convs = []\n",
    "for file in block_0105_file_names:\n",
    "    name, shape, no_tassels, no_tassel_alt, conv = get_density_maps_horizontal(file, block_0105, block_0105)\n",
    "    block_0105_names.append(name)\n",
    "    block_0105_im_shapes.append(shape)\n",
    "    block_0105_tassel_count.append(no_tassels)\n",
    "    block_0105_tassel_count_alt.append(no_tassel_alt)\n",
    "    block_0105_convs.append(conv)"
   ]
  },
  {
   "cell_type": "code",
   "execution_count": null,
   "id": "7e225837-4ff9-4aa9-809a-0158263f6e32",
   "metadata": {},
   "outputs": [],
   "source": [
    "block_0105_names"
   ]
  },
  {
   "cell_type": "code",
   "execution_count": null,
   "id": "43409520-2c11-4eaa-b0cc-7a71e8f85a40",
   "metadata": {},
   "outputs": [],
   "source": [
    "block_0105_im_shapes"
   ]
  },
  {
   "cell_type": "code",
   "execution_count": null,
   "id": "4d1bbb4f-5f48-4c05-bcbf-441b7ed3d7ec",
   "metadata": {},
   "outputs": [],
   "source": [
    "block_0105_tassel_count, block_0105_tassel_count_alt"
   ]
  },
  {
   "cell_type": "code",
   "execution_count": null,
   "id": "41540a7c-454d-4381-9412-2cdff8910969",
   "metadata": {},
   "outputs": [],
   "source": [
    "np.mean(np.round(block_0105_tassel_count, 0) == np.round(block_0105_tassel_count_alt, 0))"
   ]
  },
  {
   "cell_type": "code",
   "execution_count": null,
   "id": "2b030b5f-86b2-4602-ba97-16b4c8d02d9b",
   "metadata": {},
   "outputs": [],
   "source": [
    "%%time\n",
    "# Get the stacks?\n",
    "block_0105_density_list = []\n",
    "for conv in block_0105_convs:\n",
    "    density_values = create_densities_for_subwindows(conv, 8, 32)\n",
    "    block_0105_density_list.append(density_values)"
   ]
  },
  {
   "cell_type": "code",
   "execution_count": null,
   "id": "a3682001-85c7-4b44-bcef-bff07f37f12f",
   "metadata": {},
   "outputs": [],
   "source": [
    "len(block_0105_density_list)"
   ]
  },
  {
   "cell_type": "code",
   "execution_count": null,
   "id": "171e7ad1-c319-461d-90bb-0ea8c7743be5",
   "metadata": {},
   "outputs": [],
   "source": [
    "len(block_0105_density_list[0])"
   ]
  },
  {
   "cell_type": "code",
   "execution_count": null,
   "id": "9de5838f-eb4e-4410-80f1-5c4250ec5c58",
   "metadata": {},
   "outputs": [],
   "source": [
    "# need to stack this list\n",
    "block_0105_all_density_stack = np.stack(block_0105_density_list, axis = 1)"
   ]
  },
  {
   "cell_type": "code",
   "execution_count": null,
   "id": "62b87103-c1bf-4d51-a6ca-693cbef75a56",
   "metadata": {},
   "outputs": [],
   "source": [
    "block_0105_all_density_stack.shape"
   ]
  },
  {
   "cell_type": "code",
   "execution_count": null,
   "id": "936543fe-ce68-488f-8267-eb41232737be",
   "metadata": {},
   "outputs": [],
   "source": [
    "np.sum(block_0105_all_density_stack, axis = 0)"
   ]
  },
  {
   "cell_type": "code",
   "execution_count": null,
   "id": "81b7c2e9-b215-4b5c-af03-f9294044a2b5",
   "metadata": {},
   "outputs": [],
   "source": [
    "# save this stack\n",
    "np.save(\"data/Stage2_base_model/Overlapping/test_targets/block_0105_targets.npy\", block_0105_all_density_stack)"
   ]
  },
  {
   "cell_type": "code",
   "execution_count": null,
   "id": "fb561fbb-cee4-4bdb-948d-a257c5c9be47",
   "metadata": {},
   "outputs": [],
   "source": [
    "np.mean(np.load(\"data/Stage2_base_model/Overlapping/test_targets/block_0105_targets.npy\") == block_0105_all_density_stack)"
   ]
  },
  {
   "cell_type": "code",
   "execution_count": null,
   "id": "22fd2512-0114-41a9-9401-d69c89280cbe",
   "metadata": {},
   "outputs": [],
   "source": [
    "# np.mean(block_0104_all_density_stack == block_0105_all_density_stack)"
   ]
  },
  {
   "cell_type": "code",
   "execution_count": null,
   "id": "db54ac03-9a5b-4fcb-b416-3159628d56e9",
   "metadata": {},
   "outputs": [],
   "source": [
    "# np.sum(block_0105_all_density_stack[:,0])"
   ]
  },
  {
   "cell_type": "code",
   "execution_count": null,
   "id": "ef4e2fd9-4bf7-48bb-95c2-2751f44864ca",
   "metadata": {},
   "outputs": [],
   "source": [
    "# Block 0106"
   ]
  },
  {
   "cell_type": "code",
   "execution_count": null,
   "id": "79d50a70-3457-42ef-b447-8f8122024e01",
   "metadata": {},
   "outputs": [],
   "source": [
    "block_0106 = '../../Spring_2024/S_lab_TasselNet/Block_6_TN/Block_6_images_and_xml'"
   ]
  },
  {
   "cell_type": "code",
   "execution_count": null,
   "id": "f65ef083-5d51-4d00-be4a-9bfcbdce14a3",
   "metadata": {},
   "outputs": [],
   "source": [
    "# get im and xml files\n",
    "block_0106_target_ims, block_0106_target_xmls, block_0106_mean = chose_xml_and_jpeg(block_0106)"
   ]
  },
  {
   "cell_type": "code",
   "execution_count": null,
   "id": "89eddac7-020e-4443-8803-096b09b28fb9",
   "metadata": {},
   "outputs": [],
   "source": [
    "block_0106_target_ims"
   ]
  },
  {
   "cell_type": "code",
   "execution_count": null,
   "id": "eb049b76-8124-49f7-a7cb-feb8f6171cdc",
   "metadata": {},
   "outputs": [],
   "source": [
    "block_0106_target_xmls"
   ]
  },
  {
   "cell_type": "code",
   "execution_count": null,
   "id": "7cc0204d-daf1-4ed7-84ba-9413d4c20cfd",
   "metadata": {},
   "outputs": [],
   "source": [
    "block_0106_mean"
   ]
  },
  {
   "cell_type": "code",
   "execution_count": null,
   "id": "2174210c-99f4-4f14-b8ba-07007f57d572",
   "metadata": {},
   "outputs": [],
   "source": [
    "# just file names\n",
    "block_0106_file_names = [file.split(\".\")[0] for file in block_0106_target_ims]"
   ]
  },
  {
   "cell_type": "code",
   "execution_count": null,
   "id": "34e91214-68e8-4014-9d81-3cbd685dc708",
   "metadata": {},
   "outputs": [],
   "source": [
    "block_0106_file_names"
   ]
  },
  {
   "cell_type": "code",
   "execution_count": null,
   "id": "66293690-0412-4b27-adfc-4dd248728a77",
   "metadata": {
    "scrolled": true
   },
   "outputs": [],
   "source": [
    "%%time\n",
    "# Get the density maps\n",
    "block_0106_names = []\n",
    "block_0106_im_shapes = []\n",
    "block_0106_tassel_count = []\n",
    "block_0106_tassel_count_alt = []\n",
    "# capture the density maps here\n",
    "block_0106_convs = []\n",
    "for file in block_0106_file_names:\n",
    "    name, shape, no_tassels, no_tassel_alt, conv = get_density_maps_horizontal(file, block_0106, block_0106)\n",
    "    block_0106_names.append(name)\n",
    "    block_0106_im_shapes.append(shape)\n",
    "    block_0106_tassel_count.append(no_tassels)\n",
    "    block_0106_tassel_count_alt.append(no_tassel_alt)\n",
    "    block_0106_convs.append(conv)"
   ]
  },
  {
   "cell_type": "code",
   "execution_count": null,
   "id": "99921451-d6ac-4106-a3aa-f99b9e19ae90",
   "metadata": {},
   "outputs": [],
   "source": [
    "block_0106_names"
   ]
  },
  {
   "cell_type": "code",
   "execution_count": null,
   "id": "339657e9-a4e6-4ca6-b7ee-86600fca649d",
   "metadata": {},
   "outputs": [],
   "source": [
    "block_0106_im_shapes"
   ]
  },
  {
   "cell_type": "code",
   "execution_count": null,
   "id": "8812d4c3-b24b-4b3d-8b5f-d37905e2879a",
   "metadata": {},
   "outputs": [],
   "source": [
    "block_0106_tassel_count, block_0106_tassel_count_alt"
   ]
  },
  {
   "cell_type": "code",
   "execution_count": null,
   "id": "b2bff72f-bbab-4faf-9b32-1cb001ac2763",
   "metadata": {},
   "outputs": [],
   "source": [
    "np.mean(np.round(block_0106_tassel_count, 0) == np.round(block_0106_tassel_count_alt, 0))"
   ]
  },
  {
   "cell_type": "code",
   "execution_count": null,
   "id": "79eb26bb-ffe0-4d9c-8399-e30280a0eb28",
   "metadata": {},
   "outputs": [],
   "source": [
    "%%time\n",
    "# Get the stacks?\n",
    "block_0106_density_list = []\n",
    "for conv in block_0106_convs:\n",
    "    density_values = create_densities_for_subwindows(conv, 8, 32)\n",
    "    block_0106_density_list.append(density_values)"
   ]
  },
  {
   "cell_type": "code",
   "execution_count": null,
   "id": "702baa1d-4999-4b83-8680-13e41fcdeef5",
   "metadata": {},
   "outputs": [],
   "source": [
    "len(block_0106_density_list)"
   ]
  },
  {
   "cell_type": "code",
   "execution_count": null,
   "id": "7c3ef81f-423f-49c0-a872-e70038a02ff9",
   "metadata": {},
   "outputs": [],
   "source": [
    "len(block_0106_density_list[0])"
   ]
  },
  {
   "cell_type": "code",
   "execution_count": null,
   "id": "148e1663-707a-446e-bdb2-34a348f8b3f5",
   "metadata": {},
   "outputs": [],
   "source": [
    "# need to stack this list\n",
    "block_0106_all_density_stack = np.stack(block_0106_density_list, axis = 1)"
   ]
  },
  {
   "cell_type": "code",
   "execution_count": null,
   "id": "b30aeaec-88e9-4e40-8e69-f019325978e3",
   "metadata": {},
   "outputs": [],
   "source": [
    "block_0106_all_density_stack.shape"
   ]
  },
  {
   "cell_type": "code",
   "execution_count": null,
   "id": "fb0d1513-d389-4879-8b5c-d88e6dea4e87",
   "metadata": {},
   "outputs": [],
   "source": [
    "np.sum(block_0106_all_density_stack, axis = 0)"
   ]
  },
  {
   "cell_type": "code",
   "execution_count": null,
   "id": "3c5af8d2-c626-4eea-bebf-becdc42ebc6f",
   "metadata": {},
   "outputs": [],
   "source": [
    "# save this stack\n",
    "np.save(\"data/Stage2_base_model/Overlapping/test_targets/block_0106_targets.npy\", block_0106_all_density_stack)"
   ]
  },
  {
   "cell_type": "code",
   "execution_count": null,
   "id": "ec397e5b-59e2-4b35-9e4c-c5876ce665d1",
   "metadata": {},
   "outputs": [],
   "source": [
    "np.mean(np.load(\"data/Stage2_base_model/Overlapping/test_targets/block_0106_targets.npy\") == block_0106_all_density_stack)"
   ]
  },
  {
   "cell_type": "code",
   "execution_count": null,
   "id": "489e70c9-f2da-4dc6-aef7-8bd706fe60e4",
   "metadata": {},
   "outputs": [],
   "source": [
    "# np.mean(block_0106_all_density_stack == block_0105_all_density_stack)"
   ]
  },
  {
   "cell_type": "code",
   "execution_count": null,
   "id": "36c1a969-0da1-4558-aaf9-4279b1e88a35",
   "metadata": {},
   "outputs": [],
   "source": [
    "# np.sum(block_0106_all_density_stack[:,0])"
   ]
  },
  {
   "cell_type": "code",
   "execution_count": null,
   "id": "5320c89a-3890-4c51-bdf5-cad23ed6ae6f",
   "metadata": {},
   "outputs": [],
   "source": [
    "# Block 0201"
   ]
  },
  {
   "cell_type": "code",
   "execution_count": null,
   "id": "4d035755-eaa0-4d13-a08a-acb291bdb8d3",
   "metadata": {},
   "outputs": [],
   "source": [
    "block_0201 = '../../Spring_2024/S_lab_TasselNet/Block_7_TN/Block_7_images_and_xml'"
   ]
  },
  {
   "cell_type": "code",
   "execution_count": null,
   "id": "53cc9251-ad4d-4e50-834a-fe035950277b",
   "metadata": {},
   "outputs": [],
   "source": [
    "# get im and xml files\n",
    "block_0201_target_ims, block_0201_target_xmls, block_0201_mean = chose_xml_and_jpeg(block_0201)"
   ]
  },
  {
   "cell_type": "code",
   "execution_count": null,
   "id": "1de4c2d1-ce3c-4eb0-9607-66b30e762d1d",
   "metadata": {},
   "outputs": [],
   "source": [
    "block_0201_target_ims"
   ]
  },
  {
   "cell_type": "code",
   "execution_count": null,
   "id": "13ae3a60-e55d-42f7-a1d8-c7266bb418db",
   "metadata": {},
   "outputs": [],
   "source": [
    "block_0201_target_xmls"
   ]
  },
  {
   "cell_type": "code",
   "execution_count": null,
   "id": "4c8616d9-55f0-4118-b5b8-951c3f74ba1a",
   "metadata": {},
   "outputs": [],
   "source": [
    "block_0201_mean"
   ]
  },
  {
   "cell_type": "code",
   "execution_count": null,
   "id": "62e3f513-c30e-49fa-816c-1139213a7de0",
   "metadata": {},
   "outputs": [],
   "source": [
    "# just file names\n",
    "block_0201_file_names = [file.split(\".\")[0] for file in block_0201_target_ims]"
   ]
  },
  {
   "cell_type": "code",
   "execution_count": null,
   "id": "b51d8dd4-0ab1-464c-95cd-3dba76f5ea4d",
   "metadata": {},
   "outputs": [],
   "source": [
    "block_0201_file_names"
   ]
  },
  {
   "cell_type": "code",
   "execution_count": null,
   "id": "adc3af8c-cbce-4dd9-a165-e65be24e7c8b",
   "metadata": {
    "scrolled": true
   },
   "outputs": [],
   "source": [
    "%%time\n",
    "# Get the density maps\n",
    "block_0201_names = []\n",
    "block_0201_im_shapes = []\n",
    "block_0201_tassel_count = []\n",
    "block_0201_tassel_count_alt = []\n",
    "# capture the density maps here\n",
    "block_0201_convs = []\n",
    "for file in block_0201_file_names:\n",
    "    name, shape, no_tassels, no_tassel_alt, conv = get_density_maps_horizontal(file, block_0201, block_0201)\n",
    "    block_0201_names.append(name)\n",
    "    block_0201_im_shapes.append(shape)\n",
    "    block_0201_tassel_count.append(no_tassels)\n",
    "    block_0201_tassel_count_alt.append(no_tassel_alt)\n",
    "    block_0201_convs.append(conv)"
   ]
  },
  {
   "cell_type": "code",
   "execution_count": null,
   "id": "3a95396a-b853-44bd-b469-d8bd412aac0a",
   "metadata": {},
   "outputs": [],
   "source": [
    "block_0201_names"
   ]
  },
  {
   "cell_type": "code",
   "execution_count": null,
   "id": "ee9d81c8-eeef-40ea-9557-396fdd381184",
   "metadata": {},
   "outputs": [],
   "source": [
    "block_0201_im_shapes"
   ]
  },
  {
   "cell_type": "code",
   "execution_count": null,
   "id": "5dc14089-7c3a-497c-bfd7-6003497b37ea",
   "metadata": {},
   "outputs": [],
   "source": [
    "block_0201_tassel_count, block_0201_tassel_count_alt"
   ]
  },
  {
   "cell_type": "code",
   "execution_count": null,
   "id": "a12d22a6-74f6-407f-aab9-67788aa68a08",
   "metadata": {},
   "outputs": [],
   "source": [
    "np.mean(np.round(block_0201_tassel_count, 0) == np.round(block_0201_tassel_count_alt, 0))"
   ]
  },
  {
   "cell_type": "code",
   "execution_count": null,
   "id": "0b21ae3b-cf0d-471e-b1e3-84a7ca1f6b1d",
   "metadata": {},
   "outputs": [],
   "source": [
    "%%time\n",
    "# Get the stacks?\n",
    "block_0201_density_list = []\n",
    "for conv in block_0201_convs:\n",
    "    density_values = create_densities_for_subwindows(conv, 8, 32)\n",
    "    block_0201_density_list.append(density_values)"
   ]
  },
  {
   "cell_type": "code",
   "execution_count": null,
   "id": "18f51e13-38b7-4608-8a99-0849e9e77d38",
   "metadata": {},
   "outputs": [],
   "source": [
    "len(block_0201_density_list)"
   ]
  },
  {
   "cell_type": "code",
   "execution_count": null,
   "id": "5ecd989d-b209-4978-b1fc-ae6dc1a66406",
   "metadata": {},
   "outputs": [],
   "source": [
    "len(block_0201_density_list[0])"
   ]
  },
  {
   "cell_type": "code",
   "execution_count": null,
   "id": "aa5b4e37-6259-4390-b8af-53ce82c61f37",
   "metadata": {},
   "outputs": [],
   "source": [
    "# need to stack this list\n",
    "block_0201_all_density_stack = np.stack(block_0201_density_list, axis = 1)"
   ]
  },
  {
   "cell_type": "code",
   "execution_count": null,
   "id": "39c3fc8b-ebb2-4432-818b-2604cd4ff2ef",
   "metadata": {},
   "outputs": [],
   "source": [
    "block_0201_all_density_stack.shape"
   ]
  },
  {
   "cell_type": "code",
   "execution_count": null,
   "id": "985264ef-6b17-4d91-9fa5-f1d82544a4a9",
   "metadata": {},
   "outputs": [],
   "source": [
    "np.sum(block_0201_all_density_stack, axis = 0)"
   ]
  },
  {
   "cell_type": "code",
   "execution_count": null,
   "id": "5ce0aa91-7a98-4538-936c-b27bad8111a5",
   "metadata": {},
   "outputs": [],
   "source": [
    "# save this stack\n",
    "np.save(\"data/Stage2_base_model/Overlapping/test_targets/block_0201_targets.npy\", block_0201_all_density_stack)"
   ]
  },
  {
   "cell_type": "code",
   "execution_count": null,
   "id": "e6c3baa3-5b3e-4b27-af1b-69827bfc512d",
   "metadata": {},
   "outputs": [],
   "source": [
    "np.mean(np.load(\"data/Stage2_base_model/Overlapping/test_targets/block_0201_targets.npy\") == block_0201_all_density_stack)"
   ]
  },
  {
   "cell_type": "code",
   "execution_count": null,
   "id": "fba63157-bd90-4fb4-8b8e-3d645a8db7f2",
   "metadata": {},
   "outputs": [],
   "source": [
    "# np.mean(block_0106_all_density_stack == block_0201_all_density_stack)"
   ]
  },
  {
   "cell_type": "code",
   "execution_count": null,
   "id": "f77b18a9-1d03-4e6d-9c31-d1e53fc7f6b3",
   "metadata": {},
   "outputs": [],
   "source": [
    "# np.sum(block_0201_all_density_stack[:,0])"
   ]
  },
  {
   "cell_type": "code",
   "execution_count": null,
   "id": "fbd01e32-7b50-4a10-87e7-e8ae31bf1f60",
   "metadata": {},
   "outputs": [],
   "source": [
    "# Block 0202"
   ]
  },
  {
   "cell_type": "code",
   "execution_count": null,
   "id": "450231c9-3ab9-4404-a35a-11454eed1913",
   "metadata": {},
   "outputs": [],
   "source": [
    "block_0202 = '../../Spring_2024/S_lab_TasselNet/Block_8_TN/Block_8_images_and_xml'"
   ]
  },
  {
   "cell_type": "code",
   "execution_count": null,
   "id": "ce77da23-6821-4326-b08b-3d511656f28e",
   "metadata": {},
   "outputs": [],
   "source": [
    "# get im and xml files\n",
    "block_0202_target_ims, block_0202_target_xmls, block_0202_mean = chose_xml_and_jpeg(block_0202)"
   ]
  },
  {
   "cell_type": "code",
   "execution_count": null,
   "id": "abd3c135-8e59-4a8c-a432-569755626468",
   "metadata": {},
   "outputs": [],
   "source": [
    "block_0202_target_ims"
   ]
  },
  {
   "cell_type": "code",
   "execution_count": null,
   "id": "11ba9136-7f6c-4b58-ba8a-d11872f52b87",
   "metadata": {},
   "outputs": [],
   "source": [
    "block_0202_target_xmls"
   ]
  },
  {
   "cell_type": "code",
   "execution_count": null,
   "id": "153f43a2-c83e-4c1d-8c2e-29f83605afcc",
   "metadata": {},
   "outputs": [],
   "source": [
    "block_0202_mean"
   ]
  },
  {
   "cell_type": "code",
   "execution_count": null,
   "id": "102a64a8-34a2-409b-a6c4-fc688b2d3a95",
   "metadata": {},
   "outputs": [],
   "source": [
    "# just file names\n",
    "block_0202_file_names = [file.split(\".\")[0] for file in block_0202_target_ims]"
   ]
  },
  {
   "cell_type": "code",
   "execution_count": null,
   "id": "d425181e-0241-40aa-9606-96dcaf9bcde3",
   "metadata": {},
   "outputs": [],
   "source": [
    "block_0202_file_names"
   ]
  },
  {
   "cell_type": "code",
   "execution_count": null,
   "id": "fa7ef24b-e750-408e-b3e0-bcbd397fbc1d",
   "metadata": {
    "scrolled": true
   },
   "outputs": [],
   "source": [
    "%%time\n",
    "# Get the density maps\n",
    "block_0202_names = []\n",
    "block_0202_im_shapes = []\n",
    "block_0202_tassel_count = []\n",
    "block_0202_tassel_count_alt = []\n",
    "# capture the density maps here\n",
    "block_0202_convs = []\n",
    "for file in block_0202_file_names:\n",
    "    name, shape, no_tassels, no_tassel_alt, conv = get_density_maps_horizontal(file, block_0202, block_0202)\n",
    "    block_0202_names.append(name)\n",
    "    block_0202_im_shapes.append(shape)\n",
    "    block_0202_tassel_count.append(no_tassels)\n",
    "    block_0202_tassel_count_alt.append(no_tassel_alt)\n",
    "    block_0202_convs.append(conv)"
   ]
  },
  {
   "cell_type": "code",
   "execution_count": null,
   "id": "dfc46ddd-003f-4b62-937e-c5a8feabbe3b",
   "metadata": {},
   "outputs": [],
   "source": [
    "block_0202_names"
   ]
  },
  {
   "cell_type": "code",
   "execution_count": null,
   "id": "1f6ba13c-8f3d-4dc0-ae1f-689134243079",
   "metadata": {},
   "outputs": [],
   "source": [
    "block_0202_im_shapes"
   ]
  },
  {
   "cell_type": "code",
   "execution_count": null,
   "id": "25c3faab-e44b-4a54-bb8d-fbcbe71d7732",
   "metadata": {},
   "outputs": [],
   "source": [
    "block_0202_tassel_count, block_0202_tassel_count_alt"
   ]
  },
  {
   "cell_type": "code",
   "execution_count": null,
   "id": "b3103f0f-8980-491d-af48-02877147f36d",
   "metadata": {},
   "outputs": [],
   "source": [
    "np.mean(np.round(block_0202_tassel_count, 0) == np.round(block_0202_tassel_count_alt, 0))"
   ]
  },
  {
   "cell_type": "code",
   "execution_count": null,
   "id": "cc9a945e-8a9f-466a-a650-6842f0ee8db4",
   "metadata": {},
   "outputs": [],
   "source": [
    "%%time\n",
    "# Get the stacks?\n",
    "block_0202_density_list = []\n",
    "for conv in block_0202_convs:\n",
    "    density_values = create_densities_for_subwindows(conv, 8, 32)\n",
    "    block_0202_density_list.append(density_values)"
   ]
  },
  {
   "cell_type": "code",
   "execution_count": null,
   "id": "1c43b62e-1874-470a-b5eb-f8d382d38bc4",
   "metadata": {},
   "outputs": [],
   "source": [
    "len(block_0202_density_list)"
   ]
  },
  {
   "cell_type": "code",
   "execution_count": null,
   "id": "1764b9e1-8d9e-4d4e-85ef-27c1e8e55b29",
   "metadata": {},
   "outputs": [],
   "source": [
    "len(block_0202_density_list[0])"
   ]
  },
  {
   "cell_type": "code",
   "execution_count": null,
   "id": "e689a158-7ba2-4a91-8735-4574d5584aa4",
   "metadata": {},
   "outputs": [],
   "source": [
    "# need to stack this list\n",
    "block_0202_all_density_stack = np.stack(block_0202_density_list, axis = 1)"
   ]
  },
  {
   "cell_type": "code",
   "execution_count": null,
   "id": "b5fe881f-a332-40b1-96e1-eafe8efee512",
   "metadata": {},
   "outputs": [],
   "source": [
    "block_0202_all_density_stack.shape"
   ]
  },
  {
   "cell_type": "code",
   "execution_count": null,
   "id": "e83770fe-5b5a-4d96-9267-4795ec1e8af3",
   "metadata": {},
   "outputs": [],
   "source": [
    "np.sum(block_0202_all_density_stack, axis = 0)"
   ]
  },
  {
   "cell_type": "code",
   "execution_count": null,
   "id": "6d317215-6b35-4606-bc0b-cf8112e688bb",
   "metadata": {},
   "outputs": [],
   "source": [
    "# save this stack\n",
    "np.save(\"data/Stage2_base_model/Overlapping/test_targets/block_0202_targets.npy\", block_0202_all_density_stack)"
   ]
  },
  {
   "cell_type": "code",
   "execution_count": null,
   "id": "e2e43e67-2aba-4007-a1c5-c14851c7403f",
   "metadata": {},
   "outputs": [],
   "source": [
    "np.mean(np.load(\"data/Stage2_base_model/Overlapping/test_targets/block_0202_targets.npy\") == block_0202_all_density_stack)"
   ]
  },
  {
   "cell_type": "code",
   "execution_count": null,
   "id": "7601f188-1065-46b5-ab66-97bf4407f0cc",
   "metadata": {},
   "outputs": [],
   "source": [
    "# np.mean(block_0202_all_density_stack == block_0201_all_density_stack)"
   ]
  },
  {
   "cell_type": "code",
   "execution_count": null,
   "id": "bddfb815-46fd-4f49-b950-208f3987fd3b",
   "metadata": {},
   "outputs": [],
   "source": [
    "# np.sum(block_0202_all_density_stack[:,0])"
   ]
  },
  {
   "cell_type": "code",
   "execution_count": null,
   "id": "4d496791-f428-4dd8-8151-9a4e1d5b6df2",
   "metadata": {},
   "outputs": [],
   "source": [
    "# Block 0205"
   ]
  },
  {
   "cell_type": "code",
   "execution_count": null,
   "id": "57ba6f19-7ad2-43e4-83f3-7907876af257",
   "metadata": {},
   "outputs": [],
   "source": [
    "block_0205 = '../../Spring_2024/S_lab_TasselNet/Block_11_TN/Block_11_images_and_xml'"
   ]
  },
  {
   "cell_type": "code",
   "execution_count": null,
   "id": "3033acaa-bec1-42c9-ac39-6a3d9e5d38ca",
   "metadata": {},
   "outputs": [],
   "source": [
    "# get im and xml files\n",
    "block_0205_target_ims, block_0205_target_xmls, block_0205_mean = chose_xml_and_jpeg(block_0205)"
   ]
  },
  {
   "cell_type": "code",
   "execution_count": null,
   "id": "2945a2d3-d026-4095-9758-5c1d4fa06bb1",
   "metadata": {},
   "outputs": [],
   "source": [
    "block_0205_target_ims"
   ]
  },
  {
   "cell_type": "code",
   "execution_count": null,
   "id": "33a8e36b-26a6-45f4-adda-33973e9ad23b",
   "metadata": {},
   "outputs": [],
   "source": [
    "block_0205_target_xmls"
   ]
  },
  {
   "cell_type": "code",
   "execution_count": null,
   "id": "753f8b25-1af8-4468-ac3a-d7327de19c1f",
   "metadata": {},
   "outputs": [],
   "source": [
    "block_0205_mean"
   ]
  },
  {
   "cell_type": "code",
   "execution_count": null,
   "id": "15fb0d9f-4e3d-4d6c-ab12-665fc2d22893",
   "metadata": {},
   "outputs": [],
   "source": [
    "# just file names\n",
    "block_0205_file_names = [file.split(\".\")[0] for file in block_0205_target_ims]"
   ]
  },
  {
   "cell_type": "code",
   "execution_count": null,
   "id": "6857e5d7-0c7a-40cf-87e2-1354407bdcbb",
   "metadata": {},
   "outputs": [],
   "source": [
    "block_0205_file_names"
   ]
  },
  {
   "cell_type": "code",
   "execution_count": null,
   "id": "2d16724e-8968-4fc3-aee2-9488e629ff5b",
   "metadata": {
    "scrolled": true
   },
   "outputs": [],
   "source": [
    "%%time\n",
    "# Get the density maps\n",
    "block_0205_names = []\n",
    "block_0205_im_shapes = []\n",
    "block_0205_tassel_count = []\n",
    "block_0205_tassel_count_alt = []\n",
    "# capture the density maps here\n",
    "block_0205_convs = []\n",
    "for file in block_0205_file_names:\n",
    "    name, shape, no_tassels, no_tassel_alt, conv = get_density_maps_horizontal(file, block_0205, block_0205)\n",
    "    block_0205_names.append(name)\n",
    "    block_0205_im_shapes.append(shape)\n",
    "    block_0205_tassel_count.append(no_tassels)\n",
    "    block_0205_tassel_count_alt.append(no_tassel_alt)\n",
    "    block_0205_convs.append(conv)"
   ]
  },
  {
   "cell_type": "code",
   "execution_count": null,
   "id": "5727cae5-907c-4767-b7da-1e4bb0e87646",
   "metadata": {},
   "outputs": [],
   "source": [
    "block_0205_names"
   ]
  },
  {
   "cell_type": "code",
   "execution_count": null,
   "id": "5ef805e0-9982-4ba2-9538-3f75678fbedd",
   "metadata": {},
   "outputs": [],
   "source": [
    "block_0205_im_shapes"
   ]
  },
  {
   "cell_type": "code",
   "execution_count": null,
   "id": "15f16fa8-a268-4859-b7f4-21bf2751f8e1",
   "metadata": {},
   "outputs": [],
   "source": [
    "block_0205_tassel_count, block_0205_tassel_count_alt"
   ]
  },
  {
   "cell_type": "code",
   "execution_count": null,
   "id": "ac078e03-5d72-4abb-95a9-fc3d74a1e74f",
   "metadata": {},
   "outputs": [],
   "source": [
    "np.mean(np.round(block_0205_tassel_count, 0) == np.round(block_0205_tassel_count_alt, 0))"
   ]
  },
  {
   "cell_type": "code",
   "execution_count": null,
   "id": "e662cbed-b147-4272-9ed5-53e78c09e159",
   "metadata": {},
   "outputs": [],
   "source": [
    "%%time\n",
    "# Get the stacks?\n",
    "block_0205_density_list = []\n",
    "for conv in block_0205_convs:\n",
    "    density_values = create_densities_for_subwindows(conv, 8, 32)\n",
    "    block_0205_density_list.append(density_values)"
   ]
  },
  {
   "cell_type": "code",
   "execution_count": null,
   "id": "6e54bd8e-10ce-42bd-b611-7193817e6c1b",
   "metadata": {},
   "outputs": [],
   "source": [
    "len(block_0205_density_list)"
   ]
  },
  {
   "cell_type": "code",
   "execution_count": null,
   "id": "22305124-80d8-44ac-aaf6-871ccb1a6949",
   "metadata": {},
   "outputs": [],
   "source": [
    "len(block_0205_density_list[0])"
   ]
  },
  {
   "cell_type": "code",
   "execution_count": null,
   "id": "e868f784-0162-4a07-b90d-daac68fc94c2",
   "metadata": {},
   "outputs": [],
   "source": [
    "# need to stack this list\n",
    "block_0205_all_density_stack = np.stack(block_0205_density_list, axis = 1)"
   ]
  },
  {
   "cell_type": "code",
   "execution_count": null,
   "id": "acbfee96-c350-4266-a2c9-2e3634c31a70",
   "metadata": {},
   "outputs": [],
   "source": [
    "block_0205_all_density_stack.shape"
   ]
  },
  {
   "cell_type": "code",
   "execution_count": null,
   "id": "af1c4b1b-e303-4d2b-9304-9155f5432d9f",
   "metadata": {},
   "outputs": [],
   "source": [
    "np.sum(block_0205_all_density_stack, axis = 0)"
   ]
  },
  {
   "cell_type": "code",
   "execution_count": null,
   "id": "1e552bd4-ae01-4f15-88dd-f2b103313bf4",
   "metadata": {},
   "outputs": [],
   "source": [
    "# save this stack\n",
    "np.save(\"data/Stage2_base_model/Overlapping/test_targets/block_0205_targets.npy\", block_0205_all_density_stack)"
   ]
  },
  {
   "cell_type": "code",
   "execution_count": null,
   "id": "7744fc6c-cf4d-46ff-8931-9bd3d4320228",
   "metadata": {},
   "outputs": [],
   "source": [
    "np.mean(np.load(\"data/Stage2_base_model/Overlapping/test_targets/block_0205_targets.npy\") == block_0205_all_density_stack)"
   ]
  },
  {
   "cell_type": "code",
   "execution_count": null,
   "id": "1605029a-f239-4cde-8ccb-2dd1e02dd2a6",
   "metadata": {},
   "outputs": [],
   "source": [
    "# np.mean(block_0205_all_density_stack == block_0202_all_density_stack)"
   ]
  },
  {
   "cell_type": "code",
   "execution_count": null,
   "id": "90e1a956-88cb-4de6-bd4d-b1f5895abc01",
   "metadata": {},
   "outputs": [],
   "source": [
    "np.sum(block_0205_all_density_stack[:,0])"
   ]
  },
  {
   "cell_type": "code",
   "execution_count": null,
   "id": "d16ec2be-cf11-47a0-becd-3c104467b8d9",
   "metadata": {},
   "outputs": [],
   "source": [
    "# Block 0206"
   ]
  },
  {
   "cell_type": "code",
   "execution_count": null,
   "id": "d4fd539f-606a-4306-82b5-66269be3d3a7",
   "metadata": {},
   "outputs": [],
   "source": [
    "block_0206 = '../../Spring_2024/S_lab_TasselNet/Block_12_TN/Block_12_images_and_xml'"
   ]
  },
  {
   "cell_type": "code",
   "execution_count": null,
   "id": "91bb66e0-a6dc-449a-9505-5a6a0916ba24",
   "metadata": {},
   "outputs": [],
   "source": [
    "# get im and xml files\n",
    "block_0206_target_ims, block_0206_target_xmls, block_0206_mean = chose_xml_and_jpeg(block_0206)"
   ]
  },
  {
   "cell_type": "code",
   "execution_count": null,
   "id": "ff775f54-749f-42ee-91cf-1310bb8abd2a",
   "metadata": {},
   "outputs": [],
   "source": [
    "block_0206_target_ims"
   ]
  },
  {
   "cell_type": "code",
   "execution_count": null,
   "id": "89adb881-6dfd-4607-aabd-ae5034c3ea1d",
   "metadata": {},
   "outputs": [],
   "source": [
    "block_0206_target_xmls"
   ]
  },
  {
   "cell_type": "code",
   "execution_count": null,
   "id": "9730db5c-a1fc-440e-859e-9631b8699d7d",
   "metadata": {},
   "outputs": [],
   "source": [
    "block_0206_mean"
   ]
  },
  {
   "cell_type": "code",
   "execution_count": null,
   "id": "7827dad4-5761-47e8-ba4e-03034f813e2e",
   "metadata": {},
   "outputs": [],
   "source": [
    "# just file names\n",
    "block_0206_file_names = [file.split(\".\")[0] for file in block_0206_target_ims]"
   ]
  },
  {
   "cell_type": "code",
   "execution_count": null,
   "id": "fdfdf2ca-a98b-4089-90ac-46f070f88960",
   "metadata": {},
   "outputs": [],
   "source": [
    "block_0206_file_names"
   ]
  },
  {
   "cell_type": "code",
   "execution_count": null,
   "id": "c3287a24-9191-4000-90de-717e75103e18",
   "metadata": {
    "scrolled": true
   },
   "outputs": [],
   "source": [
    "%%time\n",
    "# Get the density maps\n",
    "block_0206_names = []\n",
    "block_0206_im_shapes = []\n",
    "block_0206_tassel_count = []\n",
    "block_0206_tassel_count_alt = []\n",
    "# capture the density maps here\n",
    "block_0206_convs = []\n",
    "for file in block_0206_file_names:\n",
    "    name, shape, no_tassels, no_tassel_alt, conv = get_density_maps_horizontal(file, block_0206, block_0206)\n",
    "    block_0206_names.append(name)\n",
    "    block_0206_im_shapes.append(shape)\n",
    "    block_0206_tassel_count.append(no_tassels)\n",
    "    block_0206_tassel_count_alt.append(no_tassel_alt)\n",
    "    block_0206_convs.append(conv)"
   ]
  },
  {
   "cell_type": "code",
   "execution_count": null,
   "id": "8ea8f047-0c84-4a50-968b-ad4fba5a3db8",
   "metadata": {},
   "outputs": [],
   "source": [
    "block_0206_names"
   ]
  },
  {
   "cell_type": "code",
   "execution_count": null,
   "id": "d7018adb-5ed4-46ff-a0f9-98ea3b58767e",
   "metadata": {},
   "outputs": [],
   "source": [
    "block_0206_im_shapes"
   ]
  },
  {
   "cell_type": "code",
   "execution_count": null,
   "id": "9c89de37-f0a3-4141-bf21-9d5249c6f9cb",
   "metadata": {},
   "outputs": [],
   "source": [
    "block_0206_tassel_count, block_0206_tassel_count_alt"
   ]
  },
  {
   "cell_type": "code",
   "execution_count": null,
   "id": "82718b49-e87f-49b4-ac94-fc92e690b434",
   "metadata": {},
   "outputs": [],
   "source": [
    "np.mean(np.round(block_0206_tassel_count, 0) == np.round(block_0206_tassel_count_alt, 0))"
   ]
  },
  {
   "cell_type": "code",
   "execution_count": null,
   "id": "2c955cb8-4724-4a9a-975b-74bab69be5db",
   "metadata": {},
   "outputs": [],
   "source": [
    "%%time\n",
    "# Get the stacks?\n",
    "block_0206_density_list = []\n",
    "for conv in block_0206_convs:\n",
    "    density_values = create_densities_for_subwindows(conv, 8, 32)\n",
    "    block_0206_density_list.append(density_values)"
   ]
  },
  {
   "cell_type": "code",
   "execution_count": null,
   "id": "32024c1a-4f03-4e8a-920a-b2fce8fa1ebf",
   "metadata": {},
   "outputs": [],
   "source": [
    "len(block_0206_density_list)"
   ]
  },
  {
   "cell_type": "code",
   "execution_count": null,
   "id": "ba593632-7d73-4ef0-9cda-25f01de7bbca",
   "metadata": {},
   "outputs": [],
   "source": [
    "len(block_0206_density_list[0])"
   ]
  },
  {
   "cell_type": "code",
   "execution_count": null,
   "id": "930a2b0c-8bc9-498e-a0af-7f6075b5282c",
   "metadata": {},
   "outputs": [],
   "source": [
    "# need to stack this list\n",
    "block_0206_all_density_stack = np.stack(block_0206_density_list, axis = 1)"
   ]
  },
  {
   "cell_type": "code",
   "execution_count": null,
   "id": "d6fa756d-5c3e-47cf-b6dd-d61f2b150f36",
   "metadata": {},
   "outputs": [],
   "source": [
    "block_0206_all_density_stack.shape"
   ]
  },
  {
   "cell_type": "code",
   "execution_count": null,
   "id": "82aec96c-eb32-4a43-9731-044453ca8a32",
   "metadata": {},
   "outputs": [],
   "source": [
    "np.sum(block_0206_all_density_stack, axis = 0)"
   ]
  },
  {
   "cell_type": "code",
   "execution_count": null,
   "id": "a5978383-5f44-4641-b921-4af335c9605f",
   "metadata": {},
   "outputs": [],
   "source": [
    "# save this stack\n",
    "np.save(\"data/Stage2_base_model/Overlapping/test_targets/block_0206_targets.npy\", block_0206_all_density_stack)"
   ]
  },
  {
   "cell_type": "code",
   "execution_count": null,
   "id": "e47b7809-d258-4d9b-bd58-bfee9f3f4023",
   "metadata": {},
   "outputs": [],
   "source": [
    "np.mean(np.load(\"data/Stage2_base_model/Overlapping/test_targets/block_0206_targets.npy\") == block_0206_all_density_stack)"
   ]
  },
  {
   "cell_type": "code",
   "execution_count": null,
   "id": "f5e8aedd-59c7-4a76-94fe-732415ef6b07",
   "metadata": {},
   "outputs": [],
   "source": [
    "# np.mean(block_0206_all_density_stack == block_0205_all_density_stack)"
   ]
  },
  {
   "cell_type": "code",
   "execution_count": null,
   "id": "79342c2f-8659-4269-a61c-6487ea6ecb87",
   "metadata": {},
   "outputs": [],
   "source": [
    "# np.sum(block_0206_all_density_stack[:,0])"
   ]
  },
  {
   "cell_type": "code",
   "execution_count": null,
   "id": "35ea9887-d230-40a1-bcb9-c03537148ad1",
   "metadata": {},
   "outputs": [],
   "source": [
    "# Block 0302"
   ]
  },
  {
   "cell_type": "code",
   "execution_count": null,
   "id": "f9de871e-bd3f-440c-bacc-7063224b6014",
   "metadata": {},
   "outputs": [],
   "source": [
    "block_0302 = '../../Spring_2024/S_lab_TasselNet/Block_14_TN/Block_14_images_and_xml'"
   ]
  },
  {
   "cell_type": "code",
   "execution_count": null,
   "id": "d78e6ec5-b2cb-48be-9bbd-f7eeb787c6d0",
   "metadata": {},
   "outputs": [],
   "source": [
    "# get im and xml files\n",
    "block_0302_target_ims, block_0302_target_xmls, block_0302_mean = chose_xml_and_jpeg(block_0302)"
   ]
  },
  {
   "cell_type": "code",
   "execution_count": null,
   "id": "a9ab6ec6-47ab-42e0-aa8a-df8a9beb3f62",
   "metadata": {},
   "outputs": [],
   "source": [
    "block_0302_target_ims"
   ]
  },
  {
   "cell_type": "code",
   "execution_count": null,
   "id": "a10317d2-4714-4fe4-bd41-2507d6c3ac09",
   "metadata": {},
   "outputs": [],
   "source": [
    "block_0302_target_xmls"
   ]
  },
  {
   "cell_type": "code",
   "execution_count": null,
   "id": "1a032d2d-0fec-4b06-8d48-09ddfd4811f9",
   "metadata": {},
   "outputs": [],
   "source": [
    "block_0302_mean"
   ]
  },
  {
   "cell_type": "code",
   "execution_count": null,
   "id": "46fa3dcd-95b9-49bf-8283-a33dd50ec7c1",
   "metadata": {},
   "outputs": [],
   "source": [
    "# just file names\n",
    "block_0302_file_names = [file.split(\".\")[0] for file in block_0302_target_ims]"
   ]
  },
  {
   "cell_type": "code",
   "execution_count": null,
   "id": "70e8e017-c3fe-4187-9901-3d85eefcc2d1",
   "metadata": {},
   "outputs": [],
   "source": [
    "block_0302_file_names"
   ]
  },
  {
   "cell_type": "code",
   "execution_count": null,
   "id": "e29b8d36-aa85-46b4-be0a-aef6a37712b5",
   "metadata": {
    "scrolled": true
   },
   "outputs": [],
   "source": [
    "%%time\n",
    "# Get the density maps\n",
    "block_0302_names = []\n",
    "block_0302_im_shapes = []\n",
    "block_0302_tassel_count = []\n",
    "block_0302_tassel_count_alt = []\n",
    "# capture the density maps here\n",
    "block_0302_convs = []\n",
    "for file in block_0302_file_names:\n",
    "    name, shape, no_tassels, no_tassel_alt, conv = get_density_maps_horizontal(file, block_0302, block_0302)\n",
    "    block_0302_names.append(name)\n",
    "    block_0302_im_shapes.append(shape)\n",
    "    block_0302_tassel_count.append(no_tassels)\n",
    "    block_0302_tassel_count_alt.append(no_tassel_alt)\n",
    "    block_0302_convs.append(conv)"
   ]
  },
  {
   "cell_type": "code",
   "execution_count": null,
   "id": "e97c7054-91b3-4df4-9d78-69f73d39f3b4",
   "metadata": {},
   "outputs": [],
   "source": [
    "block_0302_names"
   ]
  },
  {
   "cell_type": "code",
   "execution_count": null,
   "id": "1b369a85-559f-4c78-ba2e-fff7f54f50ae",
   "metadata": {},
   "outputs": [],
   "source": [
    "block_0302_im_shapes"
   ]
  },
  {
   "cell_type": "code",
   "execution_count": null,
   "id": "e3a31a0b-be73-4ec5-a464-6bad458d732e",
   "metadata": {},
   "outputs": [],
   "source": [
    "block_0302_tassel_count, block_0302_tassel_count_alt"
   ]
  },
  {
   "cell_type": "code",
   "execution_count": null,
   "id": "bff74c1a-3dc3-414e-be78-ec7c4d488a7b",
   "metadata": {},
   "outputs": [],
   "source": [
    "np.mean(np.round(block_0302_tassel_count, 0) == np.round(block_0302_tassel_count_alt, 0))"
   ]
  },
  {
   "cell_type": "code",
   "execution_count": null,
   "id": "cb2e71df-1a2d-4b4f-8c3b-faf37c661dd4",
   "metadata": {},
   "outputs": [],
   "source": [
    "%%time\n",
    "# Get the stacks?\n",
    "block_0302_density_list = []\n",
    "for conv in block_0302_convs:\n",
    "    density_values = create_densities_for_subwindows(conv, 8, 32)\n",
    "    block_0302_density_list.append(density_values)"
   ]
  },
  {
   "cell_type": "code",
   "execution_count": null,
   "id": "5a4be133-8962-4433-ba40-a62de41b8714",
   "metadata": {},
   "outputs": [],
   "source": [
    "len(block_0302_density_list)"
   ]
  },
  {
   "cell_type": "code",
   "execution_count": null,
   "id": "263b28d2-c359-4158-b343-97226be823fe",
   "metadata": {},
   "outputs": [],
   "source": [
    "len(block_0302_density_list[0])"
   ]
  },
  {
   "cell_type": "code",
   "execution_count": null,
   "id": "0e16faff-0ce8-477f-88da-0a04df1e5b9f",
   "metadata": {},
   "outputs": [],
   "source": [
    "# need to stack this list\n",
    "block_0302_all_density_stack = np.stack(block_0302_density_list, axis = 1)"
   ]
  },
  {
   "cell_type": "code",
   "execution_count": null,
   "id": "6b19af81-16ea-4ccf-ade7-b699ca2bee5a",
   "metadata": {},
   "outputs": [],
   "source": [
    "block_0302_all_density_stack.shape"
   ]
  },
  {
   "cell_type": "code",
   "execution_count": null,
   "id": "675942b7-6aa0-4646-aa41-c293366b793d",
   "metadata": {},
   "outputs": [],
   "source": [
    "np.sum(block_0302_all_density_stack, axis = 0)"
   ]
  },
  {
   "cell_type": "code",
   "execution_count": null,
   "id": "1081058c-65c5-44a7-989a-c1079f4ff609",
   "metadata": {},
   "outputs": [],
   "source": [
    "# save this stack\n",
    "np.save(\"data/Stage2_base_model/Overlapping/test_targets/block_0302_targets.npy\", block_0302_all_density_stack)"
   ]
  },
  {
   "cell_type": "code",
   "execution_count": null,
   "id": "5762d79b-46a9-4240-a331-4738364897ac",
   "metadata": {},
   "outputs": [],
   "source": [
    "np.mean(np.load(\"data/Stage2_base_model/Overlapping/test_targets/block_0302_targets.npy\") == block_0302_all_density_stack)"
   ]
  },
  {
   "cell_type": "code",
   "execution_count": null,
   "id": "7a94dab6-dcbd-4765-a093-c1f712acf8b6",
   "metadata": {},
   "outputs": [],
   "source": [
    "# np.mean(block_0302_all_density_stack == block_0206_all_density_stack)"
   ]
  },
  {
   "cell_type": "code",
   "execution_count": null,
   "id": "75085290-f190-4505-88f7-277ee6579b6a",
   "metadata": {},
   "outputs": [],
   "source": [
    "# np.sum(block_0302_all_density_stack[:,0])"
   ]
  },
  {
   "cell_type": "code",
   "execution_count": null,
   "id": "ad541c84-c295-45d2-8b3f-bf4c63631111",
   "metadata": {},
   "outputs": [],
   "source": [
    "# Block 0303"
   ]
  },
  {
   "cell_type": "code",
   "execution_count": null,
   "id": "311b6e8e-0032-4065-b71d-b21cedab0c02",
   "metadata": {},
   "outputs": [],
   "source": [
    "block_0303 = '../../Spring_2024/S_lab_TasselNet/Block_15_TN/Block_15_images_and_xml'"
   ]
  },
  {
   "cell_type": "code",
   "execution_count": null,
   "id": "d871d52f-69cb-4c60-a7c9-52ab599ed819",
   "metadata": {},
   "outputs": [],
   "source": [
    "# get im and xml files\n",
    "block_0303_target_ims, block_0303_target_xmls, block_0303_mean = chose_xml_and_jpeg(block_0303)"
   ]
  },
  {
   "cell_type": "code",
   "execution_count": null,
   "id": "62d773ba-2948-47f6-b120-a91572a18545",
   "metadata": {},
   "outputs": [],
   "source": [
    "block_0303_target_ims"
   ]
  },
  {
   "cell_type": "code",
   "execution_count": null,
   "id": "80f15c3c-8af4-4308-81fe-d8fe0cdaccb6",
   "metadata": {},
   "outputs": [],
   "source": [
    "block_0303_target_xmls"
   ]
  },
  {
   "cell_type": "code",
   "execution_count": null,
   "id": "c65b6d7b-aadb-4bc0-a23c-8c19acd15e91",
   "metadata": {},
   "outputs": [],
   "source": [
    "block_0303_mean"
   ]
  },
  {
   "cell_type": "code",
   "execution_count": null,
   "id": "79471ed6-8aec-43ae-b1ea-04dff9f73697",
   "metadata": {},
   "outputs": [],
   "source": [
    "# just file names\n",
    "block_0303_file_names = [file.split(\".\")[0] for file in block_0303_target_ims]"
   ]
  },
  {
   "cell_type": "code",
   "execution_count": null,
   "id": "93903ad5-9fb7-43dd-89a5-eb239a287819",
   "metadata": {},
   "outputs": [],
   "source": [
    "block_0303_file_names"
   ]
  },
  {
   "cell_type": "code",
   "execution_count": null,
   "id": "0e9b6a3b-d3df-44a6-a438-cf7e322a5b4e",
   "metadata": {
    "scrolled": true
   },
   "outputs": [],
   "source": [
    "%%time\n",
    "# Get the density maps\n",
    "block_0303_names = []\n",
    "block_0303_im_shapes = []\n",
    "block_0303_tassel_count = []\n",
    "block_0303_tassel_count_alt = []\n",
    "# capture the density maps here\n",
    "block_0303_convs = []\n",
    "for file in block_0303_file_names:\n",
    "    name, shape, no_tassels, no_tassel_alt, conv = get_density_maps_horizontal(file, block_0303, block_0303)\n",
    "    block_0303_names.append(name)\n",
    "    block_0303_im_shapes.append(shape)\n",
    "    block_0303_tassel_count.append(no_tassels)\n",
    "    block_0303_tassel_count_alt.append(no_tassel_alt)\n",
    "    block_0303_convs.append(conv)"
   ]
  },
  {
   "cell_type": "code",
   "execution_count": null,
   "id": "d9ec0532-ede0-4dc1-b1b7-3f68e1def59c",
   "metadata": {},
   "outputs": [],
   "source": [
    "block_0303_names"
   ]
  },
  {
   "cell_type": "code",
   "execution_count": null,
   "id": "ce5dbfcc-ac57-433e-80a1-814b81ba612f",
   "metadata": {},
   "outputs": [],
   "source": [
    "block_0303_im_shapes"
   ]
  },
  {
   "cell_type": "code",
   "execution_count": null,
   "id": "fa41063b-f715-410c-9d6b-93ccac560942",
   "metadata": {},
   "outputs": [],
   "source": [
    "block_0303_tassel_count, block_0303_tassel_count_alt"
   ]
  },
  {
   "cell_type": "code",
   "execution_count": null,
   "id": "e33f84ca-a55b-4d4c-b029-2b4a7ce94948",
   "metadata": {},
   "outputs": [],
   "source": [
    "np.mean(np.round(block_0303_tassel_count, 0) == np.round(block_0303_tassel_count_alt, 0))"
   ]
  },
  {
   "cell_type": "code",
   "execution_count": null,
   "id": "3629a997-5259-4f60-952f-16a1d06d2fe9",
   "metadata": {},
   "outputs": [],
   "source": [
    "%%time\n",
    "# Get the stacks?\n",
    "block_0303_density_list = []\n",
    "for conv in block_0303_convs:\n",
    "    density_values = create_densities_for_subwindows(conv, 8, 32)\n",
    "    block_0303_density_list.append(density_values)"
   ]
  },
  {
   "cell_type": "code",
   "execution_count": null,
   "id": "46785d4a-1c02-478e-8ee9-94cd3ada819b",
   "metadata": {},
   "outputs": [],
   "source": [
    "len(block_0303_density_list)"
   ]
  },
  {
   "cell_type": "code",
   "execution_count": null,
   "id": "3e4b8312-0bc7-4cb1-a146-0f3a349d31f5",
   "metadata": {},
   "outputs": [],
   "source": [
    "len(block_0303_density_list[0])"
   ]
  },
  {
   "cell_type": "code",
   "execution_count": null,
   "id": "270ec987-593b-4ee7-ad16-0603bee82194",
   "metadata": {},
   "outputs": [],
   "source": [
    "# need to stack this list\n",
    "block_0303_all_density_stack = np.stack(block_0303_density_list, axis = 1)"
   ]
  },
  {
   "cell_type": "code",
   "execution_count": null,
   "id": "8b02e1c8-9179-48b7-a6c2-2a51672d7226",
   "metadata": {},
   "outputs": [],
   "source": [
    "block_0303_all_density_stack.shape"
   ]
  },
  {
   "cell_type": "code",
   "execution_count": null,
   "id": "5c0cb2e3-4d16-4769-a869-82e3cd8c48cd",
   "metadata": {},
   "outputs": [],
   "source": [
    "np.sum(block_0303_all_density_stack, axis = 0)"
   ]
  },
  {
   "cell_type": "code",
   "execution_count": null,
   "id": "01ffacb0-3953-43cb-a5d6-e40065701155",
   "metadata": {},
   "outputs": [],
   "source": [
    "# save this stack\n",
    "np.save(\"data/Stage2_base_model/Overlapping/test_targets/block_0303_targets.npy\", block_0303_all_density_stack)"
   ]
  },
  {
   "cell_type": "code",
   "execution_count": null,
   "id": "f5296cfd-1010-4212-8fa5-c0abef49cfe8",
   "metadata": {},
   "outputs": [],
   "source": [
    "np.mean(np.load(\"data/Stage2_base_model/Overlapping/test_targets/block_0303_targets.npy\") == block_0303_all_density_stack)"
   ]
  },
  {
   "cell_type": "code",
   "execution_count": null,
   "id": "a7b9d5dd-fb06-4c7e-a84a-b2e421540ebd",
   "metadata": {},
   "outputs": [],
   "source": [
    "# np.mean(block_0303_all_density_stack == block_0206_all_density_stack)"
   ]
  },
  {
   "cell_type": "code",
   "execution_count": null,
   "id": "a5aa80bf-d990-4961-bb59-eee2774f98da",
   "metadata": {},
   "outputs": [],
   "source": [
    "# np.sum(block_0303_all_density_stack[:,0])"
   ]
  },
  {
   "cell_type": "code",
   "execution_count": null,
   "id": "98124cf3-ce93-4d84-ad42-6f6917b4feea",
   "metadata": {},
   "outputs": [],
   "source": [
    "# Block 0304"
   ]
  },
  {
   "cell_type": "code",
   "execution_count": null,
   "id": "99508b7f-693b-4160-9220-c3d729784a27",
   "metadata": {},
   "outputs": [],
   "source": [
    "block_0304 = '../../Spring_2024/S_lab_TasselNet/Block_16_TN/Block_16_images_and_xml'"
   ]
  },
  {
   "cell_type": "code",
   "execution_count": null,
   "id": "9484eb8d-35be-4b7d-a89a-13579f8f9c58",
   "metadata": {},
   "outputs": [],
   "source": [
    "# get im and xml files\n",
    "block_0304_target_ims, block_0304_target_xmls, block_0304_mean = chose_xml_and_jpeg(block_0304)"
   ]
  },
  {
   "cell_type": "code",
   "execution_count": null,
   "id": "5443200d-ca5b-40c2-956e-853a858716c2",
   "metadata": {},
   "outputs": [],
   "source": [
    "block_0304_target_ims"
   ]
  },
  {
   "cell_type": "code",
   "execution_count": null,
   "id": "003b993c-56be-4938-b446-f72611725b1f",
   "metadata": {},
   "outputs": [],
   "source": [
    "block_0304_target_xmls"
   ]
  },
  {
   "cell_type": "code",
   "execution_count": null,
   "id": "f0bad8d1-3db1-4eea-950a-a8289d21f2cf",
   "metadata": {},
   "outputs": [],
   "source": [
    "block_0304_mean"
   ]
  },
  {
   "cell_type": "code",
   "execution_count": null,
   "id": "c8620732-d4e7-49ac-bc25-bab3e78afdf6",
   "metadata": {},
   "outputs": [],
   "source": [
    "# just file names\n",
    "block_0304_file_names = [file.split(\".\")[0] for file in block_0304_target_ims]"
   ]
  },
  {
   "cell_type": "code",
   "execution_count": null,
   "id": "17b2ccae-4293-41f9-9ffa-cc2c27acde4b",
   "metadata": {},
   "outputs": [],
   "source": [
    "block_0304_file_names"
   ]
  },
  {
   "cell_type": "code",
   "execution_count": null,
   "id": "fc9fe0b0-50f8-47f1-a5be-8a974f10de99",
   "metadata": {
    "scrolled": true
   },
   "outputs": [],
   "source": [
    "%%time\n",
    "# Get the density maps\n",
    "block_0304_names = []\n",
    "block_0304_im_shapes = []\n",
    "block_0304_tassel_count = []\n",
    "block_0304_tassel_count_alt = []\n",
    "# capture the density maps here\n",
    "block_0304_convs = []\n",
    "for file in block_0304_file_names:\n",
    "    name, shape, no_tassels, no_tassel_alt, conv = get_density_maps_horizontal(file, block_0304, block_0304)\n",
    "    block_0304_names.append(name)\n",
    "    block_0304_im_shapes.append(shape)\n",
    "    block_0304_tassel_count.append(no_tassels)\n",
    "    block_0304_tassel_count_alt.append(no_tassel_alt)\n",
    "    block_0304_convs.append(conv)"
   ]
  },
  {
   "cell_type": "code",
   "execution_count": null,
   "id": "883f9eda-d9c2-4269-b7c3-fc7c83968ddb",
   "metadata": {},
   "outputs": [],
   "source": [
    "block_0304_names"
   ]
  },
  {
   "cell_type": "code",
   "execution_count": null,
   "id": "6ab73735-41e5-4808-a7a8-e38cbf8daf28",
   "metadata": {},
   "outputs": [],
   "source": [
    "block_0304_im_shapes"
   ]
  },
  {
   "cell_type": "code",
   "execution_count": null,
   "id": "c3223fcc-9ead-487d-8f25-488ec99de8e6",
   "metadata": {},
   "outputs": [],
   "source": [
    "block_0304_tassel_count, block_0304_tassel_count_alt"
   ]
  },
  {
   "cell_type": "code",
   "execution_count": null,
   "id": "3c1f8fe1-8cf8-4c7b-841e-1c9f586b8683",
   "metadata": {},
   "outputs": [],
   "source": [
    "np.mean(np.round(block_0304_tassel_count, 0) == np.round(block_0304_tassel_count_alt, 0))"
   ]
  },
  {
   "cell_type": "code",
   "execution_count": null,
   "id": "7d590fac-d2c2-4b79-b054-4bed4c767e58",
   "metadata": {},
   "outputs": [],
   "source": [
    "%%time\n",
    "# Get the stacks?\n",
    "block_0304_density_list = []\n",
    "for conv in block_0304_convs:\n",
    "    density_values = create_densities_for_subwindows(conv, 8, 32)\n",
    "    block_0304_density_list.append(density_values)"
   ]
  },
  {
   "cell_type": "code",
   "execution_count": null,
   "id": "112ac4b1-2a9f-4ce5-8e22-aea9a13239df",
   "metadata": {},
   "outputs": [],
   "source": [
    "len(block_0304_density_list)"
   ]
  },
  {
   "cell_type": "code",
   "execution_count": null,
   "id": "73519b43-fa18-4f71-bf95-579c0be3b00c",
   "metadata": {},
   "outputs": [],
   "source": [
    "len(block_0304_density_list[0])"
   ]
  },
  {
   "cell_type": "code",
   "execution_count": null,
   "id": "e3cf1de1-b1ec-47cc-9b2c-2813a5e3f622",
   "metadata": {},
   "outputs": [],
   "source": [
    "# need to stack this list\n",
    "block_0304_all_density_stack = np.stack(block_0304_density_list, axis = 1)"
   ]
  },
  {
   "cell_type": "code",
   "execution_count": null,
   "id": "f56060e1-b8a3-444a-8de4-d5ce90af96cf",
   "metadata": {},
   "outputs": [],
   "source": [
    "block_0304_all_density_stack.shape"
   ]
  },
  {
   "cell_type": "code",
   "execution_count": null,
   "id": "4f824c77-66cb-40ad-aa32-dfc12d630525",
   "metadata": {},
   "outputs": [],
   "source": [
    "np.sum(block_0304_all_density_stack, axis = 0)"
   ]
  },
  {
   "cell_type": "code",
   "execution_count": null,
   "id": "e3eddf25-3045-4d31-9060-6d611df5029e",
   "metadata": {},
   "outputs": [],
   "source": [
    "# save this stack\n",
    "np.save(\"data/Stage2_base_model/Overlapping/test_targets/block_0304_targets.npy\", block_0304_all_density_stack)"
   ]
  },
  {
   "cell_type": "code",
   "execution_count": null,
   "id": "e0f3e73e-65e1-4494-8ced-db69848c9fa1",
   "metadata": {},
   "outputs": [],
   "source": [
    "np.mean(np.load(\"data/Stage2_base_model/Overlapping/test_targets/block_0304_targets.npy\") == block_0304_all_density_stack)"
   ]
  },
  {
   "cell_type": "code",
   "execution_count": null,
   "id": "42617188-24e4-45f1-ac1e-8ed8ed1dffdc",
   "metadata": {},
   "outputs": [],
   "source": [
    "# np.mean(block_0303_all_density_stack == block_0304_all_density_stack)"
   ]
  },
  {
   "cell_type": "code",
   "execution_count": null,
   "id": "7d15b380-3529-43b1-b426-c0957181b2a1",
   "metadata": {},
   "outputs": [],
   "source": [
    "# np.sum(block_0304_all_density_stack[:,0])"
   ]
  },
  {
   "cell_type": "code",
   "execution_count": null,
   "id": "7fc9211d-04b3-4559-8a5e-c62838879132",
   "metadata": {},
   "outputs": [],
   "source": [
    "# Block 0305"
   ]
  },
  {
   "cell_type": "code",
   "execution_count": null,
   "id": "d659b010-c8c6-4a3c-9d43-4b32501a4696",
   "metadata": {},
   "outputs": [],
   "source": [
    "block_0305 = '../../Spring_2024/S_lab_TasselNet/Block_17_TN/Block_17_images_and_xml'"
   ]
  },
  {
   "cell_type": "code",
   "execution_count": null,
   "id": "c6bf9009-d4b2-4d06-9d6a-9237938c5c86",
   "metadata": {},
   "outputs": [],
   "source": [
    "# get im and xml files\n",
    "block_0305_target_ims, block_0305_target_xmls, block_0305_mean = chose_xml_and_jpeg(block_0305)"
   ]
  },
  {
   "cell_type": "code",
   "execution_count": null,
   "id": "fe9c0d91-67b6-4270-ba28-db95db968382",
   "metadata": {},
   "outputs": [],
   "source": [
    "block_0305_target_ims"
   ]
  },
  {
   "cell_type": "code",
   "execution_count": null,
   "id": "29659c1e-6920-4484-b7f3-47934a97ee9e",
   "metadata": {},
   "outputs": [],
   "source": [
    "block_0305_target_xmls"
   ]
  },
  {
   "cell_type": "code",
   "execution_count": null,
   "id": "b40ea7f7-021c-43a4-9b78-7410d7e69a45",
   "metadata": {},
   "outputs": [],
   "source": [
    "block_0305_mean"
   ]
  },
  {
   "cell_type": "code",
   "execution_count": null,
   "id": "9fec03be-0758-4cec-bd96-0659297d08aa",
   "metadata": {},
   "outputs": [],
   "source": [
    "# just file names\n",
    "block_0305_file_names = [file.split(\".\")[0] for file in block_0305_target_ims]"
   ]
  },
  {
   "cell_type": "code",
   "execution_count": null,
   "id": "7736cf1f-6c24-45f6-9da5-f37463e30eb3",
   "metadata": {},
   "outputs": [],
   "source": [
    "block_0305_file_names"
   ]
  },
  {
   "cell_type": "code",
   "execution_count": null,
   "id": "1cbc96b2-4e9b-4eff-9d8a-7714b3bf714e",
   "metadata": {
    "scrolled": true
   },
   "outputs": [],
   "source": [
    "%%time\n",
    "# Get the density maps\n",
    "block_0305_names = []\n",
    "block_0305_im_shapes = []\n",
    "block_0305_tassel_count = []\n",
    "block_0305_tassel_count_alt = []\n",
    "# capture the density maps here\n",
    "block_0305_convs = []\n",
    "for file in block_0305_file_names:\n",
    "    name, shape, no_tassels, no_tassel_alt, conv = get_density_maps_horizontal(file, block_0305, block_0305)\n",
    "    block_0305_names.append(name)\n",
    "    block_0305_im_shapes.append(shape)\n",
    "    block_0305_tassel_count.append(no_tassels)\n",
    "    block_0305_tassel_count_alt.append(no_tassel_alt)\n",
    "    block_0305_convs.append(conv)"
   ]
  },
  {
   "cell_type": "code",
   "execution_count": null,
   "id": "4a19ce5a-a96f-4114-a061-6f077dbab668",
   "metadata": {},
   "outputs": [],
   "source": [
    "block_0305_names"
   ]
  },
  {
   "cell_type": "code",
   "execution_count": null,
   "id": "7a331f51-92b4-4f27-9879-cdd2551884f8",
   "metadata": {},
   "outputs": [],
   "source": [
    "block_0305_im_shapes"
   ]
  },
  {
   "cell_type": "code",
   "execution_count": null,
   "id": "8c5efc68-dbe9-4d5e-b20a-133ed6f0352e",
   "metadata": {},
   "outputs": [],
   "source": [
    "block_0305_tassel_count, block_0305_tassel_count_alt"
   ]
  },
  {
   "cell_type": "code",
   "execution_count": null,
   "id": "54e1d65e-0bfe-410b-b4db-b83f5644d897",
   "metadata": {},
   "outputs": [],
   "source": [
    "np.mean(np.round(block_0305_tassel_count, 0) == np.round(block_0305_tassel_count_alt, 0))"
   ]
  },
  {
   "cell_type": "code",
   "execution_count": null,
   "id": "725a0bcc-7a1a-4eff-bd8b-0afe31d17203",
   "metadata": {},
   "outputs": [],
   "source": [
    "%%time\n",
    "# Get the stacks?\n",
    "block_0305_density_list = []\n",
    "for conv in block_0305_convs:\n",
    "    density_values = create_densities_for_subwindows(conv, 8, 32)\n",
    "    block_0305_density_list.append(density_values)"
   ]
  },
  {
   "cell_type": "code",
   "execution_count": null,
   "id": "770b0d80-c0ac-4c92-80c6-3831d98e4cf7",
   "metadata": {},
   "outputs": [],
   "source": [
    "len(block_0305_density_list)"
   ]
  },
  {
   "cell_type": "code",
   "execution_count": null,
   "id": "320e8a74-2748-47ae-a27a-55e9f2295ba0",
   "metadata": {},
   "outputs": [],
   "source": [
    "len(block_0305_density_list[0])"
   ]
  },
  {
   "cell_type": "code",
   "execution_count": null,
   "id": "6bc2881d-e428-4ae7-ac5c-4b1e5ebf2c7b",
   "metadata": {},
   "outputs": [],
   "source": [
    "# need to stack this list\n",
    "block_0305_all_density_stack = np.stack(block_0305_density_list, axis = 1)"
   ]
  },
  {
   "cell_type": "code",
   "execution_count": null,
   "id": "ab046062-63ed-486b-9ce1-36d635272889",
   "metadata": {},
   "outputs": [],
   "source": [
    "block_0305_all_density_stack.shape"
   ]
  },
  {
   "cell_type": "code",
   "execution_count": null,
   "id": "61564033-2fa0-40da-9a48-32a9e7a15187",
   "metadata": {},
   "outputs": [],
   "source": [
    "np.sum(block_0305_all_density_stack, axis = 0)"
   ]
  },
  {
   "cell_type": "code",
   "execution_count": null,
   "id": "95baf371-abf9-4eab-b382-8625b38f1c94",
   "metadata": {},
   "outputs": [],
   "source": [
    "# save this stack\n",
    "np.save(\"data/Stage2_base_model/Overlapping/test_targets/block_0305_targets.npy\", block_0305_all_density_stack)"
   ]
  },
  {
   "cell_type": "code",
   "execution_count": null,
   "id": "16ff2c8f-127f-43d4-bf62-837798b50b94",
   "metadata": {},
   "outputs": [],
   "source": [
    "np.mean(np.load(\"data/Stage2_base_model/Overlapping/test_targets/block_0305_targets.npy\") == block_0305_all_density_stack)"
   ]
  },
  {
   "cell_type": "code",
   "execution_count": null,
   "id": "bdc141d6-1d74-4e95-9746-31261d01d918",
   "metadata": {},
   "outputs": [],
   "source": [
    "# np.mean(block_0305_all_density_stack == block_0304_all_density_stack)"
   ]
  },
  {
   "cell_type": "code",
   "execution_count": null,
   "id": "c4749bde-f544-4157-924d-09c1c00f837f",
   "metadata": {},
   "outputs": [],
   "source": [
    "# np.sum(block_0305_all_density_stack[:,0])"
   ]
  },
  {
   "cell_type": "code",
   "execution_count": null,
   "id": "99bd9878-12b0-413c-8900-8ffd3fef9c4f",
   "metadata": {},
   "outputs": [],
   "source": [
    "# Block 0306"
   ]
  },
  {
   "cell_type": "code",
   "execution_count": null,
   "id": "9b8aba20-8a56-4523-9087-3d5441961c86",
   "metadata": {},
   "outputs": [],
   "source": [
    "block_0306 = '../../Spring_2024/S_lab_TasselNet/Block_18_TN/Block_18_images_and_xml'"
   ]
  },
  {
   "cell_type": "code",
   "execution_count": null,
   "id": "76193bb4-35dd-4ab3-b593-82a141f66c17",
   "metadata": {},
   "outputs": [],
   "source": [
    "# get im and xml files\n",
    "block_0306_target_ims, block_0306_target_xmls, block_0306_mean = chose_xml_and_jpeg(block_0306)"
   ]
  },
  {
   "cell_type": "code",
   "execution_count": null,
   "id": "eefac3a6-4996-4d2d-85bc-4ab768e7c944",
   "metadata": {},
   "outputs": [],
   "source": [
    "block_0306_target_ims"
   ]
  },
  {
   "cell_type": "code",
   "execution_count": null,
   "id": "813f2e50-9ef1-4fd2-ac55-c31cb23bad3d",
   "metadata": {},
   "outputs": [],
   "source": [
    "block_0306_target_xmls"
   ]
  },
  {
   "cell_type": "code",
   "execution_count": null,
   "id": "8ce5be9d-b242-4155-b455-84107954587c",
   "metadata": {},
   "outputs": [],
   "source": [
    "block_0306_mean"
   ]
  },
  {
   "cell_type": "code",
   "execution_count": null,
   "id": "10dd4c9e-c22d-4deb-bbb8-1145ae8fd6aa",
   "metadata": {},
   "outputs": [],
   "source": [
    "# just file names\n",
    "block_0306_file_names = [file.split(\".\")[0] for file in block_0306_target_ims]"
   ]
  },
  {
   "cell_type": "code",
   "execution_count": null,
   "id": "4d1daad8-083a-43b1-9ca0-5076892d34e9",
   "metadata": {},
   "outputs": [],
   "source": [
    "block_0306_file_names"
   ]
  },
  {
   "cell_type": "code",
   "execution_count": null,
   "id": "09017556-01ab-4182-a9e0-53b93d45834a",
   "metadata": {
    "scrolled": true
   },
   "outputs": [],
   "source": [
    "%%time\n",
    "# Get the density maps\n",
    "block_0306_names = []\n",
    "block_0306_im_shapes = []\n",
    "block_0306_tassel_count = []\n",
    "block_0306_tassel_count_alt = []\n",
    "# capture the density maps here\n",
    "block_0306_convs = []\n",
    "for file in block_0306_file_names:\n",
    "    name, shape, no_tassels, no_tassel_alt, conv = get_density_maps_horizontal(file, block_0306, block_0306)\n",
    "    block_0306_names.append(name)\n",
    "    block_0306_im_shapes.append(shape)\n",
    "    block_0306_tassel_count.append(no_tassels)\n",
    "    block_0306_tassel_count_alt.append(no_tassel_alt)\n",
    "    block_0306_convs.append(conv)"
   ]
  },
  {
   "cell_type": "code",
   "execution_count": null,
   "id": "475693a0-51ac-408a-a0d7-d3e0aa56bd9b",
   "metadata": {},
   "outputs": [],
   "source": [
    "block_0306_names"
   ]
  },
  {
   "cell_type": "code",
   "execution_count": null,
   "id": "ca3531cb-68d2-491f-a1da-1a4e095f4790",
   "metadata": {},
   "outputs": [],
   "source": [
    "block_0306_im_shapes"
   ]
  },
  {
   "cell_type": "code",
   "execution_count": null,
   "id": "5cc8cfc6-e54a-4285-ae5b-7e8288399ba2",
   "metadata": {},
   "outputs": [],
   "source": [
    "block_0306_tassel_count, block_0306_tassel_count_alt"
   ]
  },
  {
   "cell_type": "code",
   "execution_count": null,
   "id": "8d004c1f-e8eb-4086-b599-a3e95e7906f2",
   "metadata": {},
   "outputs": [],
   "source": [
    "np.mean(np.round(block_0306_tassel_count, 0) == np.round(block_0306_tassel_count_alt, 0))"
   ]
  },
  {
   "cell_type": "code",
   "execution_count": null,
   "id": "db203fd7-a59e-4124-bd4e-cf0f29bae8e6",
   "metadata": {},
   "outputs": [],
   "source": [
    "%%time\n",
    "# Get the stacks?\n",
    "block_0306_density_list = []\n",
    "for conv in block_0306_convs:\n",
    "    density_values = create_densities_for_subwindows(conv, 8, 32)\n",
    "    block_0306_density_list.append(density_values)"
   ]
  },
  {
   "cell_type": "code",
   "execution_count": null,
   "id": "7d2be0ee-6a35-4295-80c7-affac305aefc",
   "metadata": {},
   "outputs": [],
   "source": [
    "len(block_0306_density_list)"
   ]
  },
  {
   "cell_type": "code",
   "execution_count": null,
   "id": "0f40e439-789f-4e86-b097-54db4df6ccfb",
   "metadata": {},
   "outputs": [],
   "source": [
    "len(block_0306_density_list[0])"
   ]
  },
  {
   "cell_type": "code",
   "execution_count": null,
   "id": "55403f63-d922-4c84-8400-6869cbb118b4",
   "metadata": {},
   "outputs": [],
   "source": [
    "# need to stack this list\n",
    "block_0306_all_density_stack = np.stack(block_0306_density_list, axis = 1)"
   ]
  },
  {
   "cell_type": "code",
   "execution_count": null,
   "id": "d30af3b5-e34b-4e60-9f7e-86e593156ee7",
   "metadata": {},
   "outputs": [],
   "source": [
    "block_0306_all_density_stack.shape"
   ]
  },
  {
   "cell_type": "code",
   "execution_count": null,
   "id": "eeb2d5c6-137c-4cef-821c-2b221fa9b9e9",
   "metadata": {},
   "outputs": [],
   "source": [
    "np.sum(block_0306_all_density_stack, axis = 0)"
   ]
  },
  {
   "cell_type": "code",
   "execution_count": null,
   "id": "70851339-6b7d-4eb6-b455-a7487e9bd18f",
   "metadata": {},
   "outputs": [],
   "source": [
    "# save this stack\n",
    "np.save(\"data/Stage2_base_model/Overlapping/test_targets/block_0306_targets.npy\", block_0306_all_density_stack)"
   ]
  },
  {
   "cell_type": "code",
   "execution_count": null,
   "id": "da990da4-3c78-43f5-80f2-f0e00f21ae51",
   "metadata": {},
   "outputs": [],
   "source": [
    "np.mean(np.load(\"data/Stage2_base_model/Overlapping/test_targets/block_0306_targets.npy\") == block_0306_all_density_stack)"
   ]
  },
  {
   "cell_type": "code",
   "execution_count": null,
   "id": "4c8258c2-3d1f-4806-be1e-1c2c54784c8f",
   "metadata": {},
   "outputs": [],
   "source": [
    "# np.mean(block_0305_all_density_stack == block_0306_all_density_stack)"
   ]
  },
  {
   "cell_type": "code",
   "execution_count": null,
   "id": "8bc3cddf-5a9e-40e1-b589-5044d26de3f4",
   "metadata": {},
   "outputs": [],
   "source": [
    "# np.sum(block_0306_all_density_stack[:,0])"
   ]
  }
 ],
 "metadata": {
  "kernelspec": {
   "display_name": "Python (nrdstor_tfp_for_TN)",
   "language": "python",
   "name": "nrdstor_tfp_for_tn"
  },
  "language_info": {
   "codemirror_mode": {
    "name": "ipython",
    "version": 3
   },
   "file_extension": ".py",
   "mimetype": "text/x-python",
   "name": "python",
   "nbconvert_exporter": "python",
   "pygments_lexer": "ipython3",
   "version": "3.10.14"
  }
 },
 "nbformat": 4,
 "nbformat_minor": 5
}

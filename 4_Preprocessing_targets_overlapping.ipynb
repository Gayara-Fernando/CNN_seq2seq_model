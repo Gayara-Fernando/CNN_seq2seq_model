{
 "cells": [
  {
   "cell_type": "code",
   "execution_count": 1,
   "id": "9d97c8b4-a8b3-4907-b06a-2266b26149d6",
   "metadata": {},
   "outputs": [
    {
     "name": "stderr",
     "output_type": "stream",
     "text": [
      "2025-07-15 15:57:11.433964: I tensorflow/core/util/port.cc:113] oneDNN custom operations are on. You may see slightly different numerical results due to floating-point round-off errors from different computation orders. To turn them off, set the environment variable `TF_ENABLE_ONEDNN_OPTS=0`.\n",
      "2025-07-15 15:57:11.468606: E external/local_xla/xla/stream_executor/cuda/cuda_dnn.cc:9261] Unable to register cuDNN factory: Attempting to register factory for plugin cuDNN when one has already been registered\n",
      "2025-07-15 15:57:11.468627: E external/local_xla/xla/stream_executor/cuda/cuda_fft.cc:607] Unable to register cuFFT factory: Attempting to register factory for plugin cuFFT when one has already been registered\n",
      "2025-07-15 15:57:11.469446: E external/local_xla/xla/stream_executor/cuda/cuda_blas.cc:1515] Unable to register cuBLAS factory: Attempting to register factory for plugin cuBLAS when one has already been registered\n",
      "2025-07-15 15:57:11.476037: I tensorflow/core/platform/cpu_feature_guard.cc:182] This TensorFlow binary is optimized to use available CPU instructions in performance-critical operations.\n",
      "To enable the following instructions: SSE4.1 SSE4.2 AVX AVX2 AVX512F AVX512_VNNI FMA, in other operations, rebuild TensorFlow with the appropriate compiler flags.\n"
     ]
    }
   ],
   "source": [
    "import tensorflow as tf\n",
    "import os\n",
    "import pandas as pd\n",
    "import numpy as np\n",
    "import matplotlib.pyplot as plt\n",
    "from scipy import ndimage\n",
    "from skimage.transform import resize"
   ]
  },
  {
   "cell_type": "code",
   "execution_count": 2,
   "id": "78a2b1df-560e-40c6-9400-ff2f2317540b",
   "metadata": {},
   "outputs": [
    {
     "name": "stderr",
     "output_type": "stream",
     "text": [
      "2025-07-15 15:57:13.487141: I tensorflow/core/common_runtime/gpu/gpu_device.cc:1929] Created device /job:localhost/replica:0/task:0/device:GPU:0 with 31134 MB memory:  -> device: 0, name: Tesla V100S-PCIE-32GB, pci bus id: 0000:06:00.0, compute capability: 7.0\n"
     ]
    }
   ],
   "source": [
    "# import the trained model\n",
    "\n",
    "model = tf.keras.models.load_model(\"../../Spring_2024/Bayes_for_comps/TS_bayes_implementation_for_TN/models/trained_gmp_model_dense_32_new.h5\")"
   ]
  },
  {
   "cell_type": "code",
   "execution_count": 3,
   "id": "f8d3c63f-9437-4a2d-baa4-ec6ee1c3eb94",
   "metadata": {},
   "outputs": [
    {
     "name": "stdout",
     "output_type": "stream",
     "text": [
      "Model: \"model_1\"\n",
      "_________________________________________________________________\n",
      " Layer (type)                Output Shape              Param #   \n",
      "=================================================================\n",
      " input_1 (InputLayer)        [(None, None, None, 3)]   0         \n",
      "                                                                 \n",
      " conv2d (Conv2D)             (None, None, None, 32)    896       \n",
      "                                                                 \n",
      " activation (Activation)     (None, None, None, 32)    0         \n",
      "                                                                 \n",
      " conv2d_1 (Conv2D)           (None, None, None, 32)    9248      \n",
      "                                                                 \n",
      " activation_1 (Activation)   (None, None, None, 32)    0         \n",
      "                                                                 \n",
      " max_pooling2d (MaxPooling2  (None, None, None, 32)    0         \n",
      " D)                                                              \n",
      "                                                                 \n",
      " dropout (Dropout)           (None, None, None, 32)    0         \n",
      "                                                                 \n",
      " conv2d_2 (Conv2D)           (None, None, None, 64)    18496     \n",
      "                                                                 \n",
      " activation_2 (Activation)   (None, None, None, 64)    0         \n",
      "                                                                 \n",
      " conv2d_3 (Conv2D)           (None, None, None, 64)    36928     \n",
      "                                                                 \n",
      " activation_3 (Activation)   (None, None, None, 64)    0         \n",
      "                                                                 \n",
      " max_pooling2d_1 (MaxPoolin  (None, None, None, 64)    0         \n",
      " g2D)                                                            \n",
      "                                                                 \n",
      " New_dropout_0 (Dropout)     (None, None, None, 64)    0         \n",
      "                                                                 \n",
      " global_max_pooling2d (Glob  (None, 64)                0         \n",
      " alMaxPooling2D)                                                 \n",
      "                                                                 \n",
      " New_Dense_0 (Dense)         (None, 64)                4160      \n",
      "                                                                 \n",
      " New_Activation_0 (Activati  (None, 64)                0         \n",
      " on)                                                             \n",
      "                                                                 \n",
      " New_dropout_1 (Dropout)     (None, 64)                0         \n",
      "                                                                 \n",
      " New_Dense_1 (Dense)         (None, 32)                2080      \n",
      "                                                                 \n",
      " New_Activation_1 (Activati  (None, 32)                0         \n",
      " on)                                                             \n",
      "                                                                 \n",
      " New_dropout_2 (Dropout)     (None, 32)                0         \n",
      "                                                                 \n",
      " New_Dense_2 (Dense)         (None, 1)                 33        \n",
      "                                                                 \n",
      " New_Activation_2 (Activati  (None, 1)                 0         \n",
      " on)                                                             \n",
      "                                                                 \n",
      "=================================================================\n",
      "Total params: 71841 (280.63 KB)\n",
      "Trainable params: 43201 (168.75 KB)\n",
      "Non-trainable params: 28640 (111.88 KB)\n",
      "_________________________________________________________________\n"
     ]
    }
   ],
   "source": [
    "model.summary()"
   ]
  },
  {
   "cell_type": "code",
   "execution_count": 4,
   "id": "522805c2-d4cb-4214-9e0f-bfa140de0676",
   "metadata": {},
   "outputs": [],
   "source": [
    "# Define the feature extractor model\n",
    "\n",
    "# feature extractor input\n",
    "feat_ext_input = model.input\n",
    "\n",
    "# feature extractor output - do this at the ReLu activation layer - as this will give the same features as the dropout layer (It does not matter if it is the dropout or the activation layer, the extracted features will be the same)\n",
    "feat_ext_output = model.layers[-4].output\n",
    "\n",
    "feature_extractor_model = tf.keras.models.Model(inputs = feat_ext_input, outputs = feat_ext_output)"
   ]
  },
  {
   "cell_type": "code",
   "execution_count": 5,
   "id": "a696c31c-29bc-49e8-b435-ca4fba0c0c1c",
   "metadata": {},
   "outputs": [
    {
     "name": "stdout",
     "output_type": "stream",
     "text": [
      "Model: \"model\"\n",
      "_________________________________________________________________\n",
      " Layer (type)                Output Shape              Param #   \n",
      "=================================================================\n",
      " input_1 (InputLayer)        [(None, None, None, 3)]   0         \n",
      "                                                                 \n",
      " conv2d (Conv2D)             (None, None, None, 32)    896       \n",
      "                                                                 \n",
      " activation (Activation)     (None, None, None, 32)    0         \n",
      "                                                                 \n",
      " conv2d_1 (Conv2D)           (None, None, None, 32)    9248      \n",
      "                                                                 \n",
      " activation_1 (Activation)   (None, None, None, 32)    0         \n",
      "                                                                 \n",
      " max_pooling2d (MaxPooling2  (None, None, None, 32)    0         \n",
      " D)                                                              \n",
      "                                                                 \n",
      " dropout (Dropout)           (None, None, None, 32)    0         \n",
      "                                                                 \n",
      " conv2d_2 (Conv2D)           (None, None, None, 64)    18496     \n",
      "                                                                 \n",
      " activation_2 (Activation)   (None, None, None, 64)    0         \n",
      "                                                                 \n",
      " conv2d_3 (Conv2D)           (None, None, None, 64)    36928     \n",
      "                                                                 \n",
      " activation_3 (Activation)   (None, None, None, 64)    0         \n",
      "                                                                 \n",
      " max_pooling2d_1 (MaxPoolin  (None, None, None, 64)    0         \n",
      " g2D)                                                            \n",
      "                                                                 \n",
      " New_dropout_0 (Dropout)     (None, None, None, 64)    0         \n",
      "                                                                 \n",
      " global_max_pooling2d (Glob  (None, 64)                0         \n",
      " alMaxPooling2D)                                                 \n",
      "                                                                 \n",
      " New_Dense_0 (Dense)         (None, 64)                4160      \n",
      "                                                                 \n",
      " New_Activation_0 (Activati  (None, 64)                0         \n",
      " on)                                                             \n",
      "                                                                 \n",
      " New_dropout_1 (Dropout)     (None, 64)                0         \n",
      "                                                                 \n",
      " New_Dense_1 (Dense)         (None, 32)                2080      \n",
      "                                                                 \n",
      " New_Activation_1 (Activati  (None, 32)                0         \n",
      " on)                                                             \n",
      "                                                                 \n",
      "=================================================================\n",
      "Total params: 71808 (280.50 KB)\n",
      "Trainable params: 43168 (168.62 KB)\n",
      "Non-trainable params: 28640 (111.88 KB)\n",
      "_________________________________________________________________\n"
     ]
    }
   ],
   "source": [
    "feature_extractor_model.summary()"
   ]
  },
  {
   "cell_type": "code",
   "execution_count": 6,
   "id": "2cbbe34c-3da8-426f-9fe7-773026b63024",
   "metadata": {},
   "outputs": [],
   "source": [
    "# The following functions will help create all the required matrices"
   ]
  },
  {
   "cell_type": "code",
   "execution_count": 7,
   "id": "e82b00ac-d74b-48e2-8479-83716f737357",
   "metadata": {},
   "outputs": [],
   "source": [
    "def chose_xml_and_jpeg(file_location):\n",
    "    # list all files in location\n",
    "    list_of_all_files = os.listdir(file_location)\n",
    "    # sort files\n",
    "    list_of_all_files.sort()\n",
    "    # separate xml and jpeg files\n",
    "    all_xml_files = [file for file in list_of_all_files if file.split('.')[-1] == 'xml']\n",
    "    all_xml_files.sort()\n",
    "    all_jpeg_files = [file for file in list_of_all_files if file not in all_xml_files]\n",
    "    all_jpeg_files.sort()\n",
    "    # get the final 7 image files\n",
    "    chosen_jpeg_files = all_jpeg_files[-7:]\n",
    "    \n",
    "    return chosen_jpeg_files"
   ]
  },
  {
   "cell_type": "code",
   "execution_count": 8,
   "id": "63842a5d-7a5f-47c8-813a-73ed82e8f26f",
   "metadata": {},
   "outputs": [],
   "source": [
    "def create_sub_windows(folder_path, file, stride = 8, kernel_size = 32):\n",
    "    # joined image path\n",
    "    joined_im_path = os.path.join(folder_path, file)\n",
    "    # read the image\n",
    "    loaded_im_file = plt.imread(joined_im_path)\n",
    "    # create subwindows and get prediction\n",
    "    img_height = loaded_im_file.shape[0]\n",
    "    img_width = loaded_im_file.shape[1]\n",
    "\n",
    "    # catch all subwindows here\n",
    "    all_subwindows = []\n",
    "    # you can also keep track the subwindows here if required - but let's not worry about that for now\n",
    "    for i in  range(0, img_height, stride):\n",
    "        for j in range(0, img_width, stride):\n",
    "            sub_window = loaded_im_file[i: i + kernel_size, j : j + kernel_size,:]\n",
    "            # resize the subwindow - for 300*300\n",
    "            sub_window = resize(sub_window, (kernel_size, kernel_size,3))\n",
    "            # append these to the list\n",
    "            all_subwindows.append(sub_window)\n",
    "            \n",
    "    return all_subwindows  "
   ]
  },
  {
   "cell_type": "code",
   "execution_count": 9,
   "id": "f6190e36-828d-4553-86a9-aa12c912b6a7",
   "metadata": {},
   "outputs": [],
   "source": [
    "def extract_features(file_name, file_path):\n",
    "    # get the subwindows\n",
    "    subwindows = create_sub_windows(file_path, file_name, 8, 32)\n",
    "    # stack the subwindows\n",
    "    stacked_subwindows = np.stack(subwindows, axis = 0)\n",
    "    # print the shape of this\n",
    "    print(stacked_subwindows.shape)\n",
    "    # extract features\n",
    "    extracted_featrues = feature_extractor_model.predict(stacked_subwindows)\n",
    "    \n",
    "    return extracted_featrues"
   ]
  },
  {
   "cell_type": "code",
   "execution_count": 10,
   "id": "85e51214-3806-4e88-bbde-5f180b78a20c",
   "metadata": {},
   "outputs": [],
   "source": [
    "# Let's first take care of the train and validation data"
   ]
  },
  {
   "cell_type": "code",
   "execution_count": 11,
   "id": "2268eeee-a6ab-46d6-b613-c72e26d7c829",
   "metadata": {},
   "outputs": [],
   "source": [
    "# block 0101"
   ]
  },
  {
   "cell_type": "code",
   "execution_count": 12,
   "id": "03caa3af-d7d4-42d0-8916-212657a3d5de",
   "metadata": {},
   "outputs": [],
   "source": [
    "block_0101 = \"../../Spring_2024/S_lab_TasselNet/Block_1_TN/Block_1_images_and_xml\""
   ]
  },
  {
   "cell_type": "code",
   "execution_count": 13,
   "id": "0cbdb0a2-124e-4dfa-882a-6dbb853c9488",
   "metadata": {},
   "outputs": [],
   "source": [
    "images_block_0101 = chose_xml_and_jpeg(block_0101)"
   ]
  },
  {
   "cell_type": "code",
   "execution_count": 14,
   "id": "51a0488f-f8d7-4aaf-b256-1a19e0a03b27",
   "metadata": {},
   "outputs": [
    {
     "data": {
      "text/plain": [
       "['Block0101_2020_08_26.jpeg',\n",
       " 'Block0101_2020_08_27.jpeg',\n",
       " 'Block0101_2020_08_28.jpeg',\n",
       " 'Block0101_2020_08_31.jpeg',\n",
       " 'Block0101_2020_09_02.jpeg',\n",
       " 'Block0101_2020_09_07.jpeg',\n",
       " 'Block0101_2020_09_16.jpeg']"
      ]
     },
     "execution_count": 14,
     "metadata": {},
     "output_type": "execute_result"
    }
   ],
   "source": [
    "images_block_0101"
   ]
  },
  {
   "cell_type": "code",
   "execution_count": 15,
   "id": "3f52924a-f686-478a-9d28-1568b2c273ea",
   "metadata": {},
   "outputs": [
    {
     "name": "stdout",
     "output_type": "stream",
     "text": [
      "(12288, 32, 32, 3)\n"
     ]
    },
    {
     "name": "stderr",
     "output_type": "stream",
     "text": [
      "2025-07-15 15:57:17.576110: I external/local_xla/xla/stream_executor/cuda/cuda_dnn.cc:454] Loaded cuDNN version 8907\n"
     ]
    },
    {
     "name": "stdout",
     "output_type": "stream",
     "text": [
      "384/384 [==============================] - 1s 2ms/step\n",
      "(12288, 32, 32, 3)\n",
      "384/384 [==============================] - 1s 2ms/step\n",
      "(12288, 32, 32, 3)\n",
      "384/384 [==============================] - 1s 2ms/step\n",
      "(12288, 32, 32, 3)\n",
      "384/384 [==============================] - 1s 2ms/step\n",
      "(12288, 32, 32, 3)\n",
      "384/384 [==============================] - 1s 2ms/step\n",
      "(12288, 32, 32, 3)\n",
      "384/384 [==============================] - 1s 2ms/step\n",
      "(12288, 32, 32, 3)\n",
      "384/384 [==============================] - 1s 2ms/step\n",
      "CPU times: user 28.7 s, sys: 1.72 s, total: 30.4 s\n",
      "Wall time: 29.3 s\n"
     ]
    }
   ],
   "source": [
    "%%time\n",
    "# get the extracted input features\n",
    "\n",
    "blk_0101_all_features = []\n",
    "for file in images_block_0101:\n",
    "    extracted_features = extract_features(file, block_0101)\n",
    "    blk_0101_all_features.append(extracted_features)"
   ]
  },
  {
   "cell_type": "code",
   "execution_count": 16,
   "id": "4c8fc6d0-f112-4250-bee6-659cfe859e1d",
   "metadata": {},
   "outputs": [],
   "source": [
    "# stack the extracted features\n",
    "blk_0101_stacked_extracted_features = np.stack(blk_0101_all_features, axis = 1)"
   ]
  },
  {
   "cell_type": "code",
   "execution_count": 17,
   "id": "5580f834-b0b4-4d49-bddc-a4caa95e3b23",
   "metadata": {},
   "outputs": [
    {
     "data": {
      "text/plain": [
       "(12288, 7, 32)"
      ]
     },
     "execution_count": 17,
     "metadata": {},
     "output_type": "execute_result"
    }
   ],
   "source": [
    "blk_0101_stacked_extracted_features.shape"
   ]
  },
  {
   "cell_type": "code",
   "execution_count": 18,
   "id": "15b33ba2-dca0-4853-ac21-d4c983f92401",
   "metadata": {},
   "outputs": [
    {
     "data": {
      "text/plain": [
       "0.37572336"
      ]
     },
     "execution_count": 18,
     "metadata": {},
     "output_type": "execute_result"
    }
   ],
   "source": [
    "# see if the mean of the extracted features match to the ones earlier\n",
    "np.mean(blk_0101_stacked_extracted_features)"
   ]
  },
  {
   "cell_type": "code",
   "execution_count": 19,
   "id": "0da45d5b-6228-445c-8430-68b71548a7b0",
   "metadata": {},
   "outputs": [],
   "source": [
    "# Let's not save this for now, let's save the final stacks of train and validation data"
   ]
  },
  {
   "cell_type": "code",
   "execution_count": 20,
   "id": "7147d909-ecd8-4b46-9a83-45b909141e40",
   "metadata": {},
   "outputs": [],
   "source": [
    "# block 0102"
   ]
  },
  {
   "cell_type": "code",
   "execution_count": 21,
   "id": "47ff0aec-3100-480d-9584-047498b16673",
   "metadata": {},
   "outputs": [],
   "source": [
    "block_0102 = \"../../Spring_2024/S_lab_TasselNet/Block_2_TN/Block_2_images_and_xml\""
   ]
  },
  {
   "cell_type": "code",
   "execution_count": 22,
   "id": "8a9ffb5e-49db-4543-9ff2-ba2b6f09e3b7",
   "metadata": {},
   "outputs": [],
   "source": [
    "images_block_0102 = chose_xml_and_jpeg(block_0102)"
   ]
  },
  {
   "cell_type": "code",
   "execution_count": 23,
   "id": "0c51f875-b101-4798-81cb-9544083e8994",
   "metadata": {},
   "outputs": [
    {
     "data": {
      "text/plain": [
       "['Block0102_2020_08_26.jpeg',\n",
       " 'Block0102_2020_08_27.jpeg',\n",
       " 'Block0102_2020_08_28.jpeg',\n",
       " 'Block0102_2020_08_31.jpeg',\n",
       " 'Block0102_2020_09_02.jpeg',\n",
       " 'Block0102_2020_09_07.jpeg',\n",
       " 'Block0102_2020_09_16.jpeg']"
      ]
     },
     "execution_count": 23,
     "metadata": {},
     "output_type": "execute_result"
    }
   ],
   "source": [
    "images_block_0102"
   ]
  },
  {
   "cell_type": "code",
   "execution_count": 24,
   "id": "2ef61233-463c-42ff-9802-f6833fa0906d",
   "metadata": {},
   "outputs": [
    {
     "name": "stdout",
     "output_type": "stream",
     "text": [
      "(12288, 32, 32, 3)\n",
      "384/384 [==============================] - 1s 2ms/step\n",
      "(12288, 32, 32, 3)\n",
      "384/384 [==============================] - 1s 2ms/step\n",
      "(12288, 32, 32, 3)\n",
      "384/384 [==============================] - 1s 2ms/step\n",
      "(12288, 32, 32, 3)\n",
      "384/384 [==============================] - 1s 2ms/step\n",
      "(12288, 32, 32, 3)\n",
      "384/384 [==============================] - 1s 2ms/step\n",
      "(12288, 32, 32, 3)\n",
      "384/384 [==============================] - 1s 2ms/step\n",
      "(12288, 32, 32, 3)\n",
      "384/384 [==============================] - 1s 2ms/step\n",
      "CPU times: user 28.4 s, sys: 1.35 s, total: 29.8 s\n",
      "Wall time: 28.5 s\n"
     ]
    }
   ],
   "source": [
    "%%time\n",
    "# get the extracted input features\n",
    "\n",
    "blk_0102_all_features = []\n",
    "for file in images_block_0102:\n",
    "    extracted_features = extract_features(file, block_0102)\n",
    "    blk_0102_all_features.append(extracted_features)"
   ]
  },
  {
   "cell_type": "code",
   "execution_count": 25,
   "id": "21332bd7-19fe-437c-9369-89f2a0c69814",
   "metadata": {},
   "outputs": [],
   "source": [
    "# stack the extracted features\n",
    "blk_0102_stacked_extracted_features = np.stack(blk_0102_all_features, axis = 1)"
   ]
  },
  {
   "cell_type": "code",
   "execution_count": 26,
   "id": "52c080ee-a814-41b5-8e83-c59640dc4d6d",
   "metadata": {},
   "outputs": [
    {
     "data": {
      "text/plain": [
       "(12288, 7, 32)"
      ]
     },
     "execution_count": 26,
     "metadata": {},
     "output_type": "execute_result"
    }
   ],
   "source": [
    "blk_0102_stacked_extracted_features.shape"
   ]
  },
  {
   "cell_type": "code",
   "execution_count": 27,
   "id": "e939a468-5c42-4305-b9a3-57f365a72021",
   "metadata": {},
   "outputs": [
    {
     "data": {
      "text/plain": [
       "0.37976986"
      ]
     },
     "execution_count": 27,
     "metadata": {},
     "output_type": "execute_result"
    }
   ],
   "source": [
    "# see if the mean of the extracted features match to the ones earlier\n",
    "np.mean(blk_0102_stacked_extracted_features)"
   ]
  },
  {
   "cell_type": "code",
   "execution_count": 28,
   "id": "4c63e3e2-72a8-4a2f-9976-994f3e31dde3",
   "metadata": {},
   "outputs": [],
   "source": [
    "# block 0203"
   ]
  },
  {
   "cell_type": "code",
   "execution_count": 29,
   "id": "ad239500-3af3-4bef-b870-ac1e0ded4efb",
   "metadata": {},
   "outputs": [],
   "source": [
    "block_0203 = \"../../Spring_2024/S_lab_TasselNet/Block_9_TN/Block_9_images_and_xml\""
   ]
  },
  {
   "cell_type": "code",
   "execution_count": 30,
   "id": "acfd18e0-992f-4c15-be3d-c37bd1c3f2b9",
   "metadata": {},
   "outputs": [],
   "source": [
    "images_block_0203 = chose_xml_and_jpeg(block_0203)"
   ]
  },
  {
   "cell_type": "code",
   "execution_count": 31,
   "id": "9c406d3b-8f21-4b61-a996-0c4af6e37211",
   "metadata": {},
   "outputs": [
    {
     "data": {
      "text/plain": [
       "['Block0203_2020_08_26.jpeg',\n",
       " 'Block0203_2020_08_27.jpeg',\n",
       " 'Block0203_2020_08_28.jpeg',\n",
       " 'Block0203_2020_08_31.jpeg',\n",
       " 'Block0203_2020_09_02.jpeg',\n",
       " 'Block0203_2020_09_07.jpeg',\n",
       " 'Block0203_2020_09_16.jpeg']"
      ]
     },
     "execution_count": 31,
     "metadata": {},
     "output_type": "execute_result"
    }
   ],
   "source": [
    "images_block_0203"
   ]
  },
  {
   "cell_type": "code",
   "execution_count": 32,
   "id": "86548879-698e-45d1-a68e-17c8f91b1523",
   "metadata": {},
   "outputs": [
    {
     "name": "stdout",
     "output_type": "stream",
     "text": [
      "(12288, 32, 32, 3)\n",
      "384/384 [==============================] - 1s 2ms/step\n",
      "(12288, 32, 32, 3)\n",
      "384/384 [==============================] - 1s 2ms/step\n",
      "(12288, 32, 32, 3)\n",
      "384/384 [==============================] - 1s 2ms/step\n",
      "(12288, 32, 32, 3)\n",
      "384/384 [==============================] - 1s 2ms/step\n",
      "(12288, 32, 32, 3)\n",
      "384/384 [==============================] - 1s 2ms/step\n",
      "(12288, 32, 32, 3)\n",
      "384/384 [==============================] - 1s 2ms/step\n",
      "(12288, 32, 32, 3)\n",
      "384/384 [==============================] - 1s 2ms/step\n",
      "CPU times: user 28.3 s, sys: 1.34 s, total: 29.7 s\n",
      "Wall time: 28.4 s\n"
     ]
    }
   ],
   "source": [
    "%%time\n",
    "# get the extracted input features\n",
    "\n",
    "blk_0203_all_features = []\n",
    "for file in images_block_0203:\n",
    "    extracted_features = extract_features(file, block_0203)\n",
    "    blk_0203_all_features.append(extracted_features)"
   ]
  },
  {
   "cell_type": "code",
   "execution_count": 33,
   "id": "8a4584c5-0d6c-4a7d-9967-cb3d27d05605",
   "metadata": {},
   "outputs": [],
   "source": [
    "# stack the extracted features\n",
    "blk_0203_stacked_extracted_features = np.stack(blk_0203_all_features, axis = 1)"
   ]
  },
  {
   "cell_type": "code",
   "execution_count": 34,
   "id": "bb0558cb-5e29-4dde-94a3-e3404a572161",
   "metadata": {},
   "outputs": [
    {
     "data": {
      "text/plain": [
       "(12288, 7, 32)"
      ]
     },
     "execution_count": 34,
     "metadata": {},
     "output_type": "execute_result"
    }
   ],
   "source": [
    "blk_0203_stacked_extracted_features.shape"
   ]
  },
  {
   "cell_type": "code",
   "execution_count": 35,
   "id": "a391e1f2-99c6-4d42-ab4c-2b7e29533c11",
   "metadata": {},
   "outputs": [
    {
     "data": {
      "text/plain": [
       "0.3369076"
      ]
     },
     "execution_count": 35,
     "metadata": {},
     "output_type": "execute_result"
    }
   ],
   "source": [
    "# see if the mean of the extracted features match to the ones earlier\n",
    "np.mean(blk_0203_stacked_extracted_features)"
   ]
  },
  {
   "cell_type": "code",
   "execution_count": 36,
   "id": "07426d7e-ebe7-49f5-8f02-a489bb7683aa",
   "metadata": {},
   "outputs": [],
   "source": [
    "# block 0301"
   ]
  },
  {
   "cell_type": "code",
   "execution_count": 37,
   "id": "13e0cd6a-bbf4-4cf2-942e-538b41643911",
   "metadata": {},
   "outputs": [],
   "source": [
    "block_0301 = \"../../Spring_2024/S_lab_TasselNet/Block_13_TN/Block_13_images_and_xml\""
   ]
  },
  {
   "cell_type": "code",
   "execution_count": 38,
   "id": "a3adc7e7-036d-48aa-b41a-fed1dc84cd23",
   "metadata": {},
   "outputs": [],
   "source": [
    "images_block_0301 = chose_xml_and_jpeg(block_0301)"
   ]
  },
  {
   "cell_type": "code",
   "execution_count": 39,
   "id": "006aad61-b18a-4bc6-83dd-65fc25532f51",
   "metadata": {},
   "outputs": [
    {
     "data": {
      "text/plain": [
       "['Block0301_2020_08_26.jpeg',\n",
       " 'Block0301_2020_08_27.jpeg',\n",
       " 'Block0301_2020_08_28.jpeg',\n",
       " 'Block0301_2020_08_31.jpeg',\n",
       " 'Block0301_2020_09_02.jpeg',\n",
       " 'Block0301_2020_09_07.jpeg',\n",
       " 'Block0301_2020_09_16.jpeg']"
      ]
     },
     "execution_count": 39,
     "metadata": {},
     "output_type": "execute_result"
    }
   ],
   "source": [
    "images_block_0301"
   ]
  },
  {
   "cell_type": "code",
   "execution_count": 40,
   "id": "53101af9-8c80-4af7-8143-0bf18cf691b5",
   "metadata": {},
   "outputs": [
    {
     "name": "stdout",
     "output_type": "stream",
     "text": [
      "(12288, 32, 32, 3)\n",
      "384/384 [==============================] - 1s 2ms/step\n",
      "(12288, 32, 32, 3)\n",
      "384/384 [==============================] - 1s 2ms/step\n",
      "(12288, 32, 32, 3)\n",
      "384/384 [==============================] - 1s 2ms/step\n",
      "(12288, 32, 32, 3)\n",
      "384/384 [==============================] - 1s 2ms/step\n",
      "(12288, 32, 32, 3)\n",
      "384/384 [==============================] - 1s 2ms/step\n",
      "(12288, 32, 32, 3)\n",
      "384/384 [==============================] - 1s 2ms/step\n",
      "(12288, 32, 32, 3)\n",
      "384/384 [==============================] - 1s 2ms/step\n",
      "CPU times: user 28.2 s, sys: 1.4 s, total: 29.6 s\n",
      "Wall time: 28.5 s\n"
     ]
    }
   ],
   "source": [
    "%%time\n",
    "# get the extracted input features\n",
    "\n",
    "blk_0301_all_features = []\n",
    "for file in images_block_0301:\n",
    "    extracted_features = extract_features(file, block_0301)\n",
    "    blk_0301_all_features.append(extracted_features)"
   ]
  },
  {
   "cell_type": "code",
   "execution_count": 41,
   "id": "3fa804dc-18d4-450c-8780-e644e548995c",
   "metadata": {},
   "outputs": [],
   "source": [
    "# stack the extracted features\n",
    "blk_0301_stacked_extracted_features = np.stack(blk_0301_all_features, axis = 1)"
   ]
  },
  {
   "cell_type": "code",
   "execution_count": 42,
   "id": "f222c936-8850-4d29-a4c4-ba19975ac5c9",
   "metadata": {},
   "outputs": [
    {
     "data": {
      "text/plain": [
       "(12288, 7, 32)"
      ]
     },
     "execution_count": 42,
     "metadata": {},
     "output_type": "execute_result"
    }
   ],
   "source": [
    "blk_0301_stacked_extracted_features.shape"
   ]
  },
  {
   "cell_type": "code",
   "execution_count": 43,
   "id": "96b804ff-b7ff-49f9-93c1-49f7d6fab445",
   "metadata": {},
   "outputs": [
    {
     "data": {
      "text/plain": [
       "0.3708836"
      ]
     },
     "execution_count": 43,
     "metadata": {},
     "output_type": "execute_result"
    }
   ],
   "source": [
    "# see if the mean of the extracted features match to the ones earlier\n",
    "np.mean(blk_0301_stacked_extracted_features)"
   ]
  },
  {
   "cell_type": "code",
   "execution_count": 44,
   "id": "f9fd1ed7-7423-426d-8600-3fea3bb3ffaa",
   "metadata": {},
   "outputs": [],
   "source": [
    "# We can stack all these now and save?\n",
    "\n",
    "all_train_targets_list = [blk_0101_stacked_extracted_features, blk_0102_stacked_extracted_features, blk_0203_stacked_extracted_features, blk_0301_stacked_extracted_features]"
   ]
  },
  {
   "cell_type": "code",
   "execution_count": 45,
   "id": "df7543bb-e882-461d-89aa-291dc7562c8e",
   "metadata": {},
   "outputs": [],
   "source": [
    "# stack all these together?\n",
    "all_train_targets = np.vstack(all_train_targets_list)"
   ]
  },
  {
   "cell_type": "code",
   "execution_count": 46,
   "id": "1c73aaf4-ee10-4093-98ca-93d992dd0c17",
   "metadata": {},
   "outputs": [
    {
     "data": {
      "text/plain": [
       "(49152, 7, 32)"
      ]
     },
     "execution_count": 46,
     "metadata": {},
     "output_type": "execute_result"
    }
   ],
   "source": [
    "all_train_targets.shape"
   ]
  },
  {
   "cell_type": "code",
   "execution_count": 47,
   "id": "fa6d9dd6-d1fe-4602-9599-d889d2264d73",
   "metadata": {},
   "outputs": [
    {
     "name": "stdout",
     "output_type": "stream",
     "text": [
      "1.0\n",
      "1.0\n",
      "1.0\n",
      "1.0\n"
     ]
    }
   ],
   "source": [
    "# sanity check\n",
    "print(np.mean(all_train_targets[12288*0:12288*1, :, :] == blk_0101_stacked_extracted_features))\n",
    "print(np.mean(all_train_targets[12288*1:12288*2, :, :] == blk_0102_stacked_extracted_features))\n",
    "print(np.mean(all_train_targets[12288*2:12288*3, :, :] == blk_0203_stacked_extracted_features))\n",
    "print(np.mean(all_train_targets[12288*3:12288*4, :, :] == blk_0301_stacked_extracted_features))"
   ]
  },
  {
   "cell_type": "code",
   "execution_count": 48,
   "id": "4cd286e5-6b8f-44f0-bf41-8a6b552ce177",
   "metadata": {},
   "outputs": [],
   "source": [
    "# save the stack\n",
    "np.save(\"data/Overlapping_data/Train_features_and_targets/all_train_targets.npy\", all_train_targets)"
   ]
  },
  {
   "cell_type": "code",
   "execution_count": 49,
   "id": "2d5a0f41-3308-4979-b72b-69fc38c6d463",
   "metadata": {},
   "outputs": [
    {
     "data": {
      "text/plain": [
       "1.0"
      ]
     },
     "execution_count": 49,
     "metadata": {},
     "output_type": "execute_result"
    }
   ],
   "source": [
    "# sanity check\n",
    "np.mean(all_train_targets == np.load(\"data/Overlapping_data/Train_features_and_targets/all_train_targets.npy\"))"
   ]
  },
  {
   "cell_type": "code",
   "execution_count": 50,
   "id": "516514b3-7b21-416d-ac19-525b9b58cdf3",
   "metadata": {},
   "outputs": [],
   "source": [
    "# Do this also for the validation data, and then stop for the day?"
   ]
  },
  {
   "cell_type": "code",
   "execution_count": 51,
   "id": "f315450a-ec1d-40c5-b017-96b43ba45a25",
   "metadata": {},
   "outputs": [],
   "source": [
    "# block 0204"
   ]
  },
  {
   "cell_type": "code",
   "execution_count": 52,
   "id": "0b0c0ff1-3edd-4193-b64d-736e9d602314",
   "metadata": {},
   "outputs": [],
   "source": [
    "block_0204 = \"../../Spring_2024/S_lab_TasselNet/Block_10_TN/Block_10_images_and_xml\""
   ]
  },
  {
   "cell_type": "code",
   "execution_count": 53,
   "id": "21352c33-f668-4cd7-857f-9fded1d155b5",
   "metadata": {},
   "outputs": [],
   "source": [
    "images_block_0204 = chose_xml_and_jpeg(block_0204)"
   ]
  },
  {
   "cell_type": "code",
   "execution_count": 54,
   "id": "b62d1f1f-c886-49fc-a051-9a66524268cd",
   "metadata": {},
   "outputs": [
    {
     "data": {
      "text/plain": [
       "['Block0204_2020_08_26.jpeg',\n",
       " 'Block0204_2020_08_27.jpeg',\n",
       " 'Block0204_2020_08_28.jpeg',\n",
       " 'Block0204_2020_08_31.jpeg',\n",
       " 'Block0204_2020_09_02.jpeg',\n",
       " 'Block0204_2020_09_07.jpeg',\n",
       " 'Block0204_2020_09_16.jpeg']"
      ]
     },
     "execution_count": 54,
     "metadata": {},
     "output_type": "execute_result"
    }
   ],
   "source": [
    "images_block_0204"
   ]
  },
  {
   "cell_type": "code",
   "execution_count": 55,
   "id": "ef5e5ec1-b289-407c-b15a-2624171a5544",
   "metadata": {},
   "outputs": [
    {
     "name": "stdout",
     "output_type": "stream",
     "text": [
      "(12288, 32, 32, 3)\n",
      "384/384 [==============================] - 1s 2ms/step\n",
      "(12288, 32, 32, 3)\n",
      "384/384 [==============================] - 1s 2ms/step\n",
      "(12288, 32, 32, 3)\n",
      "384/384 [==============================] - 1s 2ms/step\n",
      "(12288, 32, 32, 3)\n",
      "384/384 [==============================] - 1s 2ms/step\n",
      "(12288, 32, 32, 3)\n",
      "384/384 [==============================] - 1s 2ms/step\n",
      "(12288, 32, 32, 3)\n",
      "384/384 [==============================] - 1s 2ms/step\n",
      "(12288, 32, 32, 3)\n",
      "384/384 [==============================] - 1s 2ms/step\n",
      "CPU times: user 28.3 s, sys: 1.47 s, total: 29.7 s\n",
      "Wall time: 28.6 s\n"
     ]
    }
   ],
   "source": [
    "%%time\n",
    "# get the extracted input features\n",
    "\n",
    "blk_0204_all_features = []\n",
    "for file in images_block_0204:\n",
    "    extracted_features = extract_features(file, block_0204)\n",
    "    blk_0204_all_features.append(extracted_features)"
   ]
  },
  {
   "cell_type": "code",
   "execution_count": 56,
   "id": "13d42177-c5c1-4eba-9d3f-8b78ef39d315",
   "metadata": {},
   "outputs": [],
   "source": [
    "# stack the extracted features\n",
    "blk_0204_stacked_extracted_features = np.stack(blk_0204_all_features, axis = 1)"
   ]
  },
  {
   "cell_type": "code",
   "execution_count": 57,
   "id": "bc99bb02-70f3-4581-802c-37e38ca758b9",
   "metadata": {},
   "outputs": [
    {
     "data": {
      "text/plain": [
       "(12288, 7, 32)"
      ]
     },
     "execution_count": 57,
     "metadata": {},
     "output_type": "execute_result"
    }
   ],
   "source": [
    "blk_0204_stacked_extracted_features.shape"
   ]
  },
  {
   "cell_type": "code",
   "execution_count": 58,
   "id": "e868217c-f919-4514-8b0f-f83a148fc3de",
   "metadata": {},
   "outputs": [
    {
     "data": {
      "text/plain": [
       "0.37136865"
      ]
     },
     "execution_count": 58,
     "metadata": {},
     "output_type": "execute_result"
    }
   ],
   "source": [
    "# see if the mean of the extracted features match to the ones earlier\n",
    "np.mean(blk_0204_stacked_extracted_features)"
   ]
  },
  {
   "cell_type": "code",
   "execution_count": 59,
   "id": "e340a2ab-55b4-49f6-bb75-caba3162b4fd",
   "metadata": {},
   "outputs": [],
   "source": [
    "# save the data\n",
    "np.save(\"data/Overlapping_data/Valid_features_and_targets/all_valid_targets.npy\", blk_0204_stacked_extracted_features)"
   ]
  },
  {
   "cell_type": "code",
   "execution_count": 60,
   "id": "1629efe7-b028-47b1-b945-b557f5923e97",
   "metadata": {},
   "outputs": [
    {
     "data": {
      "text/plain": [
       "1.0"
      ]
     },
     "execution_count": 60,
     "metadata": {},
     "output_type": "execute_result"
    }
   ],
   "source": [
    "# sanity check\n",
    "np.mean(blk_0204_stacked_extracted_features == np.load(\"data/Overlapping_data/Valid_features_and_targets/all_valid_targets.npy\"))"
   ]
  },
  {
   "cell_type": "markdown",
   "id": "aaaa36ee-57eb-4f27-882d-f4c70cde346b",
   "metadata": {},
   "source": [
    "Preprocessing for the test data"
   ]
  },
  {
   "cell_type": "code",
   "execution_count": 61,
   "id": "a4b46c36-ed97-4bee-a0f1-9c61341c3092",
   "metadata": {},
   "outputs": [],
   "source": [
    "# Block 0103"
   ]
  },
  {
   "cell_type": "code",
   "execution_count": 62,
   "id": "2b7c0d9d-2666-4bdc-a4a2-251315b851f9",
   "metadata": {},
   "outputs": [],
   "source": [
    "block_0103 = \"../../Spring_2024/S_lab_TasselNet/Block_3_TN/Block_3_images_and_xml\""
   ]
  },
  {
   "cell_type": "code",
   "execution_count": 63,
   "id": "fa9c9354-e815-4d0a-afd5-e1e95273ecb0",
   "metadata": {},
   "outputs": [],
   "source": [
    "images_block_0103 = chose_xml_and_jpeg(block_0103)"
   ]
  },
  {
   "cell_type": "code",
   "execution_count": 64,
   "id": "935b7caf-8d00-4623-abd1-440233b9c3d2",
   "metadata": {},
   "outputs": [
    {
     "data": {
      "text/plain": [
       "['Block0103_2020_08_26.jpeg',\n",
       " 'Block0103_2020_08_27.jpeg',\n",
       " 'Block0103_2020_08_28.jpeg',\n",
       " 'Block0103_2020_08_31.jpeg',\n",
       " 'Block0103_2020_09_02.jpeg',\n",
       " 'Block0103_2020_09_07.jpeg',\n",
       " 'Block0103_2020_09_16.jpeg']"
      ]
     },
     "execution_count": 64,
     "metadata": {},
     "output_type": "execute_result"
    }
   ],
   "source": [
    "images_block_0103"
   ]
  },
  {
   "cell_type": "code",
   "execution_count": 65,
   "id": "cdc067fe-4fad-4751-bedb-a4a603b7b66f",
   "metadata": {},
   "outputs": [
    {
     "name": "stdout",
     "output_type": "stream",
     "text": [
      "(12288, 32, 32, 3)\n",
      "384/384 [==============================] - 1s 2ms/step\n",
      "(12288, 32, 32, 3)\n",
      "384/384 [==============================] - 1s 2ms/step\n",
      "(12288, 32, 32, 3)\n",
      "384/384 [==============================] - 1s 2ms/step\n",
      "(12288, 32, 32, 3)\n",
      "384/384 [==============================] - 1s 2ms/step\n",
      "(12288, 32, 32, 3)\n",
      "384/384 [==============================] - 1s 2ms/step\n",
      "(12288, 32, 32, 3)\n",
      "384/384 [==============================] - 1s 2ms/step\n",
      "(12288, 32, 32, 3)\n",
      "384/384 [==============================] - 1s 2ms/step\n",
      "CPU times: user 28.2 s, sys: 1.44 s, total: 29.6 s\n",
      "Wall time: 28.5 s\n"
     ]
    }
   ],
   "source": [
    "%%time\n",
    "# get the extracted input features\n",
    "\n",
    "blk_0103_all_features = []\n",
    "for file in images_block_0103:\n",
    "    extracted_features = extract_features(file, block_0103)\n",
    "    blk_0103_all_features.append(extracted_features)"
   ]
  },
  {
   "cell_type": "code",
   "execution_count": 66,
   "id": "7b54a45d-c69e-4249-8a39-a240566e7c6d",
   "metadata": {},
   "outputs": [],
   "source": [
    "# stack the extracted features\n",
    "blk_0103_stacked_extracted_features = np.stack(blk_0103_all_features, axis = 1)"
   ]
  },
  {
   "cell_type": "code",
   "execution_count": 67,
   "id": "04033759-be77-4a07-81f3-7fee88249aaf",
   "metadata": {},
   "outputs": [
    {
     "data": {
      "text/plain": [
       "(12288, 7, 32)"
      ]
     },
     "execution_count": 67,
     "metadata": {},
     "output_type": "execute_result"
    }
   ],
   "source": [
    "blk_0103_stacked_extracted_features.shape"
   ]
  },
  {
   "cell_type": "code",
   "execution_count": 68,
   "id": "ab56c902-5741-4c45-b170-3b08de67b490",
   "metadata": {},
   "outputs": [
    {
     "data": {
      "text/plain": [
       "0.3638021"
      ]
     },
     "execution_count": 68,
     "metadata": {},
     "output_type": "execute_result"
    }
   ],
   "source": [
    "# see if the mean of the extracted features match to the ones earlier\n",
    "np.mean(blk_0103_stacked_extracted_features)"
   ]
  },
  {
   "cell_type": "code",
   "execution_count": 69,
   "id": "b9978714-502b-44a5-9bca-c73ac6796bba",
   "metadata": {},
   "outputs": [],
   "source": [
    "# save the data\n",
    "np.save(\"data/Overlapping_data/Test_out_targets/test_targets_blk_0103.npy\", blk_0103_stacked_extracted_features)"
   ]
  },
  {
   "cell_type": "code",
   "execution_count": 70,
   "id": "2ffa53e5-31ce-4162-95e9-eb0222f04be7",
   "metadata": {},
   "outputs": [
    {
     "data": {
      "text/plain": [
       "1.0"
      ]
     },
     "execution_count": 70,
     "metadata": {},
     "output_type": "execute_result"
    }
   ],
   "source": [
    "# sanity check\n",
    "np.mean(blk_0103_stacked_extracted_features == np.load(\"data/Overlapping_data/Test_out_targets/test_targets_blk_0103.npy\"))"
   ]
  },
  {
   "cell_type": "code",
   "execution_count": 71,
   "id": "4f4d4603-a6bc-4100-815d-f1f838beac72",
   "metadata": {},
   "outputs": [],
   "source": [
    "# Block 0104"
   ]
  },
  {
   "cell_type": "code",
   "execution_count": 72,
   "id": "8822fb43-e620-42d0-9b14-d9f32d508232",
   "metadata": {},
   "outputs": [],
   "source": [
    "block_0104 = \"../../Spring_2024/S_lab_TasselNet/Block_4_TN/Block_4_images_and_xml\""
   ]
  },
  {
   "cell_type": "code",
   "execution_count": 73,
   "id": "6f933976-0dc0-458a-af2e-61bd089c38f9",
   "metadata": {},
   "outputs": [],
   "source": [
    "images_block_0104 = chose_xml_and_jpeg(block_0104)"
   ]
  },
  {
   "cell_type": "code",
   "execution_count": 74,
   "id": "9468dfef-0f66-497c-ba32-05e057678b3f",
   "metadata": {},
   "outputs": [
    {
     "data": {
      "text/plain": [
       "['Block0104_2020_08_26.jpeg',\n",
       " 'Block0104_2020_08_27.jpeg',\n",
       " 'Block0104_2020_08_28.jpeg',\n",
       " 'Block0104_2020_08_31.jpeg',\n",
       " 'Block0104_2020_09_02.jpeg',\n",
       " 'Block0104_2020_09_07.jpeg',\n",
       " 'Block0104_2020_09_16.jpeg']"
      ]
     },
     "execution_count": 74,
     "metadata": {},
     "output_type": "execute_result"
    }
   ],
   "source": [
    "images_block_0104"
   ]
  },
  {
   "cell_type": "code",
   "execution_count": 75,
   "id": "3a9c975f-256e-4c8c-87d5-78c4fe626296",
   "metadata": {},
   "outputs": [
    {
     "name": "stdout",
     "output_type": "stream",
     "text": [
      "(12288, 32, 32, 3)\n",
      "384/384 [==============================] - 1s 2ms/step\n",
      "(12288, 32, 32, 3)\n",
      "384/384 [==============================] - 1s 2ms/step\n",
      "(12288, 32, 32, 3)\n",
      "384/384 [==============================] - 1s 2ms/step\n",
      "(12288, 32, 32, 3)\n",
      "384/384 [==============================] - 1s 2ms/step\n",
      "(12288, 32, 32, 3)\n",
      "384/384 [==============================] - 1s 2ms/step\n",
      "(12288, 32, 32, 3)\n",
      "384/384 [==============================] - 1s 2ms/step\n",
      "(12288, 32, 32, 3)\n",
      "384/384 [==============================] - 1s 2ms/step\n",
      "CPU times: user 28.5 s, sys: 1.57 s, total: 30.1 s\n",
      "Wall time: 28.9 s\n"
     ]
    }
   ],
   "source": [
    "%%time\n",
    "# get the extracted input features\n",
    "\n",
    "blk_0104_all_features = []\n",
    "for file in images_block_0104:\n",
    "    extracted_features = extract_features(file, block_0104)\n",
    "    blk_0104_all_features.append(extracted_features)"
   ]
  },
  {
   "cell_type": "code",
   "execution_count": 76,
   "id": "b22dae25-aede-4694-95bf-b6caf0ba2f61",
   "metadata": {},
   "outputs": [],
   "source": [
    "# stack the extracted features\n",
    "blk_0104_stacked_extracted_features = np.stack(blk_0104_all_features, axis = 1)"
   ]
  },
  {
   "cell_type": "code",
   "execution_count": 77,
   "id": "d0e28c0a-d4f2-40dd-b712-d2bda6e72191",
   "metadata": {},
   "outputs": [
    {
     "data": {
      "text/plain": [
       "(12288, 7, 32)"
      ]
     },
     "execution_count": 77,
     "metadata": {},
     "output_type": "execute_result"
    }
   ],
   "source": [
    "blk_0104_stacked_extracted_features.shape"
   ]
  },
  {
   "cell_type": "code",
   "execution_count": 78,
   "id": "1e45251d-e6bd-4dc2-855b-fee308d009e0",
   "metadata": {},
   "outputs": [
    {
     "data": {
      "text/plain": [
       "0.41262174"
      ]
     },
     "execution_count": 78,
     "metadata": {},
     "output_type": "execute_result"
    }
   ],
   "source": [
    "# see if the mean of the extracted features match to the ones earlier\n",
    "np.mean(blk_0104_stacked_extracted_features)"
   ]
  },
  {
   "cell_type": "code",
   "execution_count": 79,
   "id": "ba0d205f-90fd-46fa-bcfc-a986140a8e15",
   "metadata": {},
   "outputs": [],
   "source": [
    "# save the data\n",
    "np.save(\"data/Overlapping_data/Test_out_targets/test_targets_blk_0104.npy\", blk_0104_stacked_extracted_features)"
   ]
  },
  {
   "cell_type": "code",
   "execution_count": 80,
   "id": "2ce9bd54-214b-4ad8-aeed-4b3f5fe71fc6",
   "metadata": {},
   "outputs": [
    {
     "data": {
      "text/plain": [
       "1.0"
      ]
     },
     "execution_count": 80,
     "metadata": {},
     "output_type": "execute_result"
    }
   ],
   "source": [
    "# sanity check\n",
    "np.mean(blk_0104_stacked_extracted_features == np.load(\"data/Overlapping_data/Test_out_targets/test_targets_blk_0104.npy\"))"
   ]
  },
  {
   "cell_type": "code",
   "execution_count": 81,
   "id": "0f7a9440-1786-481b-a517-58a9d856c78d",
   "metadata": {},
   "outputs": [],
   "source": [
    "# Block 0105"
   ]
  },
  {
   "cell_type": "code",
   "execution_count": 82,
   "id": "c67f3546-4faf-406f-bb19-6262ec3a04a5",
   "metadata": {},
   "outputs": [],
   "source": [
    "block_0105 = \"../../Spring_2024/S_lab_TasselNet/Block_5_TN/Block_5_images_and_xml\""
   ]
  },
  {
   "cell_type": "code",
   "execution_count": 83,
   "id": "aff1d854-4bbf-4c71-adb4-3e38550dd217",
   "metadata": {},
   "outputs": [],
   "source": [
    "images_block_0105 = chose_xml_and_jpeg(block_0105)"
   ]
  },
  {
   "cell_type": "code",
   "execution_count": 84,
   "id": "9e7ac027-79b1-4a2a-ac0a-26e4bd81dee6",
   "metadata": {},
   "outputs": [
    {
     "data": {
      "text/plain": [
       "['Block0105_2020_08_26.jpeg',\n",
       " 'Block0105_2020_08_27.jpeg',\n",
       " 'Block0105_2020_08_28.jpeg',\n",
       " 'Block0105_2020_08_31.jpeg',\n",
       " 'Block0105_2020_09_02.jpeg',\n",
       " 'Block0105_2020_09_07.jpeg',\n",
       " 'Block0105_2020_09_16.jpeg']"
      ]
     },
     "execution_count": 84,
     "metadata": {},
     "output_type": "execute_result"
    }
   ],
   "source": [
    "images_block_0105"
   ]
  },
  {
   "cell_type": "code",
   "execution_count": 85,
   "id": "63cd7167-fac4-4682-9ad6-2330f831d01a",
   "metadata": {},
   "outputs": [
    {
     "name": "stdout",
     "output_type": "stream",
     "text": [
      "(12288, 32, 32, 3)\n",
      "384/384 [==============================] - 1s 2ms/step\n",
      "(12288, 32, 32, 3)\n",
      "384/384 [==============================] - 1s 2ms/step\n",
      "(12288, 32, 32, 3)\n",
      "384/384 [==============================] - 1s 2ms/step\n",
      "(12288, 32, 32, 3)\n",
      "384/384 [==============================] - 1s 2ms/step\n",
      "(12288, 32, 32, 3)\n",
      "384/384 [==============================] - 1s 2ms/step\n",
      "(12288, 32, 32, 3)\n",
      "384/384 [==============================] - 1s 2ms/step\n",
      "(12288, 32, 32, 3)\n",
      "384/384 [==============================] - 1s 2ms/step\n",
      "CPU times: user 28.4 s, sys: 1.44 s, total: 29.9 s\n",
      "Wall time: 28.6 s\n"
     ]
    }
   ],
   "source": [
    "%%time\n",
    "# get the extracted input features\n",
    "\n",
    "blk_0105_all_features = []\n",
    "for file in images_block_0105:\n",
    "    extracted_features = extract_features(file, block_0105)\n",
    "    blk_0105_all_features.append(extracted_features)"
   ]
  },
  {
   "cell_type": "code",
   "execution_count": 86,
   "id": "d1b964d1-218c-4c81-84df-ed7843eb5f6f",
   "metadata": {},
   "outputs": [],
   "source": [
    "# stack the extracted features\n",
    "blk_0105_stacked_extracted_features = np.stack(blk_0105_all_features, axis = 1)"
   ]
  },
  {
   "cell_type": "code",
   "execution_count": 87,
   "id": "2f244c51-2fe6-460d-9a2b-a3db238f662b",
   "metadata": {},
   "outputs": [
    {
     "data": {
      "text/plain": [
       "(12288, 7, 32)"
      ]
     },
     "execution_count": 87,
     "metadata": {},
     "output_type": "execute_result"
    }
   ],
   "source": [
    "blk_0105_stacked_extracted_features.shape"
   ]
  },
  {
   "cell_type": "code",
   "execution_count": 88,
   "id": "bcd5ad68-8f5e-4883-83d3-92e5ec070642",
   "metadata": {},
   "outputs": [
    {
     "data": {
      "text/plain": [
       "0.3939796"
      ]
     },
     "execution_count": 88,
     "metadata": {},
     "output_type": "execute_result"
    }
   ],
   "source": [
    "# see if the mean of the extracted features match to the ones earlier\n",
    "np.mean(blk_0105_stacked_extracted_features)"
   ]
  },
  {
   "cell_type": "code",
   "execution_count": 89,
   "id": "143cf601-0d3f-498b-977b-209dde95a3aa",
   "metadata": {},
   "outputs": [],
   "source": [
    "# save the data\n",
    "np.save(\"data/Overlapping_data/Test_out_targets/test_targets_blk_0105.npy\", blk_0105_stacked_extracted_features)"
   ]
  },
  {
   "cell_type": "code",
   "execution_count": 90,
   "id": "d75f5cbd-5e51-4b45-aa07-7bb776d8c3fb",
   "metadata": {},
   "outputs": [
    {
     "data": {
      "text/plain": [
       "1.0"
      ]
     },
     "execution_count": 90,
     "metadata": {},
     "output_type": "execute_result"
    }
   ],
   "source": [
    "# sanity check\n",
    "np.mean(blk_0105_stacked_extracted_features == np.load(\"data/Overlapping_data/Test_out_targets/test_targets_blk_0105.npy\"))"
   ]
  },
  {
   "cell_type": "code",
   "execution_count": 91,
   "id": "0c7b9446-f5f2-4e12-b480-b07c9eec6752",
   "metadata": {},
   "outputs": [],
   "source": [
    "# Block 0106"
   ]
  },
  {
   "cell_type": "code",
   "execution_count": 92,
   "id": "822307be-26b9-4464-9937-4bdb1a78a6aa",
   "metadata": {},
   "outputs": [],
   "source": [
    "block_0106 = \"../../Spring_2024/S_lab_TasselNet/Block_6_TN/Block_6_images_and_xml\""
   ]
  },
  {
   "cell_type": "code",
   "execution_count": 93,
   "id": "94952803-ea43-4095-9600-adf7dae90082",
   "metadata": {},
   "outputs": [],
   "source": [
    "images_block_0106 = chose_xml_and_jpeg(block_0106)"
   ]
  },
  {
   "cell_type": "code",
   "execution_count": 94,
   "id": "c2fea270-6d70-49f4-87d1-42ca2120d67a",
   "metadata": {},
   "outputs": [
    {
     "data": {
      "text/plain": [
       "['Block0106_2020_08_26.jpeg',\n",
       " 'Block0106_2020_08_27.jpeg',\n",
       " 'Block0106_2020_08_28.jpeg',\n",
       " 'Block0106_2020_08_31.jpeg',\n",
       " 'Block0106_2020_09_02.jpeg',\n",
       " 'Block0106_2020_09_07.jpeg',\n",
       " 'Block0106_2020_09_16.jpeg']"
      ]
     },
     "execution_count": 94,
     "metadata": {},
     "output_type": "execute_result"
    }
   ],
   "source": [
    "images_block_0106"
   ]
  },
  {
   "cell_type": "code",
   "execution_count": 95,
   "id": "5c0ac17a-aff0-4b7f-bc3f-1eb3dc5900d9",
   "metadata": {},
   "outputs": [
    {
     "name": "stdout",
     "output_type": "stream",
     "text": [
      "(12288, 32, 32, 3)\n",
      "384/384 [==============================] - 1s 2ms/step\n",
      "(12288, 32, 32, 3)\n",
      "384/384 [==============================] - 1s 2ms/step\n",
      "(12288, 32, 32, 3)\n",
      "384/384 [==============================] - 1s 2ms/step\n",
      "(12288, 32, 32, 3)\n",
      "384/384 [==============================] - 1s 2ms/step\n",
      "(12288, 32, 32, 3)\n",
      "384/384 [==============================] - 1s 2ms/step\n",
      "(12288, 32, 32, 3)\n",
      "384/384 [==============================] - 1s 2ms/step\n",
      "(12288, 32, 32, 3)\n",
      "384/384 [==============================] - 1s 2ms/step\n",
      "CPU times: user 28.4 s, sys: 1.5 s, total: 29.9 s\n",
      "Wall time: 28.7 s\n"
     ]
    }
   ],
   "source": [
    "%%time\n",
    "# get the extracted input features\n",
    "\n",
    "blk_0106_all_features = []\n",
    "for file in images_block_0106:\n",
    "    extracted_features = extract_features(file, block_0106)\n",
    "    blk_0106_all_features.append(extracted_features)"
   ]
  },
  {
   "cell_type": "code",
   "execution_count": 96,
   "id": "ecf902b1-03f5-41b4-ab7d-d0ab3c04dca2",
   "metadata": {},
   "outputs": [],
   "source": [
    "# stack the extracted features\n",
    "blk_0106_stacked_extracted_features = np.stack(blk_0106_all_features, axis = 1)"
   ]
  },
  {
   "cell_type": "code",
   "execution_count": 97,
   "id": "d0373ea4-b6fe-4678-be13-39b3dc37adc7",
   "metadata": {},
   "outputs": [
    {
     "data": {
      "text/plain": [
       "(12288, 7, 32)"
      ]
     },
     "execution_count": 97,
     "metadata": {},
     "output_type": "execute_result"
    }
   ],
   "source": [
    "blk_0106_stacked_extracted_features.shape"
   ]
  },
  {
   "cell_type": "code",
   "execution_count": 98,
   "id": "89bfe688-8531-4764-883e-81a2ce15847e",
   "metadata": {},
   "outputs": [
    {
     "data": {
      "text/plain": [
       "0.40003976"
      ]
     },
     "execution_count": 98,
     "metadata": {},
     "output_type": "execute_result"
    }
   ],
   "source": [
    "# see if the mean of the extracted features match to the ones earlier\n",
    "np.mean(blk_0106_stacked_extracted_features)"
   ]
  },
  {
   "cell_type": "code",
   "execution_count": 99,
   "id": "8956ac93-fdd0-456f-9faa-77bf5aee7169",
   "metadata": {},
   "outputs": [],
   "source": [
    "# save the data\n",
    "np.save(\"data/Overlapping_data/Test_out_targets/test_targets_blk_0106.npy\", blk_0106_stacked_extracted_features)"
   ]
  },
  {
   "cell_type": "code",
   "execution_count": 100,
   "id": "9d40640b-21ee-4634-9923-20bc01531e43",
   "metadata": {},
   "outputs": [
    {
     "data": {
      "text/plain": [
       "1.0"
      ]
     },
     "execution_count": 100,
     "metadata": {},
     "output_type": "execute_result"
    }
   ],
   "source": [
    "# sanity check\n",
    "np.mean(blk_0106_stacked_extracted_features == np.load(\"data/Overlapping_data/Test_out_targets/test_targets_blk_0106.npy\"))"
   ]
  },
  {
   "cell_type": "code",
   "execution_count": 101,
   "id": "066c164e-6e26-43a9-9898-ba7f39ed0d78",
   "metadata": {},
   "outputs": [],
   "source": [
    "# Block 0201"
   ]
  },
  {
   "cell_type": "code",
   "execution_count": 102,
   "id": "07bbb26d-267d-47bb-af62-8fcebafc9c79",
   "metadata": {},
   "outputs": [],
   "source": [
    "block_0201 = \"../../Spring_2024/S_lab_TasselNet/Block_7_TN/Block_7_images_and_xml\""
   ]
  },
  {
   "cell_type": "code",
   "execution_count": 103,
   "id": "d2b2c6dd-8275-417e-994f-3bffd52e4b18",
   "metadata": {},
   "outputs": [],
   "source": [
    "images_block_0201 = chose_xml_and_jpeg(block_0201)"
   ]
  },
  {
   "cell_type": "code",
   "execution_count": 104,
   "id": "ff207b30-b492-4bc1-83cf-d6e1c2ced5d2",
   "metadata": {},
   "outputs": [
    {
     "data": {
      "text/plain": [
       "['Block0201_2020_08_26.jpeg',\n",
       " 'Block0201_2020_08_27.jpeg',\n",
       " 'Block0201_2020_08_28.jpeg',\n",
       " 'Block0201_2020_08_31.jpeg',\n",
       " 'Block0201_2020_09_02.jpeg',\n",
       " 'Block0201_2020_09_07.jpeg',\n",
       " 'Block0201_2020_09_16.jpeg']"
      ]
     },
     "execution_count": 104,
     "metadata": {},
     "output_type": "execute_result"
    }
   ],
   "source": [
    "images_block_0201"
   ]
  },
  {
   "cell_type": "code",
   "execution_count": 105,
   "id": "ca225035-62f0-4dfe-baa9-96a95424f239",
   "metadata": {},
   "outputs": [
    {
     "name": "stdout",
     "output_type": "stream",
     "text": [
      "(12288, 32, 32, 3)\n",
      "384/384 [==============================] - 1s 2ms/step\n",
      "(12288, 32, 32, 3)\n",
      "384/384 [==============================] - 1s 2ms/step\n",
      "(12288, 32, 32, 3)\n",
      "384/384 [==============================] - 1s 2ms/step\n",
      "(12288, 32, 32, 3)\n",
      "384/384 [==============================] - 1s 2ms/step\n",
      "(12288, 32, 32, 3)\n",
      "384/384 [==============================] - 1s 2ms/step\n",
      "(12288, 32, 32, 3)\n",
      "384/384 [==============================] - 1s 2ms/step\n",
      "(12288, 32, 32, 3)\n",
      "384/384 [==============================] - 1s 2ms/step\n",
      "CPU times: user 28.4 s, sys: 1.47 s, total: 29.9 s\n",
      "Wall time: 28.7 s\n"
     ]
    }
   ],
   "source": [
    "%%time\n",
    "# get the extracted input features\n",
    "\n",
    "blk_0201_all_features = []\n",
    "for file in images_block_0201:\n",
    "    extracted_features = extract_features(file, block_0201)\n",
    "    blk_0201_all_features.append(extracted_features)"
   ]
  },
  {
   "cell_type": "code",
   "execution_count": 106,
   "id": "ce825ce8-ecd7-40a2-8ab0-0f33831cfd0f",
   "metadata": {},
   "outputs": [],
   "source": [
    "# stack the extracted features\n",
    "blk_0201_stacked_extracted_features = np.stack(blk_0201_all_features, axis = 1)"
   ]
  },
  {
   "cell_type": "code",
   "execution_count": 107,
   "id": "e666771d-3dff-428f-a26e-85aa183b33f4",
   "metadata": {},
   "outputs": [
    {
     "data": {
      "text/plain": [
       "(12288, 7, 32)"
      ]
     },
     "execution_count": 107,
     "metadata": {},
     "output_type": "execute_result"
    }
   ],
   "source": [
    "blk_0201_stacked_extracted_features.shape"
   ]
  },
  {
   "cell_type": "code",
   "execution_count": 108,
   "id": "f2254a4e-a204-4100-93c6-f6b02716bb6b",
   "metadata": {},
   "outputs": [
    {
     "data": {
      "text/plain": [
       "0.36519957"
      ]
     },
     "execution_count": 108,
     "metadata": {},
     "output_type": "execute_result"
    }
   ],
   "source": [
    "# see if the mean of the extracted features match to the ones earlier\n",
    "np.mean(blk_0201_stacked_extracted_features)"
   ]
  },
  {
   "cell_type": "code",
   "execution_count": 109,
   "id": "bb337568-3960-431f-8ab8-0ebfd259e1b6",
   "metadata": {},
   "outputs": [],
   "source": [
    "# save the data\n",
    "np.save(\"data/Overlapping_data/Test_out_targets/test_targets_blk_0201.npy\", blk_0201_stacked_extracted_features)"
   ]
  },
  {
   "cell_type": "code",
   "execution_count": 110,
   "id": "aa4867dd-f7d8-40db-a436-19b326f8b409",
   "metadata": {},
   "outputs": [
    {
     "data": {
      "text/plain": [
       "1.0"
      ]
     },
     "execution_count": 110,
     "metadata": {},
     "output_type": "execute_result"
    }
   ],
   "source": [
    "# sanity check\n",
    "np.mean(blk_0201_stacked_extracted_features == np.load(\"data/Overlapping_data/Test_out_targets/test_targets_blk_0201.npy\"))"
   ]
  },
  {
   "cell_type": "code",
   "execution_count": 111,
   "id": "3360308b-dd26-4c45-b74c-27533693dd6e",
   "metadata": {},
   "outputs": [],
   "source": [
    "# Block 0202"
   ]
  },
  {
   "cell_type": "code",
   "execution_count": 112,
   "id": "20c8aa02-281c-480d-879e-52ce6fc17456",
   "metadata": {},
   "outputs": [],
   "source": [
    "block_0202 = \"../../Spring_2024/S_lab_TasselNet/Block_8_TN/Block_8_images_and_xml\""
   ]
  },
  {
   "cell_type": "code",
   "execution_count": 113,
   "id": "ab8d4a2a-2a90-4d91-a297-21a4df82029a",
   "metadata": {},
   "outputs": [],
   "source": [
    "images_block_0202 = chose_xml_and_jpeg(block_0202)"
   ]
  },
  {
   "cell_type": "code",
   "execution_count": 114,
   "id": "04e151e2-6767-4147-b0f4-dffdd10ab24a",
   "metadata": {},
   "outputs": [
    {
     "data": {
      "text/plain": [
       "['Block0202_2020_08_26.jpeg',\n",
       " 'Block0202_2020_08_27.jpeg',\n",
       " 'Block0202_2020_08_28.jpeg',\n",
       " 'Block0202_2020_08_31.jpeg',\n",
       " 'Block0202_2020_09_02.jpeg',\n",
       " 'Block0202_2020_09_07.jpeg',\n",
       " 'Block0202_2020_09_16.jpeg']"
      ]
     },
     "execution_count": 114,
     "metadata": {},
     "output_type": "execute_result"
    }
   ],
   "source": [
    "images_block_0202"
   ]
  },
  {
   "cell_type": "code",
   "execution_count": 115,
   "id": "a328f2bc-53ff-4f98-8399-540a30984159",
   "metadata": {},
   "outputs": [
    {
     "name": "stdout",
     "output_type": "stream",
     "text": [
      "(12288, 32, 32, 3)\n",
      "384/384 [==============================] - 1s 2ms/step\n",
      "(12288, 32, 32, 3)\n",
      "384/384 [==============================] - 1s 2ms/step\n",
      "(12288, 32, 32, 3)\n",
      "384/384 [==============================] - 1s 2ms/step\n",
      "(12288, 32, 32, 3)\n",
      "384/384 [==============================] - 1s 2ms/step\n",
      "(12288, 32, 32, 3)\n",
      "384/384 [==============================] - 1s 2ms/step\n",
      "(12288, 32, 32, 3)\n",
      "384/384 [==============================] - 1s 2ms/step\n",
      "(12288, 32, 32, 3)\n",
      "384/384 [==============================] - 1s 2ms/step\n",
      "CPU times: user 28.3 s, sys: 1.5 s, total: 29.8 s\n",
      "Wall time: 28.6 s\n"
     ]
    }
   ],
   "source": [
    "%%time\n",
    "# get the extracted input features\n",
    "\n",
    "blk_0202_all_features = []\n",
    "for file in images_block_0202:\n",
    "    extracted_features = extract_features(file, block_0202)\n",
    "    blk_0202_all_features.append(extracted_features)"
   ]
  },
  {
   "cell_type": "code",
   "execution_count": 116,
   "id": "501e5c0c-9717-433c-9ee8-b53a80e82700",
   "metadata": {},
   "outputs": [],
   "source": [
    "# stack the extracted features\n",
    "blk_0202_stacked_extracted_features = np.stack(blk_0202_all_features, axis = 1)"
   ]
  },
  {
   "cell_type": "code",
   "execution_count": 117,
   "id": "ee7eadd4-efba-4af6-bc0e-d5b4445f6964",
   "metadata": {},
   "outputs": [
    {
     "data": {
      "text/plain": [
       "(12288, 7, 32)"
      ]
     },
     "execution_count": 117,
     "metadata": {},
     "output_type": "execute_result"
    }
   ],
   "source": [
    "blk_0202_stacked_extracted_features.shape"
   ]
  },
  {
   "cell_type": "code",
   "execution_count": 118,
   "id": "6a08ffbf-1223-49e7-809e-70e1e524cb9f",
   "metadata": {},
   "outputs": [
    {
     "data": {
      "text/plain": [
       "0.33197743"
      ]
     },
     "execution_count": 118,
     "metadata": {},
     "output_type": "execute_result"
    }
   ],
   "source": [
    "# see if the mean of the extracted features match to the ones earlier\n",
    "np.mean(blk_0202_stacked_extracted_features)"
   ]
  },
  {
   "cell_type": "code",
   "execution_count": 119,
   "id": "014f30d1-8faa-4073-bc72-a8a5248cbcd6",
   "metadata": {},
   "outputs": [],
   "source": [
    "# save the data\n",
    "np.save(\"data/Overlapping_data/Test_out_targets/test_targets_blk_0202.npy\", blk_0202_stacked_extracted_features)"
   ]
  },
  {
   "cell_type": "code",
   "execution_count": 120,
   "id": "1de02b2d-852f-46e6-a569-c6bc612abc7d",
   "metadata": {},
   "outputs": [
    {
     "data": {
      "text/plain": [
       "1.0"
      ]
     },
     "execution_count": 120,
     "metadata": {},
     "output_type": "execute_result"
    }
   ],
   "source": [
    "# sanity check\n",
    "np.mean(blk_0202_stacked_extracted_features == np.load(\"data/Overlapping_data/Test_out_targets/test_targets_blk_0202.npy\"))"
   ]
  },
  {
   "cell_type": "code",
   "execution_count": 121,
   "id": "aa22cfa0-fd13-407e-a086-56c85a295029",
   "metadata": {},
   "outputs": [],
   "source": [
    "# Block 0205"
   ]
  },
  {
   "cell_type": "code",
   "execution_count": 122,
   "id": "a4ad8cfd-11be-4601-acb6-d57e64f524be",
   "metadata": {},
   "outputs": [],
   "source": [
    "block_0205 = \"../../Spring_2024/S_lab_TasselNet/Block_11_TN/Block_11_images_and_xml\""
   ]
  },
  {
   "cell_type": "code",
   "execution_count": 123,
   "id": "1c60efc4-88a6-481e-89b7-a824c69f3458",
   "metadata": {},
   "outputs": [],
   "source": [
    "images_block_0205 = chose_xml_and_jpeg(block_0205)"
   ]
  },
  {
   "cell_type": "code",
   "execution_count": 124,
   "id": "5e3f47f7-f160-439e-833b-4bb758886b65",
   "metadata": {},
   "outputs": [
    {
     "data": {
      "text/plain": [
       "['Block0205_2020_08_26.jpeg',\n",
       " 'Block0205_2020_08_27.jpeg',\n",
       " 'Block0205_2020_08_28.jpeg',\n",
       " 'Block0205_2020_08_31.jpeg',\n",
       " 'Block0205_2020_09_02.jpeg',\n",
       " 'Block0205_2020_09_07.jpeg',\n",
       " 'Block0205_2020_09_16.jpeg']"
      ]
     },
     "execution_count": 124,
     "metadata": {},
     "output_type": "execute_result"
    }
   ],
   "source": [
    "images_block_0205"
   ]
  },
  {
   "cell_type": "code",
   "execution_count": 125,
   "id": "70916769-3d23-44a4-a2d4-d31c2331a947",
   "metadata": {},
   "outputs": [
    {
     "name": "stdout",
     "output_type": "stream",
     "text": [
      "(12288, 32, 32, 3)\n",
      "384/384 [==============================] - 1s 2ms/step\n",
      "(12288, 32, 32, 3)\n",
      "384/384 [==============================] - 1s 2ms/step\n",
      "(12288, 32, 32, 3)\n",
      "384/384 [==============================] - 1s 2ms/step\n",
      "(12288, 32, 32, 3)\n",
      "384/384 [==============================] - 1s 2ms/step\n",
      "(12288, 32, 32, 3)\n",
      "384/384 [==============================] - 1s 2ms/step\n",
      "(12288, 32, 32, 3)\n",
      "384/384 [==============================] - 1s 2ms/step\n",
      "(12288, 32, 32, 3)\n",
      "384/384 [==============================] - 1s 2ms/step\n",
      "CPU times: user 28.6 s, sys: 1.45 s, total: 30 s\n",
      "Wall time: 28.8 s\n"
     ]
    }
   ],
   "source": [
    "%%time\n",
    "# get the extracted input features\n",
    "\n",
    "blk_0205_all_features = []\n",
    "for file in images_block_0205:\n",
    "    extracted_features = extract_features(file, block_0205)\n",
    "    blk_0205_all_features.append(extracted_features)"
   ]
  },
  {
   "cell_type": "code",
   "execution_count": 126,
   "id": "c581374a-f70c-4d38-b70e-9e6889246d7f",
   "metadata": {},
   "outputs": [],
   "source": [
    "# stack the extracted features\n",
    "blk_0205_stacked_extracted_features = np.stack(blk_0205_all_features, axis = 1)"
   ]
  },
  {
   "cell_type": "code",
   "execution_count": 127,
   "id": "2598e4dc-fcd6-4bfb-8265-bf26c1efba02",
   "metadata": {},
   "outputs": [
    {
     "data": {
      "text/plain": [
       "(12288, 7, 32)"
      ]
     },
     "execution_count": 127,
     "metadata": {},
     "output_type": "execute_result"
    }
   ],
   "source": [
    "blk_0205_stacked_extracted_features.shape"
   ]
  },
  {
   "cell_type": "code",
   "execution_count": 128,
   "id": "1cb70e9b-7ad4-4b8b-9eec-b97bcc44d1a0",
   "metadata": {},
   "outputs": [
    {
     "data": {
      "text/plain": [
       "0.40675408"
      ]
     },
     "execution_count": 128,
     "metadata": {},
     "output_type": "execute_result"
    }
   ],
   "source": [
    "# see if the mean of the extracted features match to the ones earlier\n",
    "np.mean(blk_0205_stacked_extracted_features)"
   ]
  },
  {
   "cell_type": "code",
   "execution_count": 129,
   "id": "d5a75b38-5e7a-47f3-9c05-93abc9b5643c",
   "metadata": {},
   "outputs": [],
   "source": [
    "# save the data\n",
    "np.save(\"data/Overlapping_data/Test_out_targets/test_targets_blk_0205.npy\", blk_0205_stacked_extracted_features)"
   ]
  },
  {
   "cell_type": "code",
   "execution_count": 130,
   "id": "ab92aca7-69e1-4977-be5b-66037f28bff7",
   "metadata": {},
   "outputs": [
    {
     "data": {
      "text/plain": [
       "1.0"
      ]
     },
     "execution_count": 130,
     "metadata": {},
     "output_type": "execute_result"
    }
   ],
   "source": [
    "# sanity check\n",
    "np.mean(blk_0205_stacked_extracted_features == np.load(\"data/Overlapping_data/Test_out_targets/test_targets_blk_0205.npy\"))"
   ]
  },
  {
   "cell_type": "code",
   "execution_count": 131,
   "id": "a48176d3-5bc6-43ef-a283-2053e57d1710",
   "metadata": {},
   "outputs": [],
   "source": [
    "# Block 0206"
   ]
  },
  {
   "cell_type": "code",
   "execution_count": 132,
   "id": "ff5fc4ec-cfe4-4aeb-97bf-01d09f1d9e07",
   "metadata": {},
   "outputs": [],
   "source": [
    "block_0206 = \"../../Spring_2024/S_lab_TasselNet/Block_12_TN/Block_12_images_and_xml\""
   ]
  },
  {
   "cell_type": "code",
   "execution_count": 133,
   "id": "b7b78365-fd98-49bb-b622-13c7f2b97bca",
   "metadata": {},
   "outputs": [],
   "source": [
    "images_block_0206 = chose_xml_and_jpeg(block_0206)"
   ]
  },
  {
   "cell_type": "code",
   "execution_count": 134,
   "id": "3cc2adb9-b2bf-409a-a595-2ae6b0cb2cfb",
   "metadata": {},
   "outputs": [
    {
     "data": {
      "text/plain": [
       "['Block0206_2020_08_26.jpeg',\n",
       " 'Block0206_2020_08_27.jpeg',\n",
       " 'Block0206_2020_08_28.jpeg',\n",
       " 'Block0206_2020_08_31.jpeg',\n",
       " 'Block0206_2020_09_02.jpeg',\n",
       " 'Block0206_2020_09_07.jpeg',\n",
       " 'Block0206_2020_09_16.jpeg']"
      ]
     },
     "execution_count": 134,
     "metadata": {},
     "output_type": "execute_result"
    }
   ],
   "source": [
    "images_block_0206"
   ]
  },
  {
   "cell_type": "code",
   "execution_count": 135,
   "id": "90b0d561-614f-4fa3-a32a-894ed565f263",
   "metadata": {},
   "outputs": [
    {
     "name": "stdout",
     "output_type": "stream",
     "text": [
      "(12288, 32, 32, 3)\n",
      "384/384 [==============================] - 1s 2ms/step\n",
      "(12288, 32, 32, 3)\n",
      "384/384 [==============================] - 1s 2ms/step\n",
      "(12288, 32, 32, 3)\n",
      "384/384 [==============================] - 1s 2ms/step\n",
      "(12288, 32, 32, 3)\n",
      "384/384 [==============================] - 1s 2ms/step\n",
      "(12288, 32, 32, 3)\n",
      "384/384 [==============================] - 1s 2ms/step\n",
      "(12288, 32, 32, 3)\n",
      "384/384 [==============================] - 1s 2ms/step\n",
      "(12288, 32, 32, 3)\n",
      "384/384 [==============================] - 1s 2ms/step\n",
      "CPU times: user 28.3 s, sys: 1.51 s, total: 29.8 s\n",
      "Wall time: 28.6 s\n"
     ]
    }
   ],
   "source": [
    "%%time\n",
    "# get the extracted input features\n",
    "\n",
    "blk_0206_all_features = []\n",
    "for file in images_block_0206:\n",
    "    extracted_features = extract_features(file, block_0206)\n",
    "    blk_0206_all_features.append(extracted_features)"
   ]
  },
  {
   "cell_type": "code",
   "execution_count": 136,
   "id": "12645865-5450-4577-a659-4d3acfcd434c",
   "metadata": {},
   "outputs": [],
   "source": [
    "# stack the extracted features\n",
    "blk_0206_stacked_extracted_features = np.stack(blk_0206_all_features, axis = 1)"
   ]
  },
  {
   "cell_type": "code",
   "execution_count": 137,
   "id": "2e80aafc-cbe7-40d3-bfbd-14c615f027ed",
   "metadata": {},
   "outputs": [
    {
     "data": {
      "text/plain": [
       "(12288, 7, 32)"
      ]
     },
     "execution_count": 137,
     "metadata": {},
     "output_type": "execute_result"
    }
   ],
   "source": [
    "blk_0206_stacked_extracted_features.shape"
   ]
  },
  {
   "cell_type": "code",
   "execution_count": 138,
   "id": "638b98f5-1088-4038-b4e1-e526db6bf494",
   "metadata": {},
   "outputs": [
    {
     "data": {
      "text/plain": [
       "0.3615067"
      ]
     },
     "execution_count": 138,
     "metadata": {},
     "output_type": "execute_result"
    }
   ],
   "source": [
    "# see if the mean of the extracted features match to the ones earlier\n",
    "np.mean(blk_0206_stacked_extracted_features)"
   ]
  },
  {
   "cell_type": "code",
   "execution_count": 139,
   "id": "01be4fce-4c7c-423f-86b3-130bd16b73e5",
   "metadata": {},
   "outputs": [],
   "source": [
    "# save the data\n",
    "np.save(\"data/Overlapping_data/Test_out_targets/test_targets_blk_0206.npy\", blk_0206_stacked_extracted_features)"
   ]
  },
  {
   "cell_type": "code",
   "execution_count": 140,
   "id": "4759183c-15c0-4c38-a9b2-f8b0d0985695",
   "metadata": {},
   "outputs": [
    {
     "data": {
      "text/plain": [
       "1.0"
      ]
     },
     "execution_count": 140,
     "metadata": {},
     "output_type": "execute_result"
    }
   ],
   "source": [
    "# sanity check\n",
    "np.mean(blk_0206_stacked_extracted_features == np.load(\"data/Overlapping_data/Test_out_targets/test_targets_blk_0206.npy\"))"
   ]
  },
  {
   "cell_type": "code",
   "execution_count": 141,
   "id": "06a3932d-b0e8-4198-853b-3b20271bef27",
   "metadata": {},
   "outputs": [],
   "source": [
    "# Block 0302"
   ]
  },
  {
   "cell_type": "code",
   "execution_count": 142,
   "id": "6b66021e-0434-4675-9164-ec850538698f",
   "metadata": {},
   "outputs": [],
   "source": [
    "block_0302 = \"../../Spring_2024/S_lab_TasselNet/Block_14_TN/Block_14_images_and_xml\""
   ]
  },
  {
   "cell_type": "code",
   "execution_count": 143,
   "id": "bd2d7a78-5936-4ab4-bf5c-f8929a0c1698",
   "metadata": {},
   "outputs": [],
   "source": [
    "images_block_0302 = chose_xml_and_jpeg(block_0302)"
   ]
  },
  {
   "cell_type": "code",
   "execution_count": 144,
   "id": "a0cc87cd-1d2c-42b4-97e8-dc5f09f9425f",
   "metadata": {},
   "outputs": [
    {
     "data": {
      "text/plain": [
       "['Block0302_2020_08_26.jpeg',\n",
       " 'Block0302_2020_08_27.jpeg',\n",
       " 'Block0302_2020_08_28.jpeg',\n",
       " 'Block0302_2020_08_31.jpeg',\n",
       " 'Block0302_2020_09_02.jpeg',\n",
       " 'Block0302_2020_09_07.jpeg',\n",
       " 'Block0302_2020_09_16.jpeg']"
      ]
     },
     "execution_count": 144,
     "metadata": {},
     "output_type": "execute_result"
    }
   ],
   "source": [
    "images_block_0302"
   ]
  },
  {
   "cell_type": "code",
   "execution_count": 145,
   "id": "8e647a40-36c0-4b2a-9c37-d34bf56323d1",
   "metadata": {},
   "outputs": [
    {
     "name": "stdout",
     "output_type": "stream",
     "text": [
      "(12288, 32, 32, 3)\n",
      "384/384 [==============================] - 1s 2ms/step\n",
      "(12288, 32, 32, 3)\n",
      "384/384 [==============================] - 1s 2ms/step\n",
      "(12288, 32, 32, 3)\n",
      "384/384 [==============================] - 1s 2ms/step\n",
      "(12288, 32, 32, 3)\n",
      "384/384 [==============================] - 1s 2ms/step\n",
      "(12288, 32, 32, 3)\n",
      "384/384 [==============================] - 1s 2ms/step\n",
      "(12288, 32, 32, 3)\n",
      "384/384 [==============================] - 1s 2ms/step\n",
      "(12288, 32, 32, 3)\n",
      "384/384 [==============================] - 1s 2ms/step\n",
      "CPU times: user 28.3 s, sys: 1.46 s, total: 29.8 s\n",
      "Wall time: 28.6 s\n"
     ]
    }
   ],
   "source": [
    "%%time\n",
    "# get the extracted input features\n",
    "\n",
    "blk_0302_all_features = []\n",
    "for file in images_block_0302:\n",
    "    extracted_features = extract_features(file, block_0302)\n",
    "    blk_0302_all_features.append(extracted_features)"
   ]
  },
  {
   "cell_type": "code",
   "execution_count": 146,
   "id": "237160fe-6f80-4958-b8a8-7c2c004a3674",
   "metadata": {},
   "outputs": [],
   "source": [
    "# stack the extracted features\n",
    "blk_0302_stacked_extracted_features = np.stack(blk_0302_all_features, axis = 1)"
   ]
  },
  {
   "cell_type": "code",
   "execution_count": 147,
   "id": "484d96f9-edd1-4d64-b131-f4e8b206cbae",
   "metadata": {},
   "outputs": [
    {
     "data": {
      "text/plain": [
       "(12288, 7, 32)"
      ]
     },
     "execution_count": 147,
     "metadata": {},
     "output_type": "execute_result"
    }
   ],
   "source": [
    "blk_0302_stacked_extracted_features.shape"
   ]
  },
  {
   "cell_type": "code",
   "execution_count": 148,
   "id": "d3a46b24-8b94-4c10-9072-656cb6dc2a63",
   "metadata": {},
   "outputs": [
    {
     "data": {
      "text/plain": [
       "0.3624974"
      ]
     },
     "execution_count": 148,
     "metadata": {},
     "output_type": "execute_result"
    }
   ],
   "source": [
    "# see if the mean of the extracted features match to the ones earlier\n",
    "np.mean(blk_0302_stacked_extracted_features)"
   ]
  },
  {
   "cell_type": "code",
   "execution_count": 149,
   "id": "5a602eb2-2802-4ac4-99af-1dcd2698ced6",
   "metadata": {},
   "outputs": [],
   "source": [
    "# save the data\n",
    "np.save(\"data/Overlapping_data/Test_out_targets/test_targets_blk_0302.npy\", blk_0302_stacked_extracted_features)"
   ]
  },
  {
   "cell_type": "code",
   "execution_count": 150,
   "id": "3cb4f6fa-22ef-4bfd-abed-1e294249439c",
   "metadata": {},
   "outputs": [
    {
     "data": {
      "text/plain": [
       "1.0"
      ]
     },
     "execution_count": 150,
     "metadata": {},
     "output_type": "execute_result"
    }
   ],
   "source": [
    "# sanity check\n",
    "np.mean(blk_0302_stacked_extracted_features == np.load(\"data/Overlapping_data/Test_out_targets/test_targets_blk_0302.npy\"))"
   ]
  },
  {
   "cell_type": "code",
   "execution_count": 151,
   "id": "e53d8768-0989-4461-b965-75a7ea60a70b",
   "metadata": {},
   "outputs": [],
   "source": [
    "# Block 0303"
   ]
  },
  {
   "cell_type": "code",
   "execution_count": 152,
   "id": "a9fe74e3-cdaf-4d1c-8700-8cc86c05c1fe",
   "metadata": {},
   "outputs": [],
   "source": [
    "block_0303 = \"../../Spring_2024/S_lab_TasselNet/Block_15_TN/Block_15_images_and_xml\""
   ]
  },
  {
   "cell_type": "code",
   "execution_count": 153,
   "id": "bcd61fee-d883-4e11-853e-293b4c7441fd",
   "metadata": {},
   "outputs": [],
   "source": [
    "images_block_0303 = chose_xml_and_jpeg(block_0303)"
   ]
  },
  {
   "cell_type": "code",
   "execution_count": 154,
   "id": "660911e6-ed87-4a30-be73-6b469210f1be",
   "metadata": {},
   "outputs": [
    {
     "data": {
      "text/plain": [
       "['Block0303_2020_08_26.jpeg',\n",
       " 'Block0303_2020_08_27.jpeg',\n",
       " 'Block0303_2020_08_28.jpeg',\n",
       " 'Block0303_2020_08_31.jpeg',\n",
       " 'Block0303_2020_09_02.jpeg',\n",
       " 'Block0303_2020_09_07.jpeg',\n",
       " 'Block0303_2020_09_16.jpeg']"
      ]
     },
     "execution_count": 154,
     "metadata": {},
     "output_type": "execute_result"
    }
   ],
   "source": [
    "images_block_0303"
   ]
  },
  {
   "cell_type": "code",
   "execution_count": 155,
   "id": "6b52ab48-2769-4492-8179-d82f992897aa",
   "metadata": {},
   "outputs": [
    {
     "name": "stdout",
     "output_type": "stream",
     "text": [
      "(12288, 32, 32, 3)\n",
      "384/384 [==============================] - 1s 2ms/step\n",
      "(12288, 32, 32, 3)\n",
      "384/384 [==============================] - 1s 2ms/step\n",
      "(12288, 32, 32, 3)\n",
      "384/384 [==============================] - 1s 2ms/step\n",
      "(12288, 32, 32, 3)\n",
      "384/384 [==============================] - 1s 2ms/step\n",
      "(12288, 32, 32, 3)\n",
      "384/384 [==============================] - 1s 2ms/step\n",
      "(12288, 32, 32, 3)\n",
      "384/384 [==============================] - 1s 2ms/step\n",
      "(12288, 32, 32, 3)\n",
      "384/384 [==============================] - 1s 2ms/step\n",
      "CPU times: user 28.2 s, sys: 1.28 s, total: 29.5 s\n",
      "Wall time: 28.3 s\n"
     ]
    }
   ],
   "source": [
    "%%time\n",
    "# get the extracted input features\n",
    "\n",
    "blk_0303_all_features = []\n",
    "for file in images_block_0303:\n",
    "    extracted_features = extract_features(file, block_0303)\n",
    "    blk_0303_all_features.append(extracted_features)"
   ]
  },
  {
   "cell_type": "code",
   "execution_count": 156,
   "id": "b29fb893-e610-479a-9d06-51a3dbf8fc3c",
   "metadata": {},
   "outputs": [],
   "source": [
    "# stack the extracted features\n",
    "blk_0303_stacked_extracted_features = np.stack(blk_0303_all_features, axis = 1)"
   ]
  },
  {
   "cell_type": "code",
   "execution_count": 157,
   "id": "90659bd9-b893-47a8-ad38-ed3e53bacb01",
   "metadata": {},
   "outputs": [
    {
     "data": {
      "text/plain": [
       "(12288, 7, 32)"
      ]
     },
     "execution_count": 157,
     "metadata": {},
     "output_type": "execute_result"
    }
   ],
   "source": [
    "blk_0303_stacked_extracted_features.shape"
   ]
  },
  {
   "cell_type": "code",
   "execution_count": 158,
   "id": "8cbdcc85-e7d0-4d12-bd3f-4025998154b1",
   "metadata": {},
   "outputs": [
    {
     "data": {
      "text/plain": [
       "0.35323527"
      ]
     },
     "execution_count": 158,
     "metadata": {},
     "output_type": "execute_result"
    }
   ],
   "source": [
    "# see if the mean of the extracted features match to the ones earlier\n",
    "np.mean(blk_0303_stacked_extracted_features)"
   ]
  },
  {
   "cell_type": "code",
   "execution_count": 159,
   "id": "795f787b-04cf-4e0c-a6ec-18bf0d93ab28",
   "metadata": {},
   "outputs": [],
   "source": [
    "# save the data\n",
    "np.save(\"data/Overlapping_data/Test_out_targets/test_targets_blk_0303.npy\", blk_0303_stacked_extracted_features)"
   ]
  },
  {
   "cell_type": "code",
   "execution_count": 160,
   "id": "2fe25eb0-c63b-4e7a-b74f-c35b23ddc5af",
   "metadata": {},
   "outputs": [
    {
     "data": {
      "text/plain": [
       "1.0"
      ]
     },
     "execution_count": 160,
     "metadata": {},
     "output_type": "execute_result"
    }
   ],
   "source": [
    "# sanity check\n",
    "np.mean(blk_0303_stacked_extracted_features == np.load(\"data/Overlapping_data/Test_out_targets/test_targets_blk_0303.npy\"))"
   ]
  },
  {
   "cell_type": "code",
   "execution_count": 161,
   "id": "a44fe767-8a3c-4720-95d2-fd3d0f2ab67d",
   "metadata": {},
   "outputs": [],
   "source": [
    "# Block 0304"
   ]
  },
  {
   "cell_type": "code",
   "execution_count": 162,
   "id": "20d62b69-ef17-40e4-9a69-f10522eb9514",
   "metadata": {},
   "outputs": [],
   "source": [
    "block_0304 = \"../../Spring_2024/S_lab_TasselNet/Block_16_TN/Block_16_images_and_xml\""
   ]
  },
  {
   "cell_type": "code",
   "execution_count": 163,
   "id": "23dd517a-d29e-48b7-828f-7fd47a8e603f",
   "metadata": {},
   "outputs": [],
   "source": [
    "images_block_0304 = chose_xml_and_jpeg(block_0304)"
   ]
  },
  {
   "cell_type": "code",
   "execution_count": 164,
   "id": "32081532-b559-4fbb-b446-5a10f53b5df4",
   "metadata": {},
   "outputs": [
    {
     "data": {
      "text/plain": [
       "['Block0304_2020_08_26.jpeg',\n",
       " 'Block0304_2020_08_27.jpeg',\n",
       " 'Block0304_2020_08_28.jpeg',\n",
       " 'Block0304_2020_08_31.jpeg',\n",
       " 'Block0304_2020_09_02.jpeg',\n",
       " 'Block0304_2020_09_07.jpeg',\n",
       " 'Block0304_2020_09_16.jpeg']"
      ]
     },
     "execution_count": 164,
     "metadata": {},
     "output_type": "execute_result"
    }
   ],
   "source": [
    "images_block_0304"
   ]
  },
  {
   "cell_type": "code",
   "execution_count": 165,
   "id": "93a739e6-6bcf-4d54-9d07-0c8e67036689",
   "metadata": {},
   "outputs": [
    {
     "name": "stdout",
     "output_type": "stream",
     "text": [
      "(12288, 32, 32, 3)\n",
      "384/384 [==============================] - 1s 2ms/step\n",
      "(12288, 32, 32, 3)\n",
      "384/384 [==============================] - 1s 2ms/step\n",
      "(12288, 32, 32, 3)\n",
      "384/384 [==============================] - 1s 2ms/step\n",
      "(12288, 32, 32, 3)\n",
      "384/384 [==============================] - 1s 2ms/step\n",
      "(12288, 32, 32, 3)\n",
      "384/384 [==============================] - 1s 2ms/step\n",
      "(12288, 32, 32, 3)\n",
      "384/384 [==============================] - 1s 2ms/step\n",
      "(12288, 32, 32, 3)\n",
      "384/384 [==============================] - 1s 2ms/step\n",
      "CPU times: user 28.3 s, sys: 1.34 s, total: 29.6 s\n",
      "Wall time: 28.4 s\n"
     ]
    }
   ],
   "source": [
    "%%time\n",
    "# get the extracted input features\n",
    "\n",
    "blk_0304_all_features = []\n",
    "for file in images_block_0304:\n",
    "    extracted_features = extract_features(file, block_0304)\n",
    "    blk_0304_all_features.append(extracted_features)"
   ]
  },
  {
   "cell_type": "code",
   "execution_count": 166,
   "id": "0926c094-e884-4a8e-b8e4-fed770f149f8",
   "metadata": {},
   "outputs": [],
   "source": [
    "# stack the extracted features\n",
    "blk_0304_stacked_extracted_features = np.stack(blk_0304_all_features, axis = 1)"
   ]
  },
  {
   "cell_type": "code",
   "execution_count": 167,
   "id": "c9041916-79de-4d0b-a6b7-bb0db1e57410",
   "metadata": {},
   "outputs": [
    {
     "data": {
      "text/plain": [
       "(12288, 7, 32)"
      ]
     },
     "execution_count": 167,
     "metadata": {},
     "output_type": "execute_result"
    }
   ],
   "source": [
    "blk_0304_stacked_extracted_features.shape"
   ]
  },
  {
   "cell_type": "code",
   "execution_count": 168,
   "id": "72a008ec-5182-495f-9d67-57a007dacd2e",
   "metadata": {},
   "outputs": [
    {
     "data": {
      "text/plain": [
       "0.38126844"
      ]
     },
     "execution_count": 168,
     "metadata": {},
     "output_type": "execute_result"
    }
   ],
   "source": [
    "# see if the mean of the extracted features match to the ones earlier\n",
    "np.mean(blk_0304_stacked_extracted_features)"
   ]
  },
  {
   "cell_type": "code",
   "execution_count": 169,
   "id": "d6aaa330-0466-464b-8d42-a474a8e7494c",
   "metadata": {},
   "outputs": [],
   "source": [
    "# save the data\n",
    "np.save(\"data/Overlapping_data/Test_out_targets/test_targets_blk_0304.npy\", blk_0304_stacked_extracted_features)"
   ]
  },
  {
   "cell_type": "code",
   "execution_count": 170,
   "id": "d44c7721-8997-4b08-a183-98eb25b34ced",
   "metadata": {},
   "outputs": [
    {
     "data": {
      "text/plain": [
       "1.0"
      ]
     },
     "execution_count": 170,
     "metadata": {},
     "output_type": "execute_result"
    }
   ],
   "source": [
    "# sanity check\n",
    "np.mean(blk_0304_stacked_extracted_features == np.load(\"data/Overlapping_data/Test_out_targets/test_targets_blk_0304.npy\"))"
   ]
  },
  {
   "cell_type": "code",
   "execution_count": 171,
   "id": "0180d54f-c162-4954-805f-f1a763963a4b",
   "metadata": {},
   "outputs": [],
   "source": [
    "# Block 0305"
   ]
  },
  {
   "cell_type": "code",
   "execution_count": 172,
   "id": "6bd836dd-3c83-4853-a420-a298bd3eda96",
   "metadata": {},
   "outputs": [],
   "source": [
    "block_0305 = \"../../Spring_2024/S_lab_TasselNet/Block_17_TN/Block_17_images_and_xml\""
   ]
  },
  {
   "cell_type": "code",
   "execution_count": 173,
   "id": "b6f0ad13-f5b7-4378-bb43-f6f180bd0430",
   "metadata": {},
   "outputs": [],
   "source": [
    "images_block_0305 = chose_xml_and_jpeg(block_0305)"
   ]
  },
  {
   "cell_type": "code",
   "execution_count": 174,
   "id": "42f8b388-bf6e-40fb-95c4-40cbee871724",
   "metadata": {},
   "outputs": [
    {
     "data": {
      "text/plain": [
       "['Block0305_2020_08_26.jpeg',\n",
       " 'Block0305_2020_08_27.jpeg',\n",
       " 'Block0305_2020_08_28.jpeg',\n",
       " 'Block0305_2020_08_31.jpeg',\n",
       " 'Block0305_2020_09_02.jpeg',\n",
       " 'Block0305_2020_09_07.jpeg',\n",
       " 'Block0305_2020_09_16.jpeg']"
      ]
     },
     "execution_count": 174,
     "metadata": {},
     "output_type": "execute_result"
    }
   ],
   "source": [
    "images_block_0305"
   ]
  },
  {
   "cell_type": "code",
   "execution_count": 175,
   "id": "dc55a994-25f5-497d-bfe6-22ae65a2fd92",
   "metadata": {},
   "outputs": [
    {
     "name": "stdout",
     "output_type": "stream",
     "text": [
      "(12288, 32, 32, 3)\n",
      "384/384 [==============================] - 1s 2ms/step\n",
      "(12288, 32, 32, 3)\n",
      "384/384 [==============================] - 1s 2ms/step\n",
      "(12288, 32, 32, 3)\n",
      "384/384 [==============================] - 1s 2ms/step\n",
      "(12288, 32, 32, 3)\n",
      "384/384 [==============================] - 1s 2ms/step\n",
      "(12288, 32, 32, 3)\n",
      "384/384 [==============================] - 1s 2ms/step\n",
      "(12288, 32, 32, 3)\n",
      "384/384 [==============================] - 1s 2ms/step\n",
      "(12288, 32, 32, 3)\n",
      "384/384 [==============================] - 1s 2ms/step\n",
      "CPU times: user 28.4 s, sys: 1.39 s, total: 29.8 s\n",
      "Wall time: 28.5 s\n"
     ]
    }
   ],
   "source": [
    "%%time\n",
    "# get the extracted input features\n",
    "\n",
    "blk_0305_all_features = []\n",
    "for file in images_block_0305:\n",
    "    extracted_features = extract_features(file, block_0305)\n",
    "    blk_0305_all_features.append(extracted_features)"
   ]
  },
  {
   "cell_type": "code",
   "execution_count": 176,
   "id": "f9a0e585-efa9-4056-8bd4-469efb135ca4",
   "metadata": {},
   "outputs": [],
   "source": [
    "# stack the extracted features\n",
    "blk_0305_stacked_extracted_features = np.stack(blk_0305_all_features, axis = 1)"
   ]
  },
  {
   "cell_type": "code",
   "execution_count": 177,
   "id": "d88bf804-f0b6-40a2-8c6f-3b9c2678f37c",
   "metadata": {},
   "outputs": [
    {
     "data": {
      "text/plain": [
       "(12288, 7, 32)"
      ]
     },
     "execution_count": 177,
     "metadata": {},
     "output_type": "execute_result"
    }
   ],
   "source": [
    "blk_0305_stacked_extracted_features.shape"
   ]
  },
  {
   "cell_type": "code",
   "execution_count": 178,
   "id": "9ca6aca1-79e4-44b9-bd14-fec0c059cffa",
   "metadata": {},
   "outputs": [
    {
     "data": {
      "text/plain": [
       "0.36241043"
      ]
     },
     "execution_count": 178,
     "metadata": {},
     "output_type": "execute_result"
    }
   ],
   "source": [
    "# see if the mean of the extracted features match to the ones earlier\n",
    "np.mean(blk_0305_stacked_extracted_features)"
   ]
  },
  {
   "cell_type": "code",
   "execution_count": 179,
   "id": "e4c3c50b-4fdf-4c0b-b4df-765651077a15",
   "metadata": {},
   "outputs": [],
   "source": [
    "# save the data\n",
    "np.save(\"data/Overlapping_data/Test_out_targets/test_targets_blk_0305.npy\", blk_0305_stacked_extracted_features)"
   ]
  },
  {
   "cell_type": "code",
   "execution_count": 180,
   "id": "11787411-c4dc-49d8-bcae-2b61b71ec939",
   "metadata": {},
   "outputs": [
    {
     "data": {
      "text/plain": [
       "1.0"
      ]
     },
     "execution_count": 180,
     "metadata": {},
     "output_type": "execute_result"
    }
   ],
   "source": [
    "# sanity check\n",
    "np.mean(blk_0305_stacked_extracted_features == np.load(\"data/Overlapping_data/Test_out_targets/test_targets_blk_0305.npy\"))"
   ]
  },
  {
   "cell_type": "code",
   "execution_count": 181,
   "id": "b15c04a2-cacb-44fe-92de-a7e9227d3c94",
   "metadata": {},
   "outputs": [],
   "source": [
    "# Block 0306"
   ]
  },
  {
   "cell_type": "code",
   "execution_count": 182,
   "id": "e8b9e954-3193-4db3-9375-a68aa85e785c",
   "metadata": {},
   "outputs": [],
   "source": [
    "block_0306 = \"../../Spring_2024/S_lab_TasselNet/Block_18_TN/Block_18_images_and_xml\""
   ]
  },
  {
   "cell_type": "code",
   "execution_count": 183,
   "id": "54deb73d-cb4e-4d89-8812-7b0e26776d64",
   "metadata": {},
   "outputs": [],
   "source": [
    "images_block_0306 = chose_xml_and_jpeg(block_0306)"
   ]
  },
  {
   "cell_type": "code",
   "execution_count": 184,
   "id": "f4722891-03e2-4636-b01b-395240217f57",
   "metadata": {},
   "outputs": [
    {
     "data": {
      "text/plain": [
       "['Block0306_2020_08_26.jpeg',\n",
       " 'Block0306_2020_08_27.jpeg',\n",
       " 'Block0306_2020_08_28.jpeg',\n",
       " 'Block0306_2020_08_31.jpeg',\n",
       " 'Block0306_2020_09_02.jpeg',\n",
       " 'Block0306_2020_09_07.jpeg',\n",
       " 'Block0306_2020_09_16.jpeg']"
      ]
     },
     "execution_count": 184,
     "metadata": {},
     "output_type": "execute_result"
    }
   ],
   "source": [
    "images_block_0306"
   ]
  },
  {
   "cell_type": "code",
   "execution_count": 185,
   "id": "c30bfbab-4a7f-4dbd-953d-05b0412ace3b",
   "metadata": {},
   "outputs": [
    {
     "name": "stdout",
     "output_type": "stream",
     "text": [
      "(12288, 32, 32, 3)\n",
      "384/384 [==============================] - 1s 2ms/step\n",
      "(12288, 32, 32, 3)\n",
      "384/384 [==============================] - 1s 2ms/step\n",
      "(12288, 32, 32, 3)\n",
      "384/384 [==============================] - 1s 2ms/step\n",
      "(12288, 32, 32, 3)\n",
      "384/384 [==============================] - 1s 2ms/step\n",
      "(12288, 32, 32, 3)\n",
      "384/384 [==============================] - 1s 2ms/step\n",
      "(12288, 32, 32, 3)\n",
      "384/384 [==============================] - 1s 2ms/step\n",
      "(12288, 32, 32, 3)\n",
      "384/384 [==============================] - 1s 2ms/step\n",
      "CPU times: user 28.4 s, sys: 1.32 s, total: 29.7 s\n",
      "Wall time: 28.5 s\n"
     ]
    }
   ],
   "source": [
    "%%time\n",
    "# get the extracted input features\n",
    "\n",
    "blk_0306_all_features = []\n",
    "for file in images_block_0306:\n",
    "    extracted_features = extract_features(file, block_0306)\n",
    "    blk_0306_all_features.append(extracted_features)"
   ]
  },
  {
   "cell_type": "code",
   "execution_count": 186,
   "id": "5ade4c63-64b5-47b2-bbc2-27b051c9b229",
   "metadata": {},
   "outputs": [],
   "source": [
    "# stack the extracted features\n",
    "blk_0306_stacked_extracted_features = np.stack(blk_0306_all_features, axis = 1)"
   ]
  },
  {
   "cell_type": "code",
   "execution_count": 187,
   "id": "d44799a2-47e4-4252-b59c-96597446232a",
   "metadata": {},
   "outputs": [
    {
     "data": {
      "text/plain": [
       "(12288, 7, 32)"
      ]
     },
     "execution_count": 187,
     "metadata": {},
     "output_type": "execute_result"
    }
   ],
   "source": [
    "blk_0306_stacked_extracted_features.shape"
   ]
  },
  {
   "cell_type": "code",
   "execution_count": 188,
   "id": "428bb2b5-d368-416e-94f0-241332ba5440",
   "metadata": {},
   "outputs": [
    {
     "data": {
      "text/plain": [
       "0.3712025"
      ]
     },
     "execution_count": 188,
     "metadata": {},
     "output_type": "execute_result"
    }
   ],
   "source": [
    "# see if the mean of the extracted features match to the ones earlier\n",
    "np.mean(blk_0306_stacked_extracted_features)"
   ]
  },
  {
   "cell_type": "code",
   "execution_count": 189,
   "id": "c331d226-6793-496e-84ef-26b2fd2c7bf5",
   "metadata": {},
   "outputs": [],
   "source": [
    "# save the data\n",
    "np.save(\"data/Overlapping_data/Test_out_targets/test_targets_blk_0306.npy\", blk_0306_stacked_extracted_features)"
   ]
  },
  {
   "cell_type": "code",
   "execution_count": 190,
   "id": "01e2f5f4-dfb4-48c0-b445-d3b219d3ca59",
   "metadata": {},
   "outputs": [
    {
     "data": {
      "text/plain": [
       "1.0"
      ]
     },
     "execution_count": 190,
     "metadata": {},
     "output_type": "execute_result"
    }
   ],
   "source": [
    "# sanity check\n",
    "np.mean(blk_0306_stacked_extracted_features == np.load(\"data/Overlapping_data/Test_out_targets/test_targets_blk_0306.npy\"))"
   ]
  }
 ],
 "metadata": {
  "kernelspec": {
   "display_name": "Python (nrdstor_tfp_for_TN)",
   "language": "python",
   "name": "nrdstor_tfp_for_tn"
  },
  "language_info": {
   "codemirror_mode": {
    "name": "ipython",
    "version": 3
   },
   "file_extension": ".py",
   "mimetype": "text/x-python",
   "name": "python",
   "nbconvert_exporter": "python",
   "pygments_lexer": "ipython3",
   "version": "3.10.14"
  }
 },
 "nbformat": 4,
 "nbformat_minor": 5
}

{
 "cells": [
  {
   "cell_type": "code",
   "execution_count": 1,
   "id": "5308e591-58e6-4700-aa68-7723683ed9d0",
   "metadata": {},
   "outputs": [
    {
     "name": "stderr",
     "output_type": "stream",
     "text": [
      "2025-07-15 20:54:53.891677: I tensorflow/core/util/port.cc:113] oneDNN custom operations are on. You may see slightly different numerical results due to floating-point round-off errors from different computation orders. To turn them off, set the environment variable `TF_ENABLE_ONEDNN_OPTS=0`.\n",
      "2025-07-15 20:54:53.927096: E external/local_xla/xla/stream_executor/cuda/cuda_dnn.cc:9261] Unable to register cuDNN factory: Attempting to register factory for plugin cuDNN when one has already been registered\n",
      "2025-07-15 20:54:53.927119: E external/local_xla/xla/stream_executor/cuda/cuda_fft.cc:607] Unable to register cuFFT factory: Attempting to register factory for plugin cuFFT when one has already been registered\n",
      "2025-07-15 20:54:53.927948: E external/local_xla/xla/stream_executor/cuda/cuda_blas.cc:1515] Unable to register cuBLAS factory: Attempting to register factory for plugin cuBLAS when one has already been registered\n",
      "2025-07-15 20:54:53.933584: I tensorflow/core/platform/cpu_feature_guard.cc:182] This TensorFlow binary is optimized to use available CPU instructions in performance-critical operations.\n",
      "To enable the following instructions: SSE4.1 SSE4.2 AVX AVX2 AVX512F AVX512_VNNI FMA, in other operations, rebuild TensorFlow with the appropriate compiler flags.\n"
     ]
    }
   ],
   "source": [
    "import tensorflow as tf\n",
    "import pandas as pd\n",
    "import numpy as np\n",
    "import os\n",
    "from sklearn.metrics import mean_squared_error, mean_absolute_error, r2_score\n",
    "from scipy.stats import pearsonr\n",
    "from data_generator import DataGenerator, batch_predict"
   ]
  },
  {
   "cell_type": "code",
   "execution_count": 2,
   "id": "a39fdfeb-eefe-491c-9891-2af1fc78ae3b",
   "metadata": {},
   "outputs": [],
   "source": [
    "# I think we can get the metrics in a for loop for all the blocks individually?\n",
    "# And later we will compute an average metric too"
   ]
  },
  {
   "cell_type": "code",
   "execution_count": 3,
   "id": "458266b9-95e4-49f1-aeec-a04bcc91c525",
   "metadata": {},
   "outputs": [
    {
     "name": "stdout",
     "output_type": "stream",
     "text": [
      "WARNING:tensorflow:Layer lstm will not use cuDNN kernels since it doesn't meet the criteria. It will use a generic GPU kernel as fallback when running on GPU.\n",
      "WARNING:tensorflow:Layer lstm_1 will not use cuDNN kernels since it doesn't meet the criteria. It will use a generic GPU kernel as fallback when running on GPU.\n"
     ]
    },
    {
     "name": "stderr",
     "output_type": "stream",
     "text": [
      "2025-07-15 20:56:11.070436: I tensorflow/core/common_runtime/gpu/gpu_device.cc:1929] Created device /job:localhost/replica:0/task:0/device:GPU:0 with 31134 MB memory:  -> device: 0, name: Tesla V100S-PCIE-32GB, pci bus id: 0000:06:00.0, compute capability: 7.0\n"
     ]
    }
   ],
   "source": [
    "# get teh trained model?\n",
    "overlapping_model = tf.keras.models.load_model(\"models/CNN_seq2seq_overlapping.keras\")"
   ]
  },
  {
   "cell_type": "code",
   "execution_count": 4,
   "id": "57baeb78-b921-4580-87c3-be1d13e154bc",
   "metadata": {},
   "outputs": [],
   "source": [
    "# locate the test data\n",
    "\n",
    "# input features\n",
    "input_features_loc = 'data/Overlapping_data/Test_input_features'\n",
    "input_contents = os.listdir(input_features_loc)\n",
    "input_contents.sort()"
   ]
  },
  {
   "cell_type": "code",
   "execution_count": 5,
   "id": "01b284f2-7a29-41cc-82af-2464ff453c7a",
   "metadata": {},
   "outputs": [
    {
     "data": {
      "text/plain": [
       "['test_data_blk_0103.npy',\n",
       " 'test_data_blk_0104.npy',\n",
       " 'test_data_blk_0105.npy',\n",
       " 'test_data_blk_0106.npy',\n",
       " 'test_data_blk_0201.npy',\n",
       " 'test_data_blk_0202.npy',\n",
       " 'test_data_blk_0205.npy',\n",
       " 'test_data_blk_0206.npy',\n",
       " 'test_data_blk_0302.npy',\n",
       " 'test_data_blk_0303.npy',\n",
       " 'test_data_blk_0304.npy',\n",
       " 'test_data_blk_0305.npy',\n",
       " 'test_data_blk_0306.npy']"
      ]
     },
     "execution_count": 5,
     "metadata": {},
     "output_type": "execute_result"
    }
   ],
   "source": [
    "input_contents"
   ]
  },
  {
   "cell_type": "code",
   "execution_count": 6,
   "id": "98a1d2e1-ca35-4e5e-b166-2e9f8dfea7e5",
   "metadata": {},
   "outputs": [],
   "source": [
    "# test targets\n",
    "out_targets_loc = 'data/Overlapping_data/Test_out_targets'\n",
    "out_contents = os.listdir(out_targets_loc)\n",
    "out_contents.sort()"
   ]
  },
  {
   "cell_type": "code",
   "execution_count": 7,
   "id": "f9079375-3319-430d-a9c6-b644c9b1a105",
   "metadata": {},
   "outputs": [
    {
     "data": {
      "text/plain": [
       "['test_targets_blk_0103.npy',\n",
       " 'test_targets_blk_0104.npy',\n",
       " 'test_targets_blk_0105.npy',\n",
       " 'test_targets_blk_0106.npy',\n",
       " 'test_targets_blk_0201.npy',\n",
       " 'test_targets_blk_0202.npy',\n",
       " 'test_targets_blk_0205.npy',\n",
       " 'test_targets_blk_0206.npy',\n",
       " 'test_targets_blk_0302.npy',\n",
       " 'test_targets_blk_0303.npy',\n",
       " 'test_targets_blk_0304.npy',\n",
       " 'test_targets_blk_0305.npy',\n",
       " 'test_targets_blk_0306.npy']"
      ]
     },
     "execution_count": 7,
     "metadata": {},
     "output_type": "execute_result"
    }
   ],
   "source": [
    "out_contents"
   ]
  },
  {
   "cell_type": "code",
   "execution_count": 8,
   "id": "50466f39-ec86-4b82-ba99-aec1dea7f4ab",
   "metadata": {},
   "outputs": [],
   "source": [
    "trial_test_features = np.load(os.path.join(input_features_loc, input_contents[0]))"
   ]
  },
  {
   "cell_type": "code",
   "execution_count": 9,
   "id": "34989e7a-3558-405d-a995-0cb551751b8c",
   "metadata": {},
   "outputs": [
    {
     "data": {
      "text/plain": [
       "(12288, 13, 32, 32, 3)"
      ]
     },
     "execution_count": 9,
     "metadata": {},
     "output_type": "execute_result"
    }
   ],
   "source": [
    "trial_test_features.shape"
   ]
  },
  {
   "cell_type": "code",
   "execution_count": 10,
   "id": "5065168d-1723-41de-8095-319fb1578a86",
   "metadata": {},
   "outputs": [],
   "source": [
    "trial_test_targets = np.load(os.path.join(out_targets_loc, out_contents[0]))"
   ]
  },
  {
   "cell_type": "code",
   "execution_count": 11,
   "id": "72b9faa9-d853-4717-8488-60e9f9818dd2",
   "metadata": {},
   "outputs": [
    {
     "data": {
      "text/plain": [
       "(12288, 7, 32)"
      ]
     },
     "execution_count": 11,
     "metadata": {},
     "output_type": "execute_result"
    }
   ],
   "source": [
    "trial_test_targets.shape"
   ]
  },
  {
   "cell_type": "code",
   "execution_count": 12,
   "id": "a77abfe7-e889-4e86-86de-fa055f8862cd",
   "metadata": {},
   "outputs": [],
   "source": [
    "batch_size = 32\n",
    "test_data_gen = DataGenerator(trial_test_features, trial_test_targets, batch_size, shuffle=False)"
   ]
  },
  {
   "cell_type": "code",
   "execution_count": 13,
   "id": "0bc73033-fddd-4d3d-8ce3-f22fbbfdc618",
   "metadata": {},
   "outputs": [
    {
     "name": "stderr",
     "output_type": "stream",
     "text": [
      "2025-07-15 20:56:17.337669: I external/local_xla/xla/stream_executor/cuda/cuda_dnn.cc:454] Loaded cuDNN version 8907\n"
     ]
    },
    {
     "name": "stdout",
     "output_type": "stream",
     "text": [
      "Predictions: 12288\n",
      "True: 12288\n",
      "CPU times: user 23.5 s, sys: 1.33 s, total: 24.8 s\n",
      "Wall time: 22.8 s\n"
     ]
    }
   ],
   "source": [
    "%%time\n",
    "test_preds, test_targets = batch_predict(overlapping_model, test_data_gen, flatten=True, verbose=False)"
   ]
  },
  {
   "cell_type": "code",
   "execution_count": 14,
   "id": "d3c507f9-479c-43b0-a4f8-c3d0f38662b9",
   "metadata": {},
   "outputs": [
    {
     "data": {
      "text/plain": [
       "(12288, 7, 32)"
      ]
     },
     "execution_count": 14,
     "metadata": {},
     "output_type": "execute_result"
    }
   ],
   "source": [
    "test_preds.shape"
   ]
  },
  {
   "cell_type": "code",
   "execution_count": 15,
   "id": "dc365f74-731d-496f-a39d-055032ae17a2",
   "metadata": {},
   "outputs": [
    {
     "data": {
      "text/plain": [
       "(12288, 7, 32)"
      ]
     },
     "execution_count": 15,
     "metadata": {},
     "output_type": "execute_result"
    }
   ],
   "source": [
    "test_targets.shape"
   ]
  },
  {
   "cell_type": "code",
   "execution_count": 16,
   "id": "72feebb9-fbe6-4769-8c54-ee7cb079f3ab",
   "metadata": {},
   "outputs": [
    {
     "data": {
      "text/plain": [
       "1.0"
      ]
     },
     "execution_count": 16,
     "metadata": {},
     "output_type": "execute_result"
    }
   ],
   "source": [
    "np.mean(trial_test_targets == test_targets)"
   ]
  },
  {
   "cell_type": "code",
   "execution_count": null,
   "id": "1184aa1a-1467-444d-ba02-c6ca732d766e",
   "metadata": {
    "scrolled": true
   },
   "outputs": [],
   "source": [
    "%%time\n",
    "# Get preds in a loop\n",
    "# now how to proceed? We may need to do a batch predict now using the generator \n",
    "\n",
    "test_rmse = []\n",
    "test_mae = []\n",
    "test_r2 = []\n",
    "test_personr = []\n",
    "preds = []\n",
    "for i in range(len(input_contents)):\n",
    "    # load the features\n",
    "    test_features = np.load(os.path.join(input_features_loc, input_contents[i]))\n",
    "    # load targets\n",
    "    test_targets = np.load(os.path.join(out_targets_loc, out_contents[i]))\n",
    "    test_data_gen = DataGenerator(test_features, test_targets, batch_size, shuffle=False)\n",
    "    # Use the batch predictions to generate the predictions\n",
    "    test_preds, test_targets_alt = batch_predict(overlapping_model, test_data_gen, flatten=True, verbose=True)\n",
    "    preds.append(test_preds)\n",
    "    print(np.mean(test_targets == test_targets_alt))\n",
    "    # compute the test scores, I think we need to flatten these before computing the scores - or can use tf, but the answers are going to be the same\n",
    "    test_preds_flatten = test_preds.flatten()\n",
    "    test_targets_flatten = test_targets_alt.flatten()\n",
    "    mae = mean_absolute_error(test_targets_flatten, test_preds_flatten)\n",
    "    test_mae.append(mae)\n",
    "    rmse = np.sqrt(mean_squared_error(test_targets_flatten, test_preds_flatten))\n",
    "    test_rmse.append(rmse)\n",
    "    rsquare = r2_score(test_targets_flatten, test_preds_flatten)\n",
    "    test_r2.append(rsquare)\n",
    "    pearsonr_score = pearsonr(test_targets_flatten, test_preds_flatten)[0]\n",
    "    test_personr.append(pearsonr_score)"
   ]
  },
  {
   "cell_type": "code",
   "execution_count": 18,
   "id": "27b0f242-b1ca-45b6-9b73-505434c36a1c",
   "metadata": {},
   "outputs": [
    {
     "data": {
      "text/plain": [
       "[0.31167305,\n",
       " 0.29188478,\n",
       " 0.30059206,\n",
       " 0.28810465,\n",
       " 0.31843045,\n",
       " 0.30274057,\n",
       " 0.29404983,\n",
       " 0.3454868,\n",
       " 0.3126328,\n",
       " 0.30507272,\n",
       " 0.30527887,\n",
       " 0.33070317,\n",
       " 0.3213102]"
      ]
     },
     "execution_count": 18,
     "metadata": {},
     "output_type": "execute_result"
    }
   ],
   "source": [
    "test_rmse"
   ]
  },
  {
   "cell_type": "code",
   "execution_count": 19,
   "id": "ba7750a2-0965-42fb-8801-0ad1c865f462",
   "metadata": {},
   "outputs": [
    {
     "data": {
      "text/plain": [
       "[0.14829092,\n",
       " 0.1346112,\n",
       " 0.1401546,\n",
       " 0.1311867,\n",
       " 0.15043406,\n",
       " 0.14265612,\n",
       " 0.13445367,\n",
       " 0.1619271,\n",
       " 0.1468941,\n",
       " 0.14274958,\n",
       " 0.1413797,\n",
       " 0.15627992,\n",
       " 0.14830215]"
      ]
     },
     "execution_count": 19,
     "metadata": {},
     "output_type": "execute_result"
    }
   ],
   "source": [
    "test_mae"
   ]
  },
  {
   "cell_type": "code",
   "execution_count": 20,
   "id": "e501e2d6-055b-42cb-a8c9-ea0e5c5a8804",
   "metadata": {},
   "outputs": [
    {
     "data": {
      "text/plain": [
       "[0.7556340761967968,\n",
       " 0.8107784070331502,\n",
       " 0.7912395480712032,\n",
       " 0.8101154122873547,\n",
       " 0.7476560114900077,\n",
       " 0.7426032448909583,\n",
       " 0.8108243443619754,\n",
       " 0.7055944086275721,\n",
       " 0.7548352290157057,\n",
       " 0.7501988662353444,\n",
       " 0.7723581877459491,\n",
       " 0.7297923720287193,\n",
       " 0.7505136420795282]"
      ]
     },
     "execution_count": 20,
     "metadata": {},
     "output_type": "execute_result"
    }
   ],
   "source": [
    "test_r2"
   ]
  },
  {
   "cell_type": "code",
   "execution_count": 21,
   "id": "9b94884e-e481-4da1-a905-228b15431415",
   "metadata": {},
   "outputs": [
    {
     "ename": "NameError",
     "evalue": "name 'test_pearsonr' is not defined",
     "output_type": "error",
     "traceback": [
      "\u001b[0;31m---------------------------------------------------------------------------\u001b[0m",
      "\u001b[0;31mNameError\u001b[0m                                 Traceback (most recent call last)",
      "Cell \u001b[0;32mIn[21], line 1\u001b[0m\n\u001b[0;32m----> 1\u001b[0m \u001b[43mtest_pearsonr\u001b[49m\n",
      "\u001b[0;31mNameError\u001b[0m: name 'test_pearsonr' is not defined"
     ]
    }
   ],
   "source": [
    "test_pearsonr"
   ]
  },
  {
   "cell_type": "code",
   "execution_count": 20,
   "id": "9a039fc3-dea1-47a5-befe-a1ea273252fd",
   "metadata": {},
   "outputs": [],
   "source": [
    "# Now what about all test data taken together?"
   ]
  },
  {
   "cell_type": "code",
   "execution_count": 21,
   "id": "20eef1f9-8ca0-49ca-885e-aa3fcf0b7de0",
   "metadata": {},
   "outputs": [],
   "source": [
    "# The kernel keeps restarting, so we have to take whatever we have here below this cell to a .py script"
   ]
  },
  {
   "cell_type": "code",
   "execution_count": 22,
   "id": "0621a86d-3e8f-4ee4-9382-65fbe0c228de",
   "metadata": {},
   "outputs": [],
   "source": [
    "all_test_features_list = [np.load(os.path.join(input_features_loc, file)) for file in input_contents]"
   ]
  },
  {
   "cell_type": "code",
   "execution_count": 23,
   "id": "6512c87d-8cc0-4b9c-a145-7d8e28e750b6",
   "metadata": {},
   "outputs": [
    {
     "data": {
      "text/plain": [
       "(12288, 13, 32, 32, 3)"
      ]
     },
     "execution_count": 23,
     "metadata": {},
     "output_type": "execute_result"
    }
   ],
   "source": [
    "all_test_features_list[0].shape"
   ]
  },
  {
   "cell_type": "code",
   "execution_count": 24,
   "id": "eb9d8514-dfb8-4946-92c1-5f81cb0b4d20",
   "metadata": {},
   "outputs": [
    {
     "data": {
      "text/plain": [
       "13"
      ]
     },
     "execution_count": 24,
     "metadata": {},
     "output_type": "execute_result"
    }
   ],
   "source": [
    "len(all_test_features_list)"
   ]
  },
  {
   "cell_type": "code",
   "execution_count": null,
   "id": "98b73d4e-ca00-48f2-98bb-c3d110add7d7",
   "metadata": {},
   "outputs": [],
   "source": [
    "# stack all data together\n",
    "all_test_features = np.vstack(all_test_features_list)"
   ]
  },
  {
   "cell_type": "code",
   "execution_count": null,
   "id": "a75b3cf4-9097-47fb-b08a-72758c702e96",
   "metadata": {},
   "outputs": [],
   "source": [
    "all_test_features.shape"
   ]
  },
  {
   "cell_type": "code",
   "execution_count": null,
   "id": "820f7ff3-30e4-4439-a58d-0544d29e897b",
   "metadata": {},
   "outputs": [],
   "source": [
    "all_test_targets_list = [np.load(os.path.join(out_targets_loc, file)) for file in out_contents]"
   ]
  },
  {
   "cell_type": "code",
   "execution_count": null,
   "id": "3fda2ca6-2817-4461-9206-c6bf2cab2584",
   "metadata": {},
   "outputs": [],
   "source": [
    "all_test_targets_list[0].shape"
   ]
  },
  {
   "cell_type": "code",
   "execution_count": null,
   "id": "e9580997-ba3c-49d0-b4d2-cc2aee51def9",
   "metadata": {},
   "outputs": [],
   "source": [
    "len(all_test_targets_list)"
   ]
  },
  {
   "cell_type": "code",
   "execution_count": null,
   "id": "164ae43f-7bce-4ac4-9a78-5f65f805847b",
   "metadata": {},
   "outputs": [],
   "source": [
    "# stack all data together\n",
    "all_test_targets = np.vstack(all_test_targets_list)"
   ]
  },
  {
   "cell_type": "code",
   "execution_count": null,
   "id": "7ccdac96-0d2f-4ba3-9c4f-28a789a6d8d2",
   "metadata": {},
   "outputs": [],
   "source": [
    "all_test_targets.shape"
   ]
  },
  {
   "cell_type": "code",
   "execution_count": null,
   "id": "27873d2b-fa49-44cd-a945-c0c8d4291347",
   "metadata": {},
   "outputs": [],
   "source": [
    "# create the test data generator\n",
    "all_test_data_gen = (all_test_features, all_test_targets, batch_size, shuffle = False)"
   ]
  },
  {
   "cell_type": "code",
   "execution_count": null,
   "id": "8c8618bc-3629-4a60-ac66-cd613d19f035",
   "metadata": {},
   "outputs": [],
   "source": [
    "# get all test predictions\n",
    "all_test_preds, all_test_targets_alt = batch_predict(overlapping_model, all_test_data_gen, flatten=True, verbose=False)"
   ]
  },
  {
   "cell_type": "code",
   "execution_count": null,
   "id": "f847eed6-b421-4620-ba90-09b35446c1de",
   "metadata": {},
   "outputs": [],
   "source": [
    "all_test_preds.shape, all_test_targets_alt.shape"
   ]
  },
  {
   "cell_type": "code",
   "execution_count": null,
   "id": "0dc4138f-47cc-441e-a3e6-7f1f9a7fd9f1",
   "metadata": {},
   "outputs": [],
   "source": [
    "np.mean(all_test_targets_alt == all_test_targets)"
   ]
  },
  {
   "cell_type": "code",
   "execution_count": null,
   "id": "ec5e3729-8d6a-46f1-a312-4e0f8cbb8981",
   "metadata": {},
   "outputs": [],
   "source": [
    "# flatten these vectors\n",
    "all_test_targets_flatten = all_test_targets_alt.flatten()\n",
    "all_test_preds_flatten = all_test_preds.flatten()"
   ]
  },
  {
   "cell_type": "code",
   "execution_count": null,
   "id": "426306ea-8357-4dbc-b442-adc5e472ed5e",
   "metadata": {},
   "outputs": [],
   "source": [
    "all_test_targets_flatten.shape, all_test_preds_flatten.shape"
   ]
  },
  {
   "cell_type": "code",
   "execution_count": null,
   "id": "66b57c60-062e-4aaa-a952-56e9b6c514dc",
   "metadata": {},
   "outputs": [],
   "source": [
    "# compute metrics\n",
    "all_test_rmse = np.sqrt(mean_squared_error(all_test_targets_flatten, all_test_preds_flatten))\n",
    "all_test_mae = mean_absolute_error(all_test_targets_flatten, all_test_preds_flatten)\n",
    "all_test_r2_score = r2_score(all_test_targets_flatten, all_test_preds_flatten)\n",
    "all_test_pearsonr = pearsonr(all_test_targets_flatten, all_test_preds_flatten)"
   ]
  },
  {
   "cell_type": "code",
   "execution_count": null,
   "id": "028dee5a-938b-430d-8e98-9a71e637be99",
   "metadata": {},
   "outputs": [],
   "source": [
    "all_test_rmse, all_test_mae, all_test_r2_score, all_test_pearsonr[0]"
   ]
  }
 ],
 "metadata": {
  "kernelspec": {
   "display_name": "Python (nrdstor_tfp_for_TN)",
   "language": "python",
   "name": "nrdstor_tfp_for_tn"
  },
  "language_info": {
   "codemirror_mode": {
    "name": "ipython",
    "version": 3
   },
   "file_extension": ".py",
   "mimetype": "text/x-python",
   "name": "python",
   "nbconvert_exporter": "python",
   "pygments_lexer": "ipython3",
   "version": "3.10.14"
  }
 },
 "nbformat": 4,
 "nbformat_minor": 5
}

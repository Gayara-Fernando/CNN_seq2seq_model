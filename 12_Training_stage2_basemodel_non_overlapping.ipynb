{
 "cells": [
  {
   "cell_type": "code",
   "execution_count": 1,
   "id": "f10d2af6-0456-474d-81a2-c608934d91ec",
   "metadata": {},
   "outputs": [
    {
     "name": "stderr",
     "output_type": "stream",
     "text": [
      "2025-07-16 18:53:40.976517: I tensorflow/core/util/port.cc:113] oneDNN custom operations are on. You may see slightly different numerical results due to floating-point round-off errors from different computation orders. To turn them off, set the environment variable `TF_ENABLE_ONEDNN_OPTS=0`.\n",
      "2025-07-16 18:53:41.014062: E external/local_xla/xla/stream_executor/cuda/cuda_dnn.cc:9261] Unable to register cuDNN factory: Attempting to register factory for plugin cuDNN when one has already been registered\n",
      "2025-07-16 18:53:41.014086: E external/local_xla/xla/stream_executor/cuda/cuda_fft.cc:607] Unable to register cuFFT factory: Attempting to register factory for plugin cuFFT when one has already been registered\n",
      "2025-07-16 18:53:41.015033: E external/local_xla/xla/stream_executor/cuda/cuda_blas.cc:1515] Unable to register cuBLAS factory: Attempting to register factory for plugin cuBLAS when one has already been registered\n",
      "2025-07-16 18:53:41.021176: I tensorflow/core/platform/cpu_feature_guard.cc:182] This TensorFlow binary is optimized to use available CPU instructions in performance-critical operations.\n",
      "To enable the following instructions: SSE4.1 SSE4.2 AVX AVX2 AVX512F AVX512_VNNI FMA, in other operations, rebuild TensorFlow with the appropriate compiler flags.\n"
     ]
    }
   ],
   "source": [
    "import tensorflow as tf\n",
    "import numpy as np\n",
    "import matplotlib.pyplot as plt\n",
    "import os"
   ]
  },
  {
   "cell_type": "code",
   "execution_count": 2,
   "id": "041ed62f-38b8-427f-bdd3-b77f168b7c06",
   "metadata": {},
   "outputs": [],
   "source": [
    "# Import the train and validation input and target data"
   ]
  },
  {
   "cell_type": "code",
   "execution_count": 3,
   "id": "8aac5b7f-aa11-4b21-99d3-8a74481337a6",
   "metadata": {},
   "outputs": [],
   "source": [
    "X_train = np.load(\"data/train_input_sub_images/all_train_data.npy\")\n",
    "train_targets = np.load(\"data/Stage2_base_model/Non_overlapping/train_targets/all_train_targets.npy\")"
   ]
  },
  {
   "cell_type": "code",
   "execution_count": 4,
   "id": "bded1e88-041d-4c19-a318-3c9fa425186a",
   "metadata": {},
   "outputs": [
    {
     "data": {
      "text/plain": [
       "(3640, 13, 30, 30, 3)"
      ]
     },
     "execution_count": 4,
     "metadata": {},
     "output_type": "execute_result"
    }
   ],
   "source": [
    "X_train.shape"
   ]
  },
  {
   "cell_type": "code",
   "execution_count": 5,
   "id": "ba55dcca-f619-4bf1-92e4-a4575053b67d",
   "metadata": {},
   "outputs": [
    {
     "data": {
      "text/plain": [
       "(3640, 7)"
      ]
     },
     "execution_count": 5,
     "metadata": {},
     "output_type": "execute_result"
    }
   ],
   "source": [
    "train_targets.shape"
   ]
  },
  {
   "cell_type": "code",
   "execution_count": 6,
   "id": "e1f5737a-abd6-4b21-89c9-52479ed24eb7",
   "metadata": {},
   "outputs": [],
   "source": [
    "# we need the train data in the shape (3640, 7, 1) - let's reshape this"
   ]
  },
  {
   "cell_type": "code",
   "execution_count": 7,
   "id": "d0102d4f-e7d1-4185-93b6-f7842f027354",
   "metadata": {},
   "outputs": [],
   "source": [
    "y_train = train_targets.reshape(3640, 7, 1)"
   ]
  },
  {
   "cell_type": "code",
   "execution_count": 8,
   "id": "9a761622-b265-49cc-b2bc-ab703947f0e1",
   "metadata": {},
   "outputs": [
    {
     "data": {
      "text/plain": [
       "(3640, 7, 1)"
      ]
     },
     "execution_count": 8,
     "metadata": {},
     "output_type": "execute_result"
    }
   ],
   "source": [
    "y_train.shape"
   ]
  },
  {
   "cell_type": "code",
   "execution_count": 9,
   "id": "ee007e6f-3098-4167-9db5-c6d7cf361d7f",
   "metadata": {},
   "outputs": [],
   "source": [
    "# Load the validation data\n",
    "X_valid = np.load(\"data/valid_input_sub_images/all_valid_data.npy\")\n",
    "valid_targets = np.load(\"data/Stage2_base_model/Non_overlapping/valid_targets/all_valid_targets.npy\")"
   ]
  },
  {
   "cell_type": "code",
   "execution_count": 10,
   "id": "d41e7b8a-ad33-4c90-ba2b-b2f5bc605d99",
   "metadata": {},
   "outputs": [
    {
     "data": {
      "text/plain": [
       "((910, 13, 30, 30, 3), (910, 7))"
      ]
     },
     "execution_count": 10,
     "metadata": {},
     "output_type": "execute_result"
    }
   ],
   "source": [
    "X_valid.shape, valid_targets.shape"
   ]
  },
  {
   "cell_type": "code",
   "execution_count": 11,
   "id": "cbe3e32f-8eb1-4b91-bebe-c1b2777640a0",
   "metadata": {},
   "outputs": [],
   "source": [
    "# reshape validation target"
   ]
  },
  {
   "cell_type": "code",
   "execution_count": 12,
   "id": "09d9fcdc-ecf4-47b5-bea0-73acff49290f",
   "metadata": {},
   "outputs": [],
   "source": [
    "y_valid = valid_targets.reshape(910, 7, 1)"
   ]
  },
  {
   "cell_type": "code",
   "execution_count": 13,
   "id": "2bd7cb11-ff17-40e7-b212-f466dffce270",
   "metadata": {},
   "outputs": [
    {
     "data": {
      "text/plain": [
       "(910, 7, 1)"
      ]
     },
     "execution_count": 13,
     "metadata": {},
     "output_type": "execute_result"
    }
   ],
   "source": [
    "y_valid.shape"
   ]
  },
  {
   "cell_type": "code",
   "execution_count": 14,
   "id": "998408bb-6c53-4fed-a3d1-e5da88741767",
   "metadata": {},
   "outputs": [
    {
     "name": "stderr",
     "output_type": "stream",
     "text": [
      "2025-07-16 18:54:53.255078: I tensorflow/core/common_runtime/gpu/gpu_device.cc:1929] Created device /job:localhost/replica:0/task:0/device:GPU:0 with 31134 MB memory:  -> device: 0, name: Tesla V100S-PCIE-32GB, pci bus id: 0000:06:00.0, compute capability: 7.0\n"
     ]
    }
   ],
   "source": [
    "# let's load and define the model below\n",
    "CNN_model = tf.keras.models.load_model('../../Spring_2024/Bayes_for_comps/TS_bayes_implementation_for_TN/models/trained_gmp_model_dense_32_new.h5')"
   ]
  },
  {
   "cell_type": "code",
   "execution_count": 15,
   "id": "e5c83aa5-0bf0-46f5-b70c-5154524d05a8",
   "metadata": {},
   "outputs": [
    {
     "name": "stdout",
     "output_type": "stream",
     "text": [
      "Model: \"model_1\"\n",
      "_________________________________________________________________\n",
      " Layer (type)                Output Shape              Param #   \n",
      "=================================================================\n",
      " input_1 (InputLayer)        [(None, None, None, 3)]   0         \n",
      "                                                                 \n",
      " conv2d (Conv2D)             (None, None, None, 32)    896       \n",
      "                                                                 \n",
      " activation (Activation)     (None, None, None, 32)    0         \n",
      "                                                                 \n",
      " conv2d_1 (Conv2D)           (None, None, None, 32)    9248      \n",
      "                                                                 \n",
      " activation_1 (Activation)   (None, None, None, 32)    0         \n",
      "                                                                 \n",
      " max_pooling2d (MaxPooling2  (None, None, None, 32)    0         \n",
      " D)                                                              \n",
      "                                                                 \n",
      " dropout (Dropout)           (None, None, None, 32)    0         \n",
      "                                                                 \n",
      " conv2d_2 (Conv2D)           (None, None, None, 64)    18496     \n",
      "                                                                 \n",
      " activation_2 (Activation)   (None, None, None, 64)    0         \n",
      "                                                                 \n",
      " conv2d_3 (Conv2D)           (None, None, None, 64)    36928     \n",
      "                                                                 \n",
      " activation_3 (Activation)   (None, None, None, 64)    0         \n",
      "                                                                 \n",
      " max_pooling2d_1 (MaxPoolin  (None, None, None, 64)    0         \n",
      " g2D)                                                            \n",
      "                                                                 \n",
      " New_dropout_0 (Dropout)     (None, None, None, 64)    0         \n",
      "                                                                 \n",
      " global_max_pooling2d (Glob  (None, 64)                0         \n",
      " alMaxPooling2D)                                                 \n",
      "                                                                 \n",
      " New_Dense_0 (Dense)         (None, 64)                4160      \n",
      "                                                                 \n",
      " New_Activation_0 (Activati  (None, 64)                0         \n",
      " on)                                                             \n",
      "                                                                 \n",
      " New_dropout_1 (Dropout)     (None, 64)                0         \n",
      "                                                                 \n",
      " New_Dense_1 (Dense)         (None, 32)                2080      \n",
      "                                                                 \n",
      " New_Activation_1 (Activati  (None, 32)                0         \n",
      " on)                                                             \n",
      "                                                                 \n",
      " New_dropout_2 (Dropout)     (None, 32)                0         \n",
      "                                                                 \n",
      " New_Dense_2 (Dense)         (None, 1)                 33        \n",
      "                                                                 \n",
      " New_Activation_2 (Activati  (None, 1)                 0         \n",
      " on)                                                             \n",
      "                                                                 \n",
      "=================================================================\n",
      "Total params: 71841 (280.63 KB)\n",
      "Trainable params: 43201 (168.75 KB)\n",
      "Non-trainable params: 28640 (111.88 KB)\n",
      "_________________________________________________________________\n"
     ]
    }
   ],
   "source": [
    "CNN_model.summary()"
   ]
  },
  {
   "cell_type": "code",
   "execution_count": 16,
   "id": "4e049f91-5c40-449f-b548-9fdee41e18ed",
   "metadata": {},
   "outputs": [],
   "source": [
    "# Define this reduced model\n",
    "\n",
    "output_reduced = CNN_model.layers[-11].output"
   ]
  },
  {
   "cell_type": "code",
   "execution_count": 17,
   "id": "8f15523d-a375-40ba-a9a1-d0be87accb5f",
   "metadata": {},
   "outputs": [],
   "source": [
    "reduced_model = tf.keras.models.Model(inputs = CNN_model.input, outputs = output_reduced)"
   ]
  },
  {
   "cell_type": "code",
   "execution_count": 18,
   "id": "efe77866-15bb-4e16-963f-6c410ac3ddc0",
   "metadata": {},
   "outputs": [
    {
     "name": "stdout",
     "output_type": "stream",
     "text": [
      "Model: \"model\"\n",
      "_________________________________________________________________\n",
      " Layer (type)                Output Shape              Param #   \n",
      "=================================================================\n",
      " input_1 (InputLayer)        [(None, None, None, 3)]   0         \n",
      "                                                                 \n",
      " conv2d (Conv2D)             (None, None, None, 32)    896       \n",
      "                                                                 \n",
      " activation (Activation)     (None, None, None, 32)    0         \n",
      "                                                                 \n",
      " conv2d_1 (Conv2D)           (None, None, None, 32)    9248      \n",
      "                                                                 \n",
      " activation_1 (Activation)   (None, None, None, 32)    0         \n",
      "                                                                 \n",
      " max_pooling2d (MaxPooling2  (None, None, None, 32)    0         \n",
      " D)                                                              \n",
      "                                                                 \n",
      " dropout (Dropout)           (None, None, None, 32)    0         \n",
      "                                                                 \n",
      " conv2d_2 (Conv2D)           (None, None, None, 64)    18496     \n",
      "                                                                 \n",
      " activation_2 (Activation)   (None, None, None, 64)    0         \n",
      "                                                                 \n",
      " conv2d_3 (Conv2D)           (None, None, None, 64)    36928     \n",
      "                                                                 \n",
      " activation_3 (Activation)   (None, None, None, 64)    0         \n",
      "                                                                 \n",
      " max_pooling2d_1 (MaxPoolin  (None, None, None, 64)    0         \n",
      " g2D)                                                            \n",
      "                                                                 \n",
      "=================================================================\n",
      "Total params: 65568 (256.12 KB)\n",
      "Trainable params: 36928 (144.25 KB)\n",
      "Non-trainable params: 28640 (111.88 KB)\n",
      "_________________________________________________________________\n"
     ]
    }
   ],
   "source": [
    "reduced_model.summary()"
   ]
  },
  {
   "cell_type": "code",
   "execution_count": 19,
   "id": "ff4d38d0-53f2-48f1-8569-ddb9e6cb9e3a",
   "metadata": {},
   "outputs": [],
   "source": [
    "# okay, now need to add back the dropout, the dense and activation\n",
    "\n",
    "# add dropout\n",
    "added_dropout = tf.keras.layers.Dropout(0.5, name = \"New_dropout_0\")(CNN_model.layers[-11].output)\n",
    "\n",
    "# add global max pooling\n",
    "added_flatten = tf.keras.layers.GlobalMaxPooling2D()(added_dropout)\n",
    "\n",
    "# add dense\n",
    "added_dense = tf.keras.layers.Dense(64, name = \"New_Dense_0\")(added_flatten)\n",
    "\n",
    "# add activation\n",
    "added_Act = tf.keras.layers.Activation('relu', name = \"New_Activation_0\")(added_dense)\n",
    "\n",
    "# add dropout\n",
    "added_dropout2 = tf.keras.layers.Dropout(0.5, name = \"New_dropout_1\")(added_Act)\n",
    "\n",
    "# # add another dense\n",
    "added_dense_1 = tf.keras.layers.Dense(32, name = \"New_Dense_1\")(added_dropout2)\n",
    "\n",
    "# # add activation\n",
    "added_Act_1 = tf.keras.layers.Activation('relu', name = \"New_Activation_1\")(added_dense_1)\n",
    "\n",
    "new_model = tf.keras.models.Model(CNN_model.input, added_Act_1)"
   ]
  },
  {
   "cell_type": "code",
   "execution_count": 20,
   "id": "0b834494-4236-45e0-8265-29c3fa1aee45",
   "metadata": {},
   "outputs": [
    {
     "name": "stdout",
     "output_type": "stream",
     "text": [
      "Model: \"model_1\"\n",
      "_________________________________________________________________\n",
      " Layer (type)                Output Shape              Param #   \n",
      "=================================================================\n",
      " input_1 (InputLayer)        [(None, None, None, 3)]   0         \n",
      "                                                                 \n",
      " conv2d (Conv2D)             (None, None, None, 32)    896       \n",
      "                                                                 \n",
      " activation (Activation)     (None, None, None, 32)    0         \n",
      "                                                                 \n",
      " conv2d_1 (Conv2D)           (None, None, None, 32)    9248      \n",
      "                                                                 \n",
      " activation_1 (Activation)   (None, None, None, 32)    0         \n",
      "                                                                 \n",
      " max_pooling2d (MaxPooling2  (None, None, None, 32)    0         \n",
      " D)                                                              \n",
      "                                                                 \n",
      " dropout (Dropout)           (None, None, None, 32)    0         \n",
      "                                                                 \n",
      " conv2d_2 (Conv2D)           (None, None, None, 64)    18496     \n",
      "                                                                 \n",
      " activation_2 (Activation)   (None, None, None, 64)    0         \n",
      "                                                                 \n",
      " conv2d_3 (Conv2D)           (None, None, None, 64)    36928     \n",
      "                                                                 \n",
      " activation_3 (Activation)   (None, None, None, 64)    0         \n",
      "                                                                 \n",
      " max_pooling2d_1 (MaxPoolin  (None, None, None, 64)    0         \n",
      " g2D)                                                            \n",
      "                                                                 \n",
      " New_dropout_0 (Dropout)     (None, None, None, 64)    0         \n",
      "                                                                 \n",
      " global_max_pooling2d (Glob  (None, 64)                0         \n",
      " alMaxPooling2D)                                                 \n",
      "                                                                 \n",
      " New_Dense_0 (Dense)         (None, 64)                4160      \n",
      "                                                                 \n",
      " New_Activation_0 (Activati  (None, 64)                0         \n",
      " on)                                                             \n",
      "                                                                 \n",
      " New_dropout_1 (Dropout)     (None, 64)                0         \n",
      "                                                                 \n",
      " New_Dense_1 (Dense)         (None, 32)                2080      \n",
      "                                                                 \n",
      " New_Activation_1 (Activati  (None, 32)                0         \n",
      " on)                                                             \n",
      "                                                                 \n",
      "=================================================================\n",
      "Total params: 71808 (280.50 KB)\n",
      "Trainable params: 43168 (168.62 KB)\n",
      "Non-trainable params: 28640 (111.88 KB)\n",
      "_________________________________________________________________\n"
     ]
    }
   ],
   "source": [
    "new_model.summary()"
   ]
  },
  {
   "cell_type": "code",
   "execution_count": 21,
   "id": "c973b303-34f9-4d21-82a1-6d5567801998",
   "metadata": {},
   "outputs": [
    {
     "data": {
      "text/plain": [
       "43168"
      ]
     },
     "execution_count": 21,
     "metadata": {},
     "output_type": "execute_result"
    }
   ],
   "source": [
    "36928 + 4160 + 2080"
   ]
  },
  {
   "cell_type": "code",
   "execution_count": 22,
   "id": "bef50948-2bb0-43df-8f8d-9631bd177821",
   "metadata": {},
   "outputs": [],
   "source": [
    "# Okay, now define our model\n",
    "input_time = 13\n",
    "output_time = 7\n",
    "feature_size = 1\n",
    "# Encoder part\n",
    "\n",
    "# input\n",
    "Encoder_input = tf.keras.layers.Input(shape = [input_time, None, None, 3])\n",
    "\n",
    "# pass model through TD layer\n",
    "TD_model = tf.keras.layers.TimeDistributed(new_model)\n",
    "\n",
    "TD_out = TD_model(Encoder_input)\n",
    "\n",
    "# pass this through a sequence model to adress the sequential nature of the input image sequence\n",
    "lstm_layer = tf.keras.layers.LSTM(64, return_sequences = False, return_state = True)\n",
    "\n",
    "lstm_out, state_h, state_c = lstm_layer(TD_out)\n",
    "\n",
    "# Decoder part\n",
    "\n",
    "# repeat the context vector\n",
    "decoder_inp = tf.keras.layers.RepeatVector(output_time)(lstm_out)\n",
    "\n",
    "# Add an LSTM layer for the decoder\n",
    "decoder_LSTM = tf.keras.layers.LSTM(64, return_sequences = True, return_state = False)\n",
    "\n",
    "lstm_out = decoder_LSTM(decoder_inp, initial_state = [state_h, state_c])\n",
    "\n",
    "# add a dense layer to get the targets\n",
    "dense_layer = tf.keras.layers.TimeDistributed(tf.keras.layers.Dense(feature_size, activation = 'relu'))\n",
    "\n",
    "pred_head = dense_layer(lstm_out)"
   ]
  },
  {
   "cell_type": "code",
   "execution_count": 23,
   "id": "1fa1ad9d-14cc-4b35-a17c-2a49b8c07a59",
   "metadata": {},
   "outputs": [],
   "source": [
    "base_model = tf.keras.models.Model(inputs = Encoder_input, outputs = pred_head)"
   ]
  },
  {
   "cell_type": "code",
   "execution_count": 24,
   "id": "5d94a0da-c2ae-4e96-ac4c-491b14a7629d",
   "metadata": {},
   "outputs": [
    {
     "name": "stdout",
     "output_type": "stream",
     "text": [
      "Model: \"model_2\"\n",
      "__________________________________________________________________________________________________\n",
      " Layer (type)                Output Shape                 Param #   Connected to                  \n",
      "==================================================================================================\n",
      " input_1 (InputLayer)        [(None, 13, None, None, 3)   0         []                            \n",
      "                             ]                                                                    \n",
      "                                                                                                  \n",
      " time_distributed (TimeDist  (None, 13, 32)               71808     ['input_1[0][0]']             \n",
      " ributed)                                                                                         \n",
      "                                                                                                  \n",
      " lstm (LSTM)                 [(None, 64),                 24832     ['time_distributed[0][0]']    \n",
      "                              (None, 64),                                                         \n",
      "                              (None, 64)]                                                         \n",
      "                                                                                                  \n",
      " repeat_vector (RepeatVecto  (None, 7, 64)                0         ['lstm[0][0]']                \n",
      " r)                                                                                               \n",
      "                                                                                                  \n",
      " lstm_1 (LSTM)               (None, 7, 64)                33024     ['repeat_vector[0][0]',       \n",
      "                                                                     'lstm[0][1]',                \n",
      "                                                                     'lstm[0][2]']                \n",
      "                                                                                                  \n",
      " time_distributed_1 (TimeDi  (None, 7, 1)                 65        ['lstm_1[0][0]']              \n",
      " stributed)                                                                                       \n",
      "                                                                                                  \n",
      "==================================================================================================\n",
      "Total params: 129729 (506.75 KB)\n",
      "Trainable params: 101089 (394.88 KB)\n",
      "Non-trainable params: 28640 (111.88 KB)\n",
      "__________________________________________________________________________________________________\n"
     ]
    }
   ],
   "source": [
    "base_model.summary()"
   ]
  },
  {
   "cell_type": "code",
   "execution_count": 25,
   "id": "57900a9e-375d-4c50-bf75-8218b8867698",
   "metadata": {},
   "outputs": [
    {
     "data": {
      "image/png": "[encoded data removed]",
      "text/plain": [
       "<IPython.core.display.Image object>"
      ]
     },
     "execution_count": 25,
     "metadata": {},
     "output_type": "execute_result"
    }
   ],
   "source": [
    "tf.keras.utils.plot_model(base_model)"
   ]
  },
  {
   "cell_type": "code",
   "execution_count": 26,
   "id": "0df26371-a667-4e1a-bff2-ab6ca6b873b7",
   "metadata": {},
   "outputs": [],
   "source": [
    "# Need to also take care of freezing and unfreezing weights during model training"
   ]
  },
  {
   "cell_type": "code",
   "execution_count": 27,
   "id": "a272984b-d5f9-43be-aad0-9489caa90e4c",
   "metadata": {},
   "outputs": [],
   "source": [
    "# freeze the layers\n",
    "for layer in CNN_model.layers:\n",
    "    layer.trainable = False"
   ]
  },
  {
   "cell_type": "code",
   "execution_count": 28,
   "id": "a0977402-adf7-4bd2-84db-c7a9e267342f",
   "metadata": {},
   "outputs": [
    {
     "name": "stdout",
     "output_type": "stream",
     "text": [
      "Model: \"model_2\"\n",
      "__________________________________________________________________________________________________\n",
      " Layer (type)                Output Shape                 Param #   Connected to                  \n",
      "==================================================================================================\n",
      " input_1 (InputLayer)        [(None, 13, None, None, 3)   0         []                            \n",
      "                             ]                                                                    \n",
      "                                                                                                  \n",
      " time_distributed (TimeDist  (None, 13, 32)               71808     ['input_1[0][0]']             \n",
      " ributed)                                                                                         \n",
      "                                                                                                  \n",
      " lstm (LSTM)                 [(None, 64),                 24832     ['time_distributed[0][0]']    \n",
      "                              (None, 64),                                                         \n",
      "                              (None, 64)]                                                         \n",
      "                                                                                                  \n",
      " repeat_vector (RepeatVecto  (None, 7, 64)                0         ['lstm[0][0]']                \n",
      " r)                                                                                               \n",
      "                                                                                                  \n",
      " lstm_1 (LSTM)               (None, 7, 64)                33024     ['repeat_vector[0][0]',       \n",
      "                                                                     'lstm[0][1]',                \n",
      "                                                                     'lstm[0][2]']                \n",
      "                                                                                                  \n",
      " time_distributed_1 (TimeDi  (None, 7, 1)                 65        ['lstm_1[0][0]']              \n",
      " stributed)                                                                                       \n",
      "                                                                                                  \n",
      "==================================================================================================\n",
      "Total params: 129729 (506.75 KB)\n",
      "Trainable params: 64161 (250.63 KB)\n",
      "Non-trainable params: 65568 (256.12 KB)\n",
      "__________________________________________________________________________________________________\n"
     ]
    }
   ],
   "source": [
    "base_model.summary()"
   ]
  },
  {
   "cell_type": "code",
   "execution_count": 29,
   "id": "2615a152-148e-4bf7-9de0-f3f0c62dc2f3",
   "metadata": {},
   "outputs": [],
   "source": [
    "# Okay, now let's train the frozen model\n",
    "\n",
    "# compile the model\n",
    "opt = tf.keras.optimizers.Adam(learning_rate=0.0001)\n",
    "base_model.compile(loss='mean_squared_error', optimizer=opt, metrics = ['mean_absolute_error'])"
   ]
  },
  {
   "cell_type": "code",
   "execution_count": 30,
   "id": "e11e708e-3228-4050-a577-71ff41cc3ee9",
   "metadata": {},
   "outputs": [],
   "source": [
    "# add early stopping\n",
    "es = tf.keras.callbacks.EarlyStopping(monitor='val_loss', restore_best_weights = True, verbose=1, patience=10)"
   ]
  },
  {
   "cell_type": "code",
   "execution_count": 31,
   "id": "e8a7d020-092e-479e-bad3-3c4a75b8f0dd",
   "metadata": {
    "scrolled": true
   },
   "outputs": [
    {
     "name": "stdout",
     "output_type": "stream",
     "text": [
      "Epoch 1/200\n"
     ]
    },
    {
     "name": "stderr",
     "output_type": "stream",
     "text": [
      "2025-07-16 18:54:59.237710: E tensorflow/core/grappler/optimizers/meta_optimizer.cc:961] layout failed: INVALID_ARGUMENT: Size of values 0 does not match size of permutation 4 @ fanin shape inmodel_2/time_distributed/model_1/dropout/dropout/SelectV2-2-TransposeNHWCToNCHW-LayoutOptimizer\n",
      "2025-07-16 18:54:59.504213: I external/local_xla/xla/stream_executor/cuda/cuda_dnn.cc:454] Loaded cuDNN version 8907\n",
      "2025-07-16 18:55:00.887356: I external/local_xla/xla/service/service.cc:168] XLA service 0x148b280c6e20 initialized for platform CUDA (this does not guarantee that XLA will be used). Devices:\n",
      "2025-07-16 18:55:00.887400: I external/local_xla/xla/service/service.cc:176]   StreamExecutor device (0): Tesla V100S-PCIE-32GB, Compute Capability 7.0\n",
      "2025-07-16 18:55:00.897127: I tensorflow/compiler/mlir/tensorflow/utils/dump_mlir_util.cc:269] disabling MLIR crash reproducer, set env var `MLIR_CRASH_REPRODUCER_DIRECTORY` to enable.\n",
      "WARNING: All log messages before absl::InitializeLog() is called are written to STDERR\n",
      "I0000 00:00:1752710101.032670  865346 device_compiler.h:186] Compiled cluster using XLA!  This line is logged at most once for the lifetime of the process.\n"
     ]
    },
    {
     "name": "stdout",
     "output_type": "stream",
     "text": [
      "114/114 [==============================] - 7s 23ms/step - loss: 0.0233 - mean_absolute_error: 0.0641 - val_loss: 0.0133 - val_mean_absolute_error: 0.0392\n",
      "Epoch 2/200\n",
      "114/114 [==============================] - 2s 13ms/step - loss: 0.0227 - mean_absolute_error: 0.0615 - val_loss: 0.0132 - val_mean_absolute_error: 0.0298\n",
      "Epoch 3/200\n",
      "114/114 [==============================] - 2s 14ms/step - loss: 0.0226 - mean_absolute_error: 0.0600 - val_loss: 0.0131 - val_mean_absolute_error: 0.0361\n",
      "Epoch 4/200\n",
      "114/114 [==============================] - 2s 13ms/step - loss: 0.0225 - mean_absolute_error: 0.0601 - val_loss: 0.0131 - val_mean_absolute_error: 0.0389\n",
      "Epoch 5/200\n",
      "114/114 [==============================] - 2s 13ms/step - loss: 0.0225 - mean_absolute_error: 0.0597 - val_loss: 0.0131 - val_mean_absolute_error: 0.0424\n",
      "Epoch 6/200\n",
      "114/114 [==============================] - 2s 13ms/step - loss: 0.0224 - mean_absolute_error: 0.0596 - val_loss: 0.0133 - val_mean_absolute_error: 0.0479\n",
      "Epoch 7/200\n",
      "114/114 [==============================] - 2s 14ms/step - loss: 0.0223 - mean_absolute_error: 0.0597 - val_loss: 0.0130 - val_mean_absolute_error: 0.0394\n",
      "Epoch 8/200\n",
      "114/114 [==============================] - 2s 14ms/step - loss: 0.0223 - mean_absolute_error: 0.0585 - val_loss: 0.0130 - val_mean_absolute_error: 0.0340\n",
      "Epoch 9/200\n",
      "114/114 [==============================] - 2s 13ms/step - loss: 0.0224 - mean_absolute_error: 0.0593 - val_loss: 0.0131 - val_mean_absolute_error: 0.0430\n",
      "Epoch 10/200\n",
      "114/114 [==============================] - 2s 14ms/step - loss: 0.0222 - mean_absolute_error: 0.0585 - val_loss: 0.0130 - val_mean_absolute_error: 0.0393\n",
      "Epoch 11/200\n",
      "114/114 [==============================] - 2s 13ms/step - loss: 0.0222 - mean_absolute_error: 0.0588 - val_loss: 0.0130 - val_mean_absolute_error: 0.0387\n",
      "Epoch 12/200\n",
      "114/114 [==============================] - 2s 14ms/step - loss: 0.0222 - mean_absolute_error: 0.0587 - val_loss: 0.0129 - val_mean_absolute_error: 0.0342\n",
      "Epoch 13/200\n",
      "114/114 [==============================] - 2s 13ms/step - loss: 0.0220 - mean_absolute_error: 0.0578 - val_loss: 0.0130 - val_mean_absolute_error: 0.0431\n",
      "Epoch 14/200\n",
      "114/114 [==============================] - 2s 13ms/step - loss: 0.0220 - mean_absolute_error: 0.0590 - val_loss: 0.0130 - val_mean_absolute_error: 0.0390\n",
      "Epoch 15/200\n",
      "114/114 [==============================] - 2s 14ms/step - loss: 0.0221 - mean_absolute_error: 0.0593 - val_loss: 0.0130 - val_mean_absolute_error: 0.0382\n",
      "Epoch 16/200\n",
      "114/114 [==============================] - 2s 13ms/step - loss: 0.0221 - mean_absolute_error: 0.0585 - val_loss: 0.0129 - val_mean_absolute_error: 0.0358\n",
      "Epoch 17/200\n",
      "114/114 [==============================] - 1s 13ms/step - loss: 0.0220 - mean_absolute_error: 0.0580 - val_loss: 0.0129 - val_mean_absolute_error: 0.0366\n",
      "Epoch 18/200\n",
      "114/114 [==============================] - 1s 13ms/step - loss: 0.0219 - mean_absolute_error: 0.0586 - val_loss: 0.0130 - val_mean_absolute_error: 0.0385\n",
      "Epoch 19/200\n",
      "114/114 [==============================] - 2s 13ms/step - loss: 0.0219 - mean_absolute_error: 0.0576 - val_loss: 0.0129 - val_mean_absolute_error: 0.0349\n",
      "Epoch 20/200\n",
      "114/114 [==============================] - 2s 13ms/step - loss: 0.0219 - mean_absolute_error: 0.0583 - val_loss: 0.0129 - val_mean_absolute_error: 0.0374\n",
      "Epoch 21/200\n",
      "114/114 [==============================] - 1s 13ms/step - loss: 0.0220 - mean_absolute_error: 0.0582 - val_loss: 0.0130 - val_mean_absolute_error: 0.0409\n",
      "Epoch 22/200\n",
      "114/114 [==============================] - 1s 13ms/step - loss: 0.0219 - mean_absolute_error: 0.0584 - val_loss: 0.0129 - val_mean_absolute_error: 0.0354\n",
      "Epoch 23/200\n",
      "114/114 [==============================] - 1s 13ms/step - loss: 0.0219 - mean_absolute_error: 0.0581 - val_loss: 0.0129 - val_mean_absolute_error: 0.0372\n",
      "Epoch 24/200\n",
      "114/114 [==============================] - 1s 13ms/step - loss: 0.0219 - mean_absolute_error: 0.0573 - val_loss: 0.0130 - val_mean_absolute_error: 0.0440\n",
      "Epoch 25/200\n",
      "114/114 [==============================] - 1s 13ms/step - loss: 0.0218 - mean_absolute_error: 0.0583 - val_loss: 0.0131 - val_mean_absolute_error: 0.0448\n",
      "Epoch 26/200\n",
      "114/114 [==============================] - 2s 13ms/step - loss: 0.0219 - mean_absolute_error: 0.0577 - val_loss: 0.0130 - val_mean_absolute_error: 0.0413\n",
      "Epoch 27/200\n",
      "114/114 [==============================] - 2s 13ms/step - loss: 0.0219 - mean_absolute_error: 0.0579 - val_loss: 0.0129 - val_mean_absolute_error: 0.0374\n",
      "Epoch 28/200\n",
      "114/114 [==============================] - 2s 13ms/step - loss: 0.0217 - mean_absolute_error: 0.0582 - val_loss: 0.0129 - val_mean_absolute_error: 0.0384\n",
      "Epoch 29/200\n",
      "114/114 [==============================] - 2s 14ms/step - loss: 0.0218 - mean_absolute_error: 0.0584 - val_loss: 0.0129 - val_mean_absolute_error: 0.0342\n",
      "Epoch 30/200\n",
      "114/114 [==============================] - 2s 13ms/step - loss: 0.0218 - mean_absolute_error: 0.0581 - val_loss: 0.0129 - val_mean_absolute_error: 0.0381\n",
      "Epoch 31/200\n",
      "114/114 [==============================] - 1s 13ms/step - loss: 0.0218 - mean_absolute_error: 0.0582 - val_loss: 0.0129 - val_mean_absolute_error: 0.0392\n",
      "Epoch 32/200\n",
      "114/114 [==============================] - 2s 13ms/step - loss: 0.0217 - mean_absolute_error: 0.0570 - val_loss: 0.0129 - val_mean_absolute_error: 0.0376\n",
      "Epoch 33/200\n",
      "114/114 [==============================] - 2s 13ms/step - loss: 0.0219 - mean_absolute_error: 0.0580 - val_loss: 0.0129 - val_mean_absolute_error: 0.0384\n",
      "Epoch 34/200\n",
      "114/114 [==============================] - 2s 13ms/step - loss: 0.0217 - mean_absolute_error: 0.0576 - val_loss: 0.0129 - val_mean_absolute_error: 0.0382\n",
      "Epoch 35/200\n",
      "114/114 [==============================] - 2s 13ms/step - loss: 0.0218 - mean_absolute_error: 0.0577 - val_loss: 0.0129 - val_mean_absolute_error: 0.0382\n",
      "Epoch 36/200\n",
      "114/114 [==============================] - 2s 13ms/step - loss: 0.0217 - mean_absolute_error: 0.0584 - val_loss: 0.0130 - val_mean_absolute_error: 0.0403\n",
      "Epoch 37/200\n",
      "114/114 [==============================] - 2s 13ms/step - loss: 0.0217 - mean_absolute_error: 0.0580 - val_loss: 0.0130 - val_mean_absolute_error: 0.0402\n",
      "Epoch 38/200\n",
      "114/114 [==============================] - 2s 13ms/step - loss: 0.0216 - mean_absolute_error: 0.0571 - val_loss: 0.0129 - val_mean_absolute_error: 0.0378\n",
      "Epoch 39/200\n",
      "111/114 [============================>.] - ETA: 0s - loss: 0.0217 - mean_absolute_error: 0.0579Restoring model weights from the end of the best epoch: 29.\n",
      "114/114 [==============================] - 2s 14ms/step - loss: 0.0217 - mean_absolute_error: 0.0580 - val_loss: 0.0130 - val_mean_absolute_error: 0.0425\n",
      "Epoch 39: early stopping\n",
      "CPU times: user 1min 35s, sys: 6.14 s, total: 1min 41s\n",
      "Wall time: 1min 5s\n"
     ]
    }
   ],
   "source": [
    "%%time\n",
    "# Train the model - Maybe we do not need a generator for now, let's see\n",
    "history = base_model.fit(X_train, y_train, validation_data = (X_valid, y_valid), epochs = 200, callbacks = [es])"
   ]
  },
  {
   "cell_type": "code",
   "execution_count": 32,
   "id": "190126bf-e444-49b2-aa59-81b1b6aeba4c",
   "metadata": {},
   "outputs": [
    {
     "data": {
      "image/png": "[encoded data removed]",
      "text/plain": [
       "<Figure size 1500x700 with 1 Axes>"
      ]
     },
     "metadata": {},
     "output_type": "display_data"
    }
   ],
   "source": [
    "# plot the losses\n",
    "plt.figure(figsize = (15,7))\n",
    "plt.plot(history.history['loss'], label='Training Loss')\n",
    "plt.plot(history.history['val_loss'], label='Validation Loss')\n",
    "plt.title(\"Learning curves for the losses\")\n",
    "plt.xlabel('Epochs')\n",
    "plt.ylabel('Loss')\n",
    "plt.legend()\n",
    "plt.show()\n",
    "# history.history['loss']"
   ]
  },
  {
   "cell_type": "code",
   "execution_count": 33,
   "id": "0a355ffd-7200-4380-abf2-2b70e29db58b",
   "metadata": {},
   "outputs": [],
   "source": [
    "# Now unfreeze the last CNN layer\n",
    "CNN_model.trainable = True\n",
    "\n",
    "set_trainable = False\n",
    "\n",
    "for layer in CNN_model.layers:\n",
    "    if layer.name == 'conv2d_3':\n",
    "        set_trainable = True\n",
    "    if set_trainable:\n",
    "        layer.trainable = True\n",
    "    else:\n",
    "        layer.trainable = False"
   ]
  },
  {
   "cell_type": "code",
   "execution_count": 34,
   "id": "4fe75ae8-21a8-4778-b72b-a7e92c425374",
   "metadata": {},
   "outputs": [
    {
     "name": "stdout",
     "output_type": "stream",
     "text": [
      "Model: \"model_2\"\n",
      "__________________________________________________________________________________________________\n",
      " Layer (type)                Output Shape                 Param #   Connected to                  \n",
      "==================================================================================================\n",
      " input_1 (InputLayer)        [(None, 13, None, None, 3)   0         []                            \n",
      "                             ]                                                                    \n",
      "                                                                                                  \n",
      " time_distributed (TimeDist  (None, 13, 32)               71808     ['input_1[0][0]']             \n",
      " ributed)                                                                                         \n",
      "                                                                                                  \n",
      " lstm (LSTM)                 [(None, 64),                 24832     ['time_distributed[0][0]']    \n",
      "                              (None, 64),                                                         \n",
      "                              (None, 64)]                                                         \n",
      "                                                                                                  \n",
      " repeat_vector (RepeatVecto  (None, 7, 64)                0         ['lstm[0][0]']                \n",
      " r)                                                                                               \n",
      "                                                                                                  \n",
      " lstm_1 (LSTM)               (None, 7, 64)                33024     ['repeat_vector[0][0]',       \n",
      "                                                                     'lstm[0][1]',                \n",
      "                                                                     'lstm[0][2]']                \n",
      "                                                                                                  \n",
      " time_distributed_1 (TimeDi  (None, 7, 1)                 65        ['lstm_1[0][0]']              \n",
      " stributed)                                                                                       \n",
      "                                                                                                  \n",
      "==================================================================================================\n",
      "Total params: 129729 (506.75 KB)\n",
      "Trainable params: 101089 (394.88 KB)\n",
      "Non-trainable params: 28640 (111.88 KB)\n",
      "__________________________________________________________________________________________________\n"
     ]
    }
   ],
   "source": [
    "base_model.summary()"
   ]
  },
  {
   "cell_type": "code",
   "execution_count": 35,
   "id": "baebd8f9-f8da-4793-9efc-553c43ff2a46",
   "metadata": {},
   "outputs": [],
   "source": [
    "# Okay, now let's train the frozen model\n",
    "\n",
    "# compile the model\n",
    "opt = tf.keras.optimizers.Adam(learning_rate=0.0009)\n",
    "base_model.compile(loss='mean_squared_error', optimizer=opt, metrics = ['mean_absolute_error'])"
   ]
  },
  {
   "cell_type": "code",
   "execution_count": 36,
   "id": "cf6c4f00-efe8-4cbc-9235-5d7175e4d195",
   "metadata": {},
   "outputs": [],
   "source": [
    "# add early stopping\n",
    "es = tf.keras.callbacks.EarlyStopping(monitor='val_loss', restore_best_weights = True, verbose=1, patience=10)"
   ]
  },
  {
   "cell_type": "code",
   "execution_count": 37,
   "id": "d69460f7-39c2-4ffc-94c9-2c3542b760dc",
   "metadata": {
    "scrolled": true
   },
   "outputs": [
    {
     "name": "stdout",
     "output_type": "stream",
     "text": [
      "Epoch 1/200\n"
     ]
    },
    {
     "name": "stderr",
     "output_type": "stream",
     "text": [
      "2025-07-16 18:56:05.337560: E tensorflow/core/grappler/optimizers/meta_optimizer.cc:961] layout failed: INVALID_ARGUMENT: Size of values 0 does not match size of permutation 4 @ fanin shape inmodel_2/time_distributed/model_1/dropout/dropout/SelectV2-2-TransposeNHWCToNCHW-LayoutOptimizer\n"
     ]
    },
    {
     "name": "stdout",
     "output_type": "stream",
     "text": [
      "114/114 [==============================] - 5s 24ms/step - loss: 0.0223 - mean_absolute_error: 0.0577 - val_loss: 0.0130 - val_mean_absolute_error: 0.0413\n",
      "Epoch 2/200\n",
      "114/114 [==============================] - 2s 14ms/step - loss: 0.0221 - mean_absolute_error: 0.0584 - val_loss: 0.0129 - val_mean_absolute_error: 0.0375\n",
      "Epoch 3/200\n",
      "114/114 [==============================] - 2s 14ms/step - loss: 0.0220 - mean_absolute_error: 0.0582 - val_loss: 0.0128 - val_mean_absolute_error: 0.0384\n",
      "Epoch 4/200\n",
      "114/114 [==============================] - 2s 14ms/step - loss: 0.0217 - mean_absolute_error: 0.0575 - val_loss: 0.0130 - val_mean_absolute_error: 0.0440\n",
      "Epoch 5/200\n",
      "114/114 [==============================] - 2s 14ms/step - loss: 0.0217 - mean_absolute_error: 0.0556 - val_loss: 0.0129 - val_mean_absolute_error: 0.0373\n",
      "Epoch 6/200\n",
      "114/114 [==============================] - 2s 14ms/step - loss: 0.0215 - mean_absolute_error: 0.0573 - val_loss: 0.0132 - val_mean_absolute_error: 0.0242\n",
      "Epoch 7/200\n",
      "114/114 [==============================] - 2s 14ms/step - loss: 0.0219 - mean_absolute_error: 0.0570 - val_loss: 0.0133 - val_mean_absolute_error: 0.0493\n",
      "Epoch 8/200\n",
      "114/114 [==============================] - 2s 14ms/step - loss: 0.0215 - mean_absolute_error: 0.0561 - val_loss: 0.0130 - val_mean_absolute_error: 0.0440\n",
      "Epoch 9/200\n",
      "114/114 [==============================] - 2s 14ms/step - loss: 0.0216 - mean_absolute_error: 0.0562 - val_loss: 0.0132 - val_mean_absolute_error: 0.0502\n",
      "Epoch 10/200\n",
      "114/114 [==============================] - 2s 14ms/step - loss: 0.0214 - mean_absolute_error: 0.0562 - val_loss: 0.0130 - val_mean_absolute_error: 0.0429\n",
      "Epoch 11/200\n",
      "114/114 [==============================] - 2s 14ms/step - loss: 0.0215 - mean_absolute_error: 0.0559 - val_loss: 0.0128 - val_mean_absolute_error: 0.0278\n",
      "Epoch 12/200\n",
      "114/114 [==============================] - 2s 13ms/step - loss: 0.0213 - mean_absolute_error: 0.0555 - val_loss: 0.0131 - val_mean_absolute_error: 0.0248\n",
      "Epoch 13/200\n",
      "114/114 [==============================] - 2s 14ms/step - loss: 0.0211 - mean_absolute_error: 0.0549 - val_loss: 0.0130 - val_mean_absolute_error: 0.0377\n",
      "Epoch 14/200\n",
      "114/114 [==============================] - 2s 14ms/step - loss: 0.0214 - mean_absolute_error: 0.0558 - val_loss: 0.0129 - val_mean_absolute_error: 0.0314\n",
      "Epoch 15/200\n",
      "114/114 [==============================] - 2s 14ms/step - loss: 0.0215 - mean_absolute_error: 0.0563 - val_loss: 0.0132 - val_mean_absolute_error: 0.0474\n",
      "Epoch 16/200\n",
      "114/114 [==============================] - 2s 14ms/step - loss: 0.0214 - mean_absolute_error: 0.0566 - val_loss: 0.0132 - val_mean_absolute_error: 0.0413\n",
      "Epoch 17/200\n",
      "114/114 [==============================] - 2s 14ms/step - loss: 0.0212 - mean_absolute_error: 0.0546 - val_loss: 0.0128 - val_mean_absolute_error: 0.0311\n",
      "Epoch 18/200\n",
      "114/114 [==============================] - 2s 14ms/step - loss: 0.0211 - mean_absolute_error: 0.0542 - val_loss: 0.0129 - val_mean_absolute_error: 0.0341\n",
      "Epoch 19/200\n",
      "114/114 [==============================] - 2s 14ms/step - loss: 0.0210 - mean_absolute_error: 0.0551 - val_loss: 0.0129 - val_mean_absolute_error: 0.0304\n",
      "Epoch 20/200\n",
      "114/114 [==============================] - 2s 14ms/step - loss: 0.0209 - mean_absolute_error: 0.0545 - val_loss: 0.0129 - val_mean_absolute_error: 0.0334\n",
      "Epoch 21/200\n",
      "114/114 [==============================] - 2s 14ms/step - loss: 0.0210 - mean_absolute_error: 0.0545 - val_loss: 0.0131 - val_mean_absolute_error: 0.0290\n",
      "Epoch 22/200\n",
      "114/114 [==============================] - 2s 14ms/step - loss: 0.0208 - mean_absolute_error: 0.0538 - val_loss: 0.0128 - val_mean_absolute_error: 0.0281\n",
      "Epoch 23/200\n",
      "114/114 [==============================] - 2s 14ms/step - loss: 0.0207 - mean_absolute_error: 0.0527 - val_loss: 0.0130 - val_mean_absolute_error: 0.0400\n",
      "Epoch 24/200\n",
      "114/114 [==============================] - 2s 15ms/step - loss: 0.0208 - mean_absolute_error: 0.0541 - val_loss: 0.0129 - val_mean_absolute_error: 0.0344\n",
      "Epoch 25/200\n",
      "114/114 [==============================] - 2s 15ms/step - loss: 0.0207 - mean_absolute_error: 0.0552 - val_loss: 0.0129 - val_mean_absolute_error: 0.0366\n",
      "Epoch 26/200\n",
      "114/114 [==============================] - 2s 14ms/step - loss: 0.0207 - mean_absolute_error: 0.0529 - val_loss: 0.0129 - val_mean_absolute_error: 0.0289\n",
      "Epoch 27/200\n",
      "111/114 [============================>.] - ETA: 0s - loss: 0.0205 - mean_absolute_error: 0.0537Restoring model weights from the end of the best epoch: 17.\n",
      "114/114 [==============================] - 2s 15ms/step - loss: 0.0204 - mean_absolute_error: 0.0535 - val_loss: 0.0131 - val_mean_absolute_error: 0.0232\n",
      "Epoch 27: early stopping\n",
      "CPU times: user 1min 9s, sys: 4.69 s, total: 1min 14s\n",
      "Wall time: 48.3 s\n"
     ]
    }
   ],
   "source": [
    "%%time\n",
    "# Train the model - Maybe we do not need a generator for now, let's see\n",
    "history_new = base_model.fit(X_train, y_train, validation_data = (X_valid, y_valid), epochs = 200, callbacks = [es])"
   ]
  },
  {
   "cell_type": "code",
   "execution_count": 38,
   "id": "b1540fed-59b6-43ba-9bb4-3a367d25e474",
   "metadata": {},
   "outputs": [
    {
     "data": {
      "image/png": "[encoded data removed]",
      "text/plain": [
       "<Figure size 1500x700 with 1 Axes>"
      ]
     },
     "metadata": {},
     "output_type": "display_data"
    }
   ],
   "source": [
    "# plot the losses\n",
    "plt.figure(figsize = (15,7))\n",
    "plt.plot(history_new.history['loss'], label='Training Loss')\n",
    "plt.plot(history_new.history['val_loss'], label='Validation Loss')\n",
    "plt.title(\"Learning curves for the losses\")\n",
    "plt.xlabel('Epochs')\n",
    "plt.ylabel('Loss')\n",
    "plt.legend()\n",
    "plt.show()\n",
    "# history.history['loss']"
   ]
  },
  {
   "cell_type": "code",
   "execution_count": 39,
   "id": "6465cdb6-fa70-4c02-b8ab-976efd1a772f",
   "metadata": {},
   "outputs": [],
   "source": [
    "# save the train model\n",
    "# save this model\n",
    "model_name_finetuned = 'stage2_base_model_non_overlapping.keras'\n",
    "base_model.save('models' + '/' + model_name_finetuned)"
   ]
  }
 ],
 "metadata": {
  "kernelspec": {
   "display_name": "Python (nrdstor_tfp_for_TN)",
   "language": "python",
   "name": "nrdstor_tfp_for_tn"
  },
  "language_info": {
   "codemirror_mode": {
    "name": "ipython",
    "version": 3
   },
   "file_extension": ".py",
   "mimetype": "text/x-python",
   "name": "python",
   "nbconvert_exporter": "python",
   "pygments_lexer": "ipython3",
   "version": "3.10.14"
  }
 },
 "nbformat": 4,
 "nbformat_minor": 5
}

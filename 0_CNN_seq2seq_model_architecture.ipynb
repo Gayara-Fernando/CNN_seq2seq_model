{
 "cells": [
  {
   "cell_type": "code",
   "execution_count": 1,
   "id": "c33f9212-8c56-4c83-933e-f1ce67fb2f60",
   "metadata": {},
   "outputs": [
    {
     "name": "stderr",
     "output_type": "stream",
     "text": [
      "2025-07-16 17:14:15.996970: I tensorflow/core/util/port.cc:113] oneDNN custom operations are on. You may see slightly different numerical results due to floating-point round-off errors from different computation orders. To turn them off, set the environment variable `TF_ENABLE_ONEDNN_OPTS=0`.\n",
      "2025-07-16 17:14:16.033744: E external/local_xla/xla/stream_executor/cuda/cuda_dnn.cc:9261] Unable to register cuDNN factory: Attempting to register factory for plugin cuDNN when one has already been registered\n",
      "2025-07-16 17:14:16.033770: E external/local_xla/xla/stream_executor/cuda/cuda_fft.cc:607] Unable to register cuFFT factory: Attempting to register factory for plugin cuFFT when one has already been registered\n",
      "2025-07-16 17:14:16.034707: E external/local_xla/xla/stream_executor/cuda/cuda_blas.cc:1515] Unable to register cuBLAS factory: Attempting to register factory for plugin cuBLAS when one has already been registered\n",
      "2025-07-16 17:14:16.040825: I tensorflow/core/platform/cpu_feature_guard.cc:182] This TensorFlow binary is optimized to use available CPU instructions in performance-critical operations.\n",
      "To enable the following instructions: SSE4.1 SSE4.2 AVX AVX2 AVX512F AVX512_VNNI FMA, in other operations, rebuild TensorFlow with the appropriate compiler flags.\n"
     ]
    }
   ],
   "source": [
    "import tensorflow as tf\n",
    "import pandas as pd\n",
    "import numpy as np"
   ]
  },
  {
   "cell_type": "code",
   "execution_count": 2,
   "id": "2ff490c6-cdc2-4b71-9311-b235bbe7d846",
   "metadata": {},
   "outputs": [
    {
     "name": "stderr",
     "output_type": "stream",
     "text": [
      "2025-07-16 17:14:17.902091: I tensorflow/core/common_runtime/gpu/gpu_device.cc:1929] Created device /job:localhost/replica:0/task:0/device:GPU:0 with 31134 MB memory:  -> device: 0, name: Tesla V100S-PCIE-32GB, pci bus id: 0000:06:00.0, compute capability: 7.0\n"
     ]
    }
   ],
   "source": [
    "# We need the previously trained model? Where is it?\n",
    "CNN_model = tf.keras.models.load_model('../../Spring_2024/Bayes_for_comps/TS_bayes_implementation_for_TN/models/trained_gmp_model_dense_32_new.h5')"
   ]
  },
  {
   "cell_type": "code",
   "execution_count": 3,
   "id": "1fff3aec-4fc6-44bd-9e1e-20ba6c8adbad",
   "metadata": {},
   "outputs": [
    {
     "name": "stdout",
     "output_type": "stream",
     "text": [
      "Model: \"model_1\"\n",
      "_________________________________________________________________\n",
      " Layer (type)                Output Shape              Param #   \n",
      "=================================================================\n",
      " input_1 (InputLayer)        [(None, None, None, 3)]   0         \n",
      "                                                                 \n",
      " conv2d (Conv2D)             (None, None, None, 32)    896       \n",
      "                                                                 \n",
      " activation (Activation)     (None, None, None, 32)    0         \n",
      "                                                                 \n",
      " conv2d_1 (Conv2D)           (None, None, None, 32)    9248      \n",
      "                                                                 \n",
      " activation_1 (Activation)   (None, None, None, 32)    0         \n",
      "                                                                 \n",
      " max_pooling2d (MaxPooling2  (None, None, None, 32)    0         \n",
      " D)                                                              \n",
      "                                                                 \n",
      " dropout (Dropout)           (None, None, None, 32)    0         \n",
      "                                                                 \n",
      " conv2d_2 (Conv2D)           (None, None, None, 64)    18496     \n",
      "                                                                 \n",
      " activation_2 (Activation)   (None, None, None, 64)    0         \n",
      "                                                                 \n",
      " conv2d_3 (Conv2D)           (None, None, None, 64)    36928     \n",
      "                                                                 \n",
      " activation_3 (Activation)   (None, None, None, 64)    0         \n",
      "                                                                 \n",
      " max_pooling2d_1 (MaxPoolin  (None, None, None, 64)    0         \n",
      " g2D)                                                            \n",
      "                                                                 \n",
      " New_dropout_0 (Dropout)     (None, None, None, 64)    0         \n",
      "                                                                 \n",
      " global_max_pooling2d (Glob  (None, 64)                0         \n",
      " alMaxPooling2D)                                                 \n",
      "                                                                 \n",
      " New_Dense_0 (Dense)         (None, 64)                4160      \n",
      "                                                                 \n",
      " New_Activation_0 (Activati  (None, 64)                0         \n",
      " on)                                                             \n",
      "                                                                 \n",
      " New_dropout_1 (Dropout)     (None, 64)                0         \n",
      "                                                                 \n",
      " New_Dense_1 (Dense)         (None, 32)                2080      \n",
      "                                                                 \n",
      " New_Activation_1 (Activati  (None, 32)                0         \n",
      " on)                                                             \n",
      "                                                                 \n",
      " New_dropout_2 (Dropout)     (None, 32)                0         \n",
      "                                                                 \n",
      " New_Dense_2 (Dense)         (None, 1)                 33        \n",
      "                                                                 \n",
      " New_Activation_2 (Activati  (None, 1)                 0         \n",
      " on)                                                             \n",
      "                                                                 \n",
      "=================================================================\n",
      "Total params: 71841 (280.63 KB)\n",
      "Trainable params: 43201 (168.75 KB)\n",
      "Non-trainable params: 28640 (111.88 KB)\n",
      "_________________________________________________________________\n"
     ]
    }
   ],
   "source": [
    "CNN_model.summary()"
   ]
  },
  {
   "cell_type": "code",
   "execution_count": 4,
   "id": "f8c596c7-a99b-4b81-9f61-3202cbc0c5fa",
   "metadata": {},
   "outputs": [],
   "source": [
    "# We will only use the part of the model used for featrue extraction\n",
    "\n",
    "feat_ext_input = CNN_model.input\n",
    "\n",
    "feat_ext_output = CNN_model.layers[-4].output\n",
    "\n",
    "feature_extractor_model = tf.keras.models.Model(inputs = feat_ext_input, outputs = feat_ext_output)"
   ]
  },
  {
   "cell_type": "code",
   "execution_count": 5,
   "id": "acb54240-da3c-4eeb-93f1-023cf59b0a73",
   "metadata": {},
   "outputs": [
    {
     "name": "stdout",
     "output_type": "stream",
     "text": [
      "Model: \"model\"\n",
      "_________________________________________________________________\n",
      " Layer (type)                Output Shape              Param #   \n",
      "=================================================================\n",
      " input_1 (InputLayer)        [(None, None, None, 3)]   0         \n",
      "                                                                 \n",
      " conv2d (Conv2D)             (None, None, None, 32)    896       \n",
      "                                                                 \n",
      " activation (Activation)     (None, None, None, 32)    0         \n",
      "                                                                 \n",
      " conv2d_1 (Conv2D)           (None, None, None, 32)    9248      \n",
      "                                                                 \n",
      " activation_1 (Activation)   (None, None, None, 32)    0         \n",
      "                                                                 \n",
      " max_pooling2d (MaxPooling2  (None, None, None, 32)    0         \n",
      " D)                                                              \n",
      "                                                                 \n",
      " dropout (Dropout)           (None, None, None, 32)    0         \n",
      "                                                                 \n",
      " conv2d_2 (Conv2D)           (None, None, None, 64)    18496     \n",
      "                                                                 \n",
      " activation_2 (Activation)   (None, None, None, 64)    0         \n",
      "                                                                 \n",
      " conv2d_3 (Conv2D)           (None, None, None, 64)    36928     \n",
      "                                                                 \n",
      " activation_3 (Activation)   (None, None, None, 64)    0         \n",
      "                                                                 \n",
      " max_pooling2d_1 (MaxPoolin  (None, None, None, 64)    0         \n",
      " g2D)                                                            \n",
      "                                                                 \n",
      " New_dropout_0 (Dropout)     (None, None, None, 64)    0         \n",
      "                                                                 \n",
      " global_max_pooling2d (Glob  (None, 64)                0         \n",
      " alMaxPooling2D)                                                 \n",
      "                                                                 \n",
      " New_Dense_0 (Dense)         (None, 64)                4160      \n",
      "                                                                 \n",
      " New_Activation_0 (Activati  (None, 64)                0         \n",
      " on)                                                             \n",
      "                                                                 \n",
      " New_dropout_1 (Dropout)     (None, 64)                0         \n",
      "                                                                 \n",
      " New_Dense_1 (Dense)         (None, 32)                2080      \n",
      "                                                                 \n",
      " New_Activation_1 (Activati  (None, 32)                0         \n",
      " on)                                                             \n",
      "                                                                 \n",
      "=================================================================\n",
      "Total params: 71808 (280.50 KB)\n",
      "Trainable params: 43168 (168.62 KB)\n",
      "Non-trainable params: 28640 (111.88 KB)\n",
      "_________________________________________________________________\n"
     ]
    }
   ],
   "source": [
    "feature_extractor_model.summary()"
   ]
  },
  {
   "cell_type": "code",
   "execution_count": 6,
   "id": "82d44078-82c5-40a5-bc52-d4249043cc88",
   "metadata": {},
   "outputs": [],
   "source": [
    "# We might need to give attention to how the layer weights need to be trained, I think first we freeze everything, and then we unfreeze some, let's look at this in the CNN-LSTM work that was previously done."
   ]
  },
  {
   "cell_type": "code",
   "execution_count": 7,
   "id": "db3d8da8-ce21-4809-8324-c451a9a3cee5",
   "metadata": {},
   "outputs": [],
   "source": [
    "# Over here let's just focus on the architecture of the cnn seq2seq model"
   ]
  },
  {
   "cell_type": "code",
   "execution_count": 8,
   "id": "fd99d035-718f-45ac-acff-252f21d63b62",
   "metadata": {},
   "outputs": [],
   "source": [
    "# Shape of the input would be [None, 13, None, None, 3] - notice that the first dimension is for the time component"
   ]
  },
  {
   "cell_type": "code",
   "execution_count": 9,
   "id": "7fb1a806-2594-427e-adba-7a6bef58e7ef",
   "metadata": {},
   "outputs": [],
   "source": [
    "# I think we wrap this in a time distributed layer? and then pass it throgh a LSTM layer to respect the time dimension. This should give us our encoder part of the model. For now, we will not include teacher forcing, but let's keep in mind this is something we can do to improve model performance."
   ]
  },
  {
   "cell_type": "code",
   "execution_count": 10,
   "id": "04393e2c-558a-48c2-ab6a-6bcacff212bc",
   "metadata": {},
   "outputs": [],
   "source": [
    "# Encoder model"
   ]
  },
  {
   "cell_type": "code",
   "execution_count": 11,
   "id": "62404083-3644-4ffe-855a-9bb2708a4f0b",
   "metadata": {},
   "outputs": [],
   "source": [
    "encoder_input = tf.keras.layers.Input(shape = (None, None, None, 3)) # The first None over here represent the time dimension, let's leave it as None instead of 13 for now as it is more generic\n",
    "\n",
    "# pass the model through a time distributed layer\n",
    "td_model = tf.keras.layers.TimeDistributed(feature_extractor_model)\n",
    "\n",
    "td_out = td_model(encoder_input)\n"
   ]
  },
  {
   "cell_type": "code",
   "execution_count": 12,
   "id": "3efdd41e-b773-4196-8166-5536359d8bd6",
   "metadata": {},
   "outputs": [],
   "source": [
    "model_till_now = tf.keras.models.Model(inputs = encoder_input, outputs = td_out)"
   ]
  },
  {
   "cell_type": "code",
   "execution_count": 13,
   "id": "bb478ed2-2f1d-4b88-a598-569315294288",
   "metadata": {},
   "outputs": [
    {
     "name": "stdout",
     "output_type": "stream",
     "text": [
      "Model: \"model_1\"\n",
      "_________________________________________________________________\n",
      " Layer (type)                Output Shape              Param #   \n",
      "=================================================================\n",
      " input_1 (InputLayer)        [(None, None, None, Non   0         \n",
      "                             e, 3)]                              \n",
      "                                                                 \n",
      " time_distributed (TimeDist  (None, None, 32)          71808     \n",
      " ributed)                                                        \n",
      "                                                                 \n",
      "=================================================================\n",
      "Total params: 71808 (280.50 KB)\n",
      "Trainable params: 43168 (168.62 KB)\n",
      "Non-trainable params: 28640 (111.88 KB)\n",
      "_________________________________________________________________\n"
     ]
    }
   ],
   "source": [
    "model_till_now.summary()"
   ]
  },
  {
   "cell_type": "code",
   "execution_count": 14,
   "id": "7a2824ad-5f4b-48d3-90cd-1961bef104cb",
   "metadata": {},
   "outputs": [],
   "source": [
    "# just to make sure the time dimension is correctly accounted for, let's do the following"
   ]
  },
  {
   "cell_type": "code",
   "execution_count": 15,
   "id": "8ec293ff-2371-4432-9283-52d8897d4491",
   "metadata": {},
   "outputs": [
    {
     "name": "stdout",
     "output_type": "stream",
     "text": [
      "Model: \"model_2\"\n",
      "_________________________________________________________________\n",
      " Layer (type)                Output Shape              Param #   \n",
      "=================================================================\n",
      " input_2 (InputLayer)        [(None, 13, None, None,   0         \n",
      "                              3)]                                \n",
      "                                                                 \n",
      " time_distributed_1 (TimeDi  (None, 13, 32)            71808     \n",
      " stributed)                                                      \n",
      "                                                                 \n",
      "=================================================================\n",
      "Total params: 71808 (280.50 KB)\n",
      "Trainable params: 43168 (168.62 KB)\n",
      "Non-trainable params: 28640 (111.88 KB)\n",
      "_________________________________________________________________\n"
     ]
    }
   ],
   "source": [
    "test_encoder_input = tf.keras.layers.Input(shape = (13, None, None, 3)) \n",
    "test_td_model = tf.keras.layers.TimeDistributed(feature_extractor_model)\n",
    "test_td_out = test_td_model(test_encoder_input)\n",
    "\n",
    "test_model = tf.keras.models.Model(inputs = test_encoder_input, outputs = test_td_out)\n",
    "\n",
    "test_model.summary()"
   ]
  },
  {
   "cell_type": "code",
   "execution_count": 16,
   "id": "7c5089f5-b18b-4a3d-b66b-b59a62a9ee65",
   "metadata": {},
   "outputs": [],
   "source": [
    "# Okay, now pass an LSTM layer here, without return sequences, as the context vector is probably enough for our decoder?"
   ]
  },
  {
   "cell_type": "code",
   "execution_count": 17,
   "id": "9c15d235-1065-4573-a246-cdee245084ad",
   "metadata": {},
   "outputs": [
    {
     "name": "stdout",
     "output_type": "stream",
     "text": [
      "WARNING:tensorflow:Layer lstm will not use cuDNN kernels since it doesn't meet the criteria. It will use a generic GPU kernel as fallback when running on GPU.\n"
     ]
    }
   ],
   "source": [
    "lstm_layer = tf.keras.layers.LSTM(64, activation = \"relu\", return_state = True, return_sequences = False)"
   ]
  },
  {
   "cell_type": "code",
   "execution_count": 18,
   "id": "70654eed-6a19-4c63-a40a-3601851e9a81",
   "metadata": {},
   "outputs": [],
   "source": [
    "encoder_outputs, state_h, state_c = lstm_layer(td_out)"
   ]
  },
  {
   "cell_type": "code",
   "execution_count": 19,
   "id": "a97e6c5b-38f6-491f-996a-ad80fef21d79",
   "metadata": {},
   "outputs": [],
   "source": [
    "encoder_model = tf.keras.models.Model(inputs = encoder_input, outputs = encoder_outputs)"
   ]
  },
  {
   "cell_type": "code",
   "execution_count": 20,
   "id": "8609837a-d840-4949-9fc7-a3416bb7595c",
   "metadata": {},
   "outputs": [
    {
     "name": "stdout",
     "output_type": "stream",
     "text": [
      "Model: \"model_3\"\n",
      "_________________________________________________________________\n",
      " Layer (type)                Output Shape              Param #   \n",
      "=================================================================\n",
      " input_1 (InputLayer)        [(None, None, None, Non   0         \n",
      "                             e, 3)]                              \n",
      "                                                                 \n",
      " time_distributed (TimeDist  (None, None, 32)          71808     \n",
      " ributed)                                                        \n",
      "                                                                 \n",
      " lstm (LSTM)                 [(None, 64),              24832     \n",
      "                              (None, 64),                        \n",
      "                              (None, 64)]                        \n",
      "                                                                 \n",
      "=================================================================\n",
      "Total params: 96640 (377.50 KB)\n",
      "Trainable params: 68000 (265.62 KB)\n",
      "Non-trainable params: 28640 (111.88 KB)\n",
      "_________________________________________________________________\n"
     ]
    }
   ],
   "source": [
    "encoder_model.summary()"
   ]
  },
  {
   "cell_type": "code",
   "execution_count": 21,
   "id": "d7830545-a883-407c-9f9d-2115dd0a9ced",
   "metadata": {},
   "outputs": [],
   "source": [
    "# Okay, now for the decoder part of the model\n",
    "\n",
    "# We need to repeat the context vector 7 times as the inputs into the decoder\n",
    "\n",
    "decoder_inp = tf.keras.layers.RepeatVector(7)(encoder_outputs)"
   ]
  },
  {
   "cell_type": "code",
   "execution_count": 22,
   "id": "a4c9cc7b-f1b3-435d-a936-ca71d61d97ec",
   "metadata": {},
   "outputs": [
    {
     "data": {
      "text/plain": [
       "TensorShape([None, 7, 64])"
      ]
     },
     "execution_count": 22,
     "metadata": {},
     "output_type": "execute_result"
    }
   ],
   "source": [
    "decoder_inp.shape"
   ]
  },
  {
   "cell_type": "code",
   "execution_count": 23,
   "id": "42801651-62ce-4afd-a82d-48e2b621803f",
   "metadata": {},
   "outputs": [
    {
     "name": "stdout",
     "output_type": "stream",
     "text": [
      "WARNING:tensorflow:Layer lstm_1 will not use cuDNN kernels since it doesn't meet the criteria. It will use a generic GPU kernel as fallback when running on GPU.\n"
     ]
    }
   ],
   "source": [
    "# Have an LSTM here on top of this for the output - and I think here we do need the return sequences to True\n",
    "decoder_lstm = tf.keras.layers.LSTM(64, return_sequences = True, activation = 'relu')\n",
    "\n",
    "decoder_out = decoder_lstm(decoder_inp, initial_state = [state_h, state_c])\n",
    "\n",
    "# And now a dense layer for this - with a time distributed layer - but can do a just Dense too\n",
    "\n",
    "dense_layer = tf.keras.layers.TimeDistributed(tf.keras.layers.Dense(32, activation = 'relu'))\n",
    "\n",
    "dense_out = dense_layer(decoder_out)"
   ]
  },
  {
   "cell_type": "code",
   "execution_count": 24,
   "id": "cd64460a-d99d-4b3f-84ea-7a1614c77564",
   "metadata": {},
   "outputs": [],
   "source": [
    "model_till_now = tf.keras.models.Model(inputs = encoder_input, outputs = dense_out)"
   ]
  },
  {
   "cell_type": "code",
   "execution_count": 25,
   "id": "15911199-17c7-4aac-8989-be9b53477b21",
   "metadata": {},
   "outputs": [
    {
     "name": "stdout",
     "output_type": "stream",
     "text": [
      "Model: \"model_4\"\n",
      "__________________________________________________________________________________________________\n",
      " Layer (type)                Output Shape                 Param #   Connected to                  \n",
      "==================================================================================================\n",
      " input_1 (InputLayer)        [(None, None, None, None,    0         []                            \n",
      "                             3)]                                                                  \n",
      "                                                                                                  \n",
      " time_distributed (TimeDist  (None, None, 32)             71808     ['input_1[0][0]']             \n",
      " ributed)                                                                                         \n",
      "                                                                                                  \n",
      " lstm (LSTM)                 [(None, 64),                 24832     ['time_distributed[0][0]']    \n",
      "                              (None, 64),                                                         \n",
      "                              (None, 64)]                                                         \n",
      "                                                                                                  \n",
      " repeat_vector (RepeatVecto  (None, 7, 64)                0         ['lstm[0][0]']                \n",
      " r)                                                                                               \n",
      "                                                                                                  \n",
      " lstm_1 (LSTM)               (None, 7, 64)                33024     ['repeat_vector[0][0]',       \n",
      "                                                                     'lstm[0][1]',                \n",
      "                                                                     'lstm[0][2]']                \n",
      "                                                                                                  \n",
      " time_distributed_2 (TimeDi  (None, 7, 32)                2080      ['lstm_1[0][0]']              \n",
      " stributed)                                                                                       \n",
      "                                                                                                  \n",
      "==================================================================================================\n",
      "Total params: 131744 (514.62 KB)\n",
      "Trainable params: 103104 (402.75 KB)\n",
      "Non-trainable params: 28640 (111.88 KB)\n",
      "__________________________________________________________________________________________________\n"
     ]
    }
   ],
   "source": [
    "model_till_now.summary()"
   ]
  },
  {
   "cell_type": "code",
   "execution_count": 26,
   "id": "a9423900-5af1-4b58-ac7e-febdbc2fde74",
   "metadata": {},
   "outputs": [],
   "source": [
    "# Put all these together and write out the full model for the future"
   ]
  },
  {
   "cell_type": "code",
   "execution_count": 27,
   "id": "febd1305-7cf8-40fe-9687-d86773c68c56",
   "metadata": {},
   "outputs": [
    {
     "name": "stdout",
     "output_type": "stream",
     "text": [
      "WARNING:tensorflow:Layer lstm_2 will not use cuDNN kernels since it doesn't meet the criteria. It will use a generic GPU kernel as fallback when running on GPU.\n",
      "WARNING:tensorflow:Layer lstm_3 will not use cuDNN kernels since it doesn't meet the criteria. It will use a generic GPU kernel as fallback when running on GPU.\n"
     ]
    }
   ],
   "source": [
    "input_time = 13\n",
    "feature_size = 32\n",
    "output_time = 7\n",
    "\n",
    "# Encoder\n",
    "# define encoder input\n",
    "encoder_input = tf.keras.layers.Input(shape = (input_time, None, None, 3)) \n",
    "\n",
    "# pass the feature extractor model through a TD layer\n",
    "td_model = tf.keras.layers.TimeDistributed(feature_extractor_model)\n",
    "\n",
    "td_out = td_model(encoder_input)\n",
    "\n",
    "# add an lstm to process the input sequence\n",
    "lstm_layer = tf.keras.layers.LSTM(64, activation = \"relu\", return_state = True, return_sequences = False)\n",
    "\n",
    "encoder_outputs, state_h, state_c = lstm_layer(td_out)\n",
    "\n",
    "# Decoder\n",
    "\n",
    "# repeat the context vector 7 times\n",
    "decoder_inp = tf.keras.layers.RepeatVector(output_time)(encoder_outputs)\n",
    "\n",
    "# define an LSTM for the output sequence\n",
    "decoder_lstm = tf.keras.layers.LSTM(64, return_sequences = True, activation = 'relu')\n",
    "\n",
    "decoder_out = decoder_lstm(decoder_inp, initial_state = [state_h, state_c])\n",
    "\n",
    "# TD dense layer to generate the output sequnces\n",
    "dense_layer = tf.keras.layers.TimeDistributed(tf.keras.layers.Dense(feature_size, activation = 'relu'))\n",
    "\n",
    "dense_out = dense_layer(decoder_out)\n",
    "\n",
    "# define the model\n",
    "CNN_seq2seq_model = tf.keras.models.Model(inputs = encoder_input, outputs = dense_out)"
   ]
  },
  {
   "cell_type": "code",
   "execution_count": 28,
   "id": "65b245ec-ede0-4b71-b238-9b9e5e11dbc9",
   "metadata": {},
   "outputs": [
    {
     "name": "stdout",
     "output_type": "stream",
     "text": [
      "Model: \"model_5\"\n",
      "__________________________________________________________________________________________________\n",
      " Layer (type)                Output Shape                 Param #   Connected to                  \n",
      "==================================================================================================\n",
      " input_3 (InputLayer)        [(None, 13, None, None, 3)   0         []                            \n",
      "                             ]                                                                    \n",
      "                                                                                                  \n",
      " time_distributed_3 (TimeDi  (None, 13, 32)               71808     ['input_3[0][0]']             \n",
      " stributed)                                                                                       \n",
      "                                                                                                  \n",
      " lstm_2 (LSTM)               [(None, 64),                 24832     ['time_distributed_3[0][0]']  \n",
      "                              (None, 64),                                                         \n",
      "                              (None, 64)]                                                         \n",
      "                                                                                                  \n",
      " repeat_vector_1 (RepeatVec  (None, 7, 64)                0         ['lstm_2[0][0]']              \n",
      " tor)                                                                                             \n",
      "                                                                                                  \n",
      " lstm_3 (LSTM)               (None, 7, 64)                33024     ['repeat_vector_1[0][0]',     \n",
      "                                                                     'lstm_2[0][1]',              \n",
      "                                                                     'lstm_2[0][2]']              \n",
      "                                                                                                  \n",
      " time_distributed_4 (TimeDi  (None, 7, 32)                2080      ['lstm_3[0][0]']              \n",
      " stributed)                                                                                       \n",
      "                                                                                                  \n",
      "==================================================================================================\n",
      "Total params: 131744 (514.62 KB)\n",
      "Trainable params: 103104 (402.75 KB)\n",
      "Non-trainable params: 28640 (111.88 KB)\n",
      "__________________________________________________________________________________________________\n"
     ]
    }
   ],
   "source": [
    "CNN_seq2seq_model.summary()"
   ]
  },
  {
   "cell_type": "code",
   "execution_count": 29,
   "id": "d28a950c-edaf-4f82-b1a2-1a672bd63605",
   "metadata": {},
   "outputs": [],
   "source": [
    "# Before moving to preprocessing - let's tackle the number of params in each layer"
   ]
  },
  {
   "cell_type": "code",
   "execution_count": 30,
   "id": "6033fbdb-2af9-48d1-9a78-e5725895fcb5",
   "metadata": {},
   "outputs": [
    {
     "data": {
      "text/plain": [
       "71808"
      ]
     },
     "execution_count": 30,
     "metadata": {},
     "output_type": "execute_result"
    }
   ],
   "source": [
    "# now the initial params coming from the previous model - let's hold on to this for a moment.\n",
    "71841 - 33 # we only removed the last dense layer\n",
    "# 71808"
   ]
  },
  {
   "cell_type": "code",
   "execution_count": 31,
   "id": "4b6ec1a1-7da8-4962-a4f8-2202606acf19",
   "metadata": {},
   "outputs": [
    {
     "data": {
      "text/plain": [
       "6208.0"
      ]
     },
     "execution_count": 31,
     "metadata": {},
     "output_type": "execute_result"
    }
   ],
   "source": [
    "# now for the LSTM - we have 4 types of gates, hence we devide this number by 4 to find the number of params in one\n",
    "24832/4     "
   ]
  },
  {
   "cell_type": "code",
   "execution_count": 32,
   "id": "37d55c97-da32-49d1-8788-ed6950fd9903",
   "metadata": {},
   "outputs": [],
   "source": [
    "# Okay, where is this 6208 coming from? we have 64 dimensions in the hidden neurons for the LSTM, and 32 input features\n",
    "\n",
    "# ht = f(WXt + Uh(t-1) + b)\n",
    "\n",
    "# b - 64*1\n",
    "# W - 64*32\n",
    "# U - 64*64"
   ]
  },
  {
   "cell_type": "code",
   "execution_count": 33,
   "id": "3cebc1b2-2cbd-4789-80bb-a26640455354",
   "metadata": {},
   "outputs": [
    {
     "data": {
      "text/plain": [
       "6208"
      ]
     },
     "execution_count": 33,
     "metadata": {},
     "output_type": "execute_result"
    }
   ],
   "source": [
    "64*64 + 64*32 + 64"
   ]
  },
  {
   "cell_type": "code",
   "execution_count": 34,
   "id": "c40ee0b8-0578-4365-837d-243890dd1f3f",
   "metadata": {},
   "outputs": [
    {
     "data": {
      "text/plain": [
       "8256.0"
      ]
     },
     "execution_count": 34,
     "metadata": {},
     "output_type": "execute_result"
    }
   ],
   "source": [
    "# now for the LSTM in the decoder\n",
    "33024/4"
   ]
  },
  {
   "cell_type": "code",
   "execution_count": 35,
   "id": "d65a89a2-4a82-424a-8e22-d9c125c2426f",
   "metadata": {},
   "outputs": [
    {
     "data": {
      "text/plain": [
       "TensorShape([None, 64])"
      ]
     },
     "execution_count": 35,
     "metadata": {},
     "output_type": "execute_result"
    }
   ],
   "source": [
    "# from context vector, we have 64 input features\n",
    "encoder_outputs.shape"
   ]
  },
  {
   "cell_type": "code",
   "execution_count": 36,
   "id": "435ca293-d998-45b0-ac06-f68e85c81099",
   "metadata": {},
   "outputs": [],
   "source": [
    "# Therefore \n",
    "\n",
    "# b - 64*1\n",
    "# W - 64*64\n",
    "# U - 64*64"
   ]
  },
  {
   "cell_type": "code",
   "execution_count": 37,
   "id": "694ad820-15be-45dd-a511-dde3e89e9b2f",
   "metadata": {},
   "outputs": [
    {
     "data": {
      "text/plain": [
       "8256"
      ]
     },
     "execution_count": 37,
     "metadata": {},
     "output_type": "execute_result"
    }
   ],
   "source": [
    "64*64 + 64*64 + 64"
   ]
  },
  {
   "cell_type": "code",
   "execution_count": 38,
   "id": "fb739d27-70ef-469f-9e7f-db2abf06a8de",
   "metadata": {},
   "outputs": [
    {
     "data": {
      "text/plain": [
       "2080"
      ]
     },
     "execution_count": 38,
     "metadata": {},
     "output_type": "execute_result"
    }
   ],
   "source": [
    "# and then for the dense layer, we have all these weights shared across the 7 time periods, and also we have the bias neurons\n",
    "64*32 + 32"
   ]
  },
  {
   "cell_type": "code",
   "execution_count": 39,
   "id": "0548f5f0-edb0-4ce9-be48-fae7df3f9e94",
   "metadata": {},
   "outputs": [],
   "source": [
    "# Let's not get into the CNN for now as we need to know kernel sizes and padding and all that, we might have even worked this out some place else. Also notice that we may need to look into setting the weights of the CNN to freezing and unfreezing during the model training."
   ]
  },
  {
   "cell_type": "code",
   "execution_count": 40,
   "id": "f716b1ac-dc9f-47cc-9f9f-f67c96f25b74",
   "metadata": {},
   "outputs": [],
   "source": [
    "# Also during the previous implementation of the CNN LSTM, we added back the Dense layers after the global max pooling layer, so let's do the same here to be consistent. Let's define everyhting from new."
   ]
  },
  {
   "cell_type": "code",
   "execution_count": 41,
   "id": "e73585d9-d2d6-46cc-aaa8-fc5962e1b8a4",
   "metadata": {},
   "outputs": [],
   "source": [
    "# Define this reduced model\n",
    "\n",
    "output_reduced = CNN_model.layers[-11].output"
   ]
  },
  {
   "cell_type": "code",
   "execution_count": 42,
   "id": "4bbd4828-818d-4f5d-86dd-5b28f3ddfa90",
   "metadata": {},
   "outputs": [],
   "source": [
    "reduced_model = tf.keras.models.Model(inputs = CNN_model.input, outputs = output_reduced)"
   ]
  },
  {
   "cell_type": "code",
   "execution_count": 43,
   "id": "adcc00d2-d933-41db-b95e-6872e798ac64",
   "metadata": {},
   "outputs": [
    {
     "name": "stdout",
     "output_type": "stream",
     "text": [
      "Model: \"model_6\"\n",
      "_________________________________________________________________\n",
      " Layer (type)                Output Shape              Param #   \n",
      "=================================================================\n",
      " input_1 (InputLayer)        [(None, None, None, 3)]   0         \n",
      "                                                                 \n",
      " conv2d (Conv2D)             (None, None, None, 32)    896       \n",
      "                                                                 \n",
      " activation (Activation)     (None, None, None, 32)    0         \n",
      "                                                                 \n",
      " conv2d_1 (Conv2D)           (None, None, None, 32)    9248      \n",
      "                                                                 \n",
      " activation_1 (Activation)   (None, None, None, 32)    0         \n",
      "                                                                 \n",
      " max_pooling2d (MaxPooling2  (None, None, None, 32)    0         \n",
      " D)                                                              \n",
      "                                                                 \n",
      " dropout (Dropout)           (None, None, None, 32)    0         \n",
      "                                                                 \n",
      " conv2d_2 (Conv2D)           (None, None, None, 64)    18496     \n",
      "                                                                 \n",
      " activation_2 (Activation)   (None, None, None, 64)    0         \n",
      "                                                                 \n",
      " conv2d_3 (Conv2D)           (None, None, None, 64)    36928     \n",
      "                                                                 \n",
      " activation_3 (Activation)   (None, None, None, 64)    0         \n",
      "                                                                 \n",
      " max_pooling2d_1 (MaxPoolin  (None, None, None, 64)    0         \n",
      " g2D)                                                            \n",
      "                                                                 \n",
      "=================================================================\n",
      "Total params: 65568 (256.12 KB)\n",
      "Trainable params: 36928 (144.25 KB)\n",
      "Non-trainable params: 28640 (111.88 KB)\n",
      "_________________________________________________________________\n"
     ]
    }
   ],
   "source": [
    "reduced_model.summary()"
   ]
  },
  {
   "cell_type": "code",
   "execution_count": 44,
   "id": "71bbcf7b-439f-4a8a-bfe5-3684b3cd14f9",
   "metadata": {},
   "outputs": [],
   "source": [
    "# okay, now need to add back the dropout, the dense and activation\n",
    "\n",
    "# add dropout\n",
    "added_dropout = tf.keras.layers.Dropout(0.5, name = \"New_dropout_0\")(CNN_model.layers[-11].output)\n",
    "\n",
    "# add global max pooling\n",
    "added_flatten = tf.keras.layers.GlobalMaxPooling2D()(added_dropout)\n",
    "\n",
    "# add dense\n",
    "added_dense = tf.keras.layers.Dense(64, name = \"New_Dense_0\")(added_flatten)\n",
    "\n",
    "# add activation\n",
    "added_Act = tf.keras.layers.Activation('relu', name = \"New_Activation_0\")(added_dense)\n",
    "\n",
    "# add dropout\n",
    "added_dropout2 = tf.keras.layers.Dropout(0.5, name = \"New_dropout_1\")(added_Act)\n",
    "\n",
    "# # add another dense\n",
    "added_dense_1 = tf.keras.layers.Dense(32, name = \"New_Dense_1\")(added_dropout2)\n",
    "\n",
    "# # add activation\n",
    "added_Act_1 = tf.keras.layers.Activation('relu', name = \"New_Activation_1\")(added_dense_1)\n",
    "\n",
    "new_model = tf.keras.models.Model(CNN_model.input, added_Act_1)"
   ]
  },
  {
   "cell_type": "code",
   "execution_count": 45,
   "id": "900a46df-1259-49a4-b5df-b399b52f5ac5",
   "metadata": {},
   "outputs": [
    {
     "name": "stdout",
     "output_type": "stream",
     "text": [
      "Model: \"model_7\"\n",
      "_________________________________________________________________\n",
      " Layer (type)                Output Shape              Param #   \n",
      "=================================================================\n",
      " input_1 (InputLayer)        [(None, None, None, 3)]   0         \n",
      "                                                                 \n",
      " conv2d (Conv2D)             (None, None, None, 32)    896       \n",
      "                                                                 \n",
      " activation (Activation)     (None, None, None, 32)    0         \n",
      "                                                                 \n",
      " conv2d_1 (Conv2D)           (None, None, None, 32)    9248      \n",
      "                                                                 \n",
      " activation_1 (Activation)   (None, None, None, 32)    0         \n",
      "                                                                 \n",
      " max_pooling2d (MaxPooling2  (None, None, None, 32)    0         \n",
      " D)                                                              \n",
      "                                                                 \n",
      " dropout (Dropout)           (None, None, None, 32)    0         \n",
      "                                                                 \n",
      " conv2d_2 (Conv2D)           (None, None, None, 64)    18496     \n",
      "                                                                 \n",
      " activation_2 (Activation)   (None, None, None, 64)    0         \n",
      "                                                                 \n",
      " conv2d_3 (Conv2D)           (None, None, None, 64)    36928     \n",
      "                                                                 \n",
      " activation_3 (Activation)   (None, None, None, 64)    0         \n",
      "                                                                 \n",
      " max_pooling2d_1 (MaxPoolin  (None, None, None, 64)    0         \n",
      " g2D)                                                            \n",
      "                                                                 \n",
      " New_dropout_0 (Dropout)     (None, None, None, 64)    0         \n",
      "                                                                 \n",
      " global_max_pooling2d (Glob  (None, 64)                0         \n",
      " alMaxPooling2D)                                                 \n",
      "                                                                 \n",
      " New_Dense_0 (Dense)         (None, 64)                4160      \n",
      "                                                                 \n",
      " New_Activation_0 (Activati  (None, 64)                0         \n",
      " on)                                                             \n",
      "                                                                 \n",
      " New_dropout_1 (Dropout)     (None, 64)                0         \n",
      "                                                                 \n",
      " New_Dense_1 (Dense)         (None, 32)                2080      \n",
      "                                                                 \n",
      " New_Activation_1 (Activati  (None, 32)                0         \n",
      " on)                                                             \n",
      "                                                                 \n",
      "=================================================================\n",
      "Total params: 71808 (280.50 KB)\n",
      "Trainable params: 43168 (168.62 KB)\n",
      "Non-trainable params: 28640 (111.88 KB)\n",
      "_________________________________________________________________\n"
     ]
    }
   ],
   "source": [
    "new_model.summary()"
   ]
  },
  {
   "cell_type": "code",
   "execution_count": 46,
   "id": "d52f8397-1797-4d46-ab44-9fea2cfb3cdb",
   "metadata": {},
   "outputs": [],
   "source": [
    "# 43168-2080 = 41088"
   ]
  },
  {
   "cell_type": "code",
   "execution_count": 47,
   "id": "f383d886-fef2-4cd4-9f35-bcc09421cd1c",
   "metadata": {},
   "outputs": [],
   "source": [
    "# now pass this throuhg the TD layer and add the other layers to this, and we will have the encoder and the decoder"
   ]
  },
  {
   "cell_type": "code",
   "execution_count": 48,
   "id": "689d3067-5b85-4a2e-b0c3-3955e7b579c3",
   "metadata": {},
   "outputs": [
    {
     "name": "stdout",
     "output_type": "stream",
     "text": [
      "WARNING:tensorflow:Layer lstm_4 will not use cuDNN kernels since it doesn't meet the criteria. It will use a generic GPU kernel as fallback when running on GPU.\n",
      "WARNING:tensorflow:Layer lstm_5 will not use cuDNN kernels since it doesn't meet the criteria. It will use a generic GPU kernel as fallback when running on GPU.\n"
     ]
    }
   ],
   "source": [
    "input_time = 13\n",
    "feature_size = 32\n",
    "output_time = 7\n",
    "\n",
    "# Encoder\n",
    "# define encoder input\n",
    "encoder_input = tf.keras.layers.Input(shape = (input_time, None, None, 3)) \n",
    "\n",
    "# pass the feature extractor model through a TD layer\n",
    "td_model = tf.keras.layers.TimeDistributed(new_model)\n",
    "\n",
    "td_out = td_model(encoder_input)\n",
    "\n",
    "# add an lstm to process the input sequence\n",
    "lstm_layer = tf.keras.layers.LSTM(64, activation = \"relu\", return_state = True, return_sequences = False)\n",
    "\n",
    "encoder_outputs, state_h, state_c = lstm_layer(td_out)\n",
    "\n",
    "# Decoder\n",
    "\n",
    "# repeat the context vector 7 times\n",
    "decoder_inp = tf.keras.layers.RepeatVector(output_time)(encoder_outputs)\n",
    "\n",
    "# define an LSTM for the output sequence\n",
    "decoder_lstm = tf.keras.layers.LSTM(64, return_sequences = True, activation = 'relu')\n",
    "\n",
    "decoder_out = decoder_lstm(decoder_inp, initial_state = [state_h, state_c])\n",
    "\n",
    "# TD dense layer to generate the output sequnces\n",
    "dense_layer = tf.keras.layers.TimeDistributed(tf.keras.layers.Dense(feature_size, activation = 'relu'))\n",
    "\n",
    "dense_out = dense_layer(decoder_out)\n",
    "\n",
    "# define the model\n",
    "CNN_seq2seq_model = tf.keras.models.Model(inputs = encoder_input, outputs = dense_out)"
   ]
  },
  {
   "cell_type": "code",
   "execution_count": 49,
   "id": "30832c2c-a3dc-4619-a6bc-bbd175a0a1d3",
   "metadata": {},
   "outputs": [
    {
     "name": "stdout",
     "output_type": "stream",
     "text": [
      "Model: \"model_8\"\n",
      "__________________________________________________________________________________________________\n",
      " Layer (type)                Output Shape                 Param #   Connected to                  \n",
      "==================================================================================================\n",
      " input_4 (InputLayer)        [(None, 13, None, None, 3)   0         []                            \n",
      "                             ]                                                                    \n",
      "                                                                                                  \n",
      " time_distributed_5 (TimeDi  (None, 13, 32)               71808     ['input_4[0][0]']             \n",
      " stributed)                                                                                       \n",
      "                                                                                                  \n",
      " lstm_4 (LSTM)               [(None, 64),                 24832     ['time_distributed_5[0][0]']  \n",
      "                              (None, 64),                                                         \n",
      "                              (None, 64)]                                                         \n",
      "                                                                                                  \n",
      " repeat_vector_2 (RepeatVec  (None, 7, 64)                0         ['lstm_4[0][0]']              \n",
      " tor)                                                                                             \n",
      "                                                                                                  \n",
      " lstm_5 (LSTM)               (None, 7, 64)                33024     ['repeat_vector_2[0][0]',     \n",
      "                                                                     'lstm_4[0][1]',              \n",
      "                                                                     'lstm_4[0][2]']              \n",
      "                                                                                                  \n",
      " time_distributed_6 (TimeDi  (None, 7, 32)                2080      ['lstm_5[0][0]']              \n",
      " stributed)                                                                                       \n",
      "                                                                                                  \n",
      "==================================================================================================\n",
      "Total params: 131744 (514.62 KB)\n",
      "Trainable params: 103104 (402.75 KB)\n",
      "Non-trainable params: 28640 (111.88 KB)\n",
      "__________________________________________________________________________________________________\n"
     ]
    }
   ],
   "source": [
    "CNN_seq2seq_model.summary()"
   ]
  },
  {
   "cell_type": "code",
   "execution_count": 50,
   "id": "430a9505-2d03-4667-a630-25467cc8a192",
   "metadata": {},
   "outputs": [],
   "source": [
    "# now, we can freeze the laeyr weights of the CNN model (the CNN layers at least)\n",
    "\n",
    "# freeze the layers\n",
    "for layer in CNN_model.layers:\n",
    "    layer.trainable = False"
   ]
  },
  {
   "cell_type": "code",
   "execution_count": 51,
   "id": "f2b4d34b-66c8-470e-995d-144582d912cf",
   "metadata": {},
   "outputs": [
    {
     "name": "stdout",
     "output_type": "stream",
     "text": [
      "Model: \"model_8\"\n",
      "__________________________________________________________________________________________________\n",
      " Layer (type)                Output Shape                 Param #   Connected to                  \n",
      "==================================================================================================\n",
      " input_4 (InputLayer)        [(None, 13, None, None, 3)   0         []                            \n",
      "                             ]                                                                    \n",
      "                                                                                                  \n",
      " time_distributed_5 (TimeDi  (None, 13, 32)               71808     ['input_4[0][0]']             \n",
      " stributed)                                                                                       \n",
      "                                                                                                  \n",
      " lstm_4 (LSTM)               [(None, 64),                 24832     ['time_distributed_5[0][0]']  \n",
      "                              (None, 64),                                                         \n",
      "                              (None, 64)]                                                         \n",
      "                                                                                                  \n",
      " repeat_vector_2 (RepeatVec  (None, 7, 64)                0         ['lstm_4[0][0]']              \n",
      " tor)                                                                                             \n",
      "                                                                                                  \n",
      " lstm_5 (LSTM)               (None, 7, 64)                33024     ['repeat_vector_2[0][0]',     \n",
      "                                                                     'lstm_4[0][1]',              \n",
      "                                                                     'lstm_4[0][2]']              \n",
      "                                                                                                  \n",
      " time_distributed_6 (TimeDi  (None, 7, 32)                2080      ['lstm_5[0][0]']              \n",
      " stributed)                                                                                       \n",
      "                                                                                                  \n",
      "==================================================================================================\n",
      "Total params: 131744 (514.62 KB)\n",
      "Trainable params: 66176 (258.50 KB)\n",
      "Non-trainable params: 65568 (256.12 KB)\n",
      "__________________________________________________________________________________________________\n"
     ]
    }
   ],
   "source": [
    "# verify the required weights are frozen?\n",
    "CNN_seq2seq_model.summary()"
   ]
  },
  {
   "cell_type": "code",
   "execution_count": 52,
   "id": "ce867662-12bc-4fa0-b4c7-41f51932ce08",
   "metadata": {},
   "outputs": [],
   "source": [
    "# 36928 + 18496 + 9248 + 896 = 65568\n",
    "# The weights indeed match"
   ]
  },
  {
   "cell_type": "code",
   "execution_count": 53,
   "id": "0d32fe3e-6430-4e53-b30f-807055e294d5",
   "metadata": {},
   "outputs": [],
   "source": [
    "# And when unfreezing, we can do this\n",
    "CNN_model.trainable = True\n",
    "\n",
    "set_trainable = False\n",
    "\n",
    "for layer in CNN_model.layers:\n",
    "    if layer.name == 'conv2d_3':\n",
    "        set_trainable = True\n",
    "    if set_trainable:\n",
    "        layer.trainable = True\n",
    "    else:\n",
    "        layer.trainable = False"
   ]
  },
  {
   "cell_type": "code",
   "execution_count": 54,
   "id": "2bca87fa-224f-42d3-9578-ce078c03c976",
   "metadata": {},
   "outputs": [
    {
     "name": "stdout",
     "output_type": "stream",
     "text": [
      "Model: \"model_8\"\n",
      "__________________________________________________________________________________________________\n",
      " Layer (type)                Output Shape                 Param #   Connected to                  \n",
      "==================================================================================================\n",
      " input_4 (InputLayer)        [(None, 13, None, None, 3)   0         []                            \n",
      "                             ]                                                                    \n",
      "                                                                                                  \n",
      " time_distributed_5 (TimeDi  (None, 13, 32)               71808     ['input_4[0][0]']             \n",
      " stributed)                                                                                       \n",
      "                                                                                                  \n",
      " lstm_4 (LSTM)               [(None, 64),                 24832     ['time_distributed_5[0][0]']  \n",
      "                              (None, 64),                                                         \n",
      "                              (None, 64)]                                                         \n",
      "                                                                                                  \n",
      " repeat_vector_2 (RepeatVec  (None, 7, 64)                0         ['lstm_4[0][0]']              \n",
      " tor)                                                                                             \n",
      "                                                                                                  \n",
      " lstm_5 (LSTM)               (None, 7, 64)                33024     ['repeat_vector_2[0][0]',     \n",
      "                                                                     'lstm_4[0][1]',              \n",
      "                                                                     'lstm_4[0][2]']              \n",
      "                                                                                                  \n",
      " time_distributed_6 (TimeDi  (None, 7, 32)                2080      ['lstm_5[0][0]']              \n",
      " stributed)                                                                                       \n",
      "                                                                                                  \n",
      "==================================================================================================\n",
      "Total params: 131744 (514.62 KB)\n",
      "Trainable params: 103104 (402.75 KB)\n",
      "Non-trainable params: 28640 (111.88 KB)\n",
      "__________________________________________________________________________________________________\n"
     ]
    }
   ],
   "source": [
    "CNN_seq2seq_model.summary()"
   ]
  },
  {
   "cell_type": "code",
   "execution_count": 56,
   "id": "fa69690e-d5be-4c50-b00c-5323b04f7deb",
   "metadata": {},
   "outputs": [
    {
     "data": {
      "image/png": "[encoded data removed]",
      "text/plain": [
       "<IPython.core.display.Image object>"
      ]
     },
     "execution_count": 56,
     "metadata": {},
     "output_type": "execute_result"
    }
   ],
   "source": [
    "tf.keras.utils.plot_model(CNN_seq2seq_model)"
   ]
  },
  {
   "cell_type": "code",
   "execution_count": 57,
   "id": "86d49a65-7b3f-4c56-a290-6f98ba4a5741",
   "metadata": {},
   "outputs": [],
   "source": [
    "# 18496 + 9248 + 896 = 28640\n",
    "# weights match"
   ]
  },
  {
   "cell_type": "markdown",
   "id": "164704e4-a767-444f-adc2-1d3255339676",
   "metadata": {},
   "source": [
    "Base model for comparison in stage 2"
   ]
  },
  {
   "cell_type": "code",
   "execution_count": 58,
   "id": "d7d89c77-40f1-481d-a688-6b6057640ea4",
   "metadata": {},
   "outputs": [],
   "source": [
    "# Below we will write the model for base model for comparing our work in stage 2. The idea is to use the sub-images as inputs, and densities for each timestep as outputs. I think this can also be considered a CNN-LSTM model that we can fit for our data. Let's do this mode below."
   ]
  },
  {
   "cell_type": "code",
   "execution_count": 59,
   "id": "e698050e-9ec9-4f9b-879f-40dd89e96041",
   "metadata": {},
   "outputs": [],
   "source": [
    "# We use our previous fine-tuned CNN model for the encoder part. We will write the reduced model, add back the non-conv layers, then pass this model through a TD layer, have a context vector, pass it though a RepeatVector layer, as the input to the decoder model, and then have another LSTM followed by a dense layer model to give us the outputs"
   ]
  },
  {
   "cell_type": "code",
   "execution_count": 60,
   "id": "ed57c975-c500-4b16-a3ee-31c0de880a4f",
   "metadata": {},
   "outputs": [],
   "source": [
    "# Define this reduced model\n",
    "\n",
    "output_reduced = CNN_model.layers[-11].output"
   ]
  },
  {
   "cell_type": "code",
   "execution_count": 61,
   "id": "890a64b1-fb19-4008-9706-285ba4be90d7",
   "metadata": {},
   "outputs": [],
   "source": [
    "reduced_model = tf.keras.models.Model(inputs = CNN_model.input, outputs = output_reduced)"
   ]
  },
  {
   "cell_type": "code",
   "execution_count": 62,
   "id": "28713f36-d0b5-45b9-9ecc-5154e4072a66",
   "metadata": {},
   "outputs": [
    {
     "name": "stdout",
     "output_type": "stream",
     "text": [
      "Model: \"model_9\"\n",
      "_________________________________________________________________\n",
      " Layer (type)                Output Shape              Param #   \n",
      "=================================================================\n",
      " input_1 (InputLayer)        [(None, None, None, 3)]   0         \n",
      "                                                                 \n",
      " conv2d (Conv2D)             (None, None, None, 32)    896       \n",
      "                                                                 \n",
      " activation (Activation)     (None, None, None, 32)    0         \n",
      "                                                                 \n",
      " conv2d_1 (Conv2D)           (None, None, None, 32)    9248      \n",
      "                                                                 \n",
      " activation_1 (Activation)   (None, None, None, 32)    0         \n",
      "                                                                 \n",
      " max_pooling2d (MaxPooling2  (None, None, None, 32)    0         \n",
      " D)                                                              \n",
      "                                                                 \n",
      " dropout (Dropout)           (None, None, None, 32)    0         \n",
      "                                                                 \n",
      " conv2d_2 (Conv2D)           (None, None, None, 64)    18496     \n",
      "                                                                 \n",
      " activation_2 (Activation)   (None, None, None, 64)    0         \n",
      "                                                                 \n",
      " conv2d_3 (Conv2D)           (None, None, None, 64)    36928     \n",
      "                                                                 \n",
      " activation_3 (Activation)   (None, None, None, 64)    0         \n",
      "                                                                 \n",
      " max_pooling2d_1 (MaxPoolin  (None, None, None, 64)    0         \n",
      " g2D)                                                            \n",
      "                                                                 \n",
      "=================================================================\n",
      "Total params: 65568 (256.12 KB)\n",
      "Trainable params: 36928 (144.25 KB)\n",
      "Non-trainable params: 28640 (111.88 KB)\n",
      "_________________________________________________________________\n"
     ]
    }
   ],
   "source": [
    "reduced_model.summary()"
   ]
  },
  {
   "cell_type": "code",
   "execution_count": 63,
   "id": "cbc4dfc6-162c-4148-92d1-52244839460f",
   "metadata": {},
   "outputs": [],
   "source": [
    "# okay, now need to add back the dropout, the dense and activation\n",
    "\n",
    "# add dropout\n",
    "added_dropout = tf.keras.layers.Dropout(0.5, name = \"New_dropout_0\")(CNN_model.layers[-11].output)\n",
    "\n",
    "# add global max pooling\n",
    "added_flatten = tf.keras.layers.GlobalMaxPooling2D()(added_dropout)\n",
    "\n",
    "# add dense\n",
    "added_dense = tf.keras.layers.Dense(64, name = \"New_Dense_0\")(added_flatten)\n",
    "\n",
    "# add activation\n",
    "added_Act = tf.keras.layers.Activation('relu', name = \"New_Activation_0\")(added_dense)\n",
    "\n",
    "# add dropout\n",
    "added_dropout2 = tf.keras.layers.Dropout(0.5, name = \"New_dropout_1\")(added_Act)\n",
    "\n",
    "# # add another dense\n",
    "added_dense_1 = tf.keras.layers.Dense(32, name = \"New_Dense_1\")(added_dropout2)\n",
    "\n",
    "# # add activation\n",
    "added_Act_1 = tf.keras.layers.Activation('relu', name = \"New_Activation_1\")(added_dense_1)\n",
    "\n",
    "new_model = tf.keras.models.Model(CNN_model.input, added_Act_1)"
   ]
  },
  {
   "cell_type": "code",
   "execution_count": 64,
   "id": "7b1cc5b2-2c09-4736-b31f-6de55e4b8061",
   "metadata": {},
   "outputs": [
    {
     "name": "stdout",
     "output_type": "stream",
     "text": [
      "Model: \"model_10\"\n",
      "_________________________________________________________________\n",
      " Layer (type)                Output Shape              Param #   \n",
      "=================================================================\n",
      " input_1 (InputLayer)        [(None, None, None, 3)]   0         \n",
      "                                                                 \n",
      " conv2d (Conv2D)             (None, None, None, 32)    896       \n",
      "                                                                 \n",
      " activation (Activation)     (None, None, None, 32)    0         \n",
      "                                                                 \n",
      " conv2d_1 (Conv2D)           (None, None, None, 32)    9248      \n",
      "                                                                 \n",
      " activation_1 (Activation)   (None, None, None, 32)    0         \n",
      "                                                                 \n",
      " max_pooling2d (MaxPooling2  (None, None, None, 32)    0         \n",
      " D)                                                              \n",
      "                                                                 \n",
      " dropout (Dropout)           (None, None, None, 32)    0         \n",
      "                                                                 \n",
      " conv2d_2 (Conv2D)           (None, None, None, 64)    18496     \n",
      "                                                                 \n",
      " activation_2 (Activation)   (None, None, None, 64)    0         \n",
      "                                                                 \n",
      " conv2d_3 (Conv2D)           (None, None, None, 64)    36928     \n",
      "                                                                 \n",
      " activation_3 (Activation)   (None, None, None, 64)    0         \n",
      "                                                                 \n",
      " max_pooling2d_1 (MaxPoolin  (None, None, None, 64)    0         \n",
      " g2D)                                                            \n",
      "                                                                 \n",
      " New_dropout_0 (Dropout)     (None, None, None, 64)    0         \n",
      "                                                                 \n",
      " global_max_pooling2d_1 (Gl  (None, 64)                0         \n",
      " obalMaxPooling2D)                                               \n",
      "                                                                 \n",
      " New_Dense_0 (Dense)         (None, 64)                4160      \n",
      "                                                                 \n",
      " New_Activation_0 (Activati  (None, 64)                0         \n",
      " on)                                                             \n",
      "                                                                 \n",
      " New_dropout_1 (Dropout)     (None, 64)                0         \n",
      "                                                                 \n",
      " New_Dense_1 (Dense)         (None, 32)                2080      \n",
      "                                                                 \n",
      " New_Activation_1 (Activati  (None, 32)                0         \n",
      " on)                                                             \n",
      "                                                                 \n",
      "=================================================================\n",
      "Total params: 71808 (280.50 KB)\n",
      "Trainable params: 43168 (168.62 KB)\n",
      "Non-trainable params: 28640 (111.88 KB)\n",
      "_________________________________________________________________\n"
     ]
    }
   ],
   "source": [
    "new_model.summary()"
   ]
  },
  {
   "cell_type": "code",
   "execution_count": 65,
   "id": "c5e4d6d7-6bef-42e6-855b-ccb5997d8fb2",
   "metadata": {},
   "outputs": [
    {
     "data": {
      "text/plain": [
       "43168"
      ]
     },
     "execution_count": 65,
     "metadata": {},
     "output_type": "execute_result"
    }
   ],
   "source": [
    "36928 + 4160 + 2080"
   ]
  },
  {
   "cell_type": "code",
   "execution_count": 66,
   "id": "07a56875-0764-4c0d-b54f-e35ef11f15cc",
   "metadata": {},
   "outputs": [],
   "source": [
    "# Okay, now define our model\n",
    "input_time = 13\n",
    "output_time = 7\n",
    "feature_size = 1\n",
    "# Encoder part\n",
    "\n",
    "# input\n",
    "Encoder_input = tf.keras.layers.Input(shape = [input_time, None, None, 3])\n",
    "\n",
    "# pass model through TD layer\n",
    "TD_model = tf.keras.layers.TimeDistributed(new_model)\n",
    "\n",
    "TD_out = TD_model(Encoder_input)\n",
    "\n",
    "# pass this through a sequence model to adress the sequential nature of the input image sequence\n",
    "lstm_layer = tf.keras.layers.LSTM(64, return_sequences = False, return_state = True)\n",
    "\n",
    "lstm_out, state_h, state_c = lstm_layer(TD_out)\n",
    "\n",
    "# Decoder part\n",
    "\n",
    "# repeat the context vector\n",
    "decoder_inp = tf.keras.layers.RepeatVector(output_time)(lstm_out)\n",
    "\n",
    "# Add an LSTM layer for the decoder\n",
    "decoder_LSTM = tf.keras.layers.LSTM(64, return_sequences = True, return_state = False)\n",
    "\n",
    "lstm_out = decoder_LSTM(decoder_inp, initial_state = [state_h, state_c])\n",
    "\n",
    "# add a dense layer to get the targets\n",
    "dense_layer = tf.keras.layers.TimeDistributed(tf.keras.layers.Dense(feature_size, activation = 'relu'))\n",
    "\n",
    "pred_head = dense_layer(lstm_out)"
   ]
  },
  {
   "cell_type": "code",
   "execution_count": 67,
   "id": "3ebdf64a-ae87-4315-ac70-ad5ed1643ab7",
   "metadata": {},
   "outputs": [],
   "source": [
    "base_model = tf.keras.models.Model(inputs = Encoder_input, outputs = pred_head)"
   ]
  },
  {
   "cell_type": "code",
   "execution_count": 68,
   "id": "fc19f5e9-3ace-4484-a8dc-04e6ffddfe0d",
   "metadata": {},
   "outputs": [
    {
     "name": "stdout",
     "output_type": "stream",
     "text": [
      "Model: \"model_11\"\n",
      "__________________________________________________________________________________________________\n",
      " Layer (type)                Output Shape                 Param #   Connected to                  \n",
      "==================================================================================================\n",
      " input_5 (InputLayer)        [(None, 13, None, None, 3)   0         []                            \n",
      "                             ]                                                                    \n",
      "                                                                                                  \n",
      " time_distributed_7 (TimeDi  (None, 13, 32)               71808     ['input_5[0][0]']             \n",
      " stributed)                                                                                       \n",
      "                                                                                                  \n",
      " lstm_6 (LSTM)               [(None, 64),                 24832     ['time_distributed_7[0][0]']  \n",
      "                              (None, 64),                                                         \n",
      "                              (None, 64)]                                                         \n",
      "                                                                                                  \n",
      " repeat_vector_3 (RepeatVec  (None, 7, 64)                0         ['lstm_6[0][0]']              \n",
      " tor)                                                                                             \n",
      "                                                                                                  \n",
      " lstm_7 (LSTM)               (None, 7, 64)                33024     ['repeat_vector_3[0][0]',     \n",
      "                                                                     'lstm_6[0][1]',              \n",
      "                                                                     'lstm_6[0][2]']              \n",
      "                                                                                                  \n",
      " time_distributed_8 (TimeDi  (None, 7, 1)                 65        ['lstm_7[0][0]']              \n",
      " stributed)                                                                                       \n",
      "                                                                                                  \n",
      "==================================================================================================\n",
      "Total params: 129729 (506.75 KB)\n",
      "Trainable params: 101089 (394.88 KB)\n",
      "Non-trainable params: 28640 (111.88 KB)\n",
      "__________________________________________________________________________________________________\n"
     ]
    }
   ],
   "source": [
    "base_model.summary()"
   ]
  },
  {
   "cell_type": "code",
   "execution_count": 69,
   "id": "9d8a6bbd-a6fc-4073-b04a-e0f957a4c589",
   "metadata": {},
   "outputs": [
    {
     "data": {
      "image/png": "[encoded data removed]",
      "text/plain": [
       "<IPython.core.display.Image object>"
      ]
     },
     "execution_count": 69,
     "metadata": {},
     "output_type": "execute_result"
    }
   ],
   "source": [
    "tf.keras.utils.plot_model(base_model)"
   ]
  },
  {
   "cell_type": "code",
   "execution_count": 70,
   "id": "87b39767-ea45-4070-baa5-b2cfe29010ae",
   "metadata": {},
   "outputs": [],
   "source": [
    "# might need to add another dimension to the (None, 7) shape we have for the targets"
   ]
  },
  {
   "cell_type": "code",
   "execution_count": 71,
   "id": "70cc9dd4-b316-4615-b7db-60cca6a024bb",
   "metadata": {},
   "outputs": [],
   "source": [
    "# Need to also take care of freezing and unfreezing weights during model training"
   ]
  }
 ],
 "metadata": {
  "kernelspec": {
   "display_name": "Python (nrdstor_tfp_for_TN)",
   "language": "python",
   "name": "nrdstor_tfp_for_tn"
  },
  "language_info": {
   "codemirror_mode": {
    "name": "ipython",
    "version": 3
   },
   "file_extension": ".py",
   "mimetype": "text/x-python",
   "name": "python",
   "nbconvert_exporter": "python",
   "pygments_lexer": "ipython3",
   "version": "3.10.14"
  }
 },
 "nbformat": 4,
 "nbformat_minor": 5
}

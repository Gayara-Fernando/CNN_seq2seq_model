{
 "cells": [
  {
   "cell_type": "markdown",
   "id": "8f783441-092e-4a11-a42a-8434a03cc103",
   "metadata": {},
   "source": [
    "We are back at stage 1. Stage 2 will use the input from stage 1 as discussed before. We just have a new model architecture, which will use the sub-image sequence as the input, and the targets will be the extracted features sequences, which will be used as input into the Stage 2 Bayesian latent AR model."
   ]
  },
  {
   "cell_type": "markdown",
   "id": "e489f5dd-f89f-47a3-b26f-bfe4579842ba",
   "metadata": {},
   "source": [
    "In notebook 0, we have the model architecture for the said input and output data. We will go from preprocessing to training to inference."
   ]
  },
  {
   "cell_type": "markdown",
   "id": "d1312ed4-4e78-4a47-b5f9-520344191ab2",
   "metadata": {},
   "source": [
    "Notebook 1 does the preprocessing for the inputs of the model"
   ]
  }
 ],
 "metadata": {
  "kernelspec": {
   "display_name": "Python (nrdstor_tfp_for_TN)",
   "language": "python",
   "name": "nrdstor_tfp_for_tn"
  },
  "language_info": {
   "codemirror_mode": {
    "name": "ipython",
    "version": 3
   },
   "file_extension": ".py",
   "mimetype": "text/x-python",
   "name": "python",
   "nbconvert_exporter": "python",
   "pygments_lexer": "ipython3",
   "version": "3.10.14"
  }
 },
 "nbformat": 4,
 "nbformat_minor": 5
}

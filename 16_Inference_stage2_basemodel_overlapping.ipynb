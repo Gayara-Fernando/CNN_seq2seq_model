{
 "cells": [
  {
   "cell_type": "code",
   "execution_count": 1,
   "id": "d8ec9ad4-a48c-446a-8964-1340c963f2fa",
   "metadata": {},
   "outputs": [
    {
     "name": "stderr",
     "output_type": "stream",
     "text": [
      "2025-07-18 12:11:28.862328: I tensorflow/core/util/port.cc:113] oneDNN custom operations are on. You may see slightly different numerical results due to floating-point round-off errors from different computation orders. To turn them off, set the environment variable `TF_ENABLE_ONEDNN_OPTS=0`.\n",
      "2025-07-18 12:11:28.898471: E external/local_xla/xla/stream_executor/cuda/cuda_dnn.cc:9261] Unable to register cuDNN factory: Attempting to register factory for plugin cuDNN when one has already been registered\n",
      "2025-07-18 12:11:28.898498: E external/local_xla/xla/stream_executor/cuda/cuda_fft.cc:607] Unable to register cuFFT factory: Attempting to register factory for plugin cuFFT when one has already been registered\n",
      "2025-07-18 12:11:28.899384: E external/local_xla/xla/stream_executor/cuda/cuda_blas.cc:1515] Unable to register cuBLAS factory: Attempting to register factory for plugin cuBLAS when one has already been registered\n",
      "2025-07-18 12:11:28.906501: I tensorflow/core/platform/cpu_feature_guard.cc:182] This TensorFlow binary is optimized to use available CPU instructions in performance-critical operations.\n",
      "To enable the following instructions: SSE4.1 SSE4.2 AVX AVX2 AVX512F AVX512_VNNI FMA, in other operations, rebuild TensorFlow with the appropriate compiler flags.\n"
     ]
    }
   ],
   "source": [
    "import numpy as np\n",
    "import pandas as pd\n",
    "import matplotlib.pyplot as plt\n",
    "import os\n",
    "import tensorflow as tf\n",
    "from sklearn.metrics import mean_absolute_error, mean_squared_error, r2_score\n",
    "from scipy.stats import pearsonr"
   ]
  },
  {
   "cell_type": "code",
   "execution_count": 2,
   "id": "44701c31-eb0a-4964-8694-d474af4c4290",
   "metadata": {},
   "outputs": [
    {
     "name": "stdout",
     "output_type": "stream",
     "text": [
      "WARNING:tensorflow:Layer lstm will not use cuDNN kernels since it doesn't meet the criteria. It will use a generic GPU kernel as fallback when running on GPU.\n",
      "WARNING:tensorflow:Layer lstm_1 will not use cuDNN kernels since it doesn't meet the criteria. It will use a generic GPU kernel as fallback when running on GPU.\n"
     ]
    },
    {
     "name": "stderr",
     "output_type": "stream",
     "text": [
      "2025-07-18 12:11:30.656619: I tensorflow/core/common_runtime/gpu/gpu_device.cc:1929] Created device /job:localhost/replica:0/task:0/device:GPU:0 with 31134 MB memory:  -> device: 0, name: Tesla V100S-PCIE-32GB, pci bus id: 0000:06:00.0, compute capability: 7.0\n"
     ]
    }
   ],
   "source": [
    "# We also need the trained model\n",
    "base_model_non_overlapping = tf.keras.models.load_model(\"models/stage2_base_model_overlapping.keras\")"
   ]
  },
  {
   "cell_type": "code",
   "execution_count": 3,
   "id": "778b16de-1d0c-41f6-b192-c4f23f0b26b5",
   "metadata": {},
   "outputs": [
    {
     "name": "stdout",
     "output_type": "stream",
     "text": [
      "Model: \"model_2\"\n",
      "__________________________________________________________________________________________________\n",
      " Layer (type)                Output Shape                 Param #   Connected to                  \n",
      "==================================================================================================\n",
      " input_1 (InputLayer)        [(None, 13, None, None, 3)   0         []                            \n",
      "                             ]                                                                    \n",
      "                                                                                                  \n",
      " time_distributed (TimeDist  (None, 13, 32)               71808     ['input_1[0][0]']             \n",
      " ributed)                                                                                         \n",
      "                                                                                                  \n",
      " lstm (LSTM)                 [(None, 64),                 24832     ['time_distributed[0][0]']    \n",
      "                              (None, 64),                                                         \n",
      "                              (None, 64)]                                                         \n",
      "                                                                                                  \n",
      " repeat_vector (RepeatVecto  (None, 7, 64)                0         ['lstm[0][0]']                \n",
      " r)                                                                                               \n",
      "                                                                                                  \n",
      " lstm_1 (LSTM)               (None, 7, 64)                33024     ['repeat_vector[0][0]',       \n",
      "                                                                     'lstm[0][1]',                \n",
      "                                                                     'lstm[0][2]']                \n",
      "                                                                                                  \n",
      " time_distributed_1 (TimeDi  (None, 7, 1)                 65        ['lstm_1[0][0]']              \n",
      " stributed)                                                                                       \n",
      "                                                                                                  \n",
      "==================================================================================================\n",
      "Total params: 129729 (506.75 KB)\n",
      "Trainable params: 101089 (394.88 KB)\n",
      "Non-trainable params: 28640 (111.88 KB)\n",
      "__________________________________________________________________________________________________\n"
     ]
    }
   ],
   "source": [
    "base_model_non_overlapping.summary()"
   ]
  },
  {
   "cell_type": "code",
   "execution_count": 4,
   "id": "b9f7de78-780f-4e26-b834-8a8ff4bc380d",
   "metadata": {},
   "outputs": [],
   "source": [
    "# Where is the data?"
   ]
  },
  {
   "cell_type": "code",
   "execution_count": 5,
   "id": "352934c8-b7ac-44b6-81ea-34bd044141c3",
   "metadata": {},
   "outputs": [],
   "source": [
    "# features\n",
    "Test_input_features_loc = \"data/Overlapping_data/Test_input_features\"\n",
    "Test_input_features_loc_content = os.listdir(Test_input_features_loc)\n",
    "Test_input_features_loc_content.sort()"
   ]
  },
  {
   "cell_type": "code",
   "execution_count": 6,
   "id": "2faeff43-5557-4eb4-af05-8ae6567683b8",
   "metadata": {},
   "outputs": [
    {
     "data": {
      "text/plain": [
       "['test_data_blk_0103.npy',\n",
       " 'test_data_blk_0104.npy',\n",
       " 'test_data_blk_0105.npy',\n",
       " 'test_data_blk_0106.npy',\n",
       " 'test_data_blk_0201.npy',\n",
       " 'test_data_blk_0202.npy',\n",
       " 'test_data_blk_0205.npy',\n",
       " 'test_data_blk_0206.npy',\n",
       " 'test_data_blk_0302.npy',\n",
       " 'test_data_blk_0303.npy',\n",
       " 'test_data_blk_0304.npy',\n",
       " 'test_data_blk_0305.npy',\n",
       " 'test_data_blk_0306.npy']"
      ]
     },
     "execution_count": 6,
     "metadata": {},
     "output_type": "execute_result"
    }
   ],
   "source": [
    "Test_input_features_loc_content"
   ]
  },
  {
   "cell_type": "code",
   "execution_count": 7,
   "id": "9e2182a9-84e6-43b3-b48f-201d24bd73fa",
   "metadata": {},
   "outputs": [],
   "source": [
    "block_0103_features = np.load(os.path.join(Test_input_features_loc, Test_input_features_loc_content[0]))"
   ]
  },
  {
   "cell_type": "code",
   "execution_count": 8,
   "id": "6cfb407d-fe21-4208-810c-bdb060d78a3d",
   "metadata": {},
   "outputs": [
    {
     "data": {
      "text/plain": [
       "(12288, 13, 32, 32, 3)"
      ]
     },
     "execution_count": 8,
     "metadata": {},
     "output_type": "execute_result"
    }
   ],
   "source": [
    "block_0103_features.shape"
   ]
  },
  {
   "cell_type": "code",
   "execution_count": 9,
   "id": "0c361844-eed7-4598-a453-ac8ddae183b8",
   "metadata": {},
   "outputs": [],
   "source": [
    "# test targets\n",
    "test_targets_loc = \"data/Stage2_base_model/Overlapping/test_targets\""
   ]
  },
  {
   "cell_type": "code",
   "execution_count": 10,
   "id": "cd3c02ac-4bb3-4d8e-b738-0ec0f49e24cf",
   "metadata": {},
   "outputs": [],
   "source": [
    "test_target_loc_contents = os.listdir(test_targets_loc)\n",
    "test_target_loc_contents.sort()"
   ]
  },
  {
   "cell_type": "code",
   "execution_count": 11,
   "id": "c06943cf-bc8e-4184-9dc4-794362b3954f",
   "metadata": {},
   "outputs": [
    {
     "data": {
      "text/plain": [
       "['block_0103_targets.npy',\n",
       " 'block_0104_targets.npy',\n",
       " 'block_0105_targets.npy',\n",
       " 'block_0106_targets.npy',\n",
       " 'block_0201_targets.npy',\n",
       " 'block_0202_targets.npy',\n",
       " 'block_0205_targets.npy',\n",
       " 'block_0206_targets.npy',\n",
       " 'block_0302_targets.npy',\n",
       " 'block_0303_targets.npy',\n",
       " 'block_0304_targets.npy',\n",
       " 'block_0305_targets.npy',\n",
       " 'block_0306_targets.npy']"
      ]
     },
     "execution_count": 11,
     "metadata": {},
     "output_type": "execute_result"
    }
   ],
   "source": [
    "test_target_loc_contents"
   ]
  },
  {
   "cell_type": "code",
   "execution_count": 12,
   "id": "434fa4cc-3445-4168-85d3-5edaa3ec117d",
   "metadata": {},
   "outputs": [],
   "source": [
    "block_0103_targets = np.load(os.path.join(test_targets_loc, test_target_loc_contents[0]))"
   ]
  },
  {
   "cell_type": "code",
   "execution_count": 13,
   "id": "4cb60b3a-3d58-4588-bccf-536eef4255f4",
   "metadata": {},
   "outputs": [
    {
     "data": {
      "text/plain": [
       "(12288, 7)"
      ]
     },
     "execution_count": 13,
     "metadata": {},
     "output_type": "execute_result"
    }
   ],
   "source": [
    "block_0103_targets.shape"
   ]
  },
  {
   "cell_type": "code",
   "execution_count": 14,
   "id": "4bd01bd8-ea8e-4335-9daa-0b3197e15ede",
   "metadata": {},
   "outputs": [],
   "source": [
    "# np.sum(block_0103_targets, axis = 0)"
   ]
  },
  {
   "cell_type": "code",
   "execution_count": 15,
   "id": "1fe3b30c-d092-4133-ade0-5e212c180309",
   "metadata": {},
   "outputs": [],
   "source": [
    "# We cannot get the true counts as above in this case as we are using overlapping sub windows. Maybe we can get them from the previously stored datasets?"
   ]
  },
  {
   "cell_type": "code",
   "execution_count": 16,
   "id": "a7a0848a-96d6-4bdd-b04d-f3db0e5ce393",
   "metadata": {},
   "outputs": [],
   "source": [
    "# Okay, e need to get the predictions for the test sub-images properly. We have previously defined some functions for this, let's reuse them here. I think these can be used in the overlapping case too. We will also need to find a way to include the true test counts (per image), because the true test targets do not even "
   ]
  },
  {
   "cell_type": "code",
   "execution_count": 17,
   "id": "ff931e7d-b176-4d6d-9d54-9283d61bc851",
   "metadata": {},
   "outputs": [
    {
     "name": "stderr",
     "output_type": "stream",
     "text": [
      "2025-07-18 12:11:37.126290: I external/local_xla/xla/stream_executor/cuda/cuda_dnn.cc:454] Loaded cuDNN version 8907\n"
     ]
    },
    {
     "name": "stdout",
     "output_type": "stream",
     "text": [
      "384/384 [==============================] - 5s 11ms/step\n",
      "CPU times: user 8.47 s, sys: 1.71 s, total: 10.2 s\n",
      "Wall time: 8.67 s\n"
     ]
    }
   ],
   "source": [
    "%%time\n",
    "# To get the predictions on a block, we can just do the model.predict function\n",
    "block_0103_preds = base_model_non_overlapping.predict(block_0103_features)"
   ]
  },
  {
   "cell_type": "code",
   "execution_count": 18,
   "id": "d45c694d-9b90-4315-84af-37a0a8b889bb",
   "metadata": {},
   "outputs": [
    {
     "data": {
      "text/plain": [
       "(12288, 7, 1)"
      ]
     },
     "execution_count": 18,
     "metadata": {},
     "output_type": "execute_result"
    }
   ],
   "source": [
    "block_0103_preds.shape"
   ]
  },
  {
   "cell_type": "code",
   "execution_count": 19,
   "id": "db062f1a-c023-4404-8388-d476ee204894",
   "metadata": {},
   "outputs": [],
   "source": [
    "# reshape these to shape of the targets\n",
    "block_0103_preds_reshaped = block_0103_preds.reshape(block_0103_preds.shape[0], block_0103_preds.shape[1])"
   ]
  },
  {
   "cell_type": "code",
   "execution_count": 20,
   "id": "43e8edb2-6f0c-48d3-99fb-bf09d3d42e8b",
   "metadata": {},
   "outputs": [
    {
     "data": {
      "text/plain": [
       "(12288, 7)"
      ]
     },
     "execution_count": 20,
     "metadata": {},
     "output_type": "execute_result"
    }
   ],
   "source": [
    "block_0103_preds_reshaped.shape"
   ]
  },
  {
   "cell_type": "code",
   "execution_count": 21,
   "id": "67fcc289-4d12-43da-b623-72c980f4d3f3",
   "metadata": {},
   "outputs": [],
   "source": [
    "# now we need to normalize the final preds - account for overlapping. "
   ]
  },
  {
   "cell_type": "code",
   "execution_count": 22,
   "id": "e184a870-7eae-4a71-adf7-571d30520ce9",
   "metadata": {},
   "outputs": [],
   "source": [
    "# preds_block_0103_final_alt = np.sum(block_0103_preds_reshaped, axis = 0)"
   ]
  },
  {
   "cell_type": "code",
   "execution_count": 23,
   "id": "d0e703b6-516c-4d2f-a5a9-681636b27901",
   "metadata": {},
   "outputs": [],
   "source": [
    "# # We do need some good values - even to say that the model is working\n",
    "# preds_block_0103_final_alt"
   ]
  },
  {
   "cell_type": "code",
   "execution_count": 24,
   "id": "5a98d520-a926-466f-8b6a-0ecad2de2faf",
   "metadata": {},
   "outputs": [],
   "source": [
    "# Let's do the function for post-hoc normalization as below - but this seems to be for a single image"
   ]
  },
  {
   "cell_type": "code",
   "execution_count": 25,
   "id": "2d1f4d1c-236f-43be-a920-161370f44562",
   "metadata": {},
   "outputs": [],
   "source": [
    "def prediction_on_test_data(pred_values, image_height, image_width, stride = 8, kernel_size = 32):\n",
    "    # density map\n",
    "    Density_map = np.zeros((image_height, image_width))\n",
    "\n",
    "    # counts map\n",
    "    counts_map = np.zeros((image_height, image_width))\n",
    "    \n",
    "    # now, for every window, we will keep adding the values together and also add the counts\n",
    "    counter = 0\n",
    "#     need a counter to move into each predicted value in the pred values list\n",
    "    for ii in range(0, image_height, stride):\n",
    "        for jj in range(0, image_width, stride):\n",
    "#         operations for density map\n",
    "#             get the window of interest\n",
    "            new_window = Density_map[ii:ii + kernel_size,jj:jj+kernel_size]\n",
    "#     fill each with the value c_k\n",
    "            counts_window = np.full((new_window.shape[0], new_window.shape[1]), pred_values[counter])\n",
    "#     get the shapes of this new window\n",
    "            cw_height = counts_window.shape[0]\n",
    "            cw_width = counts_window.shape[1]\n",
    "#         Do c_k/r_2\n",
    "            counts_window_new = counts_window/(cw_height*cw_width)\n",
    "#     This is the value in the window now\n",
    "            value_window = counts_window_new\n",
    "#     place the values in the corrsponding area of the density map\n",
    "            Density_map[ii:ii + kernel_size,jj:jj+kernel_size] = new_window + value_window\n",
    "\n",
    "#         Let's now focus on capturing the counts of the windows\n",
    "            new_window_c = counts_map[ii:ii + kernel_size,jj:jj+kernel_size]\n",
    "#     get the counts area\n",
    "            count = np.ones((new_window_c.shape[0], new_window_c.shape[1]))\n",
    "#     keep adding the counts to reflect the addition of densities\n",
    "            counts_map[ii:ii + kernel_size,jj:jj+kernel_size] = new_window_c + count\n",
    "#     increase the counter\n",
    "            counter = counter + 1\n",
    "            \n",
    "#         get the normalized count\n",
    "    normalized_counts = np.divide(Density_map, counts_map)\n",
    "    \n",
    "#     entire count on the test set\n",
    "    pred_on_test = np.sum(normalized_counts)\n",
    "    \n",
    "#     return the predicted value\n",
    "    return(pred_on_test, normalized_counts)\n"
   ]
  },
  {
   "cell_type": "code",
   "execution_count": 26,
   "id": "7c9908bd-ddb2-41be-8e27-28139c962a27",
   "metadata": {},
   "outputs": [
    {
     "name": "stdout",
     "output_type": "stream",
     "text": [
      "768\n",
      "1024\n"
     ]
    },
    {
     "data": {
      "text/plain": [
       "(None, None)"
      ]
     },
     "execution_count": 26,
     "metadata": {},
     "output_type": "execute_result"
    }
   ],
   "source": [
    "image_height = 768\n",
    "image_width = 1024\n",
    "\n",
    "print(image_height) ,print(image_width)"
   ]
  },
  {
   "cell_type": "code",
   "execution_count": 27,
   "id": "dc779f6e-c70a-41ff-9a6b-084ec864b027",
   "metadata": {},
   "outputs": [
    {
     "data": {
      "text/plain": [
       "(12288,)"
      ]
     },
     "execution_count": 27,
     "metadata": {},
     "output_type": "execute_result"
    }
   ],
   "source": [
    "block_0103_preds_reshaped[:, 0].shape"
   ]
  },
  {
   "cell_type": "code",
   "execution_count": 30,
   "id": "f7261718-1078-4c7e-bfca-8c88166ae83a",
   "metadata": {},
   "outputs": [],
   "source": [
    "# Let's get the preds using the function - for may be the first image\n",
    "preds_block_0103_im_0 = prediction_on_test_data(block_0103_preds_reshaped[:, 0], image_height, image_width, 8, 32)"
   ]
  },
  {
   "cell_type": "code",
   "execution_count": 35,
   "id": "db4d61f0-5346-4650-a753-3b01af1b2468",
   "metadata": {},
   "outputs": [],
   "source": [
    "# preds_block_0103_im_0"
   ]
  },
  {
   "cell_type": "code",
   "execution_count": 32,
   "id": "13038fb2-2652-4882-937b-71121601f713",
   "metadata": {},
   "outputs": [
    {
     "data": {
      "text/plain": [
       "55.52982107421848"
      ]
     },
     "execution_count": 32,
     "metadata": {},
     "output_type": "execute_result"
    }
   ],
   "source": [
    "preds_block_0103_im_0[0]"
   ]
  },
  {
   "cell_type": "code",
   "execution_count": 33,
   "id": "5bdf41ab-9a94-48b0-ab43-eeb10c2bc789",
   "metadata": {},
   "outputs": [
    {
     "data": {
      "text/plain": [
       "array([[4.81684510e-05, 4.81684510e-05, 4.81684510e-05, ...,\n",
       "        8.45954728e-05, 8.45954728e-05, 8.45954728e-05],\n",
       "       [4.81684510e-05, 4.81684510e-05, 4.81684510e-05, ...,\n",
       "        8.45954728e-05, 8.45954728e-05, 8.45954728e-05],\n",
       "       [4.81684510e-05, 4.81684510e-05, 4.81684510e-05, ...,\n",
       "        8.45954728e-05, 8.45954728e-05, 8.45954728e-05],\n",
       "       ...,\n",
       "       [1.14373302e-04, 1.14373302e-04, 1.14373302e-04, ...,\n",
       "        1.92701479e-04, 1.92701479e-04, 1.92701479e-04],\n",
       "       [1.14373302e-04, 1.14373302e-04, 1.14373302e-04, ...,\n",
       "        1.92701479e-04, 1.92701479e-04, 1.92701479e-04],\n",
       "       [1.14373302e-04, 1.14373302e-04, 1.14373302e-04, ...,\n",
       "        1.92701479e-04, 1.92701479e-04, 1.92701479e-04]])"
      ]
     },
     "execution_count": 33,
     "metadata": {},
     "output_type": "execute_result"
    }
   ],
   "source": [
    "preds_block_0103_im_0[1]"
   ]
  },
  {
   "cell_type": "code",
   "execution_count": 34,
   "id": "1b62e674-8b62-4132-a807-e61111b4a162",
   "metadata": {},
   "outputs": [
    {
     "data": {
      "text/plain": [
       "55.52982107421848"
      ]
     },
     "execution_count": 34,
     "metadata": {},
     "output_type": "execute_result"
    }
   ],
   "source": [
    "np.sum(preds_block_0103_im_0[1])"
   ]
  },
  {
   "cell_type": "code",
   "execution_count": 32,
   "id": "77f17eb4-bd01-4212-a3db-0a8ed836382b",
   "metadata": {},
   "outputs": [],
   "source": [
    "# So we need a second function it seems to get the pred values for all images in the test block. May be we can compute the metrics using that function too. Let's use the next function we have already written"
   ]
  },
  {
   "cell_type": "code",
   "execution_count": 36,
   "id": "87350579-188a-4a53-80bb-16c96a342f8b",
   "metadata": {},
   "outputs": [
    {
     "data": {
      "text/plain": [
       "(12288, 7)"
      ]
     },
     "execution_count": 36,
     "metadata": {},
     "output_type": "execute_result"
    }
   ],
   "source": [
    "block_0103_preds_reshaped.shape"
   ]
  },
  {
   "cell_type": "code",
   "execution_count": 37,
   "id": "1f8b7303-21c3-424d-849a-9ae0ab17be78",
   "metadata": {},
   "outputs": [
    {
     "data": {
      "text/plain": [
       "(12288, 7)"
      ]
     },
     "execution_count": 37,
     "metadata": {},
     "output_type": "execute_result"
    }
   ],
   "source": [
    "block_0103_targets.shape"
   ]
  },
  {
   "cell_type": "code",
   "execution_count": 63,
   "id": "3def2f5f-7e72-4a6f-8d61-48ad2258b801",
   "metadata": {},
   "outputs": [],
   "source": [
    "def get_final_forecasted_and_true_values(preds_from_model, true_targets, im_height, im_weight, stride, kernel_size, true_csv_file_loc_location, new_csv_loc, blk_name):\n",
    "    final_preds_list = []\n",
    "    for i in range(preds_from_model.shape[1]):\n",
    "        preds_per_image = prediction_on_test_data(preds_from_model[:,i], im_height, im_weight, stride , kernel_size)\n",
    "        final_preds_list.append(preds_per_image[0])\n",
    "    # make this list  a dataframe\n",
    "    final_preds =  np.array(final_preds_list)\n",
    "    \n",
    "    # True test counts\n",
    "    # read the csv file\n",
    "    read_csv_file_here = pd.read_csv(os.path.join(true_csv_file_loc_location, blk_name + '.csv'))\n",
    "    true_densities = np.array(read_csv_file_here['True_densities'])\n",
    "    \n",
    "    # compute the mae\n",
    "    mae_value = mean_absolute_error(true_densities, final_preds)\n",
    "    # compute the rmse\n",
    "    rmse_value = np.sqrt(mean_squared_error(true_densities, final_preds))\n",
    "    # pearsonr\n",
    "    pearson_value = pearsonr(true_densities, final_preds)\n",
    "    # r2score\n",
    "    r2score_value = r2_score(true_densities, final_preds)\n",
    "    \n",
    "    # attach the true and the forecasted values together\n",
    "    # give also a name for the test image\n",
    "    im_names = np.array([\"test_im_\" + str(i) for i in range(7)])\n",
    "    final_df = pd.DataFrame(zip(im_names, true_densities, final_preds), columns = [\"Image_name\",\"True_densities\", \"Predicted_densities\"])\n",
    "    # save the csv file for later use\n",
    "    final_df.to_csv(os.path.join(new_csv_loc, blk_name + '.csv'), index = False)\n",
    "    all_metrics = [mae_value, rmse_value, pearson_value, r2score_value]\n",
    "\n",
    "    return all_metrics, final_df "
   ]
  },
  {
   "cell_type": "code",
   "execution_count": 45,
   "id": "48cd0e42-0cfd-48db-b119-f54b1401e12e",
   "metadata": {},
   "outputs": [],
   "source": [
    "csv_file_loc = \"data/Stage2_base_model/Non_overlapping/predicted_and_true_densities/\"\n",
    "new_loc = \"data/Stage2_base_model/Overlapping/predicted_and_true_densities/\""
   ]
  },
  {
   "cell_type": "code",
   "execution_count": 46,
   "id": "f48c39c6-3a73-4e02-9552-0faf45828cd7",
   "metadata": {},
   "outputs": [],
   "source": [
    "file_name = 'true_and_pred_densities_blk_0103.csv'"
   ]
  },
  {
   "cell_type": "code",
   "execution_count": 47,
   "id": "11ae48ea-7d0b-414d-82aa-d03f0f889949",
   "metadata": {},
   "outputs": [],
   "source": [
    "read_csv_file = pd.read_csv(os.path.join(csv_file_loc, file_name))"
   ]
  },
  {
   "cell_type": "code",
   "execution_count": 48,
   "id": "5d1528c6-3a82-4f41-ab09-e5fb45a48f6f",
   "metadata": {},
   "outputs": [
    {
     "data": {
      "text/plain": [
       "(7,)"
      ]
     },
     "execution_count": 48,
     "metadata": {},
     "output_type": "execute_result"
    }
   ],
   "source": [
    "np.array(read_csv_file['True_densities']).shape"
   ]
  },
  {
   "cell_type": "code",
   "execution_count": 52,
   "id": "6d5ee936-0c09-43bf-aa81-a498d893759b",
   "metadata": {},
   "outputs": [
    {
     "name": "stdout",
     "output_type": "stream",
     "text": [
      "CPU times: user 1.11 s, sys: 730 µs, total: 1.11 s\n",
      "Wall time: 1.11 s\n"
     ]
    }
   ],
   "source": [
    "%%time\n",
    "all_preds_0103 = []\n",
    "for i in range(block_0103_preds_reshaped.shape[1]):\n",
    "    \n",
    "    preds = prediction_on_test_data(block_0103_preds_reshaped[:, i], image_height, image_width, 8, 32)[0]\n",
    "    all_preds_0103.append(preds)"
   ]
  },
  {
   "cell_type": "code",
   "execution_count": 53,
   "id": "f3ef0c4d-8547-4e00-b8e3-5b85f929c3f1",
   "metadata": {},
   "outputs": [
    {
     "data": {
      "text/plain": [
       "[55.52982107421848,\n",
       " 56.6467927643108,\n",
       " 51.964747331251125,\n",
       " 45.50522409149077,\n",
       " 39.15900831825801,\n",
       " 33.65191214733771,\n",
       " 29.15938688375252]"
      ]
     },
     "execution_count": 53,
     "metadata": {},
     "output_type": "execute_result"
    }
   ],
   "source": [
    "all_preds_0103"
   ]
  },
  {
   "cell_type": "code",
   "execution_count": 54,
   "id": "738d9671-9237-48be-a666-cb9ba0c681a5",
   "metadata": {},
   "outputs": [
    {
     "data": {
      "text/plain": [
       "array([55.52982107, 56.64679276, 51.96474733, 45.50522409, 39.15900832,\n",
       "       33.65191215, 29.15938688])"
      ]
     },
     "execution_count": 54,
     "metadata": {},
     "output_type": "execute_result"
    }
   ],
   "source": [
    "np.array(all_preds_0103)"
   ]
  },
  {
   "cell_type": "code",
   "execution_count": 55,
   "id": "7912c13b-4931-4ef7-9f7b-30f44e2efb6e",
   "metadata": {},
   "outputs": [
    {
     "data": {
      "text/plain": [
       "(7,)"
      ]
     },
     "execution_count": 55,
     "metadata": {},
     "output_type": "execute_result"
    }
   ],
   "source": [
    "np.array(all_preds_0103).shape"
   ]
  },
  {
   "cell_type": "code",
   "execution_count": 51,
   "id": "fe008730-f3fd-4bbe-8305-7307ab45f286",
   "metadata": {},
   "outputs": [],
   "source": [
    "# Okay, now let's see if our functions work"
   ]
  },
  {
   "cell_type": "code",
   "execution_count": 58,
   "id": "7e02444a-4b3d-4edd-9bf2-009890b60f42",
   "metadata": {},
   "outputs": [],
   "source": [
    "im_height = 768\n",
    "# lol why did we right weight, but let's go with this else it is too much to fix\n",
    "im_weight = 1024\n",
    "stride = 8\n",
    "kernel_size = 32\n",
    "block_name = 'true_and_pred_densities_blk_0103'"
   ]
  },
  {
   "cell_type": "code",
   "execution_count": 59,
   "id": "a3b4646d-f6c4-40e8-bfb4-95ca943d86e4",
   "metadata": {},
   "outputs": [],
   "source": [
    "csv_file_loc = \"data/Stage2_base_model/Non_overlapping/predicted_and_true_densities/\"\n",
    "new_loc = \"data/Stage2_base_model/Overlapping/predicted_and_true_densities/\""
   ]
  },
  {
   "cell_type": "code",
   "execution_count": 65,
   "id": "8f11eca9-c991-4b05-b449-3d27eb6d2541",
   "metadata": {},
   "outputs": [],
   "source": [
    "file_name = 'true_and_pred_densities_blk_0103'"
   ]
  },
  {
   "cell_type": "code",
   "execution_count": 66,
   "id": "00a9bb16-817f-4ca4-a360-f71468001580",
   "metadata": {},
   "outputs": [],
   "source": [
    "blk_0103_metrics, blk_0103_df = get_final_forecasted_and_true_values(block_0103_preds_reshaped, block_0103_targets, im_height, im_weight, stride, kernel_size, csv_file_loc, new_loc, file_name)"
   ]
  },
  {
   "cell_type": "code",
   "execution_count": 67,
   "id": "7fa2a504-412c-4d03-b44b-3c7b79d0cd9f",
   "metadata": {},
   "outputs": [
    {
     "data": {
      "text/plain": [
       "[10.616331005566161,\n",
       " 11.828715612291235,\n",
       " PearsonRResult(statistic=0.6285898482575835, pvalue=0.13053265317194954),\n",
       " -4.225043893397271]"
      ]
     },
     "execution_count": 67,
     "metadata": {},
     "output_type": "execute_result"
    }
   ],
   "source": [
    "blk_0103_metrics"
   ]
  },
  {
   "cell_type": "code",
   "execution_count": 68,
   "id": "47d6d7ce-17dd-4db4-a74d-23160ee9992a",
   "metadata": {},
   "outputs": [
    {
     "data": {
      "text/html": [
       "<div>\n",
       "<style scoped>\n",
       "    .dataframe tbody tr th:only-of-type {\n",
       "        vertical-align: middle;\n",
       "    }\n",
       "\n",
       "    .dataframe tbody tr th {\n",
       "        vertical-align: top;\n",
       "    }\n",
       "\n",
       "    .dataframe thead th {\n",
       "        text-align: right;\n",
       "    }\n",
       "</style>\n",
       "<table border=\"1\" class=\"dataframe\">\n",
       "  <thead>\n",
       "    <tr style=\"text-align: right;\">\n",
       "      <th></th>\n",
       "      <th>Image_name</th>\n",
       "      <th>True_densities</th>\n",
       "      <th>Predicted_densities</th>\n",
       "    </tr>\n",
       "  </thead>\n",
       "  <tbody>\n",
       "    <tr>\n",
       "      <th>0</th>\n",
       "      <td>test_im_0</td>\n",
       "      <td>40.000661</td>\n",
       "      <td>55.529821</td>\n",
       "    </tr>\n",
       "    <tr>\n",
       "      <th>1</th>\n",
       "      <td>test_im_1</td>\n",
       "      <td>39.000001</td>\n",
       "      <td>56.646793</td>\n",
       "    </tr>\n",
       "    <tr>\n",
       "      <th>2</th>\n",
       "      <td>test_im_2</td>\n",
       "      <td>41.000000</td>\n",
       "      <td>51.964747</td>\n",
       "    </tr>\n",
       "    <tr>\n",
       "      <th>3</th>\n",
       "      <td>test_im_3</td>\n",
       "      <td>31.000000</td>\n",
       "      <td>45.505224</td>\n",
       "    </tr>\n",
       "    <tr>\n",
       "      <th>4</th>\n",
       "      <td>test_im_4</td>\n",
       "      <td>32.000000</td>\n",
       "      <td>39.159008</td>\n",
       "    </tr>\n",
       "    <tr>\n",
       "      <th>5</th>\n",
       "      <td>test_im_5</td>\n",
       "      <td>40.002086</td>\n",
       "      <td>33.651912</td>\n",
       "    </tr>\n",
       "    <tr>\n",
       "      <th>6</th>\n",
       "      <td>test_im_6</td>\n",
       "      <td>27.000176</td>\n",
       "      <td>29.159387</td>\n",
       "    </tr>\n",
       "  </tbody>\n",
       "</table>\n",
       "</div>"
      ],
      "text/plain": [
       "  Image_name  True_densities  Predicted_densities\n",
       "0  test_im_0       40.000661            55.529821\n",
       "1  test_im_1       39.000001            56.646793\n",
       "2  test_im_2       41.000000            51.964747\n",
       "3  test_im_3       31.000000            45.505224\n",
       "4  test_im_4       32.000000            39.159008\n",
       "5  test_im_5       40.002086            33.651912\n",
       "6  test_im_6       27.000176            29.159387"
      ]
     },
     "execution_count": 68,
     "metadata": {},
     "output_type": "execute_result"
    }
   ],
   "source": [
    "blk_0103_df"
   ]
  },
  {
   "cell_type": "code",
   "execution_count": 56,
   "id": "f62ec4a2-57d2-4874-90dd-a233aa235833",
   "metadata": {},
   "outputs": [],
   "source": [
    "# Okay, so things seem to work okay, let's decide what all we want to do for the rest of the test blocks"
   ]
  },
  {
   "cell_type": "code",
   "execution_count": 57,
   "id": "69c281ae-ac66-4886-b342-da2ef8fafa35",
   "metadata": {},
   "outputs": [],
   "source": [
    "# We should be able to do this in a loop, but for simplicity,and keepign track of things, let's do this blockwise"
   ]
  },
  {
   "cell_type": "code",
   "execution_count": 58,
   "id": "04ea52a1-d220-4308-8498-b7906af14065",
   "metadata": {},
   "outputs": [],
   "source": [
    "# Block 0104"
   ]
  },
  {
   "cell_type": "code",
   "execution_count": 59,
   "id": "49517fd8-2abe-40b3-827f-f4a476daf64e",
   "metadata": {},
   "outputs": [],
   "source": [
    "# load the input features and targets"
   ]
  },
  {
   "cell_type": "code",
   "execution_count": 60,
   "id": "b410059a-b6a6-491b-9b7d-d7beb1bc6664",
   "metadata": {},
   "outputs": [
    {
     "data": {
      "text/plain": [
       "'test_data_blk_0104.npy'"
      ]
     },
     "execution_count": 60,
     "metadata": {},
     "output_type": "execute_result"
    }
   ],
   "source": [
    "# features\n",
    "Test_input_features_loc_content[1]"
   ]
  },
  {
   "cell_type": "code",
   "execution_count": 61,
   "id": "6c8e5aee-8745-4035-afd3-1a56434700db",
   "metadata": {},
   "outputs": [],
   "source": [
    "block_0104_features = np.load(os.path.join(Test_input_features_loc, Test_input_features_loc_content[1]))"
   ]
  },
  {
   "cell_type": "code",
   "execution_count": 62,
   "id": "3d5f3b2a-580b-4597-a34a-8daa62d76ae8",
   "metadata": {},
   "outputs": [
    {
     "data": {
      "text/plain": [
       "(910, 13, 30, 30, 3)"
      ]
     },
     "execution_count": 62,
     "metadata": {},
     "output_type": "execute_result"
    }
   ],
   "source": [
    "block_0104_features.shape"
   ]
  },
  {
   "cell_type": "code",
   "execution_count": 63,
   "id": "aa834fa1-68fa-46bc-921d-80b933c57b5f",
   "metadata": {},
   "outputs": [
    {
     "data": {
      "text/plain": [
       "'block_0104_targets.npy'"
      ]
     },
     "execution_count": 63,
     "metadata": {},
     "output_type": "execute_result"
    }
   ],
   "source": [
    "# targets\n",
    "test_target_loc_contents[1]"
   ]
  },
  {
   "cell_type": "code",
   "execution_count": 64,
   "id": "1ffa0672-2397-4b1a-a2be-57d64ddec04d",
   "metadata": {},
   "outputs": [],
   "source": [
    "block_0104_targets = np.load(os.path.join(test_targets_loc, test_target_loc_contents[1]))"
   ]
  },
  {
   "cell_type": "code",
   "execution_count": 65,
   "id": "2d8d75a0-d39c-4a3d-8d51-463bf5fdc4ae",
   "metadata": {},
   "outputs": [
    {
     "data": {
      "text/plain": [
       "(910, 7)"
      ]
     },
     "execution_count": 65,
     "metadata": {},
     "output_type": "execute_result"
    }
   ],
   "source": [
    "block_0104_targets.shape"
   ]
  },
  {
   "cell_type": "code",
   "execution_count": 66,
   "id": "dbf600c6-408c-4d5a-aba2-53dcab081fc8",
   "metadata": {},
   "outputs": [
    {
     "data": {
      "text/plain": [
       "array([33.        , 30.        , 39.00000127, 40.        , 40.99881044,\n",
       "       42.1690088 , 30.00531667])"
      ]
     },
     "execution_count": 66,
     "metadata": {},
     "output_type": "execute_result"
    }
   ],
   "source": [
    "np.sum(block_0104_targets, axis = 0)"
   ]
  },
  {
   "cell_type": "code",
   "execution_count": 67,
   "id": "e1f624f7-04c8-4a9c-954b-a099fd708fc6",
   "metadata": {},
   "outputs": [
    {
     "name": "stdout",
     "output_type": "stream",
     "text": [
      "29/29 [==============================] - 0s 6ms/step\n"
     ]
    }
   ],
   "source": [
    "# get preds\n",
    "# To get the predictions on a block, we can just do the model.predict function\n",
    "block_0104_preds = base_model_non_overlapping.predict(block_0104_features)"
   ]
  },
  {
   "cell_type": "code",
   "execution_count": 68,
   "id": "3172a7ec-bd63-4616-8e16-fa364ead70ed",
   "metadata": {},
   "outputs": [
    {
     "data": {
      "text/plain": [
       "(910, 7, 1)"
      ]
     },
     "execution_count": 68,
     "metadata": {},
     "output_type": "execute_result"
    }
   ],
   "source": [
    "block_0104_preds.shape"
   ]
  },
  {
   "cell_type": "code",
   "execution_count": 69,
   "id": "c1045b4e-9c66-417b-ae19-5c6466156127",
   "metadata": {},
   "outputs": [],
   "source": [
    "# reshape the preds\n",
    "block_0104_preds_reshaped = block_0104_preds.reshape(block_0104_preds.shape[0], block_0104_preds.shape[1])"
   ]
  },
  {
   "cell_type": "code",
   "execution_count": 70,
   "id": "469ac326-9934-45ef-8c66-0bbf3b7620cb",
   "metadata": {},
   "outputs": [
    {
     "data": {
      "text/plain": [
       "(910, 7)"
      ]
     },
     "execution_count": 70,
     "metadata": {},
     "output_type": "execute_result"
    }
   ],
   "source": [
    "block_0104_preds_reshaped.shape"
   ]
  },
  {
   "cell_type": "code",
   "execution_count": 71,
   "id": "7c47e3bb-d65c-4bd3-a536-6db118a76d8d",
   "metadata": {},
   "outputs": [],
   "source": [
    "block_0104_final_preds_alt = np.sum(block_0104_preds_reshaped, axis = 0)"
   ]
  },
  {
   "cell_type": "code",
   "execution_count": 72,
   "id": "29291a47-2361-4ef2-b7f1-d381397c3fec",
   "metadata": {},
   "outputs": [
    {
     "data": {
      "text/plain": [
       "array([21.040163 , 23.76801  , 21.9592   , 18.571503 , 15.492011 ,\n",
       "       13.4325285, 12.196832 ], dtype=float32)"
      ]
     },
     "execution_count": 72,
     "metadata": {},
     "output_type": "execute_result"
    }
   ],
   "source": [
    "block_0104_final_preds_alt"
   ]
  },
  {
   "cell_type": "code",
   "execution_count": 73,
   "id": "8c823770-38bc-453b-8854-65240be77f06",
   "metadata": {},
   "outputs": [],
   "source": [
    "block_name_0104 = 'true_and_pred_densities_blk_0104'"
   ]
  },
  {
   "cell_type": "code",
   "execution_count": 74,
   "id": "2a13b7b3-98ee-4dfe-93fe-1ec6e21b8990",
   "metadata": {},
   "outputs": [],
   "source": [
    "block_0104_metrics, blk_0104_df = get_final_forecasted_and_true_values(block_0104_preds_reshaped, block_0104_targets, im_height, im_weight, stride, kernel_size, csv_file_loc_all, block_name_0104)"
   ]
  },
  {
   "cell_type": "code",
   "execution_count": 75,
   "id": "0f988053-ef98-4fa3-b309-14af1fe0db63",
   "metadata": {},
   "outputs": [
    {
     "data": {
      "text/plain": [
       "[18.387554912057606,\n",
       " 19.730211923046785,\n",
       " PearsonRResult(statistic=-0.25249410725821214, pvalue=0.5848848473770533),\n",
       " -15.264333082125898]"
      ]
     },
     "execution_count": 75,
     "metadata": {},
     "output_type": "execute_result"
    }
   ],
   "source": [
    "block_0104_metrics"
   ]
  },
  {
   "cell_type": "code",
   "execution_count": 76,
   "id": "8c9fdf3d-ce05-4ac2-903b-b56830b354e7",
   "metadata": {},
   "outputs": [
    {
     "data": {
      "text/html": [
       "<div>\n",
       "<style scoped>\n",
       "    .dataframe tbody tr th:only-of-type {\n",
       "        vertical-align: middle;\n",
       "    }\n",
       "\n",
       "    .dataframe tbody tr th {\n",
       "        vertical-align: top;\n",
       "    }\n",
       "\n",
       "    .dataframe thead th {\n",
       "        text-align: right;\n",
       "    }\n",
       "</style>\n",
       "<table border=\"1\" class=\"dataframe\">\n",
       "  <thead>\n",
       "    <tr style=\"text-align: right;\">\n",
       "      <th></th>\n",
       "      <th>Image_name</th>\n",
       "      <th>True_densities</th>\n",
       "      <th>Predicted_densities</th>\n",
       "    </tr>\n",
       "  </thead>\n",
       "  <tbody>\n",
       "    <tr>\n",
       "      <th>0</th>\n",
       "      <td>test_im_0</td>\n",
       "      <td>33.000000</td>\n",
       "      <td>21.040162</td>\n",
       "    </tr>\n",
       "    <tr>\n",
       "      <th>1</th>\n",
       "      <td>test_im_1</td>\n",
       "      <td>30.000000</td>\n",
       "      <td>23.768009</td>\n",
       "    </tr>\n",
       "    <tr>\n",
       "      <th>2</th>\n",
       "      <td>test_im_2</td>\n",
       "      <td>39.000001</td>\n",
       "      <td>21.959211</td>\n",
       "    </tr>\n",
       "    <tr>\n",
       "      <th>3</th>\n",
       "      <td>test_im_3</td>\n",
       "      <td>40.000000</td>\n",
       "      <td>18.571495</td>\n",
       "    </tr>\n",
       "    <tr>\n",
       "      <th>4</th>\n",
       "      <td>test_im_4</td>\n",
       "      <td>40.998810</td>\n",
       "      <td>15.492018</td>\n",
       "    </tr>\n",
       "    <tr>\n",
       "      <th>5</th>\n",
       "      <td>test_im_5</td>\n",
       "      <td>42.169009</td>\n",
       "      <td>13.432526</td>\n",
       "    </tr>\n",
       "    <tr>\n",
       "      <th>6</th>\n",
       "      <td>test_im_6</td>\n",
       "      <td>30.005317</td>\n",
       "      <td>12.196831</td>\n",
       "    </tr>\n",
       "  </tbody>\n",
       "</table>\n",
       "</div>"
      ],
      "text/plain": [
       "  Image_name  True_densities  Predicted_densities\n",
       "0  test_im_0       33.000000            21.040162\n",
       "1  test_im_1       30.000000            23.768009\n",
       "2  test_im_2       39.000001            21.959211\n",
       "3  test_im_3       40.000000            18.571495\n",
       "4  test_im_4       40.998810            15.492018\n",
       "5  test_im_5       42.169009            13.432526\n",
       "6  test_im_6       30.005317            12.196831"
      ]
     },
     "execution_count": 76,
     "metadata": {},
     "output_type": "execute_result"
    }
   ],
   "source": [
    "blk_0104_df"
   ]
  },
  {
   "cell_type": "code",
   "execution_count": 77,
   "id": "65a16004-7909-4b68-b9c0-d77513df345b",
   "metadata": {},
   "outputs": [],
   "source": [
    "# verify mae\n",
    "mae_df_0104 = mean_absolute_error(blk_0104_df['True_densities'], blk_0104_df['Predicted_densities'])"
   ]
  },
  {
   "cell_type": "code",
   "execution_count": 78,
   "id": "fa209dce-854b-4cf4-8229-46c5c41e7367",
   "metadata": {},
   "outputs": [
    {
     "data": {
      "text/plain": [
       "18.387554912057606"
      ]
     },
     "execution_count": 78,
     "metadata": {},
     "output_type": "execute_result"
    }
   ],
   "source": [
    "mae_df_0104"
   ]
  },
  {
   "cell_type": "code",
   "execution_count": 79,
   "id": "906badc4-750a-4376-ad9e-29d870cfe430",
   "metadata": {},
   "outputs": [],
   "source": [
    "# Okay, I think we can do this for the rest of the blocks"
   ]
  },
  {
   "cell_type": "code",
   "execution_count": 80,
   "id": "67fba2de-a0d6-442d-8b72-16d9f2a9c4d5",
   "metadata": {},
   "outputs": [],
   "source": [
    "# Block 0105"
   ]
  },
  {
   "cell_type": "code",
   "execution_count": 81,
   "id": "d7b5d8f1-0092-49dc-99b2-cc8f7618f307",
   "metadata": {},
   "outputs": [],
   "source": [
    "# load the input features and targets"
   ]
  },
  {
   "cell_type": "code",
   "execution_count": 82,
   "id": "b53a20ec-c723-406c-ac25-b8ac71d91fda",
   "metadata": {},
   "outputs": [
    {
     "data": {
      "text/plain": [
       "'test_data_blk_0105.npy'"
      ]
     },
     "execution_count": 82,
     "metadata": {},
     "output_type": "execute_result"
    }
   ],
   "source": [
    "# features\n",
    "Test_input_features_loc_content[2]"
   ]
  },
  {
   "cell_type": "code",
   "execution_count": 83,
   "id": "c9bd6bcf-faf8-4901-8e3c-2122c6fc0499",
   "metadata": {},
   "outputs": [],
   "source": [
    "block_0105_features = np.load(os.path.join(Test_input_features_loc, Test_input_features_loc_content[2]))"
   ]
  },
  {
   "cell_type": "code",
   "execution_count": 84,
   "id": "6bf25c7b-6031-4106-8a66-3793c6da0901",
   "metadata": {},
   "outputs": [
    {
     "data": {
      "text/plain": [
       "(910, 13, 30, 30, 3)"
      ]
     },
     "execution_count": 84,
     "metadata": {},
     "output_type": "execute_result"
    }
   ],
   "source": [
    "block_0105_features.shape"
   ]
  },
  {
   "cell_type": "code",
   "execution_count": 85,
   "id": "72200325-0a60-4668-88f0-798b506f5a1b",
   "metadata": {},
   "outputs": [
    {
     "data": {
      "text/plain": [
       "'block_0105_targets.npy'"
      ]
     },
     "execution_count": 85,
     "metadata": {},
     "output_type": "execute_result"
    }
   ],
   "source": [
    "# targets\n",
    "test_target_loc_contents[2]"
   ]
  },
  {
   "cell_type": "code",
   "execution_count": 86,
   "id": "5aaf22b0-c42b-4479-87c5-6ce57dced573",
   "metadata": {},
   "outputs": [],
   "source": [
    "block_0105_targets = np.load(os.path.join(test_targets_loc, test_target_loc_contents[2]))"
   ]
  },
  {
   "cell_type": "code",
   "execution_count": 87,
   "id": "93f4bb41-d377-425f-89e9-da14a0c5911a",
   "metadata": {},
   "outputs": [
    {
     "data": {
      "text/plain": [
       "(910, 7)"
      ]
     },
     "execution_count": 87,
     "metadata": {},
     "output_type": "execute_result"
    }
   ],
   "source": [
    "block_0105_targets.shape"
   ]
  },
  {
   "cell_type": "code",
   "execution_count": 88,
   "id": "b78af4d1-dd6e-4f85-85bb-ad884ed7b020",
   "metadata": {},
   "outputs": [
    {
     "data": {
      "text/plain": [
       "array([40.00000127, 46.00274308, 58.00069611, 41.000032  , 41.00118956,\n",
       "       36.00002186, 23.00000049])"
      ]
     },
     "execution_count": 88,
     "metadata": {},
     "output_type": "execute_result"
    }
   ],
   "source": [
    "np.sum(block_0105_targets, axis = 0)"
   ]
  },
  {
   "cell_type": "code",
   "execution_count": 89,
   "id": "73d5682d-fa70-48c8-9d86-93b4d917fa94",
   "metadata": {},
   "outputs": [
    {
     "name": "stdout",
     "output_type": "stream",
     "text": [
      "29/29 [==============================] - 0s 6ms/step\n"
     ]
    }
   ],
   "source": [
    "# get preds\n",
    "# To get the predictions on a block, we can just do the model.predict function\n",
    "block_0105_preds = base_model_non_overlapping.predict(block_0105_features)"
   ]
  },
  {
   "cell_type": "code",
   "execution_count": 90,
   "id": "af5efe4a-4684-40b1-9943-3c851abf0e31",
   "metadata": {},
   "outputs": [
    {
     "data": {
      "text/plain": [
       "(910, 7, 1)"
      ]
     },
     "execution_count": 90,
     "metadata": {},
     "output_type": "execute_result"
    }
   ],
   "source": [
    "block_0105_preds.shape"
   ]
  },
  {
   "cell_type": "code",
   "execution_count": 91,
   "id": "ddbe1128-b862-419e-9896-62ad058e7681",
   "metadata": {},
   "outputs": [],
   "source": [
    "# reshape the preds\n",
    "block_0105_preds_reshaped = block_0105_preds.reshape(block_0105_preds.shape[0], block_0105_preds.shape[1])"
   ]
  },
  {
   "cell_type": "code",
   "execution_count": 92,
   "id": "14809025-9197-4c89-8345-d82287f67c4d",
   "metadata": {},
   "outputs": [
    {
     "data": {
      "text/plain": [
       "(910, 7)"
      ]
     },
     "execution_count": 92,
     "metadata": {},
     "output_type": "execute_result"
    }
   ],
   "source": [
    "block_0105_preds_reshaped.shape"
   ]
  },
  {
   "cell_type": "code",
   "execution_count": 93,
   "id": "56394efd-df46-412e-97a4-4731da8accde",
   "metadata": {},
   "outputs": [],
   "source": [
    "block_0105_final_preds_alt = np.sum(block_0105_preds_reshaped, axis = 0)"
   ]
  },
  {
   "cell_type": "code",
   "execution_count": 94,
   "id": "ab49facf-138e-45ae-9768-634e5379435f",
   "metadata": {},
   "outputs": [
    {
     "data": {
      "text/plain": [
       "array([26.957481, 32.198895, 29.99872 , 25.06695 , 20.220856, 16.579393,\n",
       "       14.183497], dtype=float32)"
      ]
     },
     "execution_count": 94,
     "metadata": {},
     "output_type": "execute_result"
    }
   ],
   "source": [
    "block_0105_final_preds_alt"
   ]
  },
  {
   "cell_type": "code",
   "execution_count": 95,
   "id": "cb2c08c8-9560-4135-99b7-1c59d04e308e",
   "metadata": {},
   "outputs": [],
   "source": [
    "block_name_0105 = 'true_and_pred_densities_blk_0105'"
   ]
  },
  {
   "cell_type": "code",
   "execution_count": 96,
   "id": "1f08aacb-5859-4aec-b09d-5c91cf947a13",
   "metadata": {},
   "outputs": [],
   "source": [
    "block_0105_metrics, blk_0105_df = get_final_forecasted_and_true_values(block_0105_preds_reshaped, block_0105_targets, im_height, im_weight, stride, kernel_size, csv_file_loc_all, block_name_0105)"
   ]
  },
  {
   "cell_type": "code",
   "execution_count": 97,
   "id": "4d690ab9-24a6-4699-8fda-d2050b3f911a",
   "metadata": {},
   "outputs": [
    {
     "data": {
      "text/plain": [
       "[17.114121622900903,\n",
       " 18.068677485546477,\n",
       " PearsonRResult(statistic=0.8224933359725033, pvalue=0.0231148562842959),\n",
       " -2.44446322367713]"
      ]
     },
     "execution_count": 97,
     "metadata": {},
     "output_type": "execute_result"
    }
   ],
   "source": [
    "block_0105_metrics"
   ]
  },
  {
   "cell_type": "code",
   "execution_count": 98,
   "id": "3b75172a-b405-4d0a-bd1b-e8111268da4e",
   "metadata": {},
   "outputs": [
    {
     "data": {
      "text/html": [
       "<div>\n",
       "<style scoped>\n",
       "    .dataframe tbody tr th:only-of-type {\n",
       "        vertical-align: middle;\n",
       "    }\n",
       "\n",
       "    .dataframe tbody tr th {\n",
       "        vertical-align: top;\n",
       "    }\n",
       "\n",
       "    .dataframe thead th {\n",
       "        text-align: right;\n",
       "    }\n",
       "</style>\n",
       "<table border=\"1\" class=\"dataframe\">\n",
       "  <thead>\n",
       "    <tr style=\"text-align: right;\">\n",
       "      <th></th>\n",
       "      <th>Image_name</th>\n",
       "      <th>True_densities</th>\n",
       "      <th>Predicted_densities</th>\n",
       "    </tr>\n",
       "  </thead>\n",
       "  <tbody>\n",
       "    <tr>\n",
       "      <th>0</th>\n",
       "      <td>test_im_0</td>\n",
       "      <td>40.000001</td>\n",
       "      <td>26.957487</td>\n",
       "    </tr>\n",
       "    <tr>\n",
       "      <th>1</th>\n",
       "      <td>test_im_1</td>\n",
       "      <td>46.002743</td>\n",
       "      <td>32.198901</td>\n",
       "    </tr>\n",
       "    <tr>\n",
       "      <th>2</th>\n",
       "      <td>test_im_2</td>\n",
       "      <td>58.000696</td>\n",
       "      <td>29.998726</td>\n",
       "    </tr>\n",
       "    <tr>\n",
       "      <th>3</th>\n",
       "      <td>test_im_3</td>\n",
       "      <td>41.000032</td>\n",
       "      <td>25.066958</td>\n",
       "    </tr>\n",
       "    <tr>\n",
       "      <th>4</th>\n",
       "      <td>test_im_4</td>\n",
       "      <td>41.001190</td>\n",
       "      <td>20.220861</td>\n",
       "    </tr>\n",
       "    <tr>\n",
       "      <th>5</th>\n",
       "      <td>test_im_5</td>\n",
       "      <td>36.000022</td>\n",
       "      <td>16.579399</td>\n",
       "    </tr>\n",
       "    <tr>\n",
       "      <th>6</th>\n",
       "      <td>test_im_6</td>\n",
       "      <td>23.000000</td>\n",
       "      <td>14.183502</td>\n",
       "    </tr>\n",
       "  </tbody>\n",
       "</table>\n",
       "</div>"
      ],
      "text/plain": [
       "  Image_name  True_densities  Predicted_densities\n",
       "0  test_im_0       40.000001            26.957487\n",
       "1  test_im_1       46.002743            32.198901\n",
       "2  test_im_2       58.000696            29.998726\n",
       "3  test_im_3       41.000032            25.066958\n",
       "4  test_im_4       41.001190            20.220861\n",
       "5  test_im_5       36.000022            16.579399\n",
       "6  test_im_6       23.000000            14.183502"
      ]
     },
     "execution_count": 98,
     "metadata": {},
     "output_type": "execute_result"
    }
   ],
   "source": [
    "blk_0105_df"
   ]
  },
  {
   "cell_type": "code",
   "execution_count": 99,
   "id": "6eb9f370-6bab-4695-bfb0-9543daec6025",
   "metadata": {},
   "outputs": [],
   "source": [
    "# verify mae\n",
    "mae_df_0105 = mean_absolute_error(blk_0105_df['True_densities'], blk_0105_df['Predicted_densities'])"
   ]
  },
  {
   "cell_type": "code",
   "execution_count": 100,
   "id": "a4eac4f1-f672-4864-93f2-3877e7bc9ead",
   "metadata": {},
   "outputs": [
    {
     "data": {
      "text/plain": [
       "17.114121622900903"
      ]
     },
     "execution_count": 100,
     "metadata": {},
     "output_type": "execute_result"
    }
   ],
   "source": [
    "mae_df_0105"
   ]
  },
  {
   "cell_type": "code",
   "execution_count": 101,
   "id": "6cf2f34f-2526-44cc-bc7e-6b68727d5a47",
   "metadata": {},
   "outputs": [],
   "source": [
    "# Block 0106"
   ]
  },
  {
   "cell_type": "code",
   "execution_count": 102,
   "id": "36bdcb48-3f15-4449-8cdc-06ec5f36427c",
   "metadata": {},
   "outputs": [],
   "source": [
    "# load the input features and targets"
   ]
  },
  {
   "cell_type": "code",
   "execution_count": 103,
   "id": "0ce9bf09-654d-493a-9823-f00d74c87ac6",
   "metadata": {},
   "outputs": [
    {
     "data": {
      "text/plain": [
       "'test_data_blk_0106.npy'"
      ]
     },
     "execution_count": 103,
     "metadata": {},
     "output_type": "execute_result"
    }
   ],
   "source": [
    "# features\n",
    "Test_input_features_loc_content[3]"
   ]
  },
  {
   "cell_type": "code",
   "execution_count": 104,
   "id": "08520802-be5e-40c2-9441-6b082d036ccd",
   "metadata": {},
   "outputs": [],
   "source": [
    "block_0106_features = np.load(os.path.join(Test_input_features_loc, Test_input_features_loc_content[3]))"
   ]
  },
  {
   "cell_type": "code",
   "execution_count": 105,
   "id": "e9ed1bee-3088-4213-841d-5bee4ae4afb7",
   "metadata": {},
   "outputs": [
    {
     "data": {
      "text/plain": [
       "(910, 13, 30, 30, 3)"
      ]
     },
     "execution_count": 105,
     "metadata": {},
     "output_type": "execute_result"
    }
   ],
   "source": [
    "block_0106_features.shape"
   ]
  },
  {
   "cell_type": "code",
   "execution_count": 106,
   "id": "34a491ae-7fcc-49bd-aa32-53938599c7db",
   "metadata": {},
   "outputs": [
    {
     "data": {
      "text/plain": [
       "'block_0106_targets.npy'"
      ]
     },
     "execution_count": 106,
     "metadata": {},
     "output_type": "execute_result"
    }
   ],
   "source": [
    "# targets\n",
    "test_target_loc_contents[3]"
   ]
  },
  {
   "cell_type": "code",
   "execution_count": 107,
   "id": "ad681142-bdff-438c-b7a3-1c03dc00f8ee",
   "metadata": {},
   "outputs": [],
   "source": [
    "block_0106_targets = np.load(os.path.join(test_targets_loc, test_target_loc_contents[3]))"
   ]
  },
  {
   "cell_type": "code",
   "execution_count": 108,
   "id": "f3a7182d-923d-4d75-8921-f026e1e7f799",
   "metadata": {},
   "outputs": [
    {
     "data": {
      "text/plain": [
       "(910, 7)"
      ]
     },
     "execution_count": 108,
     "metadata": {},
     "output_type": "execute_result"
    }
   ],
   "source": [
    "block_0106_targets.shape"
   ]
  },
  {
   "cell_type": "code",
   "execution_count": 109,
   "id": "60c941eb-1a2f-4fa5-9291-d126bbb8b5c0",
   "metadata": {},
   "outputs": [
    {
     "data": {
      "text/plain": [
       "array([38.99966666, 38.9999891 , 45.        , 39.98688727, 42.99999681,\n",
       "       47.99650163, 38.        ])"
      ]
     },
     "execution_count": 109,
     "metadata": {},
     "output_type": "execute_result"
    }
   ],
   "source": [
    "np.sum(block_0106_targets, axis = 0)"
   ]
  },
  {
   "cell_type": "code",
   "execution_count": 110,
   "id": "5ec79cb9-71f6-4000-b932-c2aa3de0a366",
   "metadata": {},
   "outputs": [
    {
     "name": "stdout",
     "output_type": "stream",
     "text": [
      "29/29 [==============================] - 0s 6ms/step\n"
     ]
    }
   ],
   "source": [
    "# get preds\n",
    "# To get the predictions on a block, we can just do the model.predict function\n",
    "block_0106_preds = base_model_non_overlapping.predict(block_0106_features)"
   ]
  },
  {
   "cell_type": "code",
   "execution_count": 111,
   "id": "9d09c190-c3e0-4b38-b9e2-11e7fe743e55",
   "metadata": {},
   "outputs": [
    {
     "data": {
      "text/plain": [
       "(910, 7, 1)"
      ]
     },
     "execution_count": 111,
     "metadata": {},
     "output_type": "execute_result"
    }
   ],
   "source": [
    "block_0106_preds.shape"
   ]
  },
  {
   "cell_type": "code",
   "execution_count": 112,
   "id": "18f702ab-f887-4967-b126-90edecb8e646",
   "metadata": {},
   "outputs": [],
   "source": [
    "# reshape the preds\n",
    "block_0106_preds_reshaped = block_0106_preds.reshape(block_0106_preds.shape[0], block_0106_preds.shape[1])"
   ]
  },
  {
   "cell_type": "code",
   "execution_count": 113,
   "id": "8dea2c6b-6684-4154-b90a-a103d23854b7",
   "metadata": {},
   "outputs": [
    {
     "data": {
      "text/plain": [
       "(910, 7)"
      ]
     },
     "execution_count": 113,
     "metadata": {},
     "output_type": "execute_result"
    }
   ],
   "source": [
    "block_0106_preds_reshaped.shape"
   ]
  },
  {
   "cell_type": "code",
   "execution_count": 114,
   "id": "db3c0b0c-9325-4516-a0c1-fff90c32baa1",
   "metadata": {},
   "outputs": [],
   "source": [
    "block_0106_final_preds_alt = np.sum(block_0106_preds_reshaped, axis = 0)"
   ]
  },
  {
   "cell_type": "code",
   "execution_count": 115,
   "id": "f0ceeb20-aa21-4467-b159-6eb6529eb0e6",
   "metadata": {},
   "outputs": [
    {
     "data": {
      "text/plain": [
       "array([25.447723, 31.891478, 30.85111 , 26.700651, 22.235804, 18.754534,\n",
       "       16.4021  ], dtype=float32)"
      ]
     },
     "execution_count": 115,
     "metadata": {},
     "output_type": "execute_result"
    }
   ],
   "source": [
    "block_0106_final_preds_alt"
   ]
  },
  {
   "cell_type": "code",
   "execution_count": 116,
   "id": "e37c4b19-57b0-40b5-8135-ff4d6d0209fc",
   "metadata": {},
   "outputs": [],
   "source": [
    "block_name_0106 = 'true_and_pred_densities_blk_0106'"
   ]
  },
  {
   "cell_type": "code",
   "execution_count": 117,
   "id": "7c3e3e43-db75-4f13-b5d1-e6e73bcabc61",
   "metadata": {},
   "outputs": [],
   "source": [
    "block_0106_metrics, blk_0106_df = get_final_forecasted_and_true_values(block_0106_preds_reshaped, block_0106_targets, im_height, im_weight, stride, kernel_size, csv_file_loc_all, block_name_0106)"
   ]
  },
  {
   "cell_type": "code",
   "execution_count": 118,
   "id": "98d6ea90-dfab-474b-99be-4a5fadb9da8d",
   "metadata": {},
   "outputs": [
    {
     "data": {
      "text/plain": [
       "[17.099946426585,\n",
       " 18.375505925304324,\n",
       " PearsonRResult(statistic=-0.11100962683232617, pvalue=0.81270323810515),\n",
       " -27.32998336251571]"
      ]
     },
     "execution_count": 118,
     "metadata": {},
     "output_type": "execute_result"
    }
   ],
   "source": [
    "block_0106_metrics"
   ]
  },
  {
   "cell_type": "code",
   "execution_count": 119,
   "id": "96087466-0b02-4a45-8299-7b3a32f0eaa3",
   "metadata": {},
   "outputs": [
    {
     "data": {
      "text/html": [
       "<div>\n",
       "<style scoped>\n",
       "    .dataframe tbody tr th:only-of-type {\n",
       "        vertical-align: middle;\n",
       "    }\n",
       "\n",
       "    .dataframe tbody tr th {\n",
       "        vertical-align: top;\n",
       "    }\n",
       "\n",
       "    .dataframe thead th {\n",
       "        text-align: right;\n",
       "    }\n",
       "</style>\n",
       "<table border=\"1\" class=\"dataframe\">\n",
       "  <thead>\n",
       "    <tr style=\"text-align: right;\">\n",
       "      <th></th>\n",
       "      <th>Image_name</th>\n",
       "      <th>True_densities</th>\n",
       "      <th>Predicted_densities</th>\n",
       "    </tr>\n",
       "  </thead>\n",
       "  <tbody>\n",
       "    <tr>\n",
       "      <th>0</th>\n",
       "      <td>test_im_0</td>\n",
       "      <td>38.999667</td>\n",
       "      <td>25.447734</td>\n",
       "    </tr>\n",
       "    <tr>\n",
       "      <th>1</th>\n",
       "      <td>test_im_1</td>\n",
       "      <td>38.999989</td>\n",
       "      <td>31.891481</td>\n",
       "    </tr>\n",
       "    <tr>\n",
       "      <th>2</th>\n",
       "      <td>test_im_2</td>\n",
       "      <td>45.000000</td>\n",
       "      <td>30.851123</td>\n",
       "    </tr>\n",
       "    <tr>\n",
       "      <th>3</th>\n",
       "      <td>test_im_3</td>\n",
       "      <td>39.986887</td>\n",
       "      <td>26.700641</td>\n",
       "    </tr>\n",
       "    <tr>\n",
       "      <th>4</th>\n",
       "      <td>test_im_4</td>\n",
       "      <td>42.999997</td>\n",
       "      <td>22.235805</td>\n",
       "    </tr>\n",
       "    <tr>\n",
       "      <th>5</th>\n",
       "      <td>test_im_5</td>\n",
       "      <td>47.996502</td>\n",
       "      <td>18.754533</td>\n",
       "    </tr>\n",
       "    <tr>\n",
       "      <th>6</th>\n",
       "      <td>test_im_6</td>\n",
       "      <td>38.000000</td>\n",
       "      <td>16.402100</td>\n",
       "    </tr>\n",
       "  </tbody>\n",
       "</table>\n",
       "</div>"
      ],
      "text/plain": [
       "  Image_name  True_densities  Predicted_densities\n",
       "0  test_im_0       38.999667            25.447734\n",
       "1  test_im_1       38.999989            31.891481\n",
       "2  test_im_2       45.000000            30.851123\n",
       "3  test_im_3       39.986887            26.700641\n",
       "4  test_im_4       42.999997            22.235805\n",
       "5  test_im_5       47.996502            18.754533\n",
       "6  test_im_6       38.000000            16.402100"
      ]
     },
     "execution_count": 119,
     "metadata": {},
     "output_type": "execute_result"
    }
   ],
   "source": [
    "blk_0106_df"
   ]
  },
  {
   "cell_type": "code",
   "execution_count": 120,
   "id": "7483d51a-a693-4113-afca-07ab432575ef",
   "metadata": {},
   "outputs": [],
   "source": [
    "# verify mae\n",
    "mae_df_0106 = mean_absolute_error(blk_0106_df['True_densities'], blk_0106_df['Predicted_densities'])"
   ]
  },
  {
   "cell_type": "code",
   "execution_count": 121,
   "id": "dc279a88-eccc-4ccc-9836-9cb05df93516",
   "metadata": {},
   "outputs": [
    {
     "data": {
      "text/plain": [
       "17.099946426585"
      ]
     },
     "execution_count": 121,
     "metadata": {},
     "output_type": "execute_result"
    }
   ],
   "source": [
    "mae_df_0106"
   ]
  },
  {
   "cell_type": "code",
   "execution_count": 122,
   "id": "0a0deef9-013c-4456-a116-3b9adf6f664f",
   "metadata": {},
   "outputs": [],
   "source": [
    "# Block 0201"
   ]
  },
  {
   "cell_type": "code",
   "execution_count": 123,
   "id": "759072ef-4981-428a-8820-9f539a46a88b",
   "metadata": {},
   "outputs": [],
   "source": [
    "# load the input features and targets"
   ]
  },
  {
   "cell_type": "code",
   "execution_count": 124,
   "id": "cff53303-9125-4561-8dd4-91640cac1852",
   "metadata": {},
   "outputs": [
    {
     "data": {
      "text/plain": [
       "'test_data_blk_0201.npy'"
      ]
     },
     "execution_count": 124,
     "metadata": {},
     "output_type": "execute_result"
    }
   ],
   "source": [
    "# features\n",
    "Test_input_features_loc_content[4]"
   ]
  },
  {
   "cell_type": "code",
   "execution_count": 125,
   "id": "e4f1c95b-f0d4-4f9c-b04b-e303abff5e11",
   "metadata": {},
   "outputs": [],
   "source": [
    "block_0201_features = np.load(os.path.join(Test_input_features_loc, Test_input_features_loc_content[4]))"
   ]
  },
  {
   "cell_type": "code",
   "execution_count": 126,
   "id": "e8ceab53-38bd-465c-80fc-5fa3dcdbc7d8",
   "metadata": {},
   "outputs": [
    {
     "data": {
      "text/plain": [
       "(910, 13, 30, 30, 3)"
      ]
     },
     "execution_count": 126,
     "metadata": {},
     "output_type": "execute_result"
    }
   ],
   "source": [
    "block_0201_features.shape"
   ]
  },
  {
   "cell_type": "code",
   "execution_count": 127,
   "id": "bbeae60d-fba4-456a-b280-818e914386b2",
   "metadata": {},
   "outputs": [
    {
     "data": {
      "text/plain": [
       "'block_0201_targets.npy'"
      ]
     },
     "execution_count": 127,
     "metadata": {},
     "output_type": "execute_result"
    }
   ],
   "source": [
    "# targets\n",
    "test_target_loc_contents[4]"
   ]
  },
  {
   "cell_type": "code",
   "execution_count": 128,
   "id": "a529546f-7bea-419e-8959-13639bba32dd",
   "metadata": {},
   "outputs": [],
   "source": [
    "block_0201_targets = np.load(os.path.join(test_targets_loc, test_target_loc_contents[4]))"
   ]
  },
  {
   "cell_type": "code",
   "execution_count": 129,
   "id": "55ef4207-6f7e-426a-b9c3-fa70118b74ce",
   "metadata": {},
   "outputs": [
    {
     "data": {
      "text/plain": [
       "(910, 7)"
      ]
     },
     "execution_count": 129,
     "metadata": {},
     "output_type": "execute_result"
    }
   ],
   "source": [
    "block_0201_targets.shape"
   ]
  },
  {
   "cell_type": "code",
   "execution_count": 130,
   "id": "9ecb15b9-938c-4f0a-bd87-eecb4f7c8652",
   "metadata": {},
   "outputs": [
    {
     "data": {
      "text/plain": [
       "array([45.00021729, 45.0000397 , 47.00000127, 37.99999951, 42.00004097,\n",
       "       35.        , 29.        ])"
      ]
     },
     "execution_count": 130,
     "metadata": {},
     "output_type": "execute_result"
    }
   ],
   "source": [
    "np.sum(block_0201_targets, axis = 0)"
   ]
  },
  {
   "cell_type": "code",
   "execution_count": 131,
   "id": "3f406eab-1bb1-45bb-9ab2-110269102c69",
   "metadata": {},
   "outputs": [
    {
     "name": "stdout",
     "output_type": "stream",
     "text": [
      "29/29 [==============================] - 0s 6ms/step\n"
     ]
    }
   ],
   "source": [
    "# get preds\n",
    "# To get the predictions on a block, we can just do the model.predict function\n",
    "block_0201_preds = base_model_non_overlapping.predict(block_0201_features)"
   ]
  },
  {
   "cell_type": "code",
   "execution_count": 132,
   "id": "a39de3ea-5b4b-460e-9009-ba0847388b47",
   "metadata": {},
   "outputs": [
    {
     "data": {
      "text/plain": [
       "(910, 7, 1)"
      ]
     },
     "execution_count": 132,
     "metadata": {},
     "output_type": "execute_result"
    }
   ],
   "source": [
    "block_0201_preds.shape"
   ]
  },
  {
   "cell_type": "code",
   "execution_count": 133,
   "id": "9e3fb585-d61a-4d40-a159-b6296b4e853c",
   "metadata": {},
   "outputs": [],
   "source": [
    "# reshape the preds\n",
    "block_0201_preds_reshaped = block_0201_preds.reshape(block_0201_preds.shape[0], block_0201_preds.shape[1])"
   ]
  },
  {
   "cell_type": "code",
   "execution_count": 134,
   "id": "c74f495c-0d51-48c9-80f6-e197d26d4c97",
   "metadata": {},
   "outputs": [
    {
     "data": {
      "text/plain": [
       "(910, 7)"
      ]
     },
     "execution_count": 134,
     "metadata": {},
     "output_type": "execute_result"
    }
   ],
   "source": [
    "block_0201_preds_reshaped.shape"
   ]
  },
  {
   "cell_type": "code",
   "execution_count": 135,
   "id": "5a6e11a4-4a1b-415c-a432-0795cd15278d",
   "metadata": {},
   "outputs": [],
   "source": [
    "block_0201_final_preds_alt = np.sum(block_0201_preds_reshaped, axis = 0)"
   ]
  },
  {
   "cell_type": "code",
   "execution_count": 136,
   "id": "251e6161-a86a-430c-bb6a-eb2e3c081dfb",
   "metadata": {},
   "outputs": [
    {
     "data": {
      "text/plain": [
       "array([31.223482, 39.00834 , 36.34357 , 29.907192, 23.876047, 19.396769,\n",
       "       16.392017], dtype=float32)"
      ]
     },
     "execution_count": 136,
     "metadata": {},
     "output_type": "execute_result"
    }
   ],
   "source": [
    "block_0201_final_preds_alt"
   ]
  },
  {
   "cell_type": "code",
   "execution_count": 137,
   "id": "5c1ce839-e2b7-45b9-a1c8-294f17ae6598",
   "metadata": {},
   "outputs": [],
   "source": [
    "block_name_0201 = 'true_and_pred_densities_blk_0201'"
   ]
  },
  {
   "cell_type": "code",
   "execution_count": 138,
   "id": "77f1d398-c2e7-4a9e-8b42-fbe9ed4a86ae",
   "metadata": {},
   "outputs": [],
   "source": [
    "block_0201_metrics, blk_0201_df = get_final_forecasted_and_true_values(block_0201_preds_reshaped, block_0201_targets, im_height, im_weight, stride, kernel_size, csv_file_loc_all, block_name_0201)"
   ]
  },
  {
   "cell_type": "code",
   "execution_count": 139,
   "id": "3bfd888a-4cae-4aef-a555-4acdacd77c91",
   "metadata": {},
   "outputs": [
    {
     "data": {
      "text/plain": [
       "[12.121834944538023,\n",
       " 12.737191218493807,\n",
       " PearsonRResult(statistic=0.8733729653050728, pvalue=0.010224795613735899),\n",
       " -3.4912328138338102]"
      ]
     },
     "execution_count": 139,
     "metadata": {},
     "output_type": "execute_result"
    }
   ],
   "source": [
    "block_0201_metrics"
   ]
  },
  {
   "cell_type": "code",
   "execution_count": 140,
   "id": "abd1e6c2-cbc9-43e4-9b2b-0308fcf559fb",
   "metadata": {},
   "outputs": [
    {
     "data": {
      "text/html": [
       "<div>\n",
       "<style scoped>\n",
       "    .dataframe tbody tr th:only-of-type {\n",
       "        vertical-align: middle;\n",
       "    }\n",
       "\n",
       "    .dataframe tbody tr th {\n",
       "        vertical-align: top;\n",
       "    }\n",
       "\n",
       "    .dataframe thead th {\n",
       "        text-align: right;\n",
       "    }\n",
       "</style>\n",
       "<table border=\"1\" class=\"dataframe\">\n",
       "  <thead>\n",
       "    <tr style=\"text-align: right;\">\n",
       "      <th></th>\n",
       "      <th>Image_name</th>\n",
       "      <th>True_densities</th>\n",
       "      <th>Predicted_densities</th>\n",
       "    </tr>\n",
       "  </thead>\n",
       "  <tbody>\n",
       "    <tr>\n",
       "      <th>0</th>\n",
       "      <td>test_im_0</td>\n",
       "      <td>45.000217</td>\n",
       "      <td>31.223487</td>\n",
       "    </tr>\n",
       "    <tr>\n",
       "      <th>1</th>\n",
       "      <td>test_im_1</td>\n",
       "      <td>45.000040</td>\n",
       "      <td>39.008347</td>\n",
       "    </tr>\n",
       "    <tr>\n",
       "      <th>2</th>\n",
       "      <td>test_im_2</td>\n",
       "      <td>47.000001</td>\n",
       "      <td>36.343591</td>\n",
       "    </tr>\n",
       "    <tr>\n",
       "      <th>3</th>\n",
       "      <td>test_im_3</td>\n",
       "      <td>38.000000</td>\n",
       "      <td>29.907183</td>\n",
       "    </tr>\n",
       "    <tr>\n",
       "      <th>4</th>\n",
       "      <td>test_im_4</td>\n",
       "      <td>42.000041</td>\n",
       "      <td>23.876053</td>\n",
       "    </tr>\n",
       "    <tr>\n",
       "      <th>5</th>\n",
       "      <td>test_im_5</td>\n",
       "      <td>35.000000</td>\n",
       "      <td>19.396763</td>\n",
       "    </tr>\n",
       "    <tr>\n",
       "      <th>6</th>\n",
       "      <td>test_im_6</td>\n",
       "      <td>29.000000</td>\n",
       "      <td>16.392031</td>\n",
       "    </tr>\n",
       "  </tbody>\n",
       "</table>\n",
       "</div>"
      ],
      "text/plain": [
       "  Image_name  True_densities  Predicted_densities\n",
       "0  test_im_0       45.000217            31.223487\n",
       "1  test_im_1       45.000040            39.008347\n",
       "2  test_im_2       47.000001            36.343591\n",
       "3  test_im_3       38.000000            29.907183\n",
       "4  test_im_4       42.000041            23.876053\n",
       "5  test_im_5       35.000000            19.396763\n",
       "6  test_im_6       29.000000            16.392031"
      ]
     },
     "execution_count": 140,
     "metadata": {},
     "output_type": "execute_result"
    }
   ],
   "source": [
    "blk_0201_df"
   ]
  },
  {
   "cell_type": "code",
   "execution_count": 141,
   "id": "3f1efdf4-aa01-4456-8df1-594ba7c21fc9",
   "metadata": {},
   "outputs": [],
   "source": [
    "# verify mae\n",
    "mae_df_0201 = mean_absolute_error(blk_0201_df['True_densities'], blk_0201_df['Predicted_densities'])"
   ]
  },
  {
   "cell_type": "code",
   "execution_count": 142,
   "id": "f1f8729d-4bec-4a0c-9d61-660ce7bffeca",
   "metadata": {},
   "outputs": [
    {
     "data": {
      "text/plain": [
       "12.121834944538023"
      ]
     },
     "execution_count": 142,
     "metadata": {},
     "output_type": "execute_result"
    }
   ],
   "source": [
    "mae_df_0201"
   ]
  },
  {
   "cell_type": "code",
   "execution_count": 143,
   "id": "6dbcb751-c11a-49f1-b0a8-d165fb7af0c8",
   "metadata": {},
   "outputs": [],
   "source": [
    "# Block 0202"
   ]
  },
  {
   "cell_type": "code",
   "execution_count": 144,
   "id": "753d4db8-bff1-4eaa-b480-b554db6c8786",
   "metadata": {},
   "outputs": [],
   "source": [
    "# load the input features and targets"
   ]
  },
  {
   "cell_type": "code",
   "execution_count": 145,
   "id": "4e264b48-f26c-4efd-9f99-2c53eba63243",
   "metadata": {},
   "outputs": [
    {
     "data": {
      "text/plain": [
       "'test_data_blk_0202.npy'"
      ]
     },
     "execution_count": 145,
     "metadata": {},
     "output_type": "execute_result"
    }
   ],
   "source": [
    "# features\n",
    "Test_input_features_loc_content[5]"
   ]
  },
  {
   "cell_type": "code",
   "execution_count": 146,
   "id": "c7a54f26-8a82-48e6-b0d5-d2c77df7120b",
   "metadata": {},
   "outputs": [],
   "source": [
    "block_0202_features = np.load(os.path.join(Test_input_features_loc, Test_input_features_loc_content[5]))"
   ]
  },
  {
   "cell_type": "code",
   "execution_count": 147,
   "id": "80a15507-3ac8-440d-a757-430305fdb991",
   "metadata": {},
   "outputs": [
    {
     "data": {
      "text/plain": [
       "(910, 13, 30, 30, 3)"
      ]
     },
     "execution_count": 147,
     "metadata": {},
     "output_type": "execute_result"
    }
   ],
   "source": [
    "block_0202_features.shape"
   ]
  },
  {
   "cell_type": "code",
   "execution_count": 148,
   "id": "e732615d-6251-481a-9fe9-47095c8efc79",
   "metadata": {},
   "outputs": [
    {
     "data": {
      "text/plain": [
       "'block_0202_targets.npy'"
      ]
     },
     "execution_count": 148,
     "metadata": {},
     "output_type": "execute_result"
    }
   ],
   "source": [
    "# targets\n",
    "test_target_loc_contents[5]"
   ]
  },
  {
   "cell_type": "code",
   "execution_count": 149,
   "id": "6c608fe8-3b15-4652-9dc0-e2190bc838bc",
   "metadata": {},
   "outputs": [],
   "source": [
    "block_0202_targets = np.load(os.path.join(test_targets_loc, test_target_loc_contents[5]))"
   ]
  },
  {
   "cell_type": "code",
   "execution_count": 150,
   "id": "c9395d91-3e27-4b88-bfae-0fcee0c4ead6",
   "metadata": {},
   "outputs": [
    {
     "data": {
      "text/plain": [
       "(910, 7)"
      ]
     },
     "execution_count": 150,
     "metadata": {},
     "output_type": "execute_result"
    }
   ],
   "source": [
    "block_0202_targets.shape"
   ]
  },
  {
   "cell_type": "code",
   "execution_count": 151,
   "id": "e3ca7b10-5561-413a-a9f3-5e8bac5f1bce",
   "metadata": {},
   "outputs": [
    {
     "data": {
      "text/plain": [
       "array([17.9999603 , 21.        , 22.99999951, 20.99998216, 21.        ,\n",
       "       18.        , 18.        ])"
      ]
     },
     "execution_count": 151,
     "metadata": {},
     "output_type": "execute_result"
    }
   ],
   "source": [
    "np.sum(block_0202_targets, axis = 0)"
   ]
  },
  {
   "cell_type": "code",
   "execution_count": 152,
   "id": "7eacfa0b-6436-4734-ab9d-0b4ceab7f9e0",
   "metadata": {},
   "outputs": [
    {
     "name": "stdout",
     "output_type": "stream",
     "text": [
      "29/29 [==============================] - 0s 6ms/step\n"
     ]
    }
   ],
   "source": [
    "# get preds\n",
    "# To get the predictions on a block, we can just do the model.predict function\n",
    "block_0202_preds = base_model_non_overlapping.predict(block_0202_features)"
   ]
  },
  {
   "cell_type": "code",
   "execution_count": 153,
   "id": "10958a53-02ce-4936-9cb5-24c28eccdfc0",
   "metadata": {},
   "outputs": [
    {
     "data": {
      "text/plain": [
       "(910, 7, 1)"
      ]
     },
     "execution_count": 153,
     "metadata": {},
     "output_type": "execute_result"
    }
   ],
   "source": [
    "block_0202_preds.shape"
   ]
  },
  {
   "cell_type": "code",
   "execution_count": 154,
   "id": "f61080b1-0448-409f-ad70-c49c0f8183e9",
   "metadata": {},
   "outputs": [],
   "source": [
    "# reshape the preds\n",
    "block_0202_preds_reshaped = block_0202_preds.reshape(block_0202_preds.shape[0], block_0202_preds.shape[1])"
   ]
  },
  {
   "cell_type": "code",
   "execution_count": 155,
   "id": "bf880446-e459-47f6-b94c-58645ec90d38",
   "metadata": {},
   "outputs": [
    {
     "data": {
      "text/plain": [
       "(910, 7)"
      ]
     },
     "execution_count": 155,
     "metadata": {},
     "output_type": "execute_result"
    }
   ],
   "source": [
    "block_0202_preds_reshaped.shape"
   ]
  },
  {
   "cell_type": "code",
   "execution_count": 156,
   "id": "432c54f3-dc8b-4d94-a58f-2c316aa5828d",
   "metadata": {},
   "outputs": [],
   "source": [
    "block_0202_final_preds_alt = np.sum(block_0202_preds_reshaped, axis = 0)"
   ]
  },
  {
   "cell_type": "code",
   "execution_count": 157,
   "id": "8d4eb2c7-d1a8-4a28-b31d-876d53ee5b9c",
   "metadata": {},
   "outputs": [
    {
     "data": {
      "text/plain": [
       "array([19.253525, 29.330297, 28.616823, 22.801538, 16.61203 , 12.142984,\n",
       "        9.477439], dtype=float32)"
      ]
     },
     "execution_count": 157,
     "metadata": {},
     "output_type": "execute_result"
    }
   ],
   "source": [
    "block_0202_final_preds_alt"
   ]
  },
  {
   "cell_type": "code",
   "execution_count": 158,
   "id": "58bb7dee-02c1-42ec-bb1b-b46ef28ea4ea",
   "metadata": {},
   "outputs": [],
   "source": [
    "block_name_0202 = 'true_and_pred_densities_blk_0202'"
   ]
  },
  {
   "cell_type": "code",
   "execution_count": 159,
   "id": "a826c842-0f63-486c-939b-0ec9439c0086",
   "metadata": {},
   "outputs": [],
   "source": [
    "block_0202_metrics, blk_0202_df = get_final_forecasted_and_true_values(block_0202_preds_reshaped, block_0202_targets, im_height, im_weight, stride, kernel_size, csv_file_loc_all, block_name_0202)"
   ]
  },
  {
   "cell_type": "code",
   "execution_count": 160,
   "id": "6d45b490-ca0c-4821-a329-c941cfdf0d8d",
   "metadata": {},
   "outputs": [
    {
     "data": {
      "text/plain": [
       "[5.109972381951524,\n",
       " 5.756395031073505,\n",
       " PearsonRResult(statistic=0.791208344408407, pvalue=0.03406801679471176),\n",
       " -8.66464269158945]"
      ]
     },
     "execution_count": 160,
     "metadata": {},
     "output_type": "execute_result"
    }
   ],
   "source": [
    "block_0202_metrics"
   ]
  },
  {
   "cell_type": "code",
   "execution_count": 161,
   "id": "a86f9d21-b797-48c8-8c43-3f28b37a028e",
   "metadata": {},
   "outputs": [
    {
     "data": {
      "text/html": [
       "<div>\n",
       "<style scoped>\n",
       "    .dataframe tbody tr th:only-of-type {\n",
       "        vertical-align: middle;\n",
       "    }\n",
       "\n",
       "    .dataframe tbody tr th {\n",
       "        vertical-align: top;\n",
       "    }\n",
       "\n",
       "    .dataframe thead th {\n",
       "        text-align: right;\n",
       "    }\n",
       "</style>\n",
       "<table border=\"1\" class=\"dataframe\">\n",
       "  <thead>\n",
       "    <tr style=\"text-align: right;\">\n",
       "      <th></th>\n",
       "      <th>Image_name</th>\n",
       "      <th>True_densities</th>\n",
       "      <th>Predicted_densities</th>\n",
       "    </tr>\n",
       "  </thead>\n",
       "  <tbody>\n",
       "    <tr>\n",
       "      <th>0</th>\n",
       "      <td>test_im_0</td>\n",
       "      <td>17.999960</td>\n",
       "      <td>19.253531</td>\n",
       "    </tr>\n",
       "    <tr>\n",
       "      <th>1</th>\n",
       "      <td>test_im_1</td>\n",
       "      <td>21.000000</td>\n",
       "      <td>29.330298</td>\n",
       "    </tr>\n",
       "    <tr>\n",
       "      <th>2</th>\n",
       "      <td>test_im_2</td>\n",
       "      <td>23.000000</td>\n",
       "      <td>28.616809</td>\n",
       "    </tr>\n",
       "    <tr>\n",
       "      <th>3</th>\n",
       "      <td>test_im_3</td>\n",
       "      <td>20.999982</td>\n",
       "      <td>22.801555</td>\n",
       "    </tr>\n",
       "    <tr>\n",
       "      <th>4</th>\n",
       "      <td>test_im_4</td>\n",
       "      <td>21.000000</td>\n",
       "      <td>16.612028</td>\n",
       "    </tr>\n",
       "    <tr>\n",
       "      <th>5</th>\n",
       "      <td>test_im_5</td>\n",
       "      <td>18.000000</td>\n",
       "      <td>12.142981</td>\n",
       "    </tr>\n",
       "    <tr>\n",
       "      <th>6</th>\n",
       "      <td>test_im_6</td>\n",
       "      <td>18.000000</td>\n",
       "      <td>9.477437</td>\n",
       "    </tr>\n",
       "  </tbody>\n",
       "</table>\n",
       "</div>"
      ],
      "text/plain": [
       "  Image_name  True_densities  Predicted_densities\n",
       "0  test_im_0       17.999960            19.253531\n",
       "1  test_im_1       21.000000            29.330298\n",
       "2  test_im_2       23.000000            28.616809\n",
       "3  test_im_3       20.999982            22.801555\n",
       "4  test_im_4       21.000000            16.612028\n",
       "5  test_im_5       18.000000            12.142981\n",
       "6  test_im_6       18.000000             9.477437"
      ]
     },
     "execution_count": 161,
     "metadata": {},
     "output_type": "execute_result"
    }
   ],
   "source": [
    "blk_0202_df"
   ]
  },
  {
   "cell_type": "code",
   "execution_count": 162,
   "id": "fae381fe-a845-46d0-ab89-d13c08ca465b",
   "metadata": {},
   "outputs": [],
   "source": [
    "# verify mae\n",
    "mae_df_0202 = mean_absolute_error(blk_0202_df['True_densities'], blk_0202_df['Predicted_densities'])"
   ]
  },
  {
   "cell_type": "code",
   "execution_count": 163,
   "id": "07a6724d-f031-45cb-9f82-e7aaccf31dd5",
   "metadata": {},
   "outputs": [
    {
     "data": {
      "text/plain": [
       "5.109972381951524"
      ]
     },
     "execution_count": 163,
     "metadata": {},
     "output_type": "execute_result"
    }
   ],
   "source": [
    "mae_df_0202"
   ]
  },
  {
   "cell_type": "code",
   "execution_count": 164,
   "id": "95bc89ce-cae9-47c0-abc6-5704ac3e66e7",
   "metadata": {},
   "outputs": [],
   "source": [
    "# Block 0205"
   ]
  },
  {
   "cell_type": "code",
   "execution_count": 165,
   "id": "e303a310-2a5e-4585-b418-55c515e655bd",
   "metadata": {},
   "outputs": [],
   "source": [
    "# load the input features and targets"
   ]
  },
  {
   "cell_type": "code",
   "execution_count": 166,
   "id": "f64bf6c6-2f8b-4309-b9a2-1634b752774c",
   "metadata": {},
   "outputs": [
    {
     "data": {
      "text/plain": [
       "'test_data_blk_0205.npy'"
      ]
     },
     "execution_count": 166,
     "metadata": {},
     "output_type": "execute_result"
    }
   ],
   "source": [
    "# features\n",
    "Test_input_features_loc_content[6]"
   ]
  },
  {
   "cell_type": "code",
   "execution_count": 167,
   "id": "05556347-ba37-47b4-82c0-8702ab3fe906",
   "metadata": {},
   "outputs": [],
   "source": [
    "block_0205_features = np.load(os.path.join(Test_input_features_loc, Test_input_features_loc_content[6]))"
   ]
  },
  {
   "cell_type": "code",
   "execution_count": 168,
   "id": "226fad3c-3d4a-4e34-8153-a3e493195443",
   "metadata": {},
   "outputs": [
    {
     "data": {
      "text/plain": [
       "(910, 13, 30, 30, 3)"
      ]
     },
     "execution_count": 168,
     "metadata": {},
     "output_type": "execute_result"
    }
   ],
   "source": [
    "block_0205_features.shape"
   ]
  },
  {
   "cell_type": "code",
   "execution_count": 169,
   "id": "acec5615-3e07-4323-b379-ac04359067ff",
   "metadata": {},
   "outputs": [
    {
     "data": {
      "text/plain": [
       "'block_0205_targets.npy'"
      ]
     },
     "execution_count": 169,
     "metadata": {},
     "output_type": "execute_result"
    }
   ],
   "source": [
    "# targets\n",
    "test_target_loc_contents[6]"
   ]
  },
  {
   "cell_type": "code",
   "execution_count": 170,
   "id": "919707f0-99d8-478f-b152-af8657877598",
   "metadata": {},
   "outputs": [],
   "source": [
    "block_0205_targets = np.load(os.path.join(test_targets_loc, test_target_loc_contents[6]))"
   ]
  },
  {
   "cell_type": "code",
   "execution_count": 171,
   "id": "e416d6d7-ebf1-4c3d-ad22-66b3ab0f98fd",
   "metadata": {},
   "outputs": [
    {
     "data": {
      "text/plain": [
       "(910, 7)"
      ]
     },
     "execution_count": 171,
     "metadata": {},
     "output_type": "execute_result"
    }
   ],
   "source": [
    "block_0205_targets.shape"
   ]
  },
  {
   "cell_type": "code",
   "execution_count": 172,
   "id": "6d81aed4-dce1-4d2f-8438-83939650923e",
   "metadata": {},
   "outputs": [
    {
     "data": {
      "text/plain": [
       "array([44.        , 42.00000127, 45.        , 43.        , 39.        ,\n",
       "       40.99991511, 31.99965576])"
      ]
     },
     "execution_count": 172,
     "metadata": {},
     "output_type": "execute_result"
    }
   ],
   "source": [
    "np.sum(block_0205_targets, axis = 0)"
   ]
  },
  {
   "cell_type": "code",
   "execution_count": 173,
   "id": "6418a15c-7c4c-4fb8-baba-b6463595ed12",
   "metadata": {},
   "outputs": [
    {
     "name": "stdout",
     "output_type": "stream",
     "text": [
      "29/29 [==============================] - 0s 6ms/step\n"
     ]
    }
   ],
   "source": [
    "# get preds\n",
    "# To get the predictions on a block, we can just do the model.predict function\n",
    "block_0205_preds = base_model_non_overlapping.predict(block_0205_features)"
   ]
  },
  {
   "cell_type": "code",
   "execution_count": 174,
   "id": "4dbf0fd9-7e29-4668-8ef7-4cbeafa92194",
   "metadata": {},
   "outputs": [
    {
     "data": {
      "text/plain": [
       "(910, 7, 1)"
      ]
     },
     "execution_count": 174,
     "metadata": {},
     "output_type": "execute_result"
    }
   ],
   "source": [
    "block_0205_preds.shape"
   ]
  },
  {
   "cell_type": "code",
   "execution_count": 175,
   "id": "b6f323e9-bbc7-449e-9a3e-4f3f4b3a8886",
   "metadata": {},
   "outputs": [],
   "source": [
    "# reshape the preds\n",
    "block_0205_preds_reshaped = block_0205_preds.reshape(block_0205_preds.shape[0], block_0205_preds.shape[1])"
   ]
  },
  {
   "cell_type": "code",
   "execution_count": 176,
   "id": "e2bea0f6-a7f2-4f49-9139-7152a440fb7e",
   "metadata": {},
   "outputs": [
    {
     "data": {
      "text/plain": [
       "(910, 7)"
      ]
     },
     "execution_count": 176,
     "metadata": {},
     "output_type": "execute_result"
    }
   ],
   "source": [
    "block_0205_preds_reshaped.shape"
   ]
  },
  {
   "cell_type": "code",
   "execution_count": 177,
   "id": "a825813e-d9ae-4198-926f-ae2f942a7dbf",
   "metadata": {},
   "outputs": [],
   "source": [
    "block_0205_final_preds_alt = np.sum(block_0205_preds_reshaped, axis = 0)"
   ]
  },
  {
   "cell_type": "code",
   "execution_count": 178,
   "id": "e64bff86-83e8-4603-9b46-be3de3d67b75",
   "metadata": {},
   "outputs": [
    {
     "data": {
      "text/plain": [
       "array([26.88361 , 32.78388 , 30.425714, 25.263613, 20.396631, 17.081272,\n",
       "       15.063345], dtype=float32)"
      ]
     },
     "execution_count": 178,
     "metadata": {},
     "output_type": "execute_result"
    }
   ],
   "source": [
    "block_0205_final_preds_alt"
   ]
  },
  {
   "cell_type": "code",
   "execution_count": 179,
   "id": "38695c70-22e5-422b-bce9-8340707174d5",
   "metadata": {},
   "outputs": [],
   "source": [
    "block_name_0205 = 'true_and_pred_densities_blk_0205'"
   ]
  },
  {
   "cell_type": "code",
   "execution_count": 180,
   "id": "ebe81a76-bfde-4725-b06d-00e211b3c33f",
   "metadata": {},
   "outputs": [],
   "source": [
    "block_0205_metrics, blk_0205_df = get_final_forecasted_and_true_values(block_0205_preds_reshaped, block_0205_targets, im_height, im_weight, stride, kernel_size, csv_file_loc_all, block_name_0205)"
   ]
  },
  {
   "cell_type": "code",
   "execution_count": 181,
   "id": "de0870c6-084a-45b3-87f5-b37b52aaa7a4",
   "metadata": {},
   "outputs": [
    {
     "data": {
      "text/plain": [
       "[16.871643417587713,\n",
       " 17.36137838073463,\n",
       " PearsonRResult(statistic=0.7581816991785636, pvalue=0.04824648683497765),\n",
       " -17.368997688752348]"
      ]
     },
     "execution_count": 181,
     "metadata": {},
     "output_type": "execute_result"
    }
   ],
   "source": [
    "block_0205_metrics"
   ]
  },
  {
   "cell_type": "code",
   "execution_count": 182,
   "id": "ffb8e46f-0c9c-4d5d-b6f7-100b3af77b13",
   "metadata": {},
   "outputs": [
    {
     "data": {
      "text/html": [
       "<div>\n",
       "<style scoped>\n",
       "    .dataframe tbody tr th:only-of-type {\n",
       "        vertical-align: middle;\n",
       "    }\n",
       "\n",
       "    .dataframe tbody tr th {\n",
       "        vertical-align: top;\n",
       "    }\n",
       "\n",
       "    .dataframe thead th {\n",
       "        text-align: right;\n",
       "    }\n",
       "</style>\n",
       "<table border=\"1\" class=\"dataframe\">\n",
       "  <thead>\n",
       "    <tr style=\"text-align: right;\">\n",
       "      <th></th>\n",
       "      <th>Image_name</th>\n",
       "      <th>True_densities</th>\n",
       "      <th>Predicted_densities</th>\n",
       "    </tr>\n",
       "  </thead>\n",
       "  <tbody>\n",
       "    <tr>\n",
       "      <th>0</th>\n",
       "      <td>test_im_0</td>\n",
       "      <td>44.000000</td>\n",
       "      <td>26.883602</td>\n",
       "    </tr>\n",
       "    <tr>\n",
       "      <th>1</th>\n",
       "      <td>test_im_1</td>\n",
       "      <td>42.000001</td>\n",
       "      <td>32.783880</td>\n",
       "    </tr>\n",
       "    <tr>\n",
       "      <th>2</th>\n",
       "      <td>test_im_2</td>\n",
       "      <td>45.000000</td>\n",
       "      <td>30.425719</td>\n",
       "    </tr>\n",
       "    <tr>\n",
       "      <th>3</th>\n",
       "      <td>test_im_3</td>\n",
       "      <td>43.000000</td>\n",
       "      <td>25.263618</td>\n",
       "    </tr>\n",
       "    <tr>\n",
       "      <th>4</th>\n",
       "      <td>test_im_4</td>\n",
       "      <td>39.000000</td>\n",
       "      <td>20.396628</td>\n",
       "    </tr>\n",
       "    <tr>\n",
       "      <th>5</th>\n",
       "      <td>test_im_5</td>\n",
       "      <td>40.999915</td>\n",
       "      <td>17.081278</td>\n",
       "    </tr>\n",
       "    <tr>\n",
       "      <th>6</th>\n",
       "      <td>test_im_6</td>\n",
       "      <td>31.999656</td>\n",
       "      <td>15.063344</td>\n",
       "    </tr>\n",
       "  </tbody>\n",
       "</table>\n",
       "</div>"
      ],
      "text/plain": [
       "  Image_name  True_densities  Predicted_densities\n",
       "0  test_im_0       44.000000            26.883602\n",
       "1  test_im_1       42.000001            32.783880\n",
       "2  test_im_2       45.000000            30.425719\n",
       "3  test_im_3       43.000000            25.263618\n",
       "4  test_im_4       39.000000            20.396628\n",
       "5  test_im_5       40.999915            17.081278\n",
       "6  test_im_6       31.999656            15.063344"
      ]
     },
     "execution_count": 182,
     "metadata": {},
     "output_type": "execute_result"
    }
   ],
   "source": [
    "blk_0205_df"
   ]
  },
  {
   "cell_type": "code",
   "execution_count": 183,
   "id": "5fb1ad96-86f0-4871-bc9b-cb9fcc44de90",
   "metadata": {},
   "outputs": [],
   "source": [
    "# verify mae\n",
    "mae_df_0205 = mean_absolute_error(blk_0205_df['True_densities'], blk_0205_df['Predicted_densities'])"
   ]
  },
  {
   "cell_type": "code",
   "execution_count": 184,
   "id": "5be0e624-7281-4f4c-976d-6b94e928f47b",
   "metadata": {},
   "outputs": [
    {
     "data": {
      "text/plain": [
       "16.871643417587713"
      ]
     },
     "execution_count": 184,
     "metadata": {},
     "output_type": "execute_result"
    }
   ],
   "source": [
    "mae_df_0205"
   ]
  },
  {
   "cell_type": "code",
   "execution_count": 185,
   "id": "2f8d5010-6f15-46fd-b04d-3b7e267ddb18",
   "metadata": {},
   "outputs": [],
   "source": [
    "# Block 0206"
   ]
  },
  {
   "cell_type": "code",
   "execution_count": 186,
   "id": "c0ed0546-1c15-4eb1-8535-a935535d11ea",
   "metadata": {},
   "outputs": [],
   "source": [
    "# load the input features and targets"
   ]
  },
  {
   "cell_type": "code",
   "execution_count": 187,
   "id": "3a9d2d76-145e-4f9a-9435-a32c4f572cb3",
   "metadata": {},
   "outputs": [
    {
     "data": {
      "text/plain": [
       "'test_data_blk_0206.npy'"
      ]
     },
     "execution_count": 187,
     "metadata": {},
     "output_type": "execute_result"
    }
   ],
   "source": [
    "# features\n",
    "Test_input_features_loc_content[7]"
   ]
  },
  {
   "cell_type": "code",
   "execution_count": 188,
   "id": "4bb7f34d-9ceb-467c-aa42-2e19613eafaf",
   "metadata": {},
   "outputs": [],
   "source": [
    "block_0206_features = np.load(os.path.join(Test_input_features_loc, Test_input_features_loc_content[7]))"
   ]
  },
  {
   "cell_type": "code",
   "execution_count": 189,
   "id": "82ddbe6c-f412-4f5a-9bf0-cb7604dea3b4",
   "metadata": {},
   "outputs": [
    {
     "data": {
      "text/plain": [
       "(910, 13, 30, 30, 3)"
      ]
     },
     "execution_count": 189,
     "metadata": {},
     "output_type": "execute_result"
    }
   ],
   "source": [
    "block_0206_features.shape"
   ]
  },
  {
   "cell_type": "code",
   "execution_count": 190,
   "id": "c775bdae-6cd9-4f4a-84f9-f2fdb6043f3f",
   "metadata": {},
   "outputs": [
    {
     "data": {
      "text/plain": [
       "'block_0206_targets.npy'"
      ]
     },
     "execution_count": 190,
     "metadata": {},
     "output_type": "execute_result"
    }
   ],
   "source": [
    "# targets\n",
    "test_target_loc_contents[7]"
   ]
  },
  {
   "cell_type": "code",
   "execution_count": 191,
   "id": "d9d1e42c-a13b-4199-a076-0ccdac8af98b",
   "metadata": {},
   "outputs": [],
   "source": [
    "block_0206_targets = np.load(os.path.join(test_targets_loc, test_target_loc_contents[7]))"
   ]
  },
  {
   "cell_type": "code",
   "execution_count": 192,
   "id": "e2a23d81-9b03-4483-8cfb-08395d9fa50b",
   "metadata": {},
   "outputs": [
    {
     "data": {
      "text/plain": [
       "(910, 7)"
      ]
     },
     "execution_count": 192,
     "metadata": {},
     "output_type": "execute_result"
    }
   ],
   "source": [
    "block_0206_targets.shape"
   ]
  },
  {
   "cell_type": "code",
   "execution_count": 193,
   "id": "3cab99c4-1a29-4399-aba8-1b4fa949ad79",
   "metadata": {},
   "outputs": [
    {
     "data": {
      "text/plain": [
       "array([40.99983792, 41.99881044, 39.00006705, 32.00000319, 25.00035194,\n",
       "       23.0000397 , 17.99999951])"
      ]
     },
     "execution_count": 193,
     "metadata": {},
     "output_type": "execute_result"
    }
   ],
   "source": [
    "np.sum(block_0206_targets, axis = 0)"
   ]
  },
  {
   "cell_type": "code",
   "execution_count": 194,
   "id": "7f061cf0-6a15-41f1-8270-ce3353a544f6",
   "metadata": {},
   "outputs": [
    {
     "name": "stdout",
     "output_type": "stream",
     "text": [
      "29/29 [==============================] - 0s 6ms/step\n"
     ]
    }
   ],
   "source": [
    "# get preds\n",
    "# To get the predictions on a block, we can just do the model.predict function\n",
    "block_0206_preds = base_model_non_overlapping.predict(block_0206_features)"
   ]
  },
  {
   "cell_type": "code",
   "execution_count": 195,
   "id": "8e9c8288-d35a-4bac-89fb-d2ccf127ef55",
   "metadata": {},
   "outputs": [
    {
     "data": {
      "text/plain": [
       "(910, 7, 1)"
      ]
     },
     "execution_count": 195,
     "metadata": {},
     "output_type": "execute_result"
    }
   ],
   "source": [
    "block_0206_preds.shape"
   ]
  },
  {
   "cell_type": "code",
   "execution_count": 196,
   "id": "f5f73108-5831-493a-af1c-72457de122ff",
   "metadata": {},
   "outputs": [],
   "source": [
    "# reshape the preds\n",
    "block_0206_preds_reshaped = block_0206_preds.reshape(block_0206_preds.shape[0], block_0206_preds.shape[1])"
   ]
  },
  {
   "cell_type": "code",
   "execution_count": 197,
   "id": "af72be30-2ff4-4148-be11-27a5b1f36011",
   "metadata": {},
   "outputs": [
    {
     "data": {
      "text/plain": [
       "(910, 7)"
      ]
     },
     "execution_count": 197,
     "metadata": {},
     "output_type": "execute_result"
    }
   ],
   "source": [
    "block_0206_preds_reshaped.shape"
   ]
  },
  {
   "cell_type": "code",
   "execution_count": 198,
   "id": "09eadca3-b672-4370-88f6-762241b9d827",
   "metadata": {},
   "outputs": [],
   "source": [
    "block_0206_final_preds_alt = np.sum(block_0206_preds_reshaped, axis = 0)"
   ]
  },
  {
   "cell_type": "code",
   "execution_count": 199,
   "id": "e822318d-7bfc-45a3-ad65-9797b98d7db7",
   "metadata": {},
   "outputs": [
    {
     "data": {
      "text/plain": [
       "array([28.086142 , 34.561092 , 31.860779 , 25.888538 , 20.087923 ,\n",
       "       15.830046 , 13.1231785], dtype=float32)"
      ]
     },
     "execution_count": 199,
     "metadata": {},
     "output_type": "execute_result"
    }
   ],
   "source": [
    "block_0206_final_preds_alt"
   ]
  },
  {
   "cell_type": "code",
   "execution_count": 200,
   "id": "d15c0909-92f1-43bc-9ee0-7ede7fe5d580",
   "metadata": {},
   "outputs": [],
   "source": [
    "block_name_0206 = 'true_and_pred_densities_blk_0206'"
   ]
  },
  {
   "cell_type": "code",
   "execution_count": 201,
   "id": "08d34d90-395d-491e-9707-5637924c5f6f",
   "metadata": {},
   "outputs": [],
   "source": [
    "block_0206_metrics, blk_0206_df = get_final_forecasted_and_true_values(block_0206_preds_reshaped, block_0206_targets, im_height, im_weight, stride, kernel_size, csv_file_loc_all, block_name_0206)"
   ]
  },
  {
   "cell_type": "code",
   "execution_count": 202,
   "id": "7ae5f87e-7533-4043-96e8-ada12cc9b78e",
   "metadata": {},
   "outputs": [
    {
     "data": {
      "text/plain": [
       "[7.2230581658326924,\n",
       " 7.650646136742023,\n",
       " PearsonRResult(statistic=0.966901638205503, pvalue=0.0003760327680105684),\n",
       " 0.25999617278398446]"
      ]
     },
     "execution_count": 202,
     "metadata": {},
     "output_type": "execute_result"
    }
   ],
   "source": [
    "block_0206_metrics"
   ]
  },
  {
   "cell_type": "code",
   "execution_count": 203,
   "id": "bb2786f3-ee2b-424f-b368-7b5199406c8e",
   "metadata": {},
   "outputs": [
    {
     "data": {
      "text/html": [
       "<div>\n",
       "<style scoped>\n",
       "    .dataframe tbody tr th:only-of-type {\n",
       "        vertical-align: middle;\n",
       "    }\n",
       "\n",
       "    .dataframe tbody tr th {\n",
       "        vertical-align: top;\n",
       "    }\n",
       "\n",
       "    .dataframe thead th {\n",
       "        text-align: right;\n",
       "    }\n",
       "</style>\n",
       "<table border=\"1\" class=\"dataframe\">\n",
       "  <thead>\n",
       "    <tr style=\"text-align: right;\">\n",
       "      <th></th>\n",
       "      <th>Image_name</th>\n",
       "      <th>True_densities</th>\n",
       "      <th>Predicted_densities</th>\n",
       "    </tr>\n",
       "  </thead>\n",
       "  <tbody>\n",
       "    <tr>\n",
       "      <th>0</th>\n",
       "      <td>test_im_0</td>\n",
       "      <td>40.999838</td>\n",
       "      <td>28.086145</td>\n",
       "    </tr>\n",
       "    <tr>\n",
       "      <th>1</th>\n",
       "      <td>test_im_1</td>\n",
       "      <td>41.998810</td>\n",
       "      <td>34.561102</td>\n",
       "    </tr>\n",
       "    <tr>\n",
       "      <th>2</th>\n",
       "      <td>test_im_2</td>\n",
       "      <td>39.000067</td>\n",
       "      <td>31.860777</td>\n",
       "    </tr>\n",
       "    <tr>\n",
       "      <th>3</th>\n",
       "      <td>test_im_3</td>\n",
       "      <td>32.000003</td>\n",
       "      <td>25.888535</td>\n",
       "    </tr>\n",
       "    <tr>\n",
       "      <th>4</th>\n",
       "      <td>test_im_4</td>\n",
       "      <td>25.000352</td>\n",
       "      <td>20.087923</td>\n",
       "    </tr>\n",
       "    <tr>\n",
       "      <th>5</th>\n",
       "      <td>test_im_5</td>\n",
       "      <td>23.000040</td>\n",
       "      <td>15.830037</td>\n",
       "    </tr>\n",
       "    <tr>\n",
       "      <th>6</th>\n",
       "      <td>test_im_6</td>\n",
       "      <td>18.000000</td>\n",
       "      <td>13.123183</td>\n",
       "    </tr>\n",
       "  </tbody>\n",
       "</table>\n",
       "</div>"
      ],
      "text/plain": [
       "  Image_name  True_densities  Predicted_densities\n",
       "0  test_im_0       40.999838            28.086145\n",
       "1  test_im_1       41.998810            34.561102\n",
       "2  test_im_2       39.000067            31.860777\n",
       "3  test_im_3       32.000003            25.888535\n",
       "4  test_im_4       25.000352            20.087923\n",
       "5  test_im_5       23.000040            15.830037\n",
       "6  test_im_6       18.000000            13.123183"
      ]
     },
     "execution_count": 203,
     "metadata": {},
     "output_type": "execute_result"
    }
   ],
   "source": [
    "blk_0206_df"
   ]
  },
  {
   "cell_type": "code",
   "execution_count": 204,
   "id": "547c447f-5719-4c64-b80f-030fae5203f2",
   "metadata": {},
   "outputs": [],
   "source": [
    "# verify mae\n",
    "mae_df_0206 = mean_absolute_error(blk_0206_df['True_densities'], blk_0206_df['Predicted_densities'])"
   ]
  },
  {
   "cell_type": "code",
   "execution_count": 205,
   "id": "b8b77dd5-6231-4135-a3c7-349e9cd78973",
   "metadata": {},
   "outputs": [
    {
     "data": {
      "text/plain": [
       "7.2230581658326924"
      ]
     },
     "execution_count": 205,
     "metadata": {},
     "output_type": "execute_result"
    }
   ],
   "source": [
    "mae_df_0206"
   ]
  },
  {
   "cell_type": "code",
   "execution_count": 206,
   "id": "705c277a-7baf-4888-84dd-5c04fed2dc6a",
   "metadata": {},
   "outputs": [],
   "source": [
    "# Block 0302"
   ]
  },
  {
   "cell_type": "code",
   "execution_count": 207,
   "id": "dd1aa8f0-7fa0-40e2-840e-0bd0c418f024",
   "metadata": {},
   "outputs": [],
   "source": [
    "# load the input features and targets"
   ]
  },
  {
   "cell_type": "code",
   "execution_count": 208,
   "id": "8c9440d5-19a8-40d1-854e-8f26df939284",
   "metadata": {},
   "outputs": [
    {
     "data": {
      "text/plain": [
       "'test_data_blk_0302.npy'"
      ]
     },
     "execution_count": 208,
     "metadata": {},
     "output_type": "execute_result"
    }
   ],
   "source": [
    "# features\n",
    "Test_input_features_loc_content[8]"
   ]
  },
  {
   "cell_type": "code",
   "execution_count": 209,
   "id": "29427495-b1e1-4bec-bcef-bdfe1efbd55b",
   "metadata": {},
   "outputs": [],
   "source": [
    "block_0302_features = np.load(os.path.join(Test_input_features_loc, Test_input_features_loc_content[8]))"
   ]
  },
  {
   "cell_type": "code",
   "execution_count": 210,
   "id": "53b92af4-628d-4b46-ac3c-fbbd501bf49a",
   "metadata": {},
   "outputs": [
    {
     "data": {
      "text/plain": [
       "(910, 13, 30, 30, 3)"
      ]
     },
     "execution_count": 210,
     "metadata": {},
     "output_type": "execute_result"
    }
   ],
   "source": [
    "block_0302_features.shape"
   ]
  },
  {
   "cell_type": "code",
   "execution_count": 211,
   "id": "d334f43c-1a75-486c-8a21-48dddc3d5c59",
   "metadata": {},
   "outputs": [
    {
     "data": {
      "text/plain": [
       "'block_0302_targets.npy'"
      ]
     },
     "execution_count": 211,
     "metadata": {},
     "output_type": "execute_result"
    }
   ],
   "source": [
    "# targets\n",
    "test_target_loc_contents[8]"
   ]
  },
  {
   "cell_type": "code",
   "execution_count": 212,
   "id": "a4ccb48e-50f5-4519-bc97-93566196d377",
   "metadata": {},
   "outputs": [],
   "source": [
    "block_0302_targets = np.load(os.path.join(test_targets_loc, test_target_loc_contents[8]))"
   ]
  },
  {
   "cell_type": "code",
   "execution_count": 213,
   "id": "9e0f95c2-2a0b-4640-b0bc-cf6015e54530",
   "metadata": {},
   "outputs": [
    {
     "data": {
      "text/plain": [
       "(910, 7)"
      ]
     },
     "execution_count": 213,
     "metadata": {},
     "output_type": "execute_result"
    }
   ],
   "source": [
    "block_0302_targets.shape"
   ]
  },
  {
   "cell_type": "code",
   "execution_count": 214,
   "id": "ed5dd0db-10c2-4742-91fd-20989601a040",
   "metadata": {},
   "outputs": [
    {
     "data": {
      "text/plain": [
       "array([49.        , 49.00000499, 53.9995696 , 50.04234944, 43.00000897,\n",
       "       48.00057246, 36.99999903])"
      ]
     },
     "execution_count": 214,
     "metadata": {},
     "output_type": "execute_result"
    }
   ],
   "source": [
    "np.sum(block_0302_targets, axis = 0)"
   ]
  },
  {
   "cell_type": "code",
   "execution_count": 215,
   "id": "2b6ebbfb-d2b8-4ecb-8968-65b466dde21d",
   "metadata": {},
   "outputs": [
    {
     "name": "stdout",
     "output_type": "stream",
     "text": [
      "29/29 [==============================] - 0s 6ms/step\n"
     ]
    }
   ],
   "source": [
    "# get preds\n",
    "# To get the predictions on a block, we can just do the model.predict function\n",
    "block_0302_preds = base_model_non_overlapping.predict(block_0302_features)"
   ]
  },
  {
   "cell_type": "code",
   "execution_count": 216,
   "id": "62de6056-8b3a-4026-8e06-231cb5b75c98",
   "metadata": {},
   "outputs": [
    {
     "data": {
      "text/plain": [
       "(910, 7, 1)"
      ]
     },
     "execution_count": 216,
     "metadata": {},
     "output_type": "execute_result"
    }
   ],
   "source": [
    "block_0302_preds.shape"
   ]
  },
  {
   "cell_type": "code",
   "execution_count": 217,
   "id": "ab0aea55-4c56-4d95-b39b-1d32bfda8628",
   "metadata": {},
   "outputs": [],
   "source": [
    "# reshape the preds\n",
    "block_0302_preds_reshaped = block_0302_preds.reshape(block_0302_preds.shape[0], block_0302_preds.shape[1])"
   ]
  },
  {
   "cell_type": "code",
   "execution_count": 218,
   "id": "82c501e0-ab7a-45b6-8470-0b6cf817be4a",
   "metadata": {},
   "outputs": [
    {
     "data": {
      "text/plain": [
       "(910, 7)"
      ]
     },
     "execution_count": 218,
     "metadata": {},
     "output_type": "execute_result"
    }
   ],
   "source": [
    "block_0302_preds_reshaped.shape"
   ]
  },
  {
   "cell_type": "code",
   "execution_count": 219,
   "id": "3629d040-fdf8-46ce-9cfd-38bda66f98c4",
   "metadata": {},
   "outputs": [],
   "source": [
    "block_0302_final_preds_alt = np.sum(block_0302_preds_reshaped, axis = 0)"
   ]
  },
  {
   "cell_type": "code",
   "execution_count": 220,
   "id": "4972162f-5ca9-497b-8267-f162dfc1eb76",
   "metadata": {},
   "outputs": [
    {
     "data": {
      "text/plain": [
       "array([32.35997 , 40.169575, 37.364464, 30.80883 , 24.407537, 19.720293,\n",
       "       16.628996], dtype=float32)"
      ]
     },
     "execution_count": 220,
     "metadata": {},
     "output_type": "execute_result"
    }
   ],
   "source": [
    "block_0302_final_preds_alt"
   ]
  },
  {
   "cell_type": "code",
   "execution_count": 221,
   "id": "b76d11bd-33c5-4169-aca0-566c8ec44e80",
   "metadata": {},
   "outputs": [],
   "source": [
    "block_name_0302 = 'true_and_pred_densities_blk_0302'"
   ]
  },
  {
   "cell_type": "code",
   "execution_count": 222,
   "id": "dbfe769d-e843-488b-98f9-e6ad26e0f91e",
   "metadata": {},
   "outputs": [],
   "source": [
    "block_0302_metrics, blk_0302_df = get_final_forecasted_and_true_values(block_0302_preds_reshaped, block_0302_targets, im_height, im_weight, stride, kernel_size, csv_file_loc_all, block_name_0302)"
   ]
  },
  {
   "cell_type": "code",
   "execution_count": 223,
   "id": "afd9b914-685e-460c-aa6a-3dade126664d",
   "metadata": {},
   "outputs": [
    {
     "data": {
      "text/plain": [
       "[18.36897975677104,\n",
       " 19.130958004327876,\n",
       " PearsonRResult(statistic=0.7715286113935932, pvalue=0.04218881137756312),\n",
       " -12.992434686637706]"
      ]
     },
     "execution_count": 223,
     "metadata": {},
     "output_type": "execute_result"
    }
   ],
   "source": [
    "block_0302_metrics"
   ]
  },
  {
   "cell_type": "code",
   "execution_count": 224,
   "id": "f3216877-5f8d-463e-a231-31a3312356c5",
   "metadata": {},
   "outputs": [
    {
     "data": {
      "text/html": [
       "<div>\n",
       "<style scoped>\n",
       "    .dataframe tbody tr th:only-of-type {\n",
       "        vertical-align: middle;\n",
       "    }\n",
       "\n",
       "    .dataframe tbody tr th {\n",
       "        vertical-align: top;\n",
       "    }\n",
       "\n",
       "    .dataframe thead th {\n",
       "        text-align: right;\n",
       "    }\n",
       "</style>\n",
       "<table border=\"1\" class=\"dataframe\">\n",
       "  <thead>\n",
       "    <tr style=\"text-align: right;\">\n",
       "      <th></th>\n",
       "      <th>Image_name</th>\n",
       "      <th>True_densities</th>\n",
       "      <th>Predicted_densities</th>\n",
       "    </tr>\n",
       "  </thead>\n",
       "  <tbody>\n",
       "    <tr>\n",
       "      <th>0</th>\n",
       "      <td>test_im_0</td>\n",
       "      <td>49.000000</td>\n",
       "      <td>32.359977</td>\n",
       "    </tr>\n",
       "    <tr>\n",
       "      <th>1</th>\n",
       "      <td>test_im_1</td>\n",
       "      <td>49.000005</td>\n",
       "      <td>40.169574</td>\n",
       "    </tr>\n",
       "    <tr>\n",
       "      <th>2</th>\n",
       "      <td>test_im_2</td>\n",
       "      <td>53.999570</td>\n",
       "      <td>37.364463</td>\n",
       "    </tr>\n",
       "    <tr>\n",
       "      <th>3</th>\n",
       "      <td>test_im_3</td>\n",
       "      <td>50.042349</td>\n",
       "      <td>30.808824</td>\n",
       "    </tr>\n",
       "    <tr>\n",
       "      <th>4</th>\n",
       "      <td>test_im_4</td>\n",
       "      <td>43.000009</td>\n",
       "      <td>24.407526</td>\n",
       "    </tr>\n",
       "    <tr>\n",
       "      <th>5</th>\n",
       "      <td>test_im_5</td>\n",
       "      <td>48.000572</td>\n",
       "      <td>19.720290</td>\n",
       "    </tr>\n",
       "    <tr>\n",
       "      <th>6</th>\n",
       "      <td>test_im_6</td>\n",
       "      <td>36.999999</td>\n",
       "      <td>16.628991</td>\n",
       "    </tr>\n",
       "  </tbody>\n",
       "</table>\n",
       "</div>"
      ],
      "text/plain": [
       "  Image_name  True_densities  Predicted_densities\n",
       "0  test_im_0       49.000000            32.359977\n",
       "1  test_im_1       49.000005            40.169574\n",
       "2  test_im_2       53.999570            37.364463\n",
       "3  test_im_3       50.042349            30.808824\n",
       "4  test_im_4       43.000009            24.407526\n",
       "5  test_im_5       48.000572            19.720290\n",
       "6  test_im_6       36.999999            16.628991"
      ]
     },
     "execution_count": 224,
     "metadata": {},
     "output_type": "execute_result"
    }
   ],
   "source": [
    "blk_0302_df"
   ]
  },
  {
   "cell_type": "code",
   "execution_count": 225,
   "id": "9521f6fe-1429-4324-a13b-6619fb545303",
   "metadata": {},
   "outputs": [],
   "source": [
    "# verify mae\n",
    "mae_df_0302 = mean_absolute_error(blk_0302_df['True_densities'], blk_0302_df['Predicted_densities'])"
   ]
  },
  {
   "cell_type": "code",
   "execution_count": 226,
   "id": "9e3493af-06e2-4139-b76c-c93828d2109d",
   "metadata": {},
   "outputs": [
    {
     "data": {
      "text/plain": [
       "18.36897975677104"
      ]
     },
     "execution_count": 226,
     "metadata": {},
     "output_type": "execute_result"
    }
   ],
   "source": [
    "mae_df_0302"
   ]
  },
  {
   "cell_type": "code",
   "execution_count": 227,
   "id": "243daf55-110d-486f-bf1f-935ae8f513ab",
   "metadata": {},
   "outputs": [],
   "source": [
    "# Block 0303"
   ]
  },
  {
   "cell_type": "code",
   "execution_count": 228,
   "id": "9c016d97-519b-4ac5-9af0-847c590e2cc4",
   "metadata": {},
   "outputs": [],
   "source": [
    "# load the input features and targets"
   ]
  },
  {
   "cell_type": "code",
   "execution_count": 229,
   "id": "97e19b74-7c10-49d8-8a34-bc976aba0fcf",
   "metadata": {},
   "outputs": [
    {
     "data": {
      "text/plain": [
       "'test_data_blk_0303.npy'"
      ]
     },
     "execution_count": 229,
     "metadata": {},
     "output_type": "execute_result"
    }
   ],
   "source": [
    "# features\n",
    "Test_input_features_loc_content[9]"
   ]
  },
  {
   "cell_type": "code",
   "execution_count": 230,
   "id": "64bd4b36-4467-4945-92f2-e2f0007cf634",
   "metadata": {},
   "outputs": [],
   "source": [
    "block_0303_features = np.load(os.path.join(Test_input_features_loc, Test_input_features_loc_content[9]))"
   ]
  },
  {
   "cell_type": "code",
   "execution_count": 231,
   "id": "a5a1e62e-f5c6-48a3-ac63-352a6cc7401b",
   "metadata": {},
   "outputs": [
    {
     "data": {
      "text/plain": [
       "(910, 13, 30, 30, 3)"
      ]
     },
     "execution_count": 231,
     "metadata": {},
     "output_type": "execute_result"
    }
   ],
   "source": [
    "block_0303_features.shape"
   ]
  },
  {
   "cell_type": "code",
   "execution_count": 232,
   "id": "03985a4b-a081-4c2c-b7e5-a4a12d30586d",
   "metadata": {},
   "outputs": [
    {
     "data": {
      "text/plain": [
       "'block_0303_targets.npy'"
      ]
     },
     "execution_count": 232,
     "metadata": {},
     "output_type": "execute_result"
    }
   ],
   "source": [
    "# targets\n",
    "test_target_loc_contents[9]"
   ]
  },
  {
   "cell_type": "code",
   "execution_count": 233,
   "id": "40dac6ad-fbb7-4196-ac4a-5a59ddcddabb",
   "metadata": {},
   "outputs": [],
   "source": [
    "block_0303_targets = np.load(os.path.join(test_targets_loc, test_target_loc_contents[9]))"
   ]
  },
  {
   "cell_type": "code",
   "execution_count": 234,
   "id": "7d4bd441-5e91-41e3-8518-e355ecf72594",
   "metadata": {},
   "outputs": [
    {
     "data": {
      "text/plain": [
       "(910, 7)"
      ]
     },
     "execution_count": 234,
     "metadata": {},
     "output_type": "execute_result"
    }
   ],
   "source": [
    "block_0303_targets.shape"
   ]
  },
  {
   "cell_type": "code",
   "execution_count": 235,
   "id": "3832edd1-4982-414e-8261-6585ef794f53",
   "metadata": {},
   "outputs": [
    {
     "data": {
      "text/plain": [
       "array([49.0001712 , 46.00000673, 42.99998216, 38.99999312, 36.02588424,\n",
       "       36.        , 23.        ])"
      ]
     },
     "execution_count": 235,
     "metadata": {},
     "output_type": "execute_result"
    }
   ],
   "source": [
    "np.sum(block_0303_targets, axis = 0)"
   ]
  },
  {
   "cell_type": "code",
   "execution_count": 236,
   "id": "e88ac59a-cf8b-4b9d-8ac3-d5e54812bf33",
   "metadata": {},
   "outputs": [
    {
     "name": "stdout",
     "output_type": "stream",
     "text": [
      "29/29 [==============================] - 0s 6ms/step\n"
     ]
    }
   ],
   "source": [
    "# get preds\n",
    "# To get the predictions on a block, we can just do the model.predict function\n",
    "block_0303_preds = base_model_non_overlapping.predict(block_0303_features)"
   ]
  },
  {
   "cell_type": "code",
   "execution_count": 237,
   "id": "7b05bf14-f665-4e22-aa88-72875d702d37",
   "metadata": {},
   "outputs": [
    {
     "data": {
      "text/plain": [
       "(910, 7, 1)"
      ]
     },
     "execution_count": 237,
     "metadata": {},
     "output_type": "execute_result"
    }
   ],
   "source": [
    "block_0303_preds.shape"
   ]
  },
  {
   "cell_type": "code",
   "execution_count": 238,
   "id": "46894ddb-18ce-467b-803b-a3d898749f11",
   "metadata": {},
   "outputs": [],
   "source": [
    "# reshape the preds\n",
    "block_0303_preds_reshaped = block_0303_preds.reshape(block_0303_preds.shape[0], block_0303_preds.shape[1])"
   ]
  },
  {
   "cell_type": "code",
   "execution_count": 239,
   "id": "c67501ce-2d07-4402-aa36-a9d56ac74c4e",
   "metadata": {},
   "outputs": [
    {
     "data": {
      "text/plain": [
       "(910, 7)"
      ]
     },
     "execution_count": 239,
     "metadata": {},
     "output_type": "execute_result"
    }
   ],
   "source": [
    "block_0303_preds_reshaped.shape"
   ]
  },
  {
   "cell_type": "code",
   "execution_count": 240,
   "id": "48a4f1d3-b496-4efc-96b2-70132378c06d",
   "metadata": {},
   "outputs": [],
   "source": [
    "block_0303_final_preds_alt = np.sum(block_0303_preds_reshaped, axis = 0)"
   ]
  },
  {
   "cell_type": "code",
   "execution_count": 241,
   "id": "ba6de6bf-3fc3-4a1c-ae42-7539577b4ba4",
   "metadata": {},
   "outputs": [
    {
     "data": {
      "text/plain": [
       "array([29.802235, 36.192806, 33.718746, 28.110909, 22.660995, 18.519194,\n",
       "       15.768269], dtype=float32)"
      ]
     },
     "execution_count": 241,
     "metadata": {},
     "output_type": "execute_result"
    }
   ],
   "source": [
    "block_0303_final_preds_alt"
   ]
  },
  {
   "cell_type": "code",
   "execution_count": 242,
   "id": "ac136596-60e6-42af-b925-cff096c15068",
   "metadata": {},
   "outputs": [],
   "source": [
    "block_name_0303 = 'true_and_pred_densities_blk_0303'"
   ]
  },
  {
   "cell_type": "code",
   "execution_count": 243,
   "id": "5f726045-bbd7-4b96-b2b5-25ffafe9c11c",
   "metadata": {},
   "outputs": [],
   "source": [
    "block_0303_metrics, blk_0303_df = get_final_forecasted_and_true_values(block_0303_preds_reshaped, block_0303_targets, im_height, im_weight, stride, kernel_size, csv_file_loc_all, block_name_0303)"
   ]
  },
  {
   "cell_type": "code",
   "execution_count": 244,
   "id": "915b98ce-d891-4a6c-a8de-0507e15e7021",
   "metadata": {},
   "outputs": [
    {
     "data": {
      "text/plain": [
       "[12.464693654951825,\n",
       " 13.125500280454363,\n",
       " PearsonRResult(statistic=0.855520858230087, pvalue=0.014076575657107257),\n",
       " -1.7488373576663343]"
      ]
     },
     "execution_count": 244,
     "metadata": {},
     "output_type": "execute_result"
    }
   ],
   "source": [
    "block_0303_metrics"
   ]
  },
  {
   "cell_type": "code",
   "execution_count": 245,
   "id": "98f0134a-dd59-4c11-8dcd-bf7834c86d8e",
   "metadata": {},
   "outputs": [
    {
     "data": {
      "text/html": [
       "<div>\n",
       "<style scoped>\n",
       "    .dataframe tbody tr th:only-of-type {\n",
       "        vertical-align: middle;\n",
       "    }\n",
       "\n",
       "    .dataframe tbody tr th {\n",
       "        vertical-align: top;\n",
       "    }\n",
       "\n",
       "    .dataframe thead th {\n",
       "        text-align: right;\n",
       "    }\n",
       "</style>\n",
       "<table border=\"1\" class=\"dataframe\">\n",
       "  <thead>\n",
       "    <tr style=\"text-align: right;\">\n",
       "      <th></th>\n",
       "      <th>Image_name</th>\n",
       "      <th>True_densities</th>\n",
       "      <th>Predicted_densities</th>\n",
       "    </tr>\n",
       "  </thead>\n",
       "  <tbody>\n",
       "    <tr>\n",
       "      <th>0</th>\n",
       "      <td>test_im_0</td>\n",
       "      <td>49.000171</td>\n",
       "      <td>29.802246</td>\n",
       "    </tr>\n",
       "    <tr>\n",
       "      <th>1</th>\n",
       "      <td>test_im_1</td>\n",
       "      <td>46.000007</td>\n",
       "      <td>36.192800</td>\n",
       "    </tr>\n",
       "    <tr>\n",
       "      <th>2</th>\n",
       "      <td>test_im_2</td>\n",
       "      <td>42.999982</td>\n",
       "      <td>33.718760</td>\n",
       "    </tr>\n",
       "    <tr>\n",
       "      <th>3</th>\n",
       "      <td>test_im_3</td>\n",
       "      <td>38.999993</td>\n",
       "      <td>28.110912</td>\n",
       "    </tr>\n",
       "    <tr>\n",
       "      <th>4</th>\n",
       "      <td>test_im_4</td>\n",
       "      <td>36.025884</td>\n",
       "      <td>22.661001</td>\n",
       "    </tr>\n",
       "    <tr>\n",
       "      <th>5</th>\n",
       "      <td>test_im_5</td>\n",
       "      <td>36.000000</td>\n",
       "      <td>18.519200</td>\n",
       "    </tr>\n",
       "    <tr>\n",
       "      <th>6</th>\n",
       "      <td>test_im_6</td>\n",
       "      <td>23.000000</td>\n",
       "      <td>15.768262</td>\n",
       "    </tr>\n",
       "  </tbody>\n",
       "</table>\n",
       "</div>"
      ],
      "text/plain": [
       "  Image_name  True_densities  Predicted_densities\n",
       "0  test_im_0       49.000171            29.802246\n",
       "1  test_im_1       46.000007            36.192800\n",
       "2  test_im_2       42.999982            33.718760\n",
       "3  test_im_3       38.999993            28.110912\n",
       "4  test_im_4       36.025884            22.661001\n",
       "5  test_im_5       36.000000            18.519200\n",
       "6  test_im_6       23.000000            15.768262"
      ]
     },
     "execution_count": 245,
     "metadata": {},
     "output_type": "execute_result"
    }
   ],
   "source": [
    "blk_0303_df"
   ]
  },
  {
   "cell_type": "code",
   "execution_count": 246,
   "id": "cfdf9c11-ce48-47b7-9731-49a4c2b3542b",
   "metadata": {},
   "outputs": [],
   "source": [
    "# verify mae\n",
    "mae_df_0303 = mean_absolute_error(blk_0303_df['True_densities'], blk_0303_df['Predicted_densities'])"
   ]
  },
  {
   "cell_type": "code",
   "execution_count": 247,
   "id": "a1bde8e7-6498-407a-b18f-9823ad90d6ff",
   "metadata": {},
   "outputs": [
    {
     "data": {
      "text/plain": [
       "12.464693654951825"
      ]
     },
     "execution_count": 247,
     "metadata": {},
     "output_type": "execute_result"
    }
   ],
   "source": [
    "mae_df_0303"
   ]
  },
  {
   "cell_type": "code",
   "execution_count": 248,
   "id": "1e4804ce-05a3-45f1-9598-c6b1a80b15f3",
   "metadata": {},
   "outputs": [],
   "source": [
    "# Block 0304"
   ]
  },
  {
   "cell_type": "code",
   "execution_count": 249,
   "id": "4240e625-45ca-4148-a341-5c61e57fe457",
   "metadata": {},
   "outputs": [],
   "source": [
    "# load the input features and targets"
   ]
  },
  {
   "cell_type": "code",
   "execution_count": 250,
   "id": "23e0e824-1a7a-4d24-8f2e-7db84ffa125b",
   "metadata": {},
   "outputs": [
    {
     "data": {
      "text/plain": [
       "'test_data_blk_0304.npy'"
      ]
     },
     "execution_count": 250,
     "metadata": {},
     "output_type": "execute_result"
    }
   ],
   "source": [
    "# features\n",
    "Test_input_features_loc_content[10]"
   ]
  },
  {
   "cell_type": "code",
   "execution_count": 251,
   "id": "a8f50cfb-c34a-449f-99f7-8f324543a02d",
   "metadata": {},
   "outputs": [],
   "source": [
    "block_0304_features = np.load(os.path.join(Test_input_features_loc, Test_input_features_loc_content[10]))"
   ]
  },
  {
   "cell_type": "code",
   "execution_count": 252,
   "id": "e4dafcc5-50b4-486f-9e18-b9d753ff2a4b",
   "metadata": {},
   "outputs": [
    {
     "data": {
      "text/plain": [
       "(910, 13, 30, 30, 3)"
      ]
     },
     "execution_count": 252,
     "metadata": {},
     "output_type": "execute_result"
    }
   ],
   "source": [
    "block_0304_features.shape"
   ]
  },
  {
   "cell_type": "code",
   "execution_count": 253,
   "id": "0e1cedc6-d3bb-41eb-bbd9-b31636bb5c4e",
   "metadata": {},
   "outputs": [
    {
     "data": {
      "text/plain": [
       "'block_0304_targets.npy'"
      ]
     },
     "execution_count": 253,
     "metadata": {},
     "output_type": "execute_result"
    }
   ],
   "source": [
    "# targets\n",
    "test_target_loc_contents[10]"
   ]
  },
  {
   "cell_type": "code",
   "execution_count": 254,
   "id": "9ae3df01-e0ab-41cc-b21c-9b9d93b2eca8",
   "metadata": {},
   "outputs": [],
   "source": [
    "block_0304_targets = np.load(os.path.join(test_targets_loc, test_target_loc_contents[10]))"
   ]
  },
  {
   "cell_type": "code",
   "execution_count": 255,
   "id": "6fee63e8-2d7c-4c8e-a1bf-adffc47ac7bb",
   "metadata": {},
   "outputs": [
    {
     "data": {
      "text/plain": [
       "(910, 7)"
      ]
     },
     "execution_count": 255,
     "metadata": {},
     "output_type": "execute_result"
    }
   ],
   "source": [
    "block_0304_targets.shape"
   ]
  },
  {
   "cell_type": "code",
   "execution_count": 256,
   "id": "85decf03-de38-4a7f-b7a4-83a02bb79ecf",
   "metadata": {},
   "outputs": [
    {
     "data": {
      "text/plain": [
       "array([37.        , 41.00205748, 42.99999808, 41.99995481, 37.99999951,\n",
       "       34.        , 24.        ])"
      ]
     },
     "execution_count": 256,
     "metadata": {},
     "output_type": "execute_result"
    }
   ],
   "source": [
    "np.sum(block_0304_targets, axis = 0)"
   ]
  },
  {
   "cell_type": "code",
   "execution_count": 257,
   "id": "07391924-32fc-4fda-ac86-cc693955060d",
   "metadata": {},
   "outputs": [
    {
     "name": "stdout",
     "output_type": "stream",
     "text": [
      "29/29 [==============================] - 0s 6ms/step\n"
     ]
    }
   ],
   "source": [
    "# get preds\n",
    "# To get the predictions on a block, we can just do the model.predict function\n",
    "block_0304_preds = base_model_non_overlapping.predict(block_0304_features)"
   ]
  },
  {
   "cell_type": "code",
   "execution_count": 258,
   "id": "84ddb978-36f4-4436-8402-b027f408b7d8",
   "metadata": {},
   "outputs": [
    {
     "data": {
      "text/plain": [
       "(910, 7, 1)"
      ]
     },
     "execution_count": 258,
     "metadata": {},
     "output_type": "execute_result"
    }
   ],
   "source": [
    "block_0304_preds.shape"
   ]
  },
  {
   "cell_type": "code",
   "execution_count": 259,
   "id": "ef0b499b-6c81-41d7-8a3e-1ee9016365ca",
   "metadata": {},
   "outputs": [],
   "source": [
    "# reshape the preds\n",
    "block_0304_preds_reshaped = block_0304_preds.reshape(block_0304_preds.shape[0], block_0304_preds.shape[1])"
   ]
  },
  {
   "cell_type": "code",
   "execution_count": 260,
   "id": "c69ab6fa-5238-4678-bdf0-dab45ed3723c",
   "metadata": {},
   "outputs": [
    {
     "data": {
      "text/plain": [
       "(910, 7)"
      ]
     },
     "execution_count": 260,
     "metadata": {},
     "output_type": "execute_result"
    }
   ],
   "source": [
    "block_0304_preds_reshaped.shape"
   ]
  },
  {
   "cell_type": "code",
   "execution_count": 261,
   "id": "8fdd014a-5bb3-491e-ac1a-a05b7f678d16",
   "metadata": {},
   "outputs": [],
   "source": [
    "block_0304_final_preds_alt = np.sum(block_0304_preds_reshaped, axis = 0)"
   ]
  },
  {
   "cell_type": "code",
   "execution_count": 262,
   "id": "dcdf9709-8390-4349-b781-591992c4194e",
   "metadata": {},
   "outputs": [
    {
     "data": {
      "text/plain": [
       "array([28.013153, 32.7043  , 29.934435, 24.829102, 20.06204 , 16.581528,\n",
       "       14.351597], dtype=float32)"
      ]
     },
     "execution_count": 262,
     "metadata": {},
     "output_type": "execute_result"
    }
   ],
   "source": [
    "block_0304_final_preds_alt"
   ]
  },
  {
   "cell_type": "code",
   "execution_count": 263,
   "id": "ec5f1e63-41b6-4cfb-b610-40b699dd5973",
   "metadata": {},
   "outputs": [],
   "source": [
    "block_name_0304 = 'true_and_pred_densities_blk_0304'"
   ]
  },
  {
   "cell_type": "code",
   "execution_count": 264,
   "id": "aecaf31a-3b39-484b-9f0f-40a0d9fd98a6",
   "metadata": {},
   "outputs": [],
   "source": [
    "block_0304_metrics, blk_0304_df = get_final_forecasted_and_true_values(block_0304_preds_reshaped, block_0304_targets, im_height, im_weight, stride, kernel_size, csv_file_loc_all, block_name_0304)"
   ]
  },
  {
   "cell_type": "code",
   "execution_count": 265,
   "id": "1c49272f-95d4-4f0a-9cf3-9c7e3a1f150f",
   "metadata": {},
   "outputs": [
    {
     "data": {
      "text/plain": [
       "[13.217981547218068,\n",
       " 13.801806325112025,\n",
       " PearsonRResult(statistic=0.7998065774071847, pvalue=0.03082041332605045),\n",
       " -4.2083817798711705]"
      ]
     },
     "execution_count": 265,
     "metadata": {},
     "output_type": "execute_result"
    }
   ],
   "source": [
    "block_0304_metrics"
   ]
  },
  {
   "cell_type": "code",
   "execution_count": 266,
   "id": "4b961874-5226-477e-a99b-84428eee3396",
   "metadata": {},
   "outputs": [
    {
     "data": {
      "text/html": [
       "<div>\n",
       "<style scoped>\n",
       "    .dataframe tbody tr th:only-of-type {\n",
       "        vertical-align: middle;\n",
       "    }\n",
       "\n",
       "    .dataframe tbody tr th {\n",
       "        vertical-align: top;\n",
       "    }\n",
       "\n",
       "    .dataframe thead th {\n",
       "        text-align: right;\n",
       "    }\n",
       "</style>\n",
       "<table border=\"1\" class=\"dataframe\">\n",
       "  <thead>\n",
       "    <tr style=\"text-align: right;\">\n",
       "      <th></th>\n",
       "      <th>Image_name</th>\n",
       "      <th>True_densities</th>\n",
       "      <th>Predicted_densities</th>\n",
       "    </tr>\n",
       "  </thead>\n",
       "  <tbody>\n",
       "    <tr>\n",
       "      <th>0</th>\n",
       "      <td>test_im_0</td>\n",
       "      <td>37.000000</td>\n",
       "      <td>28.013144</td>\n",
       "    </tr>\n",
       "    <tr>\n",
       "      <th>1</th>\n",
       "      <td>test_im_1</td>\n",
       "      <td>41.002057</td>\n",
       "      <td>32.704302</td>\n",
       "    </tr>\n",
       "    <tr>\n",
       "      <th>2</th>\n",
       "      <td>test_im_2</td>\n",
       "      <td>42.999998</td>\n",
       "      <td>29.934437</td>\n",
       "    </tr>\n",
       "    <tr>\n",
       "      <th>3</th>\n",
       "      <td>test_im_3</td>\n",
       "      <td>41.999955</td>\n",
       "      <td>24.829096</td>\n",
       "    </tr>\n",
       "    <tr>\n",
       "      <th>4</th>\n",
       "      <td>test_im_4</td>\n",
       "      <td>38.000000</td>\n",
       "      <td>20.062042</td>\n",
       "    </tr>\n",
       "    <tr>\n",
       "      <th>5</th>\n",
       "      <td>test_im_5</td>\n",
       "      <td>34.000000</td>\n",
       "      <td>16.581521</td>\n",
       "    </tr>\n",
       "    <tr>\n",
       "      <th>6</th>\n",
       "      <td>test_im_6</td>\n",
       "      <td>24.000000</td>\n",
       "      <td>14.351596</td>\n",
       "    </tr>\n",
       "  </tbody>\n",
       "</table>\n",
       "</div>"
      ],
      "text/plain": [
       "  Image_name  True_densities  Predicted_densities\n",
       "0  test_im_0       37.000000            28.013144\n",
       "1  test_im_1       41.002057            32.704302\n",
       "2  test_im_2       42.999998            29.934437\n",
       "3  test_im_3       41.999955            24.829096\n",
       "4  test_im_4       38.000000            20.062042\n",
       "5  test_im_5       34.000000            16.581521\n",
       "6  test_im_6       24.000000            14.351596"
      ]
     },
     "execution_count": 266,
     "metadata": {},
     "output_type": "execute_result"
    }
   ],
   "source": [
    "blk_0304_df"
   ]
  },
  {
   "cell_type": "code",
   "execution_count": 267,
   "id": "9f567c16-73d3-4484-856d-6a744697cba1",
   "metadata": {},
   "outputs": [],
   "source": [
    "# verify mae\n",
    "mae_df_0304 = mean_absolute_error(blk_0304_df['True_densities'], blk_0304_df['Predicted_densities'])"
   ]
  },
  {
   "cell_type": "code",
   "execution_count": 268,
   "id": "1e65aa9a-aecc-4ab2-bf2f-1e5be66f0a26",
   "metadata": {},
   "outputs": [
    {
     "data": {
      "text/plain": [
       "13.217981547218068"
      ]
     },
     "execution_count": 268,
     "metadata": {},
     "output_type": "execute_result"
    }
   ],
   "source": [
    "mae_df_0304"
   ]
  },
  {
   "cell_type": "code",
   "execution_count": 269,
   "id": "22c1b873-b82e-4adb-970b-0400148de61a",
   "metadata": {},
   "outputs": [],
   "source": [
    "# Block 0305"
   ]
  },
  {
   "cell_type": "code",
   "execution_count": 270,
   "id": "805c6c7d-599f-4415-8d36-6193052bbc3a",
   "metadata": {},
   "outputs": [],
   "source": [
    "# load the input features and targets"
   ]
  },
  {
   "cell_type": "code",
   "execution_count": 271,
   "id": "fca740ec-5f21-407a-8fd2-9560c82c2f69",
   "metadata": {},
   "outputs": [
    {
     "data": {
      "text/plain": [
       "'test_data_blk_0305.npy'"
      ]
     },
     "execution_count": 271,
     "metadata": {},
     "output_type": "execute_result"
    }
   ],
   "source": [
    "# features\n",
    "Test_input_features_loc_content[11]"
   ]
  },
  {
   "cell_type": "code",
   "execution_count": 272,
   "id": "60c583f1-9fe7-4d35-9ed7-bcccf1c8a8d5",
   "metadata": {},
   "outputs": [],
   "source": [
    "block_0305_features = np.load(os.path.join(Test_input_features_loc, Test_input_features_loc_content[11]))"
   ]
  },
  {
   "cell_type": "code",
   "execution_count": 273,
   "id": "7fb3d91f-c1ae-4b3b-bb17-3b1e67ce05c3",
   "metadata": {},
   "outputs": [
    {
     "data": {
      "text/plain": [
       "(910, 13, 30, 30, 3)"
      ]
     },
     "execution_count": 273,
     "metadata": {},
     "output_type": "execute_result"
    }
   ],
   "source": [
    "block_0305_features.shape"
   ]
  },
  {
   "cell_type": "code",
   "execution_count": 274,
   "id": "fbe47398-8086-4b0f-ab91-c4b476f7b01b",
   "metadata": {},
   "outputs": [
    {
     "data": {
      "text/plain": [
       "'block_0305_targets.npy'"
      ]
     },
     "execution_count": 274,
     "metadata": {},
     "output_type": "execute_result"
    }
   ],
   "source": [
    "# targets\n",
    "test_target_loc_contents[11]"
   ]
  },
  {
   "cell_type": "code",
   "execution_count": 275,
   "id": "c6fd663c-4823-42f9-aa6b-c78ce347c127",
   "metadata": {},
   "outputs": [],
   "source": [
    "block_0305_targets = np.load(os.path.join(test_targets_loc, test_target_loc_contents[11]))"
   ]
  },
  {
   "cell_type": "code",
   "execution_count": 276,
   "id": "ac2788a9-7951-40df-9919-7e322d5461e9",
   "metadata": {},
   "outputs": [
    {
     "data": {
      "text/plain": [
       "(910, 7)"
      ]
     },
     "execution_count": 276,
     "metadata": {},
     "output_type": "execute_result"
    }
   ],
   "source": [
    "block_0305_targets.shape"
   ]
  },
  {
   "cell_type": "code",
   "execution_count": 277,
   "id": "aa540177-eb07-4c79-be18-799edd27c904",
   "metadata": {},
   "outputs": [
    {
     "data": {
      "text/plain": [
       "array([46.        , 35.        , 37.        , 30.00065157, 35.00118956,\n",
       "       28.99999357, 20.00001784])"
      ]
     },
     "execution_count": 277,
     "metadata": {},
     "output_type": "execute_result"
    }
   ],
   "source": [
    "np.sum(block_0305_targets, axis = 0)"
   ]
  },
  {
   "cell_type": "code",
   "execution_count": 278,
   "id": "d965382b-1310-4a58-85cf-6f3b4b30357f",
   "metadata": {},
   "outputs": [
    {
     "name": "stdout",
     "output_type": "stream",
     "text": [
      "29/29 [==============================] - 0s 6ms/step\n"
     ]
    }
   ],
   "source": [
    "# get preds\n",
    "# To get the predictions on a block, we can just do the model.predict function\n",
    "block_0305_preds = base_model_non_overlapping.predict(block_0305_features)"
   ]
  },
  {
   "cell_type": "code",
   "execution_count": 279,
   "id": "924a07c2-8321-4a79-be4a-14349ba94243",
   "metadata": {},
   "outputs": [
    {
     "data": {
      "text/plain": [
       "(910, 7, 1)"
      ]
     },
     "execution_count": 279,
     "metadata": {},
     "output_type": "execute_result"
    }
   ],
   "source": [
    "block_0305_preds.shape"
   ]
  },
  {
   "cell_type": "code",
   "execution_count": 280,
   "id": "d63f60cb-ad89-4912-906b-6d9234e36080",
   "metadata": {},
   "outputs": [],
   "source": [
    "# reshape the preds\n",
    "block_0305_preds_reshaped = block_0305_preds.reshape(block_0305_preds.shape[0], block_0305_preds.shape[1])"
   ]
  },
  {
   "cell_type": "code",
   "execution_count": 281,
   "id": "edf6c340-7ae8-4b1a-b924-752f951adda3",
   "metadata": {},
   "outputs": [
    {
     "data": {
      "text/plain": [
       "(910, 7)"
      ]
     },
     "execution_count": 281,
     "metadata": {},
     "output_type": "execute_result"
    }
   ],
   "source": [
    "block_0305_preds_reshaped.shape"
   ]
  },
  {
   "cell_type": "code",
   "execution_count": 282,
   "id": "f12b946f-0fd4-4211-9e2b-334ee939066f",
   "metadata": {},
   "outputs": [],
   "source": [
    "block_0305_final_preds_alt = np.sum(block_0305_preds_reshaped, axis = 0)"
   ]
  },
  {
   "cell_type": "code",
   "execution_count": 283,
   "id": "379d5694-623d-497f-a27a-099626d08282",
   "metadata": {},
   "outputs": [
    {
     "data": {
      "text/plain": [
       "array([33.38993 , 40.037327, 36.195454, 29.017773, 22.399853, 17.664164,\n",
       "       14.6303  ], dtype=float32)"
      ]
     },
     "execution_count": 283,
     "metadata": {},
     "output_type": "execute_result"
    }
   ],
   "source": [
    "block_0305_final_preds_alt"
   ]
  },
  {
   "cell_type": "code",
   "execution_count": 284,
   "id": "518e7b59-4430-476d-99d8-92fad90da6a4",
   "metadata": {},
   "outputs": [],
   "source": [
    "block_name_0305 = 'true_and_pred_densities_blk_0305'"
   ]
  },
  {
   "cell_type": "code",
   "execution_count": 285,
   "id": "ee73dcfe-7a55-4f50-b998-79e4c886d3f5",
   "metadata": {},
   "outputs": [],
   "source": [
    "block_0305_metrics, blk_0305_df = get_final_forecasted_and_true_values(block_0305_preds_reshaped, block_0305_targets, im_height, im_weight, stride, kernel_size, csv_file_loc_all, block_name_0305)"
   ]
  },
  {
   "cell_type": "code",
   "execution_count": 286,
   "id": "5e735472-63d4-4744-a6c5-44a15948bc09",
   "metadata": {},
   "outputs": [
    {
     "data": {
      "text/plain": [
       "[6.963100188808168,\n",
       " 8.46952976106841,\n",
       " PearsonRResult(statistic=0.7063378079429559, pvalue=0.07604911741839418),\n",
       " -0.29797437802799487]"
      ]
     },
     "execution_count": 286,
     "metadata": {},
     "output_type": "execute_result"
    }
   ],
   "source": [
    "block_0305_metrics"
   ]
  },
  {
   "cell_type": "code",
   "execution_count": 287,
   "id": "2ad23ae2-5d81-42f5-ba2f-775ac34f238a",
   "metadata": {},
   "outputs": [
    {
     "data": {
      "text/html": [
       "<div>\n",
       "<style scoped>\n",
       "    .dataframe tbody tr th:only-of-type {\n",
       "        vertical-align: middle;\n",
       "    }\n",
       "\n",
       "    .dataframe tbody tr th {\n",
       "        vertical-align: top;\n",
       "    }\n",
       "\n",
       "    .dataframe thead th {\n",
       "        text-align: right;\n",
       "    }\n",
       "</style>\n",
       "<table border=\"1\" class=\"dataframe\">\n",
       "  <thead>\n",
       "    <tr style=\"text-align: right;\">\n",
       "      <th></th>\n",
       "      <th>Image_name</th>\n",
       "      <th>True_densities</th>\n",
       "      <th>Predicted_densities</th>\n",
       "    </tr>\n",
       "  </thead>\n",
       "  <tbody>\n",
       "    <tr>\n",
       "      <th>0</th>\n",
       "      <td>test_im_0</td>\n",
       "      <td>46.000000</td>\n",
       "      <td>33.389915</td>\n",
       "    </tr>\n",
       "    <tr>\n",
       "      <th>1</th>\n",
       "      <td>test_im_1</td>\n",
       "      <td>35.000000</td>\n",
       "      <td>40.037323</td>\n",
       "    </tr>\n",
       "    <tr>\n",
       "      <th>2</th>\n",
       "      <td>test_im_2</td>\n",
       "      <td>37.000000</td>\n",
       "      <td>36.195464</td>\n",
       "    </tr>\n",
       "    <tr>\n",
       "      <th>3</th>\n",
       "      <td>test_im_3</td>\n",
       "      <td>30.000652</td>\n",
       "      <td>29.017770</td>\n",
       "    </tr>\n",
       "    <tr>\n",
       "      <th>4</th>\n",
       "      <td>test_im_4</td>\n",
       "      <td>35.001190</td>\n",
       "      <td>22.399853</td>\n",
       "    </tr>\n",
       "    <tr>\n",
       "      <th>5</th>\n",
       "      <td>test_im_5</td>\n",
       "      <td>28.999994</td>\n",
       "      <td>17.664178</td>\n",
       "    </tr>\n",
       "    <tr>\n",
       "      <th>6</th>\n",
       "      <td>test_im_6</td>\n",
       "      <td>20.000018</td>\n",
       "      <td>14.630296</td>\n",
       "    </tr>\n",
       "  </tbody>\n",
       "</table>\n",
       "</div>"
      ],
      "text/plain": [
       "  Image_name  True_densities  Predicted_densities\n",
       "0  test_im_0       46.000000            33.389915\n",
       "1  test_im_1       35.000000            40.037323\n",
       "2  test_im_2       37.000000            36.195464\n",
       "3  test_im_3       30.000652            29.017770\n",
       "4  test_im_4       35.001190            22.399853\n",
       "5  test_im_5       28.999994            17.664178\n",
       "6  test_im_6       20.000018            14.630296"
      ]
     },
     "execution_count": 287,
     "metadata": {},
     "output_type": "execute_result"
    }
   ],
   "source": [
    "blk_0305_df"
   ]
  },
  {
   "cell_type": "code",
   "execution_count": 288,
   "id": "94f79c99-27c7-49e3-815f-8b477fbbe3b4",
   "metadata": {},
   "outputs": [],
   "source": [
    "# verify mae\n",
    "mae_df_0305 = mean_absolute_error(blk_0305_df['True_densities'], blk_0305_df['Predicted_densities'])"
   ]
  },
  {
   "cell_type": "code",
   "execution_count": 289,
   "id": "5d94cf07-e6ca-4a96-8af8-8165965f91da",
   "metadata": {},
   "outputs": [
    {
     "data": {
      "text/plain": [
       "6.963100188808168"
      ]
     },
     "execution_count": 289,
     "metadata": {},
     "output_type": "execute_result"
    }
   ],
   "source": [
    "mae_df_0305"
   ]
  },
  {
   "cell_type": "code",
   "execution_count": 290,
   "id": "c850b2ad-9774-43bd-8def-074bf2fa3c33",
   "metadata": {},
   "outputs": [],
   "source": [
    "# Block 0306"
   ]
  },
  {
   "cell_type": "code",
   "execution_count": 291,
   "id": "763c8cd3-783d-47c3-982f-1eeb591a0deb",
   "metadata": {},
   "outputs": [],
   "source": [
    "# load the input features and targets"
   ]
  },
  {
   "cell_type": "code",
   "execution_count": 292,
   "id": "f82c5a87-b9a5-4e80-84ba-d712bb167c9b",
   "metadata": {},
   "outputs": [
    {
     "data": {
      "text/plain": [
       "'test_data_blk_0306.npy'"
      ]
     },
     "execution_count": 292,
     "metadata": {},
     "output_type": "execute_result"
    }
   ],
   "source": [
    "# features\n",
    "Test_input_features_loc_content[12]"
   ]
  },
  {
   "cell_type": "code",
   "execution_count": 293,
   "id": "29a060dd-7836-41e8-805e-073353f71469",
   "metadata": {},
   "outputs": [],
   "source": [
    "block_0306_features = np.load(os.path.join(Test_input_features_loc, Test_input_features_loc_content[12]))"
   ]
  },
  {
   "cell_type": "code",
   "execution_count": 294,
   "id": "fa787927-5323-466f-9799-5d409f8778a6",
   "metadata": {},
   "outputs": [
    {
     "data": {
      "text/plain": [
       "(910, 13, 30, 30, 3)"
      ]
     },
     "execution_count": 294,
     "metadata": {},
     "output_type": "execute_result"
    }
   ],
   "source": [
    "block_0306_features.shape"
   ]
  },
  {
   "cell_type": "code",
   "execution_count": 295,
   "id": "ab1d14ea-fb5a-41ba-829d-91adb01d5e8c",
   "metadata": {},
   "outputs": [
    {
     "data": {
      "text/plain": [
       "'block_0306_targets.npy'"
      ]
     },
     "execution_count": 295,
     "metadata": {},
     "output_type": "execute_result"
    }
   ],
   "source": [
    "# targets\n",
    "test_target_loc_contents[12]"
   ]
  },
  {
   "cell_type": "code",
   "execution_count": 296,
   "id": "bb4ad127-a5ad-44f7-a54f-585c223d8f4d",
   "metadata": {},
   "outputs": [],
   "source": [
    "block_0306_targets = np.load(os.path.join(test_targets_loc, test_target_loc_contents[12]))"
   ]
  },
  {
   "cell_type": "code",
   "execution_count": 297,
   "id": "94ef5446-602b-491d-bdc8-35d1d4218294",
   "metadata": {},
   "outputs": [
    {
     "data": {
      "text/plain": [
       "(910, 7)"
      ]
     },
     "execution_count": 297,
     "metadata": {},
     "output_type": "execute_result"
    }
   ],
   "source": [
    "block_0306_targets.shape"
   ]
  },
  {
   "cell_type": "code",
   "execution_count": 298,
   "id": "76b49b5f-ddd2-4d24-9294-396251ebcc81",
   "metadata": {},
   "outputs": [
    {
     "data": {
      "text/plain": [
       "array([41.00000897, 41.00000319, 43.00685125, 39.99760431, 40.        ,\n",
       "       32.99998216, 18.        ])"
      ]
     },
     "execution_count": 298,
     "metadata": {},
     "output_type": "execute_result"
    }
   ],
   "source": [
    "np.sum(block_0306_targets, axis = 0)"
   ]
  },
  {
   "cell_type": "code",
   "execution_count": 299,
   "id": "db2be0c2-5dad-4113-9f5d-f9f56ed59eb7",
   "metadata": {},
   "outputs": [
    {
     "name": "stdout",
     "output_type": "stream",
     "text": [
      "29/29 [==============================] - 0s 6ms/step\n"
     ]
    }
   ],
   "source": [
    "# get preds\n",
    "# To get the predictions on a block, we can just do the model.predict function\n",
    "block_0306_preds = base_model_non_overlapping.predict(block_0306_features)"
   ]
  },
  {
   "cell_type": "code",
   "execution_count": 300,
   "id": "36323633-8575-4350-be20-610203fc55ac",
   "metadata": {},
   "outputs": [
    {
     "data": {
      "text/plain": [
       "(910, 7, 1)"
      ]
     },
     "execution_count": 300,
     "metadata": {},
     "output_type": "execute_result"
    }
   ],
   "source": [
    "block_0306_preds.shape"
   ]
  },
  {
   "cell_type": "code",
   "execution_count": 301,
   "id": "d19a893c-c8f5-4e04-b12f-bbe0787c6337",
   "metadata": {},
   "outputs": [],
   "source": [
    "# reshape the preds\n",
    "block_0306_preds_reshaped = block_0306_preds.reshape(block_0306_preds.shape[0], block_0306_preds.shape[1])"
   ]
  },
  {
   "cell_type": "code",
   "execution_count": 302,
   "id": "5bdb92c4-aeb0-499e-8d67-3b33a2f3b5c1",
   "metadata": {},
   "outputs": [
    {
     "data": {
      "text/plain": [
       "(910, 7)"
      ]
     },
     "execution_count": 302,
     "metadata": {},
     "output_type": "execute_result"
    }
   ],
   "source": [
    "block_0306_preds_reshaped.shape"
   ]
  },
  {
   "cell_type": "code",
   "execution_count": 303,
   "id": "94df8c6e-2e3d-4f50-b5f4-71c94a25c46c",
   "metadata": {},
   "outputs": [],
   "source": [
    "block_0306_final_preds_alt = np.sum(block_0306_preds_reshaped, axis = 0)"
   ]
  },
  {
   "cell_type": "code",
   "execution_count": 304,
   "id": "6f9cb0b9-0af4-4345-9005-23c8d47ee82c",
   "metadata": {},
   "outputs": [
    {
     "data": {
      "text/plain": [
       "array([28.099371, 34.962708, 33.061466, 27.824364, 22.603819, 18.6645  ,\n",
       "       16.0247  ], dtype=float32)"
      ]
     },
     "execution_count": 304,
     "metadata": {},
     "output_type": "execute_result"
    }
   ],
   "source": [
    "block_0306_final_preds_alt"
   ]
  },
  {
   "cell_type": "code",
   "execution_count": 305,
   "id": "b7985329-d255-467f-864b-23f6ae115c62",
   "metadata": {},
   "outputs": [],
   "source": [
    "block_name_0306 = 'true_and_pred_densities_blk_0306'"
   ]
  },
  {
   "cell_type": "code",
   "execution_count": 306,
   "id": "73300fab-1f9b-4f78-a779-f2cd6df85eab",
   "metadata": {},
   "outputs": [],
   "source": [
    "block_0306_metrics, blk_0306_df = get_final_forecasted_and_true_values(block_0306_preds_reshaped, block_0306_targets, im_height, im_weight, stride, kernel_size, csv_file_loc_all, block_name_0306)"
   ]
  },
  {
   "cell_type": "code",
   "execution_count": 307,
   "id": "7fef2f8e-04d9-487b-b5fb-326c3b4f1626",
   "metadata": {},
   "outputs": [
    {
     "data": {
      "text/plain": [
       "[10.680503941701536,\n",
       " 11.72304806648356,\n",
       " PearsonRResult(statistic=0.8037298486445251, pvalue=0.029398715216765844),\n",
       " -1.0832344661049222]"
      ]
     },
     "execution_count": 307,
     "metadata": {},
     "output_type": "execute_result"
    }
   ],
   "source": [
    "block_0306_metrics"
   ]
  },
  {
   "cell_type": "code",
   "execution_count": 308,
   "id": "84d9121d-b844-436e-9f81-203972f27fdb",
   "metadata": {},
   "outputs": [
    {
     "data": {
      "text/html": [
       "<div>\n",
       "<style scoped>\n",
       "    .dataframe tbody tr th:only-of-type {\n",
       "        vertical-align: middle;\n",
       "    }\n",
       "\n",
       "    .dataframe tbody tr th {\n",
       "        vertical-align: top;\n",
       "    }\n",
       "\n",
       "    .dataframe thead th {\n",
       "        text-align: right;\n",
       "    }\n",
       "</style>\n",
       "<table border=\"1\" class=\"dataframe\">\n",
       "  <thead>\n",
       "    <tr style=\"text-align: right;\">\n",
       "      <th></th>\n",
       "      <th>Image_name</th>\n",
       "      <th>True_densities</th>\n",
       "      <th>Predicted_densities</th>\n",
       "    </tr>\n",
       "  </thead>\n",
       "  <tbody>\n",
       "    <tr>\n",
       "      <th>0</th>\n",
       "      <td>test_im_0</td>\n",
       "      <td>41.000009</td>\n",
       "      <td>28.099372</td>\n",
       "    </tr>\n",
       "    <tr>\n",
       "      <th>1</th>\n",
       "      <td>test_im_1</td>\n",
       "      <td>41.000003</td>\n",
       "      <td>34.962703</td>\n",
       "    </tr>\n",
       "    <tr>\n",
       "      <th>2</th>\n",
       "      <td>test_im_2</td>\n",
       "      <td>43.006851</td>\n",
       "      <td>33.061461</td>\n",
       "    </tr>\n",
       "    <tr>\n",
       "      <th>3</th>\n",
       "      <td>test_im_3</td>\n",
       "      <td>39.997604</td>\n",
       "      <td>27.824361</td>\n",
       "    </tr>\n",
       "    <tr>\n",
       "      <th>4</th>\n",
       "      <td>test_im_4</td>\n",
       "      <td>40.000000</td>\n",
       "      <td>22.603819</td>\n",
       "    </tr>\n",
       "    <tr>\n",
       "      <th>5</th>\n",
       "      <td>test_im_5</td>\n",
       "      <td>32.999982</td>\n",
       "      <td>18.664501</td>\n",
       "    </tr>\n",
       "    <tr>\n",
       "      <th>6</th>\n",
       "      <td>test_im_6</td>\n",
       "      <td>18.000000</td>\n",
       "      <td>16.024705</td>\n",
       "    </tr>\n",
       "  </tbody>\n",
       "</table>\n",
       "</div>"
      ],
      "text/plain": [
       "  Image_name  True_densities  Predicted_densities\n",
       "0  test_im_0       41.000009            28.099372\n",
       "1  test_im_1       41.000003            34.962703\n",
       "2  test_im_2       43.006851            33.061461\n",
       "3  test_im_3       39.997604            27.824361\n",
       "4  test_im_4       40.000000            22.603819\n",
       "5  test_im_5       32.999982            18.664501\n",
       "6  test_im_6       18.000000            16.024705"
      ]
     },
     "execution_count": 308,
     "metadata": {},
     "output_type": "execute_result"
    }
   ],
   "source": [
    "blk_0306_df"
   ]
  },
  {
   "cell_type": "code",
   "execution_count": 309,
   "id": "50222de1-e737-4f9c-ae72-87bf06c26ca6",
   "metadata": {},
   "outputs": [],
   "source": [
    "# verify mae\n",
    "mae_df_0306 = mean_absolute_error(blk_0306_df['True_densities'], blk_0306_df['Predicted_densities'])"
   ]
  },
  {
   "cell_type": "code",
   "execution_count": 310,
   "id": "05bc8632-0266-4f0a-ac11-9eab309fbc38",
   "metadata": {},
   "outputs": [
    {
     "data": {
      "text/plain": [
       "10.680503941701536"
      ]
     },
     "execution_count": 310,
     "metadata": {},
     "output_type": "execute_result"
    }
   ],
   "source": [
    "mae_df_0306"
   ]
  },
  {
   "cell_type": "code",
   "execution_count": 311,
   "id": "e9b77c97-50c3-4be4-b608-c5eb59eafe63",
   "metadata": {},
   "outputs": [],
   "source": [
    "# Okay, now let's also compute the metrics for all data taken together, maybe we should stack them all together, and then get the metrics from there"
   ]
  },
  {
   "cell_type": "code",
   "execution_count": 312,
   "id": "19472f58-dfe4-48b5-8361-7979f1d19309",
   "metadata": {},
   "outputs": [],
   "source": [
    "# I think importing them from the stored location would be less hectic than getting all the dfs stored here in a list"
   ]
  },
  {
   "cell_type": "code",
   "execution_count": 313,
   "id": "5dca0346-3adb-4088-97ec-36644438f8df",
   "metadata": {},
   "outputs": [],
   "source": [
    "dfs_loc = \"data/Stage2_base_model/Non_overlapping/predicted_and_true_densities/\""
   ]
  },
  {
   "cell_type": "code",
   "execution_count": 314,
   "id": "178caf47-773f-4ad0-8e00-9d0884bfb812",
   "metadata": {},
   "outputs": [],
   "source": [
    "all_dfs = os.listdir(dfs_loc)\n",
    "all_dfs.sort()"
   ]
  },
  {
   "cell_type": "code",
   "execution_count": 315,
   "id": "63d0983d-ef25-44af-a586-389961d6e03d",
   "metadata": {},
   "outputs": [
    {
     "data": {
      "text/plain": [
       "['.ipynb_checkpoints',\n",
       " 'true_and_pred_densities_blk_0103.csv',\n",
       " 'true_and_pred_densities_blk_0104.csv',\n",
       " 'true_and_pred_densities_blk_0105.csv',\n",
       " 'true_and_pred_densities_blk_0106.csv',\n",
       " 'true_and_pred_densities_blk_0201.csv',\n",
       " 'true_and_pred_densities_blk_0202.csv',\n",
       " 'true_and_pred_densities_blk_0205.csv',\n",
       " 'true_and_pred_densities_blk_0206.csv',\n",
       " 'true_and_pred_densities_blk_0302.csv',\n",
       " 'true_and_pred_densities_blk_0303.csv',\n",
       " 'true_and_pred_densities_blk_0304.csv',\n",
       " 'true_and_pred_densities_blk_0305.csv',\n",
       " 'true_and_pred_densities_blk_0306.csv']"
      ]
     },
     "execution_count": 315,
     "metadata": {},
     "output_type": "execute_result"
    }
   ],
   "source": [
    "all_dfs"
   ]
  },
  {
   "cell_type": "code",
   "execution_count": 316,
   "id": "8fd783a9-a9e7-47eb-bb20-d1e61a88da06",
   "metadata": {},
   "outputs": [],
   "source": [
    "# remove checkpointinf from the list\n",
    "all_dfs = [file for file in all_dfs if file.split(\".\")[-1] == 'csv']"
   ]
  },
  {
   "cell_type": "code",
   "execution_count": 317,
   "id": "c82eb9ab-4ec2-444b-8af0-2a87eacb8366",
   "metadata": {},
   "outputs": [
    {
     "data": {
      "text/plain": [
       "['true_and_pred_densities_blk_0103.csv',\n",
       " 'true_and_pred_densities_blk_0104.csv',\n",
       " 'true_and_pred_densities_blk_0105.csv',\n",
       " 'true_and_pred_densities_blk_0106.csv',\n",
       " 'true_and_pred_densities_blk_0201.csv',\n",
       " 'true_and_pred_densities_blk_0202.csv',\n",
       " 'true_and_pred_densities_blk_0205.csv',\n",
       " 'true_and_pred_densities_blk_0206.csv',\n",
       " 'true_and_pred_densities_blk_0302.csv',\n",
       " 'true_and_pred_densities_blk_0303.csv',\n",
       " 'true_and_pred_densities_blk_0304.csv',\n",
       " 'true_and_pred_densities_blk_0305.csv',\n",
       " 'true_and_pred_densities_blk_0306.csv']"
      ]
     },
     "execution_count": 317,
     "metadata": {},
     "output_type": "execute_result"
    }
   ],
   "source": [
    "all_dfs.sort()\n",
    "all_dfs"
   ]
  },
  {
   "cell_type": "code",
   "execution_count": 318,
   "id": "e1b29405-1afa-4905-948a-349d4939e2e9",
   "metadata": {},
   "outputs": [],
   "source": [
    "# Okay, now load and stack these?\n",
    "\n",
    "all_dfs_loaded = [pd.read_csv(os.path.join(dfs_loc, file)) for file in all_dfs]"
   ]
  },
  {
   "cell_type": "code",
   "execution_count": 319,
   "id": "fae43101-2c59-41d3-8411-f607d4576326",
   "metadata": {},
   "outputs": [],
   "source": [
    "all_dfs_final = pd.concat(all_dfs_loaded)"
   ]
  },
  {
   "cell_type": "code",
   "execution_count": 320,
   "id": "b72c4728-232d-45a9-81c5-04ee3aad6576",
   "metadata": {},
   "outputs": [
    {
     "data": {
      "text/plain": [
       "(91, 3)"
      ]
     },
     "execution_count": 320,
     "metadata": {},
     "output_type": "execute_result"
    }
   ],
   "source": [
    "all_dfs_final.shape"
   ]
  },
  {
   "cell_type": "code",
   "execution_count": 321,
   "id": "0d5f208b-86a8-4764-9c4b-d3f7ed7f7ab6",
   "metadata": {},
   "outputs": [
    {
     "data": {
      "text/plain": [
       "91"
      ]
     },
     "execution_count": 321,
     "metadata": {},
     "output_type": "execute_result"
    }
   ],
   "source": [
    "13*7"
   ]
  },
  {
   "cell_type": "code",
   "execution_count": 322,
   "id": "1c0a767f-0405-45eb-89f2-93b8f361eb49",
   "metadata": {},
   "outputs": [
    {
     "data": {
      "text/html": [
       "<div>\n",
       "<style scoped>\n",
       "    .dataframe tbody tr th:only-of-type {\n",
       "        vertical-align: middle;\n",
       "    }\n",
       "\n",
       "    .dataframe tbody tr th {\n",
       "        vertical-align: top;\n",
       "    }\n",
       "\n",
       "    .dataframe thead th {\n",
       "        text-align: right;\n",
       "    }\n",
       "</style>\n",
       "<table border=\"1\" class=\"dataframe\">\n",
       "  <thead>\n",
       "    <tr style=\"text-align: right;\">\n",
       "      <th></th>\n",
       "      <th>Image_name</th>\n",
       "      <th>True_densities</th>\n",
       "      <th>Predicted_densities</th>\n",
       "    </tr>\n",
       "  </thead>\n",
       "  <tbody>\n",
       "    <tr>\n",
       "      <th>0</th>\n",
       "      <td>test_im_0</td>\n",
       "      <td>40.000661</td>\n",
       "      <td>32.156782</td>\n",
       "    </tr>\n",
       "    <tr>\n",
       "      <th>1</th>\n",
       "      <td>test_im_1</td>\n",
       "      <td>39.000001</td>\n",
       "      <td>40.467874</td>\n",
       "    </tr>\n",
       "    <tr>\n",
       "      <th>2</th>\n",
       "      <td>test_im_2</td>\n",
       "      <td>41.000000</td>\n",
       "      <td>37.502109</td>\n",
       "    </tr>\n",
       "    <tr>\n",
       "      <th>3</th>\n",
       "      <td>test_im_3</td>\n",
       "      <td>31.000000</td>\n",
       "      <td>30.661990</td>\n",
       "    </tr>\n",
       "    <tr>\n",
       "      <th>4</th>\n",
       "      <td>test_im_4</td>\n",
       "      <td>32.000000</td>\n",
       "      <td>24.149929</td>\n",
       "    </tr>\n",
       "  </tbody>\n",
       "</table>\n",
       "</div>"
      ],
      "text/plain": [
       "  Image_name  True_densities  Predicted_densities\n",
       "0  test_im_0       40.000661            32.156782\n",
       "1  test_im_1       39.000001            40.467874\n",
       "2  test_im_2       41.000000            37.502109\n",
       "3  test_im_3       31.000000            30.661990\n",
       "4  test_im_4       32.000000            24.149929"
      ]
     },
     "execution_count": 322,
     "metadata": {},
     "output_type": "execute_result"
    }
   ],
   "source": [
    "all_dfs_final.head()"
   ]
  },
  {
   "cell_type": "code",
   "execution_count": 323,
   "id": "9b43cb2b-951b-4d01-951a-ae7f211f043c",
   "metadata": {},
   "outputs": [
    {
     "data": {
      "text/plain": [
       "12.546249705468286"
      ]
     },
     "execution_count": 323,
     "metadata": {},
     "output_type": "execute_result"
    }
   ],
   "source": [
    "# Now get the final metrics\n",
    "all_test_mae = mean_absolute_error(all_dfs_final['True_densities'], all_dfs_final['Predicted_densities'])\n",
    "all_test_mae"
   ]
  },
  {
   "cell_type": "code",
   "execution_count": 324,
   "id": "1f44c7ec-2776-4e56-b06c-f9e1a9c9f4b9",
   "metadata": {},
   "outputs": [
    {
     "data": {
      "text/plain": [
       "14.259795408289449"
      ]
     },
     "execution_count": 324,
     "metadata": {},
     "output_type": "execute_result"
    }
   ],
   "source": [
    "all_test_rmse = np.sqrt(mean_squared_error(all_dfs_final['True_densities'], all_dfs_final['Predicted_densities']))\n",
    "all_test_rmse"
   ]
  },
  {
   "cell_type": "code",
   "execution_count": 325,
   "id": "699601f9-faff-484a-bfd4-1ef02174d059",
   "metadata": {},
   "outputs": [
    {
     "data": {
      "text/plain": [
       "-1.5338203045376884"
      ]
     },
     "execution_count": 325,
     "metadata": {},
     "output_type": "execute_result"
    }
   ],
   "source": [
    "all_test_r2score = r2_score(all_dfs_final['True_densities'], all_dfs_final['Predicted_densities'])\n",
    "all_test_r2score"
   ]
  },
  {
   "cell_type": "code",
   "execution_count": 326,
   "id": "6d7bbf0a-d1dd-4c2e-9b81-cc4c1b5e6ab4",
   "metadata": {},
   "outputs": [
    {
     "data": {
      "text/plain": [
       "0.5867457226908929"
      ]
     },
     "execution_count": 326,
     "metadata": {},
     "output_type": "execute_result"
    }
   ],
   "source": [
    "all_test_pearsonr = pearsonr(all_dfs_final['True_densities'], all_dfs_final['Predicted_densities'])\n",
    "all_test_pearsonr[0]"
   ]
  }
 ],
 "metadata": {
  "kernelspec": {
   "display_name": "Python (nrdstor_tfp_for_TN)",
   "language": "python",
   "name": "nrdstor_tfp_for_tn"
  },
  "language_info": {
   "codemirror_mode": {
    "name": "ipython",
    "version": 3
   },
   "file_extension": ".py",
   "mimetype": "text/x-python",
   "name": "python",
   "nbconvert_exporter": "python",
   "pygments_lexer": "ipython3",
   "version": "3.10.14"
  }
 },
 "nbformat": 4,
 "nbformat_minor": 5
}

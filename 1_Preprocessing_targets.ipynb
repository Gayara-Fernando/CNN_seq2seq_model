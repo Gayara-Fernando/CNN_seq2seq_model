{
 "cells": [
  {
   "cell_type": "code",
   "execution_count": 1,
   "id": "3577020d-7037-4359-8f04-ab181f5a0dfb",
   "metadata": {},
   "outputs": [],
   "source": [
    "# We only need the features extracted for the final 7 images (sub-images) in the sequence"
   ]
  },
  {
   "cell_type": "code",
   "execution_count": 2,
   "id": "fc8b6e7b-9ba5-48b1-8347-882017828755",
   "metadata": {},
   "outputs": [
    {
     "name": "stderr",
     "output_type": "stream",
     "text": [
      "2025-07-15 09:08:50.394527: I tensorflow/core/util/port.cc:113] oneDNN custom operations are on. You may see slightly different numerical results due to floating-point round-off errors from different computation orders. To turn them off, set the environment variable `TF_ENABLE_ONEDNN_OPTS=0`.\n",
      "2025-07-15 09:08:50.429577: E external/local_xla/xla/stream_executor/cuda/cuda_dnn.cc:9261] Unable to register cuDNN factory: Attempting to register factory for plugin cuDNN when one has already been registered\n",
      "2025-07-15 09:08:50.429601: E external/local_xla/xla/stream_executor/cuda/cuda_fft.cc:607] Unable to register cuFFT factory: Attempting to register factory for plugin cuFFT when one has already been registered\n",
      "2025-07-15 09:08:50.430396: E external/local_xla/xla/stream_executor/cuda/cuda_blas.cc:1515] Unable to register cuBLAS factory: Attempting to register factory for plugin cuBLAS when one has already been registered\n",
      "2025-07-15 09:08:50.436501: I tensorflow/core/platform/cpu_feature_guard.cc:182] This TensorFlow binary is optimized to use available CPU instructions in performance-critical operations.\n",
      "To enable the following instructions: SSE4.1 SSE4.2 AVX AVX2 AVX512F AVX512_VNNI FMA, in other operations, rebuild TensorFlow with the appropriate compiler flags.\n"
     ]
    }
   ],
   "source": [
    "import tensorflow as tf\n",
    "import os\n",
    "import pandas as pd\n",
    "import numpy as np\n",
    "import matplotlib.pyplot as plt\n",
    "from scipy import ndimage\n",
    "from skimage.transform import resize"
   ]
  },
  {
   "cell_type": "code",
   "execution_count": 3,
   "id": "c0652ccb-780b-4808-a020-d9abd5242a33",
   "metadata": {},
   "outputs": [
    {
     "name": "stderr",
     "output_type": "stream",
     "text": [
      "2025-07-15 09:08:52.412381: I tensorflow/core/common_runtime/gpu/gpu_device.cc:1929] Created device /job:localhost/replica:0/task:0/device:GPU:0 with 31134 MB memory:  -> device: 0, name: Tesla V100S-PCIE-32GB, pci bus id: 0000:86:00.0, compute capability: 7.0\n"
     ]
    }
   ],
   "source": [
    "# import the trained model\n",
    "\n",
    "model = tf.keras.models.load_model(\"../../Spring_2024/Bayes_for_comps/TS_bayes_implementation_for_TN/models/trained_gmp_model_dense_32_new.h5\")"
   ]
  },
  {
   "cell_type": "code",
   "execution_count": 4,
   "id": "15e39505-3148-4204-ae56-c1ef9fc63bd0",
   "metadata": {},
   "outputs": [
    {
     "name": "stdout",
     "output_type": "stream",
     "text": [
      "Model: \"model_1\"\n",
      "_________________________________________________________________\n",
      " Layer (type)                Output Shape              Param #   \n",
      "=================================================================\n",
      " input_1 (InputLayer)        [(None, None, None, 3)]   0         \n",
      "                                                                 \n",
      " conv2d (Conv2D)             (None, None, None, 32)    896       \n",
      "                                                                 \n",
      " activation (Activation)     (None, None, None, 32)    0         \n",
      "                                                                 \n",
      " conv2d_1 (Conv2D)           (None, None, None, 32)    9248      \n",
      "                                                                 \n",
      " activation_1 (Activation)   (None, None, None, 32)    0         \n",
      "                                                                 \n",
      " max_pooling2d (MaxPooling2  (None, None, None, 32)    0         \n",
      " D)                                                              \n",
      "                                                                 \n",
      " dropout (Dropout)           (None, None, None, 32)    0         \n",
      "                                                                 \n",
      " conv2d_2 (Conv2D)           (None, None, None, 64)    18496     \n",
      "                                                                 \n",
      " activation_2 (Activation)   (None, None, None, 64)    0         \n",
      "                                                                 \n",
      " conv2d_3 (Conv2D)           (None, None, None, 64)    36928     \n",
      "                                                                 \n",
      " activation_3 (Activation)   (None, None, None, 64)    0         \n",
      "                                                                 \n",
      " max_pooling2d_1 (MaxPoolin  (None, None, None, 64)    0         \n",
      " g2D)                                                            \n",
      "                                                                 \n",
      " New_dropout_0 (Dropout)     (None, None, None, 64)    0         \n",
      "                                                                 \n",
      " global_max_pooling2d (Glob  (None, 64)                0         \n",
      " alMaxPooling2D)                                                 \n",
      "                                                                 \n",
      " New_Dense_0 (Dense)         (None, 64)                4160      \n",
      "                                                                 \n",
      " New_Activation_0 (Activati  (None, 64)                0         \n",
      " on)                                                             \n",
      "                                                                 \n",
      " New_dropout_1 (Dropout)     (None, 64)                0         \n",
      "                                                                 \n",
      " New_Dense_1 (Dense)         (None, 32)                2080      \n",
      "                                                                 \n",
      " New_Activation_1 (Activati  (None, 32)                0         \n",
      " on)                                                             \n",
      "                                                                 \n",
      " New_dropout_2 (Dropout)     (None, 32)                0         \n",
      "                                                                 \n",
      " New_Dense_2 (Dense)         (None, 1)                 33        \n",
      "                                                                 \n",
      " New_Activation_2 (Activati  (None, 1)                 0         \n",
      " on)                                                             \n",
      "                                                                 \n",
      "=================================================================\n",
      "Total params: 71841 (280.63 KB)\n",
      "Trainable params: 43201 (168.75 KB)\n",
      "Non-trainable params: 28640 (111.88 KB)\n",
      "_________________________________________________________________\n"
     ]
    }
   ],
   "source": [
    "model.summary()"
   ]
  },
  {
   "cell_type": "code",
   "execution_count": 5,
   "id": "383340aa-1c83-45c9-9b98-6d99f33a2c9a",
   "metadata": {},
   "outputs": [],
   "source": [
    "# Define the feature extractor model\n",
    "\n",
    "# feature extractor input\n",
    "feat_ext_input = model.input\n",
    "\n",
    "# feature extractor output - do this at the ReLu activation layer - as this will give the same features as the dropout layer (It does not matter if it is the dropout or the activation layer, the extracted features will be the same)\n",
    "feat_ext_output = model.layers[-4].output\n",
    "\n",
    "feature_extractor_model = tf.keras.models.Model(inputs = feat_ext_input, outputs = feat_ext_output)"
   ]
  },
  {
   "cell_type": "code",
   "execution_count": 6,
   "id": "5827588a-d52f-43ac-967d-8447f61f2688",
   "metadata": {},
   "outputs": [
    {
     "name": "stdout",
     "output_type": "stream",
     "text": [
      "Model: \"model\"\n",
      "_________________________________________________________________\n",
      " Layer (type)                Output Shape              Param #   \n",
      "=================================================================\n",
      " input_1 (InputLayer)        [(None, None, None, 3)]   0         \n",
      "                                                                 \n",
      " conv2d (Conv2D)             (None, None, None, 32)    896       \n",
      "                                                                 \n",
      " activation (Activation)     (None, None, None, 32)    0         \n",
      "                                                                 \n",
      " conv2d_1 (Conv2D)           (None, None, None, 32)    9248      \n",
      "                                                                 \n",
      " activation_1 (Activation)   (None, None, None, 32)    0         \n",
      "                                                                 \n",
      " max_pooling2d (MaxPooling2  (None, None, None, 32)    0         \n",
      " D)                                                              \n",
      "                                                                 \n",
      " dropout (Dropout)           (None, None, None, 32)    0         \n",
      "                                                                 \n",
      " conv2d_2 (Conv2D)           (None, None, None, 64)    18496     \n",
      "                                                                 \n",
      " activation_2 (Activation)   (None, None, None, 64)    0         \n",
      "                                                                 \n",
      " conv2d_3 (Conv2D)           (None, None, None, 64)    36928     \n",
      "                                                                 \n",
      " activation_3 (Activation)   (None, None, None, 64)    0         \n",
      "                                                                 \n",
      " max_pooling2d_1 (MaxPoolin  (None, None, None, 64)    0         \n",
      " g2D)                                                            \n",
      "                                                                 \n",
      " New_dropout_0 (Dropout)     (None, None, None, 64)    0         \n",
      "                                                                 \n",
      " global_max_pooling2d (Glob  (None, 64)                0         \n",
      " alMaxPooling2D)                                                 \n",
      "                                                                 \n",
      " New_Dense_0 (Dense)         (None, 64)                4160      \n",
      "                                                                 \n",
      " New_Activation_0 (Activati  (None, 64)                0         \n",
      " on)                                                             \n",
      "                                                                 \n",
      " New_dropout_1 (Dropout)     (None, 64)                0         \n",
      "                                                                 \n",
      " New_Dense_1 (Dense)         (None, 32)                2080      \n",
      "                                                                 \n",
      " New_Activation_1 (Activati  (None, 32)                0         \n",
      " on)                                                             \n",
      "                                                                 \n",
      "=================================================================\n",
      "Total params: 71808 (280.50 KB)\n",
      "Trainable params: 43168 (168.62 KB)\n",
      "Non-trainable params: 28640 (111.88 KB)\n",
      "_________________________________________________________________\n"
     ]
    }
   ],
   "source": [
    "feature_extractor_model.summary()"
   ]
  },
  {
   "cell_type": "code",
   "execution_count": 7,
   "id": "47fbeaed-4503-4008-b79b-29bace024a10",
   "metadata": {},
   "outputs": [],
   "source": [
    "# Okay, now let's worry about the data. We only need the features extracted for the last 7 images in teh sequence. Let's get these here? Also note that we do not have anything to do with the density maps for now, for the stage 1 implementaiton at least."
   ]
  },
  {
   "cell_type": "code",
   "execution_count": 8,
   "id": "0d492cd3-9c37-4aec-a8fa-2e9b8d84f8fa",
   "metadata": {},
   "outputs": [],
   "source": [
    "# The following functions will help create all the required matrices"
   ]
  },
  {
   "cell_type": "code",
   "execution_count": 9,
   "id": "4a347fde-0d86-4a6a-9914-2111aa26e3fa",
   "metadata": {},
   "outputs": [],
   "source": [
    "def chose_xml_and_jpeg(file_location):\n",
    "    # list all files in location\n",
    "    list_of_all_files = os.listdir(file_location)\n",
    "    # sort files\n",
    "    list_of_all_files.sort()\n",
    "    # separate xml and jpeg files\n",
    "    all_xml_files = [file for file in list_of_all_files if file.split('.')[-1] == 'xml']\n",
    "    all_xml_files.sort()\n",
    "    all_jpeg_files = [file for file in list_of_all_files if file not in all_xml_files]\n",
    "    all_jpeg_files.sort()\n",
    "    # get the final 7 image files\n",
    "    chosen_jpeg_files = all_jpeg_files[-7:]\n",
    "    \n",
    "    return chosen_jpeg_files"
   ]
  },
  {
   "cell_type": "code",
   "execution_count": 10,
   "id": "a10d5466-d982-4fc0-b10f-df13467531b3",
   "metadata": {},
   "outputs": [],
   "source": [
    "def create_sub_windows(folder_path, file, stride = 30, kernel_size = 30):\n",
    "    # joined image path\n",
    "    joined_im_path = os.path.join(folder_path, file)\n",
    "    # read the image\n",
    "    loaded_im_file = plt.imread(joined_im_path)\n",
    "    # create subwindows and get prediction\n",
    "    img_height = loaded_im_file.shape[0]\n",
    "    img_width = loaded_im_file.shape[1]\n",
    "\n",
    "    # catch all subwindows here\n",
    "    all_subwindows = []\n",
    "    # you can also keep track the subwindows here if required - but let's not worry about that for now\n",
    "    for i in  range(0, img_height, stride):\n",
    "        for j in range(0, img_width, stride):\n",
    "            sub_window = loaded_im_file[i: i + kernel_size, j : j + kernel_size,:]\n",
    "            # resize the subwindow - for 300*300\n",
    "            sub_window = resize(sub_window, (kernel_size, kernel_size,3))\n",
    "            # append these to the list\n",
    "            all_subwindows.append(sub_window)\n",
    "            \n",
    "    return all_subwindows  "
   ]
  },
  {
   "cell_type": "code",
   "execution_count": 11,
   "id": "0ff3270e-9784-4fa1-9088-b3560abfc060",
   "metadata": {},
   "outputs": [],
   "source": [
    "def extract_features(file_name, file_path):\n",
    "    # get the subwindows\n",
    "    subwindows = create_sub_windows(file_path, file_name, 30, 30)\n",
    "    # stack the subwindows\n",
    "    stacked_subwindows = np.stack(subwindows, axis = 0)\n",
    "    # print the shape of this\n",
    "    print(stacked_subwindows.shape)\n",
    "    # extract features\n",
    "    extracted_featrues = feature_extractor_model.predict(stacked_subwindows)\n",
    "    \n",
    "    return extracted_featrues"
   ]
  },
  {
   "cell_type": "code",
   "execution_count": 12,
   "id": "b602a42e-8b22-4d71-bb4f-c9fd454c5050",
   "metadata": {},
   "outputs": [],
   "source": [
    "# Let's first work on the train data blocks"
   ]
  },
  {
   "cell_type": "code",
   "execution_count": 13,
   "id": "955b203d-11db-45f4-bfd6-223f9ebb0bea",
   "metadata": {},
   "outputs": [],
   "source": [
    "# block 0101"
   ]
  },
  {
   "cell_type": "code",
   "execution_count": 14,
   "id": "914a15bf-0482-4d37-8287-9a8bbea2cf15",
   "metadata": {},
   "outputs": [],
   "source": [
    "\n",
    "\n",
    "block_0101 = \"../../Spring_2024/S_lab_TasselNet/Block_1_TN/Block_1_images_and_xml\""
   ]
  },
  {
   "cell_type": "code",
   "execution_count": 15,
   "id": "b447139c-e070-43a6-8684-a12d45dd21e8",
   "metadata": {},
   "outputs": [],
   "source": [
    "images_block_0101 = chose_xml_and_jpeg(block_0101)"
   ]
  },
  {
   "cell_type": "code",
   "execution_count": 16,
   "id": "b839ff7a-7e6a-4d05-a5e6-ab297e3d4b12",
   "metadata": {},
   "outputs": [
    {
     "data": {
      "text/plain": [
       "['Block0101_2020_08_26.jpeg',\n",
       " 'Block0101_2020_08_27.jpeg',\n",
       " 'Block0101_2020_08_28.jpeg',\n",
       " 'Block0101_2020_08_31.jpeg',\n",
       " 'Block0101_2020_09_02.jpeg',\n",
       " 'Block0101_2020_09_07.jpeg',\n",
       " 'Block0101_2020_09_16.jpeg']"
      ]
     },
     "execution_count": 16,
     "metadata": {},
     "output_type": "execute_result"
    }
   ],
   "source": [
    "images_block_0101"
   ]
  },
  {
   "cell_type": "code",
   "execution_count": 17,
   "id": "fd2d8aac-1793-415d-a100-d943a67a03ff",
   "metadata": {},
   "outputs": [
    {
     "name": "stdout",
     "output_type": "stream",
     "text": [
      "(910, 30, 30, 3)\n"
     ]
    },
    {
     "name": "stderr",
     "output_type": "stream",
     "text": [
      "2025-07-15 09:08:53.371311: I external/local_xla/xla/stream_executor/cuda/cuda_dnn.cc:454] Loaded cuDNN version 8907\n"
     ]
    },
    {
     "name": "stdout",
     "output_type": "stream",
     "text": [
      "29/29 [==============================] - 1s 4ms/step\n",
      "(910, 30, 30, 3)\n",
      "29/29 [==============================] - 0s 2ms/step\n",
      "(910, 30, 30, 3)\n",
      "29/29 [==============================] - 0s 2ms/step\n",
      "(910, 30, 30, 3)\n",
      "29/29 [==============================] - 0s 2ms/step\n",
      "(910, 30, 30, 3)\n",
      "29/29 [==============================] - 0s 2ms/step\n",
      "(910, 30, 30, 3)\n",
      "29/29 [==============================] - 0s 2ms/step\n",
      "(910, 30, 30, 3)\n",
      "29/29 [==============================] - 0s 2ms/step\n",
      "CPU times: user 2.85 s, sys: 278 ms, total: 3.13 s\n",
      "Wall time: 3.21 s\n"
     ]
    }
   ],
   "source": [
    "%%time\n",
    "# get the extracted input features\n",
    "\n",
    "blk_0101_all_features = []\n",
    "for file in images_block_0101:\n",
    "    extracted_features = extract_features(file, block_0101)\n",
    "    blk_0101_all_features.append(extracted_features)"
   ]
  },
  {
   "cell_type": "code",
   "execution_count": 18,
   "id": "b7e0cb2d-360e-45fe-8540-2a7a4f8081e6",
   "metadata": {},
   "outputs": [],
   "source": [
    "# stack the extracted features\n",
    "blk_0101_stacked_extracted_features = np.stack(blk_0101_all_features, axis = 1)"
   ]
  },
  {
   "cell_type": "code",
   "execution_count": 19,
   "id": "2d5e399e-8e6b-4a8e-8bd7-5478242cffce",
   "metadata": {},
   "outputs": [
    {
     "data": {
      "text/plain": [
       "(910, 7, 32)"
      ]
     },
     "execution_count": 19,
     "metadata": {},
     "output_type": "execute_result"
    }
   ],
   "source": [
    "blk_0101_stacked_extracted_features.shape"
   ]
  },
  {
   "cell_type": "code",
   "execution_count": 20,
   "id": "ca70a524-7bcf-47a7-8ef5-602c15cf9aea",
   "metadata": {},
   "outputs": [
    {
     "data": {
      "text/plain": [
       "0.36970586"
      ]
     },
     "execution_count": 20,
     "metadata": {},
     "output_type": "execute_result"
    }
   ],
   "source": [
    "# see if the mean of the extracted features match to the ones earlier\n",
    "np.mean(blk_0101_stacked_extracted_features)"
   ]
  },
  {
   "cell_type": "code",
   "execution_count": 21,
   "id": "18f55ebf-68be-4e68-8e8a-14fff9877974",
   "metadata": {},
   "outputs": [],
   "source": [
    "# let's not save or stack this for now, let's stack all train data in order, and then save"
   ]
  },
  {
   "cell_type": "code",
   "execution_count": 22,
   "id": "7d327717-943a-4591-84d8-7ac0ed8fd529",
   "metadata": {},
   "outputs": [],
   "source": [
    "# block 0102"
   ]
  },
  {
   "cell_type": "code",
   "execution_count": 23,
   "id": "a9d4fb5e-775d-4b29-9d87-6bbfad5d88ba",
   "metadata": {},
   "outputs": [],
   "source": [
    "block_0102 = \"../../Spring_2024/S_lab_TasselNet/Block_2_TN/Block_2_images_and_xml\""
   ]
  },
  {
   "cell_type": "code",
   "execution_count": 24,
   "id": "5da19024-20a7-45ea-a98c-75fa1ab53274",
   "metadata": {},
   "outputs": [],
   "source": [
    "images_block_0102 = chose_xml_and_jpeg(block_0102)"
   ]
  },
  {
   "cell_type": "code",
   "execution_count": 25,
   "id": "cc5b381f-b914-43fd-b7ef-3bd4343ee5bd",
   "metadata": {},
   "outputs": [
    {
     "data": {
      "text/plain": [
       "['Block0102_2020_08_26.jpeg',\n",
       " 'Block0102_2020_08_27.jpeg',\n",
       " 'Block0102_2020_08_28.jpeg',\n",
       " 'Block0102_2020_08_31.jpeg',\n",
       " 'Block0102_2020_09_02.jpeg',\n",
       " 'Block0102_2020_09_07.jpeg',\n",
       " 'Block0102_2020_09_16.jpeg']"
      ]
     },
     "execution_count": 25,
     "metadata": {},
     "output_type": "execute_result"
    }
   ],
   "source": [
    "images_block_0102"
   ]
  },
  {
   "cell_type": "code",
   "execution_count": 26,
   "id": "0c32f981-c1d4-48e0-913b-8c55c4fef287",
   "metadata": {},
   "outputs": [
    {
     "name": "stdout",
     "output_type": "stream",
     "text": [
      "(910, 30, 30, 3)\n",
      "29/29 [==============================] - 0s 2ms/step\n",
      "(910, 30, 30, 3)\n",
      "29/29 [==============================] - 0s 3ms/step\n",
      "(910, 30, 30, 3)\n",
      "29/29 [==============================] - 0s 2ms/step\n",
      "(910, 30, 30, 3)\n",
      "29/29 [==============================] - 0s 2ms/step\n",
      "(910, 30, 30, 3)\n",
      "29/29 [==============================] - 0s 2ms/step\n",
      "(910, 30, 30, 3)\n",
      "29/29 [==============================] - 0s 2ms/step\n",
      "(910, 30, 30, 3)\n",
      "29/29 [==============================] - 0s 2ms/step\n",
      "CPU times: user 2.54 s, sys: 165 ms, total: 2.7 s\n",
      "Wall time: 2.74 s\n"
     ]
    }
   ],
   "source": [
    "%%time\n",
    "# get the extracted input features\n",
    "\n",
    "blk_0102_all_features = []\n",
    "for file in images_block_0102:\n",
    "    extracted_features = extract_features(file, block_0102)\n",
    "    blk_0102_all_features.append(extracted_features)"
   ]
  },
  {
   "cell_type": "code",
   "execution_count": 27,
   "id": "227e077d-b1db-49c1-8f87-f3c29ab7bc5e",
   "metadata": {},
   "outputs": [],
   "source": [
    "# stack the extracted features\n",
    "blk_0102_stacked_extracted_features = np.stack(blk_0102_all_features, axis = 1)"
   ]
  },
  {
   "cell_type": "code",
   "execution_count": 28,
   "id": "188520a0-c26b-48da-8a42-53e1d37f9a31",
   "metadata": {},
   "outputs": [
    {
     "data": {
      "text/plain": [
       "(910, 7, 32)"
      ]
     },
     "execution_count": 28,
     "metadata": {},
     "output_type": "execute_result"
    }
   ],
   "source": [
    "blk_0102_stacked_extracted_features.shape"
   ]
  },
  {
   "cell_type": "code",
   "execution_count": 29,
   "id": "806c4871-ffa6-4946-b296-e7589c5a83bd",
   "metadata": {},
   "outputs": [
    {
     "data": {
      "text/plain": [
       "0.3753665"
      ]
     },
     "execution_count": 29,
     "metadata": {},
     "output_type": "execute_result"
    }
   ],
   "source": [
    "# see if the mean of the extracted features match to the ones earlier\n",
    "np.mean(blk_0102_stacked_extracted_features)"
   ]
  },
  {
   "cell_type": "code",
   "execution_count": 30,
   "id": "61710d07-432b-4abf-a424-0a945b00976d",
   "metadata": {},
   "outputs": [],
   "source": [
    "# block 0203"
   ]
  },
  {
   "cell_type": "code",
   "execution_count": 31,
   "id": "4fbb5553-0d30-4b48-91fc-3e158f48eef1",
   "metadata": {},
   "outputs": [],
   "source": [
    "block_0203 = \"../../Spring_2024/S_lab_TasselNet/Block_9_TN/Block_9_images_and_xml\""
   ]
  },
  {
   "cell_type": "code",
   "execution_count": 32,
   "id": "7db47adc-1bf4-4899-8340-6e3a2b9529e7",
   "metadata": {},
   "outputs": [],
   "source": [
    "images_block_0203 = chose_xml_and_jpeg(block_0203)"
   ]
  },
  {
   "cell_type": "code",
   "execution_count": 33,
   "id": "8614c17b-a27b-4466-8d69-be8afe159a1a",
   "metadata": {},
   "outputs": [
    {
     "data": {
      "text/plain": [
       "['Block0203_2020_08_26.jpeg',\n",
       " 'Block0203_2020_08_27.jpeg',\n",
       " 'Block0203_2020_08_28.jpeg',\n",
       " 'Block0203_2020_08_31.jpeg',\n",
       " 'Block0203_2020_09_02.jpeg',\n",
       " 'Block0203_2020_09_07.jpeg',\n",
       " 'Block0203_2020_09_16.jpeg']"
      ]
     },
     "execution_count": 33,
     "metadata": {},
     "output_type": "execute_result"
    }
   ],
   "source": [
    "images_block_0203"
   ]
  },
  {
   "cell_type": "code",
   "execution_count": 34,
   "id": "77e3f84e-cefe-4830-b36a-2cd9a0a5983e",
   "metadata": {},
   "outputs": [
    {
     "name": "stdout",
     "output_type": "stream",
     "text": [
      "(910, 30, 30, 3)\n",
      "29/29 [==============================] - 0s 3ms/step\n",
      "(910, 30, 30, 3)\n",
      "29/29 [==============================] - 0s 3ms/step\n",
      "(910, 30, 30, 3)\n",
      "29/29 [==============================] - 0s 3ms/step\n",
      "(910, 30, 30, 3)\n",
      "29/29 [==============================] - 0s 2ms/step\n",
      "(910, 30, 30, 3)\n",
      "29/29 [==============================] - 0s 2ms/step\n",
      "(910, 30, 30, 3)\n",
      "29/29 [==============================] - 0s 2ms/step\n",
      "(910, 30, 30, 3)\n",
      "29/29 [==============================] - 0s 2ms/step\n",
      "CPU times: user 2.53 s, sys: 167 ms, total: 2.69 s\n",
      "Wall time: 2.72 s\n"
     ]
    }
   ],
   "source": [
    "%%time\n",
    "# get the extracted input features\n",
    "\n",
    "blk_0203_all_features = []\n",
    "for file in images_block_0203:\n",
    "    extracted_features = extract_features(file, block_0203)\n",
    "    blk_0203_all_features.append(extracted_features)"
   ]
  },
  {
   "cell_type": "code",
   "execution_count": 35,
   "id": "293daac4-3e48-4b6e-9286-3b47243fd5a2",
   "metadata": {},
   "outputs": [],
   "source": [
    "# stack the extracted features\n",
    "blk_0203_stacked_extracted_features = np.stack(blk_0203_all_features, axis = 1)"
   ]
  },
  {
   "cell_type": "code",
   "execution_count": 36,
   "id": "b9f5d164-e3ac-4279-9175-0e346dede0e8",
   "metadata": {},
   "outputs": [
    {
     "data": {
      "text/plain": [
       "(910, 7, 32)"
      ]
     },
     "execution_count": 36,
     "metadata": {},
     "output_type": "execute_result"
    }
   ],
   "source": [
    "blk_0203_stacked_extracted_features.shape"
   ]
  },
  {
   "cell_type": "code",
   "execution_count": 37,
   "id": "f8ecf583-72e8-480e-ba29-84a5dae6b4cd",
   "metadata": {},
   "outputs": [
    {
     "data": {
      "text/plain": [
       "0.33241686"
      ]
     },
     "execution_count": 37,
     "metadata": {},
     "output_type": "execute_result"
    }
   ],
   "source": [
    "# see if the mean of the extracted features match to the ones earlier\n",
    "np.mean(blk_0203_stacked_extracted_features)"
   ]
  },
  {
   "cell_type": "code",
   "execution_count": 38,
   "id": "c135661c-6224-4f1b-81c8-c2686c99b15e",
   "metadata": {},
   "outputs": [],
   "source": [
    "# block 0301"
   ]
  },
  {
   "cell_type": "code",
   "execution_count": 39,
   "id": "58e1d09a-c00f-4b48-9dd2-a9f62880c4b5",
   "metadata": {},
   "outputs": [],
   "source": [
    "block_0301 = \"../../Spring_2024/S_lab_TasselNet/Block_13_TN/Block_13_images_and_xml\""
   ]
  },
  {
   "cell_type": "code",
   "execution_count": 40,
   "id": "42879038-7dec-4b8e-945e-12f0920e1935",
   "metadata": {},
   "outputs": [],
   "source": [
    "images_block_0301 = chose_xml_and_jpeg(block_0301)"
   ]
  },
  {
   "cell_type": "code",
   "execution_count": 41,
   "id": "5eea783f-57b3-47de-9753-de3eb02bc6b3",
   "metadata": {},
   "outputs": [
    {
     "data": {
      "text/plain": [
       "['Block0301_2020_08_26.jpeg',\n",
       " 'Block0301_2020_08_27.jpeg',\n",
       " 'Block0301_2020_08_28.jpeg',\n",
       " 'Block0301_2020_08_31.jpeg',\n",
       " 'Block0301_2020_09_02.jpeg',\n",
       " 'Block0301_2020_09_07.jpeg',\n",
       " 'Block0301_2020_09_16.jpeg']"
      ]
     },
     "execution_count": 41,
     "metadata": {},
     "output_type": "execute_result"
    }
   ],
   "source": [
    "images_block_0301"
   ]
  },
  {
   "cell_type": "code",
   "execution_count": 42,
   "id": "7273a9f8-3880-4a8d-8090-dfeab442973b",
   "metadata": {},
   "outputs": [
    {
     "name": "stdout",
     "output_type": "stream",
     "text": [
      "(910, 30, 30, 3)\n",
      "29/29 [==============================] - 0s 2ms/step\n",
      "(910, 30, 30, 3)\n",
      "29/29 [==============================] - 0s 3ms/step\n",
      "(910, 30, 30, 3)\n",
      "29/29 [==============================] - 0s 2ms/step\n",
      "(910, 30, 30, 3)\n",
      "29/29 [==============================] - 0s 3ms/step\n",
      "(910, 30, 30, 3)\n",
      "29/29 [==============================] - 0s 2ms/step\n",
      "(910, 30, 30, 3)\n",
      "29/29 [==============================] - 0s 2ms/step\n",
      "(910, 30, 30, 3)\n",
      "29/29 [==============================] - 0s 2ms/step\n",
      "CPU times: user 2.55 s, sys: 128 ms, total: 2.68 s\n",
      "Wall time: 2.73 s\n"
     ]
    }
   ],
   "source": [
    "%%time\n",
    "# get the extracted input features\n",
    "\n",
    "blk_0301_all_features = []\n",
    "for file in images_block_0301:\n",
    "    extracted_features = extract_features(file, block_0301)\n",
    "    blk_0301_all_features.append(extracted_features)"
   ]
  },
  {
   "cell_type": "code",
   "execution_count": 43,
   "id": "553d1c73-9013-469b-ad5d-a08f822ad1a8",
   "metadata": {},
   "outputs": [],
   "source": [
    "# stack the extracted features\n",
    "blk_0301_stacked_extracted_features = np.stack(blk_0301_all_features, axis = 1)"
   ]
  },
  {
   "cell_type": "code",
   "execution_count": 44,
   "id": "8dc9168f-6f49-4fdd-9428-dcba03dee00a",
   "metadata": {},
   "outputs": [
    {
     "data": {
      "text/plain": [
       "(910, 7, 32)"
      ]
     },
     "execution_count": 44,
     "metadata": {},
     "output_type": "execute_result"
    }
   ],
   "source": [
    "blk_0301_stacked_extracted_features.shape"
   ]
  },
  {
   "cell_type": "code",
   "execution_count": 45,
   "id": "ad97af01-5897-44af-97c1-19a625521b98",
   "metadata": {},
   "outputs": [
    {
     "data": {
      "text/plain": [
       "0.36661348"
      ]
     },
     "execution_count": 45,
     "metadata": {},
     "output_type": "execute_result"
    }
   ],
   "source": [
    "# see if the mean of the extracted features match to the ones earlier\n",
    "np.mean(blk_0301_stacked_extracted_features)"
   ]
  },
  {
   "cell_type": "code",
   "execution_count": 46,
   "id": "32360a80-44ef-49a4-9914-068088b42943",
   "metadata": {},
   "outputs": [],
   "source": [
    "# We can stack all these now and save?\n",
    "\n",
    "all_train_targets_list = [blk_0101_stacked_extracted_features, blk_0102_stacked_extracted_features, blk_0203_stacked_extracted_features, blk_0301_stacked_extracted_features]"
   ]
  },
  {
   "cell_type": "code",
   "execution_count": 47,
   "id": "53d46fbb-3ce2-429d-9e1f-34cbf9c22b98",
   "metadata": {},
   "outputs": [],
   "source": [
    "# stack all these together?\n",
    "all_train_targets = np.vstack(all_train_targets_list)"
   ]
  },
  {
   "cell_type": "code",
   "execution_count": 48,
   "id": "65d4ddd8-d9e1-4490-bd48-b625787f6daa",
   "metadata": {},
   "outputs": [
    {
     "data": {
      "text/plain": [
       "(3640, 7, 32)"
      ]
     },
     "execution_count": 48,
     "metadata": {},
     "output_type": "execute_result"
    }
   ],
   "source": [
    "all_train_targets.shape"
   ]
  },
  {
   "cell_type": "code",
   "execution_count": 49,
   "id": "fd8cdffe-8a8e-4b75-8c49-ca24e68126e4",
   "metadata": {},
   "outputs": [
    {
     "name": "stdout",
     "output_type": "stream",
     "text": [
      "1.0\n",
      "1.0\n",
      "1.0\n",
      "1.0\n"
     ]
    }
   ],
   "source": [
    "# sanity check\n",
    "print(np.mean(all_train_targets[910*0:910*1, :, :] == blk_0101_stacked_extracted_features))\n",
    "print(np.mean(all_train_targets[910*1:910*2, :, :] == blk_0102_stacked_extracted_features))\n",
    "print(np.mean(all_train_targets[910*2:910*3, :, :] == blk_0203_stacked_extracted_features))\n",
    "print(np.mean(all_train_targets[910*3:910*4, :, :] == blk_0301_stacked_extracted_features))"
   ]
  },
  {
   "cell_type": "code",
   "execution_count": 50,
   "id": "647e4e3f-1528-4bf6-8b13-50d5714d4fc7",
   "metadata": {},
   "outputs": [],
   "source": [
    "# save the stack\n",
    "np.save(\"data/train_out_targets/all_train_targets.npy\", all_train_targets)"
   ]
  },
  {
   "cell_type": "code",
   "execution_count": 51,
   "id": "ed135016-ffde-49f1-8b2d-47d5a48740cf",
   "metadata": {},
   "outputs": [
    {
     "data": {
      "text/plain": [
       "1.0"
      ]
     },
     "execution_count": 51,
     "metadata": {},
     "output_type": "execute_result"
    }
   ],
   "source": [
    "# sanity check\n",
    "np.mean(all_train_targets == np.load(\"data/train_out_targets/all_train_targets.npy\"))"
   ]
  },
  {
   "cell_type": "code",
   "execution_count": 52,
   "id": "5d334ca3-5937-4289-8514-024122d67759",
   "metadata": {},
   "outputs": [],
   "source": [
    "# Do this also for the validation data, and then stop for the day?"
   ]
  },
  {
   "cell_type": "code",
   "execution_count": 53,
   "id": "88bc60a8-1117-4da0-9b72-a9cca4bfa0c4",
   "metadata": {},
   "outputs": [],
   "source": [
    "# block 0204"
   ]
  },
  {
   "cell_type": "code",
   "execution_count": 54,
   "id": "85b5207c-22ca-45b2-9eff-cb43660729f6",
   "metadata": {},
   "outputs": [],
   "source": [
    "block_0204 = \"../../Spring_2024/S_lab_TasselNet/Block_10_TN/Block_10_images_and_xml\""
   ]
  },
  {
   "cell_type": "code",
   "execution_count": 55,
   "id": "47bb38a7-9dbd-4d56-918e-049220609f08",
   "metadata": {},
   "outputs": [],
   "source": [
    "images_block_0204 = chose_xml_and_jpeg(block_0204)"
   ]
  },
  {
   "cell_type": "code",
   "execution_count": 56,
   "id": "829db1b5-6c31-44aa-9142-8acf20afdbd0",
   "metadata": {},
   "outputs": [
    {
     "data": {
      "text/plain": [
       "['Block0204_2020_08_26.jpeg',\n",
       " 'Block0204_2020_08_27.jpeg',\n",
       " 'Block0204_2020_08_28.jpeg',\n",
       " 'Block0204_2020_08_31.jpeg',\n",
       " 'Block0204_2020_09_02.jpeg',\n",
       " 'Block0204_2020_09_07.jpeg',\n",
       " 'Block0204_2020_09_16.jpeg']"
      ]
     },
     "execution_count": 56,
     "metadata": {},
     "output_type": "execute_result"
    }
   ],
   "source": [
    "images_block_0204"
   ]
  },
  {
   "cell_type": "code",
   "execution_count": 57,
   "id": "88446c59-6966-4642-aae8-c04dab6f5671",
   "metadata": {},
   "outputs": [
    {
     "name": "stdout",
     "output_type": "stream",
     "text": [
      "(910, 30, 30, 3)\n",
      "29/29 [==============================] - 0s 2ms/step\n",
      "(910, 30, 30, 3)\n",
      "29/29 [==============================] - 0s 2ms/step\n",
      "(910, 30, 30, 3)\n",
      "29/29 [==============================] - 0s 2ms/step\n",
      "(910, 30, 30, 3)\n",
      "29/29 [==============================] - 0s 2ms/step\n",
      "(910, 30, 30, 3)\n",
      "29/29 [==============================] - 0s 3ms/step\n",
      "(910, 30, 30, 3)\n",
      "29/29 [==============================] - 0s 2ms/step\n",
      "(910, 30, 30, 3)\n",
      "29/29 [==============================] - 0s 2ms/step\n",
      "CPU times: user 2.5 s, sys: 187 ms, total: 2.69 s\n",
      "Wall time: 2.69 s\n"
     ]
    }
   ],
   "source": [
    "%%time\n",
    "# get the extracted input features\n",
    "\n",
    "blk_0204_all_features = []\n",
    "for file in images_block_0204:\n",
    "    extracted_features = extract_features(file, block_0204)\n",
    "    blk_0204_all_features.append(extracted_features)"
   ]
  },
  {
   "cell_type": "code",
   "execution_count": 58,
   "id": "3d7e554a-5b73-4aa9-9e12-39abd7e581d3",
   "metadata": {},
   "outputs": [],
   "source": [
    "# stack the extracted features\n",
    "blk_0204_stacked_extracted_features = np.stack(blk_0204_all_features, axis = 1)"
   ]
  },
  {
   "cell_type": "code",
   "execution_count": 59,
   "id": "ecd27cb5-7e0d-42c8-9d63-ab08754ec008",
   "metadata": {},
   "outputs": [
    {
     "data": {
      "text/plain": [
       "(910, 7, 32)"
      ]
     },
     "execution_count": 59,
     "metadata": {},
     "output_type": "execute_result"
    }
   ],
   "source": [
    "blk_0204_stacked_extracted_features.shape"
   ]
  },
  {
   "cell_type": "code",
   "execution_count": 60,
   "id": "37c87ae1-6300-45d4-9c61-f83239a7bc60",
   "metadata": {},
   "outputs": [
    {
     "data": {
      "text/plain": [
       "0.36944777"
      ]
     },
     "execution_count": 60,
     "metadata": {},
     "output_type": "execute_result"
    }
   ],
   "source": [
    "# see if the mean of the extracted features match to the ones earlier\n",
    "np.mean(blk_0204_stacked_extracted_features)"
   ]
  },
  {
   "cell_type": "code",
   "execution_count": 61,
   "id": "d3117fa2-542e-41c1-a292-36834c0adace",
   "metadata": {},
   "outputs": [],
   "source": [
    "# save the data\n",
    "np.save(\"data/valid_out_targets/all_valid_targets.npy\", blk_0204_stacked_extracted_features)"
   ]
  },
  {
   "cell_type": "code",
   "execution_count": 62,
   "id": "0a2d119e-7c71-4641-810b-72b475aaa130",
   "metadata": {},
   "outputs": [
    {
     "data": {
      "text/plain": [
       "1.0"
      ]
     },
     "execution_count": 62,
     "metadata": {},
     "output_type": "execute_result"
    }
   ],
   "source": [
    "# sanity check\n",
    "np.mean(blk_0204_stacked_extracted_features == np.load(\"data/valid_out_targets/all_valid_targets.npy\"))"
   ]
  },
  {
   "cell_type": "markdown",
   "id": "f5867389-d3cf-4c4f-b39f-72b176eaa354",
   "metadata": {},
   "source": [
    "Preprocessing for the test data"
   ]
  },
  {
   "cell_type": "code",
   "execution_count": 63,
   "id": "8350b7b4-7898-4f57-9024-d23b4d68566a",
   "metadata": {},
   "outputs": [],
   "source": [
    "# Block 0103"
   ]
  },
  {
   "cell_type": "code",
   "execution_count": 64,
   "id": "0d75a05d-c411-4e1c-8977-cdef96685734",
   "metadata": {},
   "outputs": [],
   "source": [
    "block_0103 = \"../../Spring_2024/S_lab_TasselNet/Block_3_TN/Block_3_images_and_xml\""
   ]
  },
  {
   "cell_type": "code",
   "execution_count": 65,
   "id": "830bdce7-dfc9-4834-99bc-d625b44841ed",
   "metadata": {},
   "outputs": [],
   "source": [
    "images_block_0103 = chose_xml_and_jpeg(block_0103)"
   ]
  },
  {
   "cell_type": "code",
   "execution_count": 66,
   "id": "50795e66-a703-40ea-99b7-e960d65b9c30",
   "metadata": {},
   "outputs": [
    {
     "data": {
      "text/plain": [
       "['Block0103_2020_08_26.jpeg',\n",
       " 'Block0103_2020_08_27.jpeg',\n",
       " 'Block0103_2020_08_28.jpeg',\n",
       " 'Block0103_2020_08_31.jpeg',\n",
       " 'Block0103_2020_09_02.jpeg',\n",
       " 'Block0103_2020_09_07.jpeg',\n",
       " 'Block0103_2020_09_16.jpeg']"
      ]
     },
     "execution_count": 66,
     "metadata": {},
     "output_type": "execute_result"
    }
   ],
   "source": [
    "images_block_0103"
   ]
  },
  {
   "cell_type": "code",
   "execution_count": 67,
   "id": "3e5f04da-cc44-4968-9ba3-49bcfe38773f",
   "metadata": {},
   "outputs": [
    {
     "name": "stdout",
     "output_type": "stream",
     "text": [
      "(910, 30, 30, 3)\n",
      "29/29 [==============================] - 0s 2ms/step\n",
      "(910, 30, 30, 3)\n",
      "29/29 [==============================] - 0s 3ms/step\n",
      "(910, 30, 30, 3)\n",
      "29/29 [==============================] - 0s 2ms/step\n",
      "(910, 30, 30, 3)\n",
      "29/29 [==============================] - 0s 3ms/step\n",
      "(910, 30, 30, 3)\n",
      "29/29 [==============================] - 0s 2ms/step\n",
      "(910, 30, 30, 3)\n",
      "29/29 [==============================] - 0s 3ms/step\n",
      "(910, 30, 30, 3)\n",
      "29/29 [==============================] - 0s 2ms/step\n",
      "CPU times: user 2.5 s, sys: 150 ms, total: 2.65 s\n",
      "Wall time: 2.52 s\n"
     ]
    }
   ],
   "source": [
    "%%time\n",
    "# get the extracted input features\n",
    "\n",
    "blk_0103_all_features = []\n",
    "for file in images_block_0103:\n",
    "    extracted_features = extract_features(file, block_0103)\n",
    "    blk_0103_all_features.append(extracted_features)"
   ]
  },
  {
   "cell_type": "code",
   "execution_count": 68,
   "id": "d08030b2-bca3-4e3b-82af-0a53ae45df31",
   "metadata": {},
   "outputs": [],
   "source": [
    "# stack the extracted features\n",
    "blk_0103_stacked_extracted_features = np.stack(blk_0103_all_features, axis = 1)"
   ]
  },
  {
   "cell_type": "code",
   "execution_count": 69,
   "id": "1ec27579-ad35-4a4d-84fe-01bcbfa6e4a6",
   "metadata": {},
   "outputs": [
    {
     "data": {
      "text/plain": [
       "(910, 7, 32)"
      ]
     },
     "execution_count": 69,
     "metadata": {},
     "output_type": "execute_result"
    }
   ],
   "source": [
    "blk_0103_stacked_extracted_features.shape"
   ]
  },
  {
   "cell_type": "code",
   "execution_count": 70,
   "id": "647797a9-f755-4b35-b66a-3da72bef6576",
   "metadata": {},
   "outputs": [
    {
     "data": {
      "text/plain": [
       "0.36138183"
      ]
     },
     "execution_count": 70,
     "metadata": {},
     "output_type": "execute_result"
    }
   ],
   "source": [
    "# see if the mean of the extracted features match to the ones earlier\n",
    "np.mean(blk_0103_stacked_extracted_features)"
   ]
  },
  {
   "cell_type": "code",
   "execution_count": 71,
   "id": "7f310f02-6d39-4265-a1da-e98d2153b2ac",
   "metadata": {},
   "outputs": [],
   "source": [
    "# save the data\n",
    "np.save(\"data/test_out_targets/test_targets_blk_0103.npy\", blk_0103_stacked_extracted_features)"
   ]
  },
  {
   "cell_type": "code",
   "execution_count": 72,
   "id": "b4503894-428f-4caa-b021-4e297fc86979",
   "metadata": {},
   "outputs": [
    {
     "data": {
      "text/plain": [
       "1.0"
      ]
     },
     "execution_count": 72,
     "metadata": {},
     "output_type": "execute_result"
    }
   ],
   "source": [
    "# sanity check\n",
    "np.mean(blk_0103_stacked_extracted_features == np.load(\"data/test_out_targets/test_targets_blk_0103.npy\"))"
   ]
  },
  {
   "cell_type": "code",
   "execution_count": 73,
   "id": "e3f6d73d-24b1-486b-9cf6-2d243ec2c025",
   "metadata": {},
   "outputs": [],
   "source": [
    "# Block 0104"
   ]
  },
  {
   "cell_type": "code",
   "execution_count": 74,
   "id": "c879dca6-945e-497b-a2fe-b9ae3db8e88e",
   "metadata": {},
   "outputs": [],
   "source": [
    "block_0104 = \"../../Spring_2024/S_lab_TasselNet/Block_4_TN/Block_4_images_and_xml\""
   ]
  },
  {
   "cell_type": "code",
   "execution_count": 75,
   "id": "362c2cc1-3bbe-4aeb-8071-a0cd220c282c",
   "metadata": {},
   "outputs": [],
   "source": [
    "images_block_0104 = chose_xml_and_jpeg(block_0104)"
   ]
  },
  {
   "cell_type": "code",
   "execution_count": 76,
   "id": "b861c077-400e-4a64-a42c-28c3b9ce6e70",
   "metadata": {},
   "outputs": [
    {
     "data": {
      "text/plain": [
       "['Block0104_2020_08_26.jpeg',\n",
       " 'Block0104_2020_08_27.jpeg',\n",
       " 'Block0104_2020_08_28.jpeg',\n",
       " 'Block0104_2020_08_31.jpeg',\n",
       " 'Block0104_2020_09_02.jpeg',\n",
       " 'Block0104_2020_09_07.jpeg',\n",
       " 'Block0104_2020_09_16.jpeg']"
      ]
     },
     "execution_count": 76,
     "metadata": {},
     "output_type": "execute_result"
    }
   ],
   "source": [
    "images_block_0104"
   ]
  },
  {
   "cell_type": "code",
   "execution_count": 77,
   "id": "2ccdcddb-1a38-420b-9d19-ed5089e1e491",
   "metadata": {},
   "outputs": [
    {
     "name": "stdout",
     "output_type": "stream",
     "text": [
      "(910, 30, 30, 3)\n",
      "29/29 [==============================] - 0s 3ms/step\n",
      "(910, 30, 30, 3)\n",
      "29/29 [==============================] - 0s 2ms/step\n",
      "(910, 30, 30, 3)\n",
      "29/29 [==============================] - 0s 3ms/step\n",
      "(910, 30, 30, 3)\n",
      "29/29 [==============================] - 0s 2ms/step\n",
      "(910, 30, 30, 3)\n",
      "29/29 [==============================] - 0s 3ms/step\n",
      "(910, 30, 30, 3)\n",
      "29/29 [==============================] - 0s 2ms/step\n",
      "(910, 30, 30, 3)\n",
      "29/29 [==============================] - 0s 2ms/step\n",
      "CPU times: user 2.47 s, sys: 173 ms, total: 2.65 s\n",
      "Wall time: 2.49 s\n"
     ]
    }
   ],
   "source": [
    "%%time\n",
    "# get the extracted input features\n",
    "\n",
    "blk_0104_all_features = []\n",
    "for file in images_block_0104:\n",
    "    extracted_features = extract_features(file, block_0104)\n",
    "    blk_0104_all_features.append(extracted_features)"
   ]
  },
  {
   "cell_type": "code",
   "execution_count": 78,
   "id": "ade0761b-8e6b-44cb-95bf-27ec160b75fc",
   "metadata": {},
   "outputs": [],
   "source": [
    "# stack the extracted features\n",
    "blk_0104_stacked_extracted_features = np.stack(blk_0104_all_features, axis = 1)"
   ]
  },
  {
   "cell_type": "code",
   "execution_count": 79,
   "id": "b3a4cc7f-13a8-4e39-b050-e56eb9b45707",
   "metadata": {},
   "outputs": [
    {
     "data": {
      "text/plain": [
       "(910, 7, 32)"
      ]
     },
     "execution_count": 79,
     "metadata": {},
     "output_type": "execute_result"
    }
   ],
   "source": [
    "blk_0104_stacked_extracted_features.shape"
   ]
  },
  {
   "cell_type": "code",
   "execution_count": 80,
   "id": "ad69c4c1-a5e3-4a57-9022-5c66d69f1e3a",
   "metadata": {},
   "outputs": [
    {
     "data": {
      "text/plain": [
       "0.40887913"
      ]
     },
     "execution_count": 80,
     "metadata": {},
     "output_type": "execute_result"
    }
   ],
   "source": [
    "# see if the mean of the extracted features match to the ones earlier\n",
    "np.mean(blk_0104_stacked_extracted_features)"
   ]
  },
  {
   "cell_type": "code",
   "execution_count": 81,
   "id": "21ca71e0-cacd-4d3d-a1b8-03c3280a638a",
   "metadata": {},
   "outputs": [],
   "source": [
    "# save the data\n",
    "np.save(\"data/test_out_targets/test_targets_blk_0104.npy\", blk_0104_stacked_extracted_features)"
   ]
  },
  {
   "cell_type": "code",
   "execution_count": 82,
   "id": "8980ee97-14ed-474a-9700-4d8d93649716",
   "metadata": {},
   "outputs": [
    {
     "data": {
      "text/plain": [
       "1.0"
      ]
     },
     "execution_count": 82,
     "metadata": {},
     "output_type": "execute_result"
    }
   ],
   "source": [
    "# sanity check\n",
    "np.mean(blk_0104_stacked_extracted_features == np.load(\"data/test_out_targets/test_targets_blk_0104.npy\"))"
   ]
  },
  {
   "cell_type": "code",
   "execution_count": 83,
   "id": "00b82c17-600d-482e-b6bd-3caea034a1f0",
   "metadata": {},
   "outputs": [],
   "source": [
    "# Block 0105"
   ]
  },
  {
   "cell_type": "code",
   "execution_count": 84,
   "id": "257f25fd-82c0-408d-92ad-d78595dd75d1",
   "metadata": {},
   "outputs": [],
   "source": [
    "block_0105 = \"../../Spring_2024/S_lab_TasselNet/Block_5_TN/Block_5_images_and_xml\""
   ]
  },
  {
   "cell_type": "code",
   "execution_count": 85,
   "id": "b6e0e5fa-cead-4fbb-b9d2-3ac1e53c1b42",
   "metadata": {},
   "outputs": [],
   "source": [
    "images_block_0105 = chose_xml_and_jpeg(block_0105)"
   ]
  },
  {
   "cell_type": "code",
   "execution_count": 86,
   "id": "33c6ff2c-cbc4-4dac-b514-cb4a40db120d",
   "metadata": {},
   "outputs": [
    {
     "data": {
      "text/plain": [
       "['Block0105_2020_08_26.jpeg',\n",
       " 'Block0105_2020_08_27.jpeg',\n",
       " 'Block0105_2020_08_28.jpeg',\n",
       " 'Block0105_2020_08_31.jpeg',\n",
       " 'Block0105_2020_09_02.jpeg',\n",
       " 'Block0105_2020_09_07.jpeg',\n",
       " 'Block0105_2020_09_16.jpeg']"
      ]
     },
     "execution_count": 86,
     "metadata": {},
     "output_type": "execute_result"
    }
   ],
   "source": [
    "images_block_0105"
   ]
  },
  {
   "cell_type": "code",
   "execution_count": 87,
   "id": "9c2c7598-bbc2-4872-b989-6c1889034c8b",
   "metadata": {},
   "outputs": [
    {
     "name": "stdout",
     "output_type": "stream",
     "text": [
      "(910, 30, 30, 3)\n",
      "29/29 [==============================] - 0s 2ms/step\n",
      "(910, 30, 30, 3)\n",
      "29/29 [==============================] - 0s 3ms/step\n",
      "(910, 30, 30, 3)\n",
      "29/29 [==============================] - 0s 2ms/step\n",
      "(910, 30, 30, 3)\n",
      "29/29 [==============================] - 0s 3ms/step\n",
      "(910, 30, 30, 3)\n",
      "29/29 [==============================] - 0s 2ms/step\n",
      "(910, 30, 30, 3)\n",
      "29/29 [==============================] - 0s 3ms/step\n",
      "(910, 30, 30, 3)\n",
      "29/29 [==============================] - 0s 3ms/step\n",
      "CPU times: user 2.53 s, sys: 71.1 ms, total: 2.6 s\n",
      "Wall time: 2.45 s\n"
     ]
    }
   ],
   "source": [
    "%%time\n",
    "# get the extracted input features\n",
    "\n",
    "blk_0105_all_features = []\n",
    "for file in images_block_0105:\n",
    "    extracted_features = extract_features(file, block_0105)\n",
    "    blk_0105_all_features.append(extracted_features)"
   ]
  },
  {
   "cell_type": "code",
   "execution_count": 88,
   "id": "22ff8b64-7e77-4c0d-add6-b8723b9ac7be",
   "metadata": {},
   "outputs": [],
   "source": [
    "# stack the extracted features\n",
    "blk_0105_stacked_extracted_features = np.stack(blk_0105_all_features, axis = 1)"
   ]
  },
  {
   "cell_type": "code",
   "execution_count": 89,
   "id": "d249e3c1-56fc-4ba0-9890-fa04c3c9fc6c",
   "metadata": {},
   "outputs": [
    {
     "data": {
      "text/plain": [
       "(910, 7, 32)"
      ]
     },
     "execution_count": 89,
     "metadata": {},
     "output_type": "execute_result"
    }
   ],
   "source": [
    "blk_0105_stacked_extracted_features.shape"
   ]
  },
  {
   "cell_type": "code",
   "execution_count": 90,
   "id": "08bc640d-07a4-4d26-b734-9ddcb7a24521",
   "metadata": {},
   "outputs": [
    {
     "data": {
      "text/plain": [
       "0.3909853"
      ]
     },
     "execution_count": 90,
     "metadata": {},
     "output_type": "execute_result"
    }
   ],
   "source": [
    "# see if the mean of the extracted features match to the ones earlier\n",
    "np.mean(blk_0105_stacked_extracted_features)"
   ]
  },
  {
   "cell_type": "code",
   "execution_count": 91,
   "id": "b033d9d2-c7a4-471f-81b6-c4e99667da6d",
   "metadata": {},
   "outputs": [],
   "source": [
    "# save the data\n",
    "np.save(\"data/test_out_targets/test_targets_blk_0105.npy\", blk_0105_stacked_extracted_features)"
   ]
  },
  {
   "cell_type": "code",
   "execution_count": 92,
   "id": "31105742-7a69-4f51-8248-48b37a6ebdc5",
   "metadata": {},
   "outputs": [
    {
     "data": {
      "text/plain": [
       "1.0"
      ]
     },
     "execution_count": 92,
     "metadata": {},
     "output_type": "execute_result"
    }
   ],
   "source": [
    "# sanity check\n",
    "np.mean(blk_0105_stacked_extracted_features == np.load(\"data/test_out_targets/test_targets_blk_0105.npy\"))"
   ]
  },
  {
   "cell_type": "code",
   "execution_count": 93,
   "id": "fd47dba4-e291-4c0f-91af-6a95e77a85a9",
   "metadata": {},
   "outputs": [],
   "source": [
    "# Block 0106"
   ]
  },
  {
   "cell_type": "code",
   "execution_count": 94,
   "id": "2c8f0693-bbad-4e60-92c7-6bd468db67ee",
   "metadata": {},
   "outputs": [],
   "source": [
    "block_0106 = \"../../Spring_2024/S_lab_TasselNet/Block_6_TN/Block_6_images_and_xml\""
   ]
  },
  {
   "cell_type": "code",
   "execution_count": 95,
   "id": "90ad7b19-1e86-4f8b-8551-a81bf2729a4a",
   "metadata": {},
   "outputs": [],
   "source": [
    "images_block_0106 = chose_xml_and_jpeg(block_0106)"
   ]
  },
  {
   "cell_type": "code",
   "execution_count": 96,
   "id": "9b848918-5479-43d3-9d92-d907b6551f95",
   "metadata": {},
   "outputs": [
    {
     "data": {
      "text/plain": [
       "['Block0106_2020_08_26.jpeg',\n",
       " 'Block0106_2020_08_27.jpeg',\n",
       " 'Block0106_2020_08_28.jpeg',\n",
       " 'Block0106_2020_08_31.jpeg',\n",
       " 'Block0106_2020_09_02.jpeg',\n",
       " 'Block0106_2020_09_07.jpeg',\n",
       " 'Block0106_2020_09_16.jpeg']"
      ]
     },
     "execution_count": 96,
     "metadata": {},
     "output_type": "execute_result"
    }
   ],
   "source": [
    "images_block_0106"
   ]
  },
  {
   "cell_type": "code",
   "execution_count": 97,
   "id": "2680acc2-2f2b-4138-b027-52d4d417eeee",
   "metadata": {},
   "outputs": [
    {
     "name": "stdout",
     "output_type": "stream",
     "text": [
      "(910, 30, 30, 3)\n",
      "29/29 [==============================] - 0s 2ms/step\n",
      "(910, 30, 30, 3)\n",
      "29/29 [==============================] - 0s 2ms/step\n",
      "(910, 30, 30, 3)\n",
      "29/29 [==============================] - 0s 2ms/step\n",
      "(910, 30, 30, 3)\n",
      "29/29 [==============================] - 0s 3ms/step\n",
      "(910, 30, 30, 3)\n",
      "29/29 [==============================] - 0s 2ms/step\n",
      "(910, 30, 30, 3)\n",
      "29/29 [==============================] - 0s 3ms/step\n",
      "(910, 30, 30, 3)\n",
      "29/29 [==============================] - 0s 2ms/step\n",
      "CPU times: user 2.51 s, sys: 132 ms, total: 2.64 s\n",
      "Wall time: 2.49 s\n"
     ]
    }
   ],
   "source": [
    "%%time\n",
    "# get the extracted input features\n",
    "\n",
    "blk_0106_all_features = []\n",
    "for file in images_block_0106:\n",
    "    extracted_features = extract_features(file, block_0106)\n",
    "    blk_0106_all_features.append(extracted_features)"
   ]
  },
  {
   "cell_type": "code",
   "execution_count": 98,
   "id": "8b31bd95-c787-4ef2-b498-418a0201d649",
   "metadata": {},
   "outputs": [],
   "source": [
    "# stack the extracted features\n",
    "blk_0106_stacked_extracted_features = np.stack(blk_0106_all_features, axis = 1)"
   ]
  },
  {
   "cell_type": "code",
   "execution_count": 99,
   "id": "7aa62a33-459f-461f-9366-df3943ead523",
   "metadata": {},
   "outputs": [
    {
     "data": {
      "text/plain": [
       "(910, 7, 32)"
      ]
     },
     "execution_count": 99,
     "metadata": {},
     "output_type": "execute_result"
    }
   ],
   "source": [
    "blk_0106_stacked_extracted_features.shape"
   ]
  },
  {
   "cell_type": "code",
   "execution_count": 100,
   "id": "d85001ac-b5a8-4a13-89c6-a100b7edc130",
   "metadata": {},
   "outputs": [
    {
     "data": {
      "text/plain": [
       "0.3950835"
      ]
     },
     "execution_count": 100,
     "metadata": {},
     "output_type": "execute_result"
    }
   ],
   "source": [
    "# see if the mean of the extracted features match to the ones earlier\n",
    "np.mean(blk_0106_stacked_extracted_features)"
   ]
  },
  {
   "cell_type": "code",
   "execution_count": 101,
   "id": "955021d5-e297-4cb7-92cd-f3f185d2b3f2",
   "metadata": {},
   "outputs": [],
   "source": [
    "# save the data\n",
    "np.save(\"data/test_out_targets/test_targets_blk_0106.npy\", blk_0106_stacked_extracted_features)"
   ]
  },
  {
   "cell_type": "code",
   "execution_count": 102,
   "id": "8de59fe6-8364-49e6-adb4-6cee2f9ed9c5",
   "metadata": {},
   "outputs": [
    {
     "data": {
      "text/plain": [
       "1.0"
      ]
     },
     "execution_count": 102,
     "metadata": {},
     "output_type": "execute_result"
    }
   ],
   "source": [
    "# sanity check\n",
    "np.mean(blk_0106_stacked_extracted_features == np.load(\"data/test_out_targets/test_targets_blk_0106.npy\"))"
   ]
  },
  {
   "cell_type": "code",
   "execution_count": 103,
   "id": "eb0da23e-ede4-42ca-af95-bb1b4c29edf4",
   "metadata": {},
   "outputs": [],
   "source": [
    "# Block 0201"
   ]
  },
  {
   "cell_type": "code",
   "execution_count": 104,
   "id": "2ee31076-d74b-4293-b607-37292d540f15",
   "metadata": {},
   "outputs": [],
   "source": [
    "block_0201 = \"../../Spring_2024/S_lab_TasselNet/Block_7_TN/Block_7_images_and_xml\""
   ]
  },
  {
   "cell_type": "code",
   "execution_count": 105,
   "id": "7bfee2f8-3051-4fbc-b154-b3f929405ee5",
   "metadata": {},
   "outputs": [],
   "source": [
    "images_block_0201 = chose_xml_and_jpeg(block_0201)"
   ]
  },
  {
   "cell_type": "code",
   "execution_count": 106,
   "id": "d301752a-75f2-4d43-91b3-e800b9e6770e",
   "metadata": {},
   "outputs": [
    {
     "data": {
      "text/plain": [
       "['Block0201_2020_08_26.jpeg',\n",
       " 'Block0201_2020_08_27.jpeg',\n",
       " 'Block0201_2020_08_28.jpeg',\n",
       " 'Block0201_2020_08_31.jpeg',\n",
       " 'Block0201_2020_09_02.jpeg',\n",
       " 'Block0201_2020_09_07.jpeg',\n",
       " 'Block0201_2020_09_16.jpeg']"
      ]
     },
     "execution_count": 106,
     "metadata": {},
     "output_type": "execute_result"
    }
   ],
   "source": [
    "images_block_0201"
   ]
  },
  {
   "cell_type": "code",
   "execution_count": 107,
   "id": "a275f85a-d6a8-47c0-a30e-ed4c1a935a01",
   "metadata": {},
   "outputs": [
    {
     "name": "stdout",
     "output_type": "stream",
     "text": [
      "(910, 30, 30, 3)\n",
      "29/29 [==============================] - 0s 3ms/step\n",
      "(910, 30, 30, 3)\n",
      "29/29 [==============================] - 0s 2ms/step\n",
      "(910, 30, 30, 3)\n",
      "29/29 [==============================] - 0s 2ms/step\n",
      "(910, 30, 30, 3)\n",
      "29/29 [==============================] - 0s 2ms/step\n",
      "(910, 30, 30, 3)\n",
      "29/29 [==============================] - 0s 2ms/step\n",
      "(910, 30, 30, 3)\n",
      "29/29 [==============================] - 0s 2ms/step\n",
      "(910, 30, 30, 3)\n",
      "29/29 [==============================] - 0s 2ms/step\n",
      "CPU times: user 2.53 s, sys: 152 ms, total: 2.68 s\n",
      "Wall time: 2.53 s\n"
     ]
    }
   ],
   "source": [
    "%%time\n",
    "# get the extracted input features\n",
    "\n",
    "blk_0201_all_features = []\n",
    "for file in images_block_0201:\n",
    "    extracted_features = extract_features(file, block_0201)\n",
    "    blk_0201_all_features.append(extracted_features)"
   ]
  },
  {
   "cell_type": "code",
   "execution_count": 108,
   "id": "bc73330f-041a-4afe-8cdb-a7f38dafe0cb",
   "metadata": {},
   "outputs": [],
   "source": [
    "# stack the extracted features\n",
    "blk_0201_stacked_extracted_features = np.stack(blk_0201_all_features, axis = 1)"
   ]
  },
  {
   "cell_type": "code",
   "execution_count": 109,
   "id": "e83665d5-08c2-4746-9580-e29ce7346b58",
   "metadata": {},
   "outputs": [
    {
     "data": {
      "text/plain": [
       "(910, 7, 32)"
      ]
     },
     "execution_count": 109,
     "metadata": {},
     "output_type": "execute_result"
    }
   ],
   "source": [
    "blk_0201_stacked_extracted_features.shape"
   ]
  },
  {
   "cell_type": "code",
   "execution_count": 110,
   "id": "9fffc348-079a-46ba-ae5d-47c236b9e440",
   "metadata": {},
   "outputs": [
    {
     "data": {
      "text/plain": [
       "0.36208984"
      ]
     },
     "execution_count": 110,
     "metadata": {},
     "output_type": "execute_result"
    }
   ],
   "source": [
    "# see if the mean of the extracted features match to the ones earlier\n",
    "np.mean(blk_0201_stacked_extracted_features)"
   ]
  },
  {
   "cell_type": "code",
   "execution_count": 111,
   "id": "76f2073d-5bc6-40a1-8505-472081cfc54f",
   "metadata": {},
   "outputs": [],
   "source": [
    "# save the data\n",
    "np.save(\"data/test_out_targets/test_targets_blk_0201.npy\", blk_0201_stacked_extracted_features)"
   ]
  },
  {
   "cell_type": "code",
   "execution_count": 112,
   "id": "f175937c-8180-45fc-a006-e708f7e1a344",
   "metadata": {},
   "outputs": [
    {
     "data": {
      "text/plain": [
       "1.0"
      ]
     },
     "execution_count": 112,
     "metadata": {},
     "output_type": "execute_result"
    }
   ],
   "source": [
    "# sanity check\n",
    "np.mean(blk_0201_stacked_extracted_features == np.load(\"data/test_out_targets/test_targets_blk_0201.npy\"))"
   ]
  },
  {
   "cell_type": "code",
   "execution_count": 113,
   "id": "c45f9c90-ed7b-49c4-a683-e1ad8ab70e1c",
   "metadata": {},
   "outputs": [],
   "source": [
    "# Block 0202"
   ]
  },
  {
   "cell_type": "code",
   "execution_count": 114,
   "id": "aa8d7b36-a247-456c-87ab-b181d6577a42",
   "metadata": {},
   "outputs": [],
   "source": [
    "block_0202 = \"../../Spring_2024/S_lab_TasselNet/Block_8_TN/Block_8_images_and_xml\""
   ]
  },
  {
   "cell_type": "code",
   "execution_count": 115,
   "id": "7174d05b-7a54-4698-ab59-d6dfa6c59dc0",
   "metadata": {},
   "outputs": [],
   "source": [
    "images_block_0202 = chose_xml_and_jpeg(block_0202)"
   ]
  },
  {
   "cell_type": "code",
   "execution_count": 116,
   "id": "87e200ed-f022-4e6a-b889-4b69edcdb6e8",
   "metadata": {},
   "outputs": [
    {
     "data": {
      "text/plain": [
       "['Block0202_2020_08_26.jpeg',\n",
       " 'Block0202_2020_08_27.jpeg',\n",
       " 'Block0202_2020_08_28.jpeg',\n",
       " 'Block0202_2020_08_31.jpeg',\n",
       " 'Block0202_2020_09_02.jpeg',\n",
       " 'Block0202_2020_09_07.jpeg',\n",
       " 'Block0202_2020_09_16.jpeg']"
      ]
     },
     "execution_count": 116,
     "metadata": {},
     "output_type": "execute_result"
    }
   ],
   "source": [
    "images_block_0202"
   ]
  },
  {
   "cell_type": "code",
   "execution_count": 117,
   "id": "42aa7eb8-d198-4b89-b56d-a56aaf490926",
   "metadata": {},
   "outputs": [
    {
     "name": "stdout",
     "output_type": "stream",
     "text": [
      "(910, 30, 30, 3)\n",
      "29/29 [==============================] - 0s 2ms/step\n",
      "(910, 30, 30, 3)\n",
      "29/29 [==============================] - 0s 2ms/step\n",
      "(910, 30, 30, 3)\n",
      "29/29 [==============================] - 0s 2ms/step\n",
      "(910, 30, 30, 3)\n",
      "29/29 [==============================] - 0s 2ms/step\n",
      "(910, 30, 30, 3)\n",
      "29/29 [==============================] - 0s 2ms/step\n",
      "(910, 30, 30, 3)\n",
      "29/29 [==============================] - 0s 2ms/step\n",
      "(910, 30, 30, 3)\n",
      "29/29 [==============================] - 0s 3ms/step\n",
      "CPU times: user 2.5 s, sys: 128 ms, total: 2.63 s\n",
      "Wall time: 2.47 s\n"
     ]
    }
   ],
   "source": [
    "%%time\n",
    "# get the extracted input features\n",
    "\n",
    "blk_0202_all_features = []\n",
    "for file in images_block_0202:\n",
    "    extracted_features = extract_features(file, block_0202)\n",
    "    blk_0202_all_features.append(extracted_features)"
   ]
  },
  {
   "cell_type": "code",
   "execution_count": 118,
   "id": "813c146c-7bac-4a55-bdd6-016a5172625f",
   "metadata": {},
   "outputs": [],
   "source": [
    "# stack the extracted features\n",
    "blk_0202_stacked_extracted_features = np.stack(blk_0202_all_features, axis = 1)"
   ]
  },
  {
   "cell_type": "code",
   "execution_count": 119,
   "id": "afe20c08-9340-455c-b6c2-eb4c682309d0",
   "metadata": {},
   "outputs": [
    {
     "data": {
      "text/plain": [
       "(910, 7, 32)"
      ]
     },
     "execution_count": 119,
     "metadata": {},
     "output_type": "execute_result"
    }
   ],
   "source": [
    "blk_0202_stacked_extracted_features.shape"
   ]
  },
  {
   "cell_type": "code",
   "execution_count": 120,
   "id": "ed54b26f-a18c-46dc-9277-be5e532d373d",
   "metadata": {},
   "outputs": [
    {
     "data": {
      "text/plain": [
       "0.33163238"
      ]
     },
     "execution_count": 120,
     "metadata": {},
     "output_type": "execute_result"
    }
   ],
   "source": [
    "# see if the mean of the extracted features match to the ones earlier\n",
    "np.mean(blk_0202_stacked_extracted_features)"
   ]
  },
  {
   "cell_type": "code",
   "execution_count": 121,
   "id": "3e8e3651-849d-4ae8-ada6-f3fb6c9d3ca0",
   "metadata": {},
   "outputs": [],
   "source": [
    "# save the data\n",
    "np.save(\"data/test_out_targets/test_targets_blk_0202.npy\", blk_0202_stacked_extracted_features)"
   ]
  },
  {
   "cell_type": "code",
   "execution_count": 122,
   "id": "aa4424de-b320-44d5-bf4e-4ffd33dea9e3",
   "metadata": {},
   "outputs": [
    {
     "data": {
      "text/plain": [
       "1.0"
      ]
     },
     "execution_count": 122,
     "metadata": {},
     "output_type": "execute_result"
    }
   ],
   "source": [
    "# sanity check\n",
    "np.mean(blk_0202_stacked_extracted_features == np.load(\"data/test_out_targets/test_targets_blk_0202.npy\"))"
   ]
  },
  {
   "cell_type": "code",
   "execution_count": 123,
   "id": "cf53623f-9d12-4f3c-95d4-d04bde3e9246",
   "metadata": {},
   "outputs": [],
   "source": [
    "# Block 0205"
   ]
  },
  {
   "cell_type": "code",
   "execution_count": 124,
   "id": "96c5451d-8445-4197-8ba5-8832bb098c3c",
   "metadata": {},
   "outputs": [],
   "source": [
    "block_0205 = \"../../Spring_2024/S_lab_TasselNet/Block_11_TN/Block_11_images_and_xml\""
   ]
  },
  {
   "cell_type": "code",
   "execution_count": 125,
   "id": "a4991bd6-b1dd-4dd2-99e5-eec8471345ca",
   "metadata": {},
   "outputs": [],
   "source": [
    "images_block_0205 = chose_xml_and_jpeg(block_0205)"
   ]
  },
  {
   "cell_type": "code",
   "execution_count": 126,
   "id": "1735ed3d-cb77-48e6-8d97-ffb3e84f3952",
   "metadata": {},
   "outputs": [
    {
     "data": {
      "text/plain": [
       "['Block0205_2020_08_26.jpeg',\n",
       " 'Block0205_2020_08_27.jpeg',\n",
       " 'Block0205_2020_08_28.jpeg',\n",
       " 'Block0205_2020_08_31.jpeg',\n",
       " 'Block0205_2020_09_02.jpeg',\n",
       " 'Block0205_2020_09_07.jpeg',\n",
       " 'Block0205_2020_09_16.jpeg']"
      ]
     },
     "execution_count": 126,
     "metadata": {},
     "output_type": "execute_result"
    }
   ],
   "source": [
    "images_block_0205"
   ]
  },
  {
   "cell_type": "code",
   "execution_count": 127,
   "id": "74107dbe-ea4c-4f44-afc3-b32a8d363653",
   "metadata": {},
   "outputs": [
    {
     "name": "stdout",
     "output_type": "stream",
     "text": [
      "(910, 30, 30, 3)\n",
      "29/29 [==============================] - 0s 2ms/step\n",
      "(910, 30, 30, 3)\n",
      "29/29 [==============================] - 0s 3ms/step\n",
      "(910, 30, 30, 3)\n",
      "29/29 [==============================] - 0s 3ms/step\n",
      "(910, 30, 30, 3)\n",
      "29/29 [==============================] - 0s 3ms/step\n",
      "(910, 30, 30, 3)\n",
      "29/29 [==============================] - 0s 2ms/step\n",
      "(910, 30, 30, 3)\n",
      "29/29 [==============================] - 0s 2ms/step\n",
      "(910, 30, 30, 3)\n",
      "29/29 [==============================] - 0s 2ms/step\n",
      "CPU times: user 2.54 s, sys: 111 ms, total: 2.65 s\n",
      "Wall time: 2.51 s\n"
     ]
    }
   ],
   "source": [
    "%%time\n",
    "# get the extracted input features\n",
    "\n",
    "blk_0205_all_features = []\n",
    "for file in images_block_0205:\n",
    "    extracted_features = extract_features(file, block_0205)\n",
    "    blk_0205_all_features.append(extracted_features)"
   ]
  },
  {
   "cell_type": "code",
   "execution_count": 128,
   "id": "2d885fe2-63c3-401b-b3b9-183a25ff04ef",
   "metadata": {},
   "outputs": [],
   "source": [
    "# stack the extracted features\n",
    "blk_0205_stacked_extracted_features = np.stack(blk_0205_all_features, axis = 1)"
   ]
  },
  {
   "cell_type": "code",
   "execution_count": 129,
   "id": "bce63730-cd7e-4e49-8da5-deee177fac8c",
   "metadata": {},
   "outputs": [
    {
     "data": {
      "text/plain": [
       "(910, 7, 32)"
      ]
     },
     "execution_count": 129,
     "metadata": {},
     "output_type": "execute_result"
    }
   ],
   "source": [
    "blk_0205_stacked_extracted_features.shape"
   ]
  },
  {
   "cell_type": "code",
   "execution_count": 130,
   "id": "c5ee946f-419d-4408-846a-7896bcf3b879",
   "metadata": {},
   "outputs": [
    {
     "data": {
      "text/plain": [
       "0.40223897"
      ]
     },
     "execution_count": 130,
     "metadata": {},
     "output_type": "execute_result"
    }
   ],
   "source": [
    "# see if the mean of the extracted features match to the ones earlier\n",
    "np.mean(blk_0205_stacked_extracted_features)"
   ]
  },
  {
   "cell_type": "code",
   "execution_count": 131,
   "id": "7fc5381d-f0de-433d-9b7f-bc79daf85303",
   "metadata": {},
   "outputs": [],
   "source": [
    "# save the data\n",
    "np.save(\"data/test_out_targets/test_targets_blk_0205.npy\", blk_0205_stacked_extracted_features)"
   ]
  },
  {
   "cell_type": "code",
   "execution_count": 132,
   "id": "6a2d0a87-8188-4b81-a2ce-ce220c4a0dfd",
   "metadata": {},
   "outputs": [
    {
     "data": {
      "text/plain": [
       "1.0"
      ]
     },
     "execution_count": 132,
     "metadata": {},
     "output_type": "execute_result"
    }
   ],
   "source": [
    "# sanity check\n",
    "np.mean(blk_0205_stacked_extracted_features == np.load(\"data/test_out_targets/test_targets_blk_0205.npy\"))"
   ]
  },
  {
   "cell_type": "code",
   "execution_count": 133,
   "id": "20c37ff3-1045-4be7-8987-8efb258828ae",
   "metadata": {},
   "outputs": [],
   "source": [
    "# Block 0206"
   ]
  },
  {
   "cell_type": "code",
   "execution_count": 134,
   "id": "d7e16e23-13a3-48d3-8ec0-32db4fb7705e",
   "metadata": {},
   "outputs": [],
   "source": [
    "block_0206 = \"../../Spring_2024/S_lab_TasselNet/Block_12_TN/Block_12_images_and_xml\""
   ]
  },
  {
   "cell_type": "code",
   "execution_count": 135,
   "id": "994f5dce-9151-40f0-8c12-170e404d6033",
   "metadata": {},
   "outputs": [],
   "source": [
    "images_block_0206 = chose_xml_and_jpeg(block_0206)"
   ]
  },
  {
   "cell_type": "code",
   "execution_count": 136,
   "id": "eb09de66-d7aa-47f2-9922-404d1bdf80dd",
   "metadata": {},
   "outputs": [
    {
     "data": {
      "text/plain": [
       "['Block0206_2020_08_26.jpeg',\n",
       " 'Block0206_2020_08_27.jpeg',\n",
       " 'Block0206_2020_08_28.jpeg',\n",
       " 'Block0206_2020_08_31.jpeg',\n",
       " 'Block0206_2020_09_02.jpeg',\n",
       " 'Block0206_2020_09_07.jpeg',\n",
       " 'Block0206_2020_09_16.jpeg']"
      ]
     },
     "execution_count": 136,
     "metadata": {},
     "output_type": "execute_result"
    }
   ],
   "source": [
    "images_block_0206"
   ]
  },
  {
   "cell_type": "code",
   "execution_count": 137,
   "id": "222dfaf0-a65d-43e0-9fe7-5e03b5ad04fe",
   "metadata": {},
   "outputs": [
    {
     "name": "stdout",
     "output_type": "stream",
     "text": [
      "(910, 30, 30, 3)\n",
      "29/29 [==============================] - 0s 2ms/step\n",
      "(910, 30, 30, 3)\n",
      "29/29 [==============================] - 0s 3ms/step\n",
      "(910, 30, 30, 3)\n",
      "29/29 [==============================] - 0s 3ms/step\n",
      "(910, 30, 30, 3)\n",
      "29/29 [==============================] - 0s 3ms/step\n",
      "(910, 30, 30, 3)\n",
      "29/29 [==============================] - 0s 2ms/step\n",
      "(910, 30, 30, 3)\n",
      "29/29 [==============================] - 0s 3ms/step\n",
      "(910, 30, 30, 3)\n",
      "29/29 [==============================] - 0s 2ms/step\n",
      "CPU times: user 2.57 s, sys: 134 ms, total: 2.71 s\n",
      "Wall time: 2.55 s\n"
     ]
    }
   ],
   "source": [
    "%%time\n",
    "# get the extracted input features\n",
    "\n",
    "blk_0206_all_features = []\n",
    "for file in images_block_0206:\n",
    "    extracted_features = extract_features(file, block_0206)\n",
    "    blk_0206_all_features.append(extracted_features)"
   ]
  },
  {
   "cell_type": "code",
   "execution_count": 138,
   "id": "8de0864d-f1dd-4a5b-9e98-0c8501cfb814",
   "metadata": {},
   "outputs": [],
   "source": [
    "# stack the extracted features\n",
    "blk_0206_stacked_extracted_features = np.stack(blk_0206_all_features, axis = 1)"
   ]
  },
  {
   "cell_type": "code",
   "execution_count": 139,
   "id": "f066595a-7ff0-47ff-be59-1f631807d304",
   "metadata": {},
   "outputs": [
    {
     "data": {
      "text/plain": [
       "(910, 7, 32)"
      ]
     },
     "execution_count": 139,
     "metadata": {},
     "output_type": "execute_result"
    }
   ],
   "source": [
    "blk_0206_stacked_extracted_features.shape"
   ]
  },
  {
   "cell_type": "code",
   "execution_count": 140,
   "id": "5c0844de-0714-4784-bf23-ba666a577c89",
   "metadata": {},
   "outputs": [
    {
     "data": {
      "text/plain": [
       "0.35740727"
      ]
     },
     "execution_count": 140,
     "metadata": {},
     "output_type": "execute_result"
    }
   ],
   "source": [
    "# see if the mean of the extracted features match to the ones earlier\n",
    "np.mean(blk_0206_stacked_extracted_features)"
   ]
  },
  {
   "cell_type": "code",
   "execution_count": 141,
   "id": "02b031fe-6bf6-43ec-b13b-6e1855e9b398",
   "metadata": {},
   "outputs": [],
   "source": [
    "# save the data\n",
    "np.save(\"data/test_out_targets/test_targets_blk_0206.npy\", blk_0206_stacked_extracted_features)"
   ]
  },
  {
   "cell_type": "code",
   "execution_count": 142,
   "id": "ca1394ef-b2c6-4b27-8621-5c451018c8b7",
   "metadata": {},
   "outputs": [
    {
     "data": {
      "text/plain": [
       "1.0"
      ]
     },
     "execution_count": 142,
     "metadata": {},
     "output_type": "execute_result"
    }
   ],
   "source": [
    "# sanity check\n",
    "np.mean(blk_0206_stacked_extracted_features == np.load(\"data/test_out_targets/test_targets_blk_0206.npy\"))"
   ]
  },
  {
   "cell_type": "code",
   "execution_count": 143,
   "id": "1b1bcaa2-1adf-4b84-8ac3-d491284763eb",
   "metadata": {},
   "outputs": [],
   "source": [
    "# Block 0302"
   ]
  },
  {
   "cell_type": "code",
   "execution_count": 144,
   "id": "bed77406-1b94-45b3-915c-56d470f5a24f",
   "metadata": {},
   "outputs": [],
   "source": [
    "block_0302 = \"../../Spring_2024/S_lab_TasselNet/Block_14_TN/Block_14_images_and_xml\""
   ]
  },
  {
   "cell_type": "code",
   "execution_count": 145,
   "id": "ed3725fd-65f8-488b-b49e-68a7c0fa03e0",
   "metadata": {},
   "outputs": [],
   "source": [
    "images_block_0302 = chose_xml_and_jpeg(block_0302)"
   ]
  },
  {
   "cell_type": "code",
   "execution_count": 146,
   "id": "512f9c4f-20a1-4579-8c36-449217f8d91f",
   "metadata": {},
   "outputs": [
    {
     "data": {
      "text/plain": [
       "['Block0302_2020_08_26.jpeg',\n",
       " 'Block0302_2020_08_27.jpeg',\n",
       " 'Block0302_2020_08_28.jpeg',\n",
       " 'Block0302_2020_08_31.jpeg',\n",
       " 'Block0302_2020_09_02.jpeg',\n",
       " 'Block0302_2020_09_07.jpeg',\n",
       " 'Block0302_2020_09_16.jpeg']"
      ]
     },
     "execution_count": 146,
     "metadata": {},
     "output_type": "execute_result"
    }
   ],
   "source": [
    "images_block_0302"
   ]
  },
  {
   "cell_type": "code",
   "execution_count": 147,
   "id": "184757db-3d11-4411-965f-ad90d8e3abe9",
   "metadata": {},
   "outputs": [
    {
     "name": "stdout",
     "output_type": "stream",
     "text": [
      "(910, 30, 30, 3)\n",
      "29/29 [==============================] - 0s 3ms/step\n",
      "(910, 30, 30, 3)\n",
      "29/29 [==============================] - 0s 2ms/step\n",
      "(910, 30, 30, 3)\n",
      "29/29 [==============================] - 0s 2ms/step\n",
      "(910, 30, 30, 3)\n",
      "29/29 [==============================] - 0s 2ms/step\n",
      "(910, 30, 30, 3)\n",
      "29/29 [==============================] - 0s 2ms/step\n",
      "(910, 30, 30, 3)\n",
      "29/29 [==============================] - 0s 3ms/step\n",
      "(910, 30, 30, 3)\n",
      "29/29 [==============================] - 0s 3ms/step\n",
      "CPU times: user 2.55 s, sys: 129 ms, total: 2.68 s\n",
      "Wall time: 2.53 s\n"
     ]
    }
   ],
   "source": [
    "%%time\n",
    "# get the extracted input features\n",
    "\n",
    "blk_0302_all_features = []\n",
    "for file in images_block_0302:\n",
    "    extracted_features = extract_features(file, block_0302)\n",
    "    blk_0302_all_features.append(extracted_features)"
   ]
  },
  {
   "cell_type": "code",
   "execution_count": 148,
   "id": "a22498ed-df72-413b-8f83-4af35c0b50c8",
   "metadata": {},
   "outputs": [],
   "source": [
    "# stack the extracted features\n",
    "blk_0302_stacked_extracted_features = np.stack(blk_0302_all_features, axis = 1)"
   ]
  },
  {
   "cell_type": "code",
   "execution_count": 149,
   "id": "c707a6ab-99dc-4df0-95dc-5fb5d838aec2",
   "metadata": {},
   "outputs": [
    {
     "data": {
      "text/plain": [
       "(910, 7, 32)"
      ]
     },
     "execution_count": 149,
     "metadata": {},
     "output_type": "execute_result"
    }
   ],
   "source": [
    "blk_0302_stacked_extracted_features.shape"
   ]
  },
  {
   "cell_type": "code",
   "execution_count": 150,
   "id": "a78bd45e-5d5c-4ba6-9167-8cca5b790ff7",
   "metadata": {},
   "outputs": [
    {
     "data": {
      "text/plain": [
       "0.35813344"
      ]
     },
     "execution_count": 150,
     "metadata": {},
     "output_type": "execute_result"
    }
   ],
   "source": [
    "# see if the mean of the extracted features match to the ones earlier\n",
    "np.mean(blk_0302_stacked_extracted_features)"
   ]
  },
  {
   "cell_type": "code",
   "execution_count": 151,
   "id": "5db4c2a7-2deb-4857-a5f6-cdac62eef66e",
   "metadata": {},
   "outputs": [],
   "source": [
    "# save the data\n",
    "np.save(\"data/test_out_targets/test_targets_blk_0302.npy\", blk_0302_stacked_extracted_features)"
   ]
  },
  {
   "cell_type": "code",
   "execution_count": 152,
   "id": "994d0105-dde5-490a-8f30-9d29d7c374e4",
   "metadata": {},
   "outputs": [
    {
     "data": {
      "text/plain": [
       "1.0"
      ]
     },
     "execution_count": 152,
     "metadata": {},
     "output_type": "execute_result"
    }
   ],
   "source": [
    "# sanity check\n",
    "np.mean(blk_0302_stacked_extracted_features == np.load(\"data/test_out_targets/test_targets_blk_0302.npy\"))"
   ]
  },
  {
   "cell_type": "code",
   "execution_count": 153,
   "id": "9a75d973-096d-48d5-af85-40a42886565a",
   "metadata": {},
   "outputs": [],
   "source": [
    "# Block 0303"
   ]
  },
  {
   "cell_type": "code",
   "execution_count": 154,
   "id": "e2ab806d-908e-4e43-8564-3fb095d5c64c",
   "metadata": {},
   "outputs": [],
   "source": [
    "block_0303 = \"../../Spring_2024/S_lab_TasselNet/Block_15_TN/Block_15_images_and_xml\""
   ]
  },
  {
   "cell_type": "code",
   "execution_count": 155,
   "id": "d15f9bfd-746d-481a-9318-95d9c7ef011b",
   "metadata": {},
   "outputs": [],
   "source": [
    "images_block_0303 = chose_xml_and_jpeg(block_0303)"
   ]
  },
  {
   "cell_type": "code",
   "execution_count": 156,
   "id": "1d166a69-31e7-4eae-8d46-41b40b072adf",
   "metadata": {},
   "outputs": [
    {
     "data": {
      "text/plain": [
       "['Block0303_2020_08_26.jpeg',\n",
       " 'Block0303_2020_08_27.jpeg',\n",
       " 'Block0303_2020_08_28.jpeg',\n",
       " 'Block0303_2020_08_31.jpeg',\n",
       " 'Block0303_2020_09_02.jpeg',\n",
       " 'Block0303_2020_09_07.jpeg',\n",
       " 'Block0303_2020_09_16.jpeg']"
      ]
     },
     "execution_count": 156,
     "metadata": {},
     "output_type": "execute_result"
    }
   ],
   "source": [
    "images_block_0303"
   ]
  },
  {
   "cell_type": "code",
   "execution_count": 157,
   "id": "bfffb077-959b-4db9-be22-ed4f1a73c1b6",
   "metadata": {},
   "outputs": [
    {
     "name": "stdout",
     "output_type": "stream",
     "text": [
      "(910, 30, 30, 3)\n",
      "29/29 [==============================] - 0s 2ms/step\n",
      "(910, 30, 30, 3)\n",
      "29/29 [==============================] - 0s 2ms/step\n",
      "(910, 30, 30, 3)\n",
      "29/29 [==============================] - 0s 3ms/step\n",
      "(910, 30, 30, 3)\n",
      "29/29 [==============================] - 0s 2ms/step\n",
      "(910, 30, 30, 3)\n",
      "29/29 [==============================] - 0s 2ms/step\n",
      "(910, 30, 30, 3)\n",
      "29/29 [==============================] - 0s 3ms/step\n",
      "(910, 30, 30, 3)\n",
      "29/29 [==============================] - 0s 3ms/step\n",
      "CPU times: user 2.63 s, sys: 147 ms, total: 2.78 s\n",
      "Wall time: 2.64 s\n"
     ]
    }
   ],
   "source": [
    "%%time\n",
    "# get the extracted input features\n",
    "\n",
    "blk_0303_all_features = []\n",
    "for file in images_block_0303:\n",
    "    extracted_features = extract_features(file, block_0303)\n",
    "    blk_0303_all_features.append(extracted_features)"
   ]
  },
  {
   "cell_type": "code",
   "execution_count": 158,
   "id": "4b9bfac9-538e-4fab-afe6-f854ea82d26a",
   "metadata": {},
   "outputs": [],
   "source": [
    "# stack the extracted features\n",
    "blk_0303_stacked_extracted_features = np.stack(blk_0303_all_features, axis = 1)"
   ]
  },
  {
   "cell_type": "code",
   "execution_count": 159,
   "id": "28d5d4b1-d4d2-4930-ae1b-827b36627461",
   "metadata": {},
   "outputs": [
    {
     "data": {
      "text/plain": [
       "(910, 7, 32)"
      ]
     },
     "execution_count": 159,
     "metadata": {},
     "output_type": "execute_result"
    }
   ],
   "source": [
    "blk_0303_stacked_extracted_features.shape"
   ]
  },
  {
   "cell_type": "code",
   "execution_count": 160,
   "id": "a3c2d229-0c00-4174-94e6-04de15ef7a9c",
   "metadata": {},
   "outputs": [
    {
     "data": {
      "text/plain": [
       "0.35154644"
      ]
     },
     "execution_count": 160,
     "metadata": {},
     "output_type": "execute_result"
    }
   ],
   "source": [
    "# see if the mean of the extracted features match to the ones earlier\n",
    "np.mean(blk_0303_stacked_extracted_features)"
   ]
  },
  {
   "cell_type": "code",
   "execution_count": 161,
   "id": "3260971d-6d5d-4368-8bf5-516c0e931542",
   "metadata": {},
   "outputs": [],
   "source": [
    "# save the data\n",
    "np.save(\"data/test_out_targets/test_targets_blk_0303.npy\", blk_0303_stacked_extracted_features)"
   ]
  },
  {
   "cell_type": "code",
   "execution_count": 162,
   "id": "1b05cf24-7cfa-48f7-8f1c-913fe23f5007",
   "metadata": {},
   "outputs": [
    {
     "data": {
      "text/plain": [
       "1.0"
      ]
     },
     "execution_count": 162,
     "metadata": {},
     "output_type": "execute_result"
    }
   ],
   "source": [
    "# sanity check\n",
    "np.mean(blk_0303_stacked_extracted_features == np.load(\"data/test_out_targets/test_targets_blk_0303.npy\"))"
   ]
  },
  {
   "cell_type": "code",
   "execution_count": 163,
   "id": "820b5e0c-5891-4695-96d1-f717ddcb53ef",
   "metadata": {},
   "outputs": [],
   "source": [
    "# Block 0304"
   ]
  },
  {
   "cell_type": "code",
   "execution_count": 164,
   "id": "7ca87ab7-b71e-473e-8128-44756fcc89e6",
   "metadata": {},
   "outputs": [],
   "source": [
    "block_0304 = \"../../Spring_2024/S_lab_TasselNet/Block_16_TN/Block_16_images_and_xml\""
   ]
  },
  {
   "cell_type": "code",
   "execution_count": 165,
   "id": "3b4e898e-bc0f-4ec6-bf54-5c0507659f17",
   "metadata": {},
   "outputs": [],
   "source": [
    "images_block_0304 = chose_xml_and_jpeg(block_0304)"
   ]
  },
  {
   "cell_type": "code",
   "execution_count": 166,
   "id": "8a1a5705-b789-4a5d-8b7b-022966aea895",
   "metadata": {},
   "outputs": [
    {
     "data": {
      "text/plain": [
       "['Block0304_2020_08_26.jpeg',\n",
       " 'Block0304_2020_08_27.jpeg',\n",
       " 'Block0304_2020_08_28.jpeg',\n",
       " 'Block0304_2020_08_31.jpeg',\n",
       " 'Block0304_2020_09_02.jpeg',\n",
       " 'Block0304_2020_09_07.jpeg',\n",
       " 'Block0304_2020_09_16.jpeg']"
      ]
     },
     "execution_count": 166,
     "metadata": {},
     "output_type": "execute_result"
    }
   ],
   "source": [
    "images_block_0304"
   ]
  },
  {
   "cell_type": "code",
   "execution_count": 167,
   "id": "46bb9ec0-0346-4d51-b52e-96c5545b04b5",
   "metadata": {},
   "outputs": [
    {
     "name": "stdout",
     "output_type": "stream",
     "text": [
      "(910, 30, 30, 3)\n",
      "29/29 [==============================] - 0s 2ms/step\n",
      "(910, 30, 30, 3)\n",
      "29/29 [==============================] - 0s 3ms/step\n",
      "(910, 30, 30, 3)\n",
      "29/29 [==============================] - 0s 3ms/step\n",
      "(910, 30, 30, 3)\n",
      "29/29 [==============================] - 0s 3ms/step\n",
      "(910, 30, 30, 3)\n",
      "29/29 [==============================] - 0s 2ms/step\n",
      "(910, 30, 30, 3)\n",
      "29/29 [==============================] - 0s 2ms/step\n",
      "(910, 30, 30, 3)\n",
      "29/29 [==============================] - 0s 2ms/step\n",
      "CPU times: user 2.49 s, sys: 146 ms, total: 2.64 s\n",
      "Wall time: 2.5 s\n"
     ]
    }
   ],
   "source": [
    "%%time\n",
    "# get the extracted input features\n",
    "\n",
    "blk_0304_all_features = []\n",
    "for file in images_block_0304:\n",
    "    extracted_features = extract_features(file, block_0304)\n",
    "    blk_0304_all_features.append(extracted_features)"
   ]
  },
  {
   "cell_type": "code",
   "execution_count": 168,
   "id": "8dfd6013-f813-4ef6-834b-6959a7476c6e",
   "metadata": {},
   "outputs": [],
   "source": [
    "# stack the extracted features\n",
    "blk_0304_stacked_extracted_features = np.stack(blk_0304_all_features, axis = 1)"
   ]
  },
  {
   "cell_type": "code",
   "execution_count": 169,
   "id": "24a943b5-4031-4277-baee-0ef690681028",
   "metadata": {},
   "outputs": [
    {
     "data": {
      "text/plain": [
       "(910, 7, 32)"
      ]
     },
     "execution_count": 169,
     "metadata": {},
     "output_type": "execute_result"
    }
   ],
   "source": [
    "blk_0304_stacked_extracted_features.shape"
   ]
  },
  {
   "cell_type": "code",
   "execution_count": 170,
   "id": "44402bb2-df67-4ac6-9643-50b37144469c",
   "metadata": {},
   "outputs": [
    {
     "data": {
      "text/plain": [
       "0.3765111"
      ]
     },
     "execution_count": 170,
     "metadata": {},
     "output_type": "execute_result"
    }
   ],
   "source": [
    "# see if the mean of the extracted features match to the ones earlier\n",
    "np.mean(blk_0304_stacked_extracted_features)"
   ]
  },
  {
   "cell_type": "code",
   "execution_count": 171,
   "id": "19d44677-f8d5-4f51-b3dd-82d78a931a23",
   "metadata": {},
   "outputs": [],
   "source": [
    "# save the data\n",
    "np.save(\"data/test_out_targets/test_targets_blk_0304.npy\", blk_0304_stacked_extracted_features)"
   ]
  },
  {
   "cell_type": "code",
   "execution_count": 172,
   "id": "795c3261-0b99-4e88-ab53-e14f719b4e51",
   "metadata": {},
   "outputs": [
    {
     "data": {
      "text/plain": [
       "1.0"
      ]
     },
     "execution_count": 172,
     "metadata": {},
     "output_type": "execute_result"
    }
   ],
   "source": [
    "# sanity check\n",
    "np.mean(blk_0304_stacked_extracted_features == np.load(\"data/test_out_targets/test_targets_blk_0304.npy\"))"
   ]
  },
  {
   "cell_type": "code",
   "execution_count": 173,
   "id": "2806657e-cfb4-4c51-8e6b-35259595ae5d",
   "metadata": {},
   "outputs": [],
   "source": [
    "# Block 0305"
   ]
  },
  {
   "cell_type": "code",
   "execution_count": 174,
   "id": "6e6bf7d6-c491-4c1a-9871-8e7285b5ff97",
   "metadata": {},
   "outputs": [],
   "source": [
    "block_0305 = \"../../Spring_2024/S_lab_TasselNet/Block_17_TN/Block_17_images_and_xml\""
   ]
  },
  {
   "cell_type": "code",
   "execution_count": 175,
   "id": "cad23c8c-2a44-48ba-ada4-cb0c461aae82",
   "metadata": {},
   "outputs": [],
   "source": [
    "images_block_0305 = chose_xml_and_jpeg(block_0305)"
   ]
  },
  {
   "cell_type": "code",
   "execution_count": 176,
   "id": "8d455b40-2f1f-4b72-ac5c-c2ff20996207",
   "metadata": {},
   "outputs": [
    {
     "data": {
      "text/plain": [
       "['Block0305_2020_08_26.jpeg',\n",
       " 'Block0305_2020_08_27.jpeg',\n",
       " 'Block0305_2020_08_28.jpeg',\n",
       " 'Block0305_2020_08_31.jpeg',\n",
       " 'Block0305_2020_09_02.jpeg',\n",
       " 'Block0305_2020_09_07.jpeg',\n",
       " 'Block0305_2020_09_16.jpeg']"
      ]
     },
     "execution_count": 176,
     "metadata": {},
     "output_type": "execute_result"
    }
   ],
   "source": [
    "images_block_0305"
   ]
  },
  {
   "cell_type": "code",
   "execution_count": 177,
   "id": "a11860d6-f2b1-479b-861b-82b5355df46f",
   "metadata": {},
   "outputs": [
    {
     "name": "stdout",
     "output_type": "stream",
     "text": [
      "(910, 30, 30, 3)\n",
      "29/29 [==============================] - 0s 3ms/step\n",
      "(910, 30, 30, 3)\n",
      "29/29 [==============================] - 0s 2ms/step\n",
      "(910, 30, 30, 3)\n",
      "29/29 [==============================] - 0s 3ms/step\n",
      "(910, 30, 30, 3)\n",
      "29/29 [==============================] - 0s 3ms/step\n",
      "(910, 30, 30, 3)\n",
      "29/29 [==============================] - 0s 2ms/step\n",
      "(910, 30, 30, 3)\n",
      "29/29 [==============================] - 0s 2ms/step\n",
      "(910, 30, 30, 3)\n",
      "29/29 [==============================] - 0s 2ms/step\n",
      "CPU times: user 2.55 s, sys: 153 ms, total: 2.7 s\n",
      "Wall time: 2.56 s\n"
     ]
    }
   ],
   "source": [
    "%%time\n",
    "# get the extracted input features\n",
    "\n",
    "blk_0305_all_features = []\n",
    "for file in images_block_0305:\n",
    "    extracted_features = extract_features(file, block_0305)\n",
    "    blk_0305_all_features.append(extracted_features)"
   ]
  },
  {
   "cell_type": "code",
   "execution_count": 178,
   "id": "891e7557-595e-4944-86aa-f3dd6d598ae7",
   "metadata": {},
   "outputs": [],
   "source": [
    "# stack the extracted features\n",
    "blk_0305_stacked_extracted_features = np.stack(blk_0305_all_features, axis = 1)"
   ]
  },
  {
   "cell_type": "code",
   "execution_count": 179,
   "id": "3d245967-71f3-46ca-8c4d-a0f180c3d147",
   "metadata": {},
   "outputs": [
    {
     "data": {
      "text/plain": [
       "(910, 7, 32)"
      ]
     },
     "execution_count": 179,
     "metadata": {},
     "output_type": "execute_result"
    }
   ],
   "source": [
    "blk_0305_stacked_extracted_features.shape"
   ]
  },
  {
   "cell_type": "code",
   "execution_count": 180,
   "id": "9ae42936-3313-4aec-9d96-ae2a26ec6eee",
   "metadata": {},
   "outputs": [
    {
     "data": {
      "text/plain": [
       "0.35570836"
      ]
     },
     "execution_count": 180,
     "metadata": {},
     "output_type": "execute_result"
    }
   ],
   "source": [
    "# see if the mean of the extracted features match to the ones earlier\n",
    "np.mean(blk_0305_stacked_extracted_features)"
   ]
  },
  {
   "cell_type": "code",
   "execution_count": 181,
   "id": "4811d834-ad43-451f-9a3d-e76bd1f4ded0",
   "metadata": {},
   "outputs": [],
   "source": [
    "# save the data\n",
    "np.save(\"data/test_out_targets/test_targets_blk_0305.npy\", blk_0305_stacked_extracted_features)"
   ]
  },
  {
   "cell_type": "code",
   "execution_count": 182,
   "id": "d137c181-d7e6-40bf-bcd3-437fc38ff6ea",
   "metadata": {},
   "outputs": [
    {
     "data": {
      "text/plain": [
       "1.0"
      ]
     },
     "execution_count": 182,
     "metadata": {},
     "output_type": "execute_result"
    }
   ],
   "source": [
    "# sanity check\n",
    "np.mean(blk_0305_stacked_extracted_features == np.load(\"data/test_out_targets/test_targets_blk_0305.npy\"))"
   ]
  },
  {
   "cell_type": "code",
   "execution_count": 183,
   "id": "28fb579c-2f2d-49b2-a161-51545e7e9781",
   "metadata": {},
   "outputs": [],
   "source": [
    "# Block 0306"
   ]
  },
  {
   "cell_type": "code",
   "execution_count": 184,
   "id": "9f9ffd4d-1415-4ae3-a190-9b519b4b5cc7",
   "metadata": {},
   "outputs": [],
   "source": [
    "block_0306 = \"../../Spring_2024/S_lab_TasselNet/Block_18_TN/Block_18_images_and_xml\""
   ]
  },
  {
   "cell_type": "code",
   "execution_count": 185,
   "id": "dd805c66-92eb-4e94-be34-5b9d09cf7416",
   "metadata": {},
   "outputs": [],
   "source": [
    "images_block_0306 = chose_xml_and_jpeg(block_0306)"
   ]
  },
  {
   "cell_type": "code",
   "execution_count": 186,
   "id": "eb7ee457-735d-408d-86bf-2a8b9aeb2949",
   "metadata": {},
   "outputs": [
    {
     "data": {
      "text/plain": [
       "['Block0306_2020_08_26.jpeg',\n",
       " 'Block0306_2020_08_27.jpeg',\n",
       " 'Block0306_2020_08_28.jpeg',\n",
       " 'Block0306_2020_08_31.jpeg',\n",
       " 'Block0306_2020_09_02.jpeg',\n",
       " 'Block0306_2020_09_07.jpeg',\n",
       " 'Block0306_2020_09_16.jpeg']"
      ]
     },
     "execution_count": 186,
     "metadata": {},
     "output_type": "execute_result"
    }
   ],
   "source": [
    "images_block_0306"
   ]
  },
  {
   "cell_type": "code",
   "execution_count": 187,
   "id": "ec55a574-d472-4f0e-b1d7-e2beb82ba257",
   "metadata": {},
   "outputs": [
    {
     "name": "stdout",
     "output_type": "stream",
     "text": [
      "(910, 30, 30, 3)\n",
      "29/29 [==============================] - 0s 3ms/step\n",
      "(910, 30, 30, 3)\n",
      "29/29 [==============================] - 0s 2ms/step\n",
      "(910, 30, 30, 3)\n",
      "29/29 [==============================] - 0s 2ms/step\n",
      "(910, 30, 30, 3)\n",
      "29/29 [==============================] - 0s 3ms/step\n",
      "(910, 30, 30, 3)\n",
      "29/29 [==============================] - 0s 2ms/step\n",
      "(910, 30, 30, 3)\n",
      "29/29 [==============================] - 0s 3ms/step\n",
      "(910, 30, 30, 3)\n",
      "29/29 [==============================] - 0s 2ms/step\n",
      "CPU times: user 2.5 s, sys: 155 ms, total: 2.66 s\n",
      "Wall time: 2.52 s\n"
     ]
    }
   ],
   "source": [
    "%%time\n",
    "# get the extracted input features\n",
    "\n",
    "blk_0306_all_features = []\n",
    "for file in images_block_0306:\n",
    "    extracted_features = extract_features(file, block_0306)\n",
    "    blk_0306_all_features.append(extracted_features)"
   ]
  },
  {
   "cell_type": "code",
   "execution_count": 188,
   "id": "13535014-7e57-4e1d-8721-08c4059e8d2a",
   "metadata": {},
   "outputs": [],
   "source": [
    "# stack the extracted features\n",
    "blk_0306_stacked_extracted_features = np.stack(blk_0306_all_features, axis = 1)"
   ]
  },
  {
   "cell_type": "code",
   "execution_count": 189,
   "id": "b8614046-6be4-4f04-841e-2e8abcc8d4b1",
   "metadata": {},
   "outputs": [
    {
     "data": {
      "text/plain": [
       "(910, 7, 32)"
      ]
     },
     "execution_count": 189,
     "metadata": {},
     "output_type": "execute_result"
    }
   ],
   "source": [
    "blk_0306_stacked_extracted_features.shape"
   ]
  },
  {
   "cell_type": "code",
   "execution_count": 190,
   "id": "d39558dc-b7c2-4ca1-bd9b-1a8f3265fa7b",
   "metadata": {},
   "outputs": [
    {
     "data": {
      "text/plain": [
       "0.36524606"
      ]
     },
     "execution_count": 190,
     "metadata": {},
     "output_type": "execute_result"
    }
   ],
   "source": [
    "# see if the mean of the extracted features match to the ones earlier\n",
    "np.mean(blk_0306_stacked_extracted_features)"
   ]
  },
  {
   "cell_type": "code",
   "execution_count": 191,
   "id": "4a63cdbc-c931-44c3-a87b-5fd2ff89184d",
   "metadata": {},
   "outputs": [],
   "source": [
    "# save the data\n",
    "np.save(\"data/test_out_targets/test_targets_blk_0306.npy\", blk_0306_stacked_extracted_features)"
   ]
  },
  {
   "cell_type": "code",
   "execution_count": 192,
   "id": "c5c3c7ad-b235-449c-aa17-7df2db17349f",
   "metadata": {},
   "outputs": [
    {
     "data": {
      "text/plain": [
       "1.0"
      ]
     },
     "execution_count": 192,
     "metadata": {},
     "output_type": "execute_result"
    }
   ],
   "source": [
    "# sanity check\n",
    "np.mean(blk_0306_stacked_extracted_features == np.load(\"data/test_out_targets/test_targets_blk_0306.npy\"))"
   ]
  }
 ],
 "metadata": {
  "kernelspec": {
   "display_name": "Python (nrdstor_tfp_for_TN)",
   "language": "python",
   "name": "nrdstor_tfp_for_tn"
  },
  "language_info": {
   "codemirror_mode": {
    "name": "ipython",
    "version": 3
   },
   "file_extension": ".py",
   "mimetype": "text/x-python",
   "name": "python",
   "nbconvert_exporter": "python",
   "pygments_lexer": "ipython3",
   "version": "3.10.14"
  }
 },
 "nbformat": 4,
 "nbformat_minor": 5
}

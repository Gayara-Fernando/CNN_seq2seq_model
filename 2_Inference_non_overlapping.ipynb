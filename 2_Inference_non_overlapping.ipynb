{
 "cells": [
  {
   "cell_type": "code",
   "execution_count": 1,
   "id": "3f5da18c-d506-44a6-8fca-5a6eef7f6076",
   "metadata": {},
   "outputs": [
    {
     "name": "stderr",
     "output_type": "stream",
     "text": [
      "2025-07-15 11:31:46.718607: I tensorflow/core/util/port.cc:113] oneDNN custom operations are on. You may see slightly different numerical results due to floating-point round-off errors from different computation orders. To turn them off, set the environment variable `TF_ENABLE_ONEDNN_OPTS=0`.\n",
      "2025-07-15 11:31:46.754812: E external/local_xla/xla/stream_executor/cuda/cuda_dnn.cc:9261] Unable to register cuDNN factory: Attempting to register factory for plugin cuDNN when one has already been registered\n",
      "2025-07-15 11:31:46.754835: E external/local_xla/xla/stream_executor/cuda/cuda_fft.cc:607] Unable to register cuFFT factory: Attempting to register factory for plugin cuFFT when one has already been registered\n",
      "2025-07-15 11:31:46.755719: E external/local_xla/xla/stream_executor/cuda/cuda_blas.cc:1515] Unable to register cuBLAS factory: Attempting to register factory for plugin cuBLAS when one has already been registered\n",
      "2025-07-15 11:31:46.762582: I tensorflow/core/platform/cpu_feature_guard.cc:182] This TensorFlow binary is optimized to use available CPU instructions in performance-critical operations.\n",
      "To enable the following instructions: SSE4.1 SSE4.2 AVX AVX2 AVX512F AVX512_VNNI FMA, in other operations, rebuild TensorFlow with the appropriate compiler flags.\n"
     ]
    }
   ],
   "source": [
    "import tensorflow as tf\n",
    "import pandas as pd\n",
    "import numpy as np\n",
    "import os\n",
    "from sklearn.metrics import mean_squared_error, mean_absolute_error, r2_score\n",
    "from scipy.stats import pearsonr"
   ]
  },
  {
   "cell_type": "code",
   "execution_count": 2,
   "id": "7626cc64-7698-4503-a40c-6724bf8ce7c1",
   "metadata": {},
   "outputs": [],
   "source": [
    "# I think we can get the metrics in a for loop for all the blocks individually?\n",
    "# And later we will compute an average metric too"
   ]
  },
  {
   "cell_type": "code",
   "execution_count": 3,
   "id": "6c929307-846c-43fe-a5e3-9902901693ea",
   "metadata": {},
   "outputs": [
    {
     "name": "stdout",
     "output_type": "stream",
     "text": [
      "WARNING:tensorflow:Layer lstm will not use cuDNN kernels since it doesn't meet the criteria. It will use a generic GPU kernel as fallback when running on GPU.\n",
      "WARNING:tensorflow:Layer lstm_1 will not use cuDNN kernels since it doesn't meet the criteria. It will use a generic GPU kernel as fallback when running on GPU.\n"
     ]
    },
    {
     "name": "stderr",
     "output_type": "stream",
     "text": [
      "2025-07-15 11:31:48.815002: I tensorflow/core/common_runtime/gpu/gpu_device.cc:1929] Created device /job:localhost/replica:0/task:0/device:GPU:0 with 31134 MB memory:  -> device: 0, name: Tesla V100S-PCIE-32GB, pci bus id: 0000:86:00.0, compute capability: 7.0\n"
     ]
    }
   ],
   "source": [
    "# get teh trained model?\n",
    "non_overlapping_model = tf.keras.models.load_model(\"models/CNN_seq2seq_non_overlapping.keras\")"
   ]
  },
  {
   "cell_type": "code",
   "execution_count": 4,
   "id": "8f913a50-8c47-4aa7-b007-50b63673dcc1",
   "metadata": {},
   "outputs": [],
   "source": [
    "# locate the test data\n",
    "\n",
    "# input features\n",
    "input_features_loc = 'data/test_input_sub_images'\n",
    "input_contents = os.listdir(input_features_loc)\n",
    "input_contents.sort()"
   ]
  },
  {
   "cell_type": "code",
   "execution_count": 5,
   "id": "3f88dcc3-d433-4957-a922-7c0047fcee6f",
   "metadata": {},
   "outputs": [],
   "source": [
    "# test targets\n",
    "out_targets_loc = 'data/test_out_targets'\n",
    "out_contents = os.listdir(out_targets_loc)\n",
    "out_contents.sort()"
   ]
  },
  {
   "cell_type": "code",
   "execution_count": 6,
   "id": "00ee8ad9-3069-443d-bb21-c54362d86c76",
   "metadata": {},
   "outputs": [],
   "source": [
    "# out_contents"
   ]
  },
  {
   "cell_type": "code",
   "execution_count": 7,
   "id": "fbfc961d-676d-4289-8058-fa0f8aca7b3d",
   "metadata": {},
   "outputs": [
    {
     "name": "stderr",
     "output_type": "stream",
     "text": [
      "2025-07-15 11:31:50.278888: I external/local_xla/xla/stream_executor/cuda/cuda_dnn.cc:454] Loaded cuDNN version 8907\n"
     ]
    },
    {
     "name": "stdout",
     "output_type": "stream",
     "text": [
      "29/29 [==============================] - 1s 13ms/step\n",
      "29/29 [==============================] - 0s 9ms/step\n",
      "29/29 [==============================] - 0s 8ms/step\n",
      "29/29 [==============================] - 0s 8ms/step\n",
      "29/29 [==============================] - 0s 9ms/step\n",
      "29/29 [==============================] - 0s 8ms/step\n",
      "29/29 [==============================] - 0s 9ms/step\n",
      "29/29 [==============================] - 0s 8ms/step\n",
      "29/29 [==============================] - 0s 8ms/step\n",
      "29/29 [==============================] - 0s 8ms/step\n",
      "29/29 [==============================] - 0s 8ms/step\n",
      "29/29 [==============================] - 0s 8ms/step\n",
      "29/29 [==============================] - 0s 8ms/step\n",
      "CPU times: user 8.55 s, sys: 16.8 s, total: 25.3 s\n",
      "Wall time: 8.62 s\n"
     ]
    }
   ],
   "source": [
    "%%time\n",
    "# now how to proceed?\n",
    "\n",
    "test_rmse = []\n",
    "test_mae = []\n",
    "test_r2 = []\n",
    "test_personr = []\n",
    "preds = []\n",
    "for i in range(len(input_contents)):\n",
    "    # load the features\n",
    "    test_features = np.load(os.path.join(input_features_loc, input_contents[i]))\n",
    "    # load targets\n",
    "    test_targets = np.load(os.path.join(out_targets_loc, out_contents[i]))\n",
    "    # predict the targets with trained model\n",
    "    test_preds = non_overlapping_model.predict(test_features)\n",
    "    preds.append(test_preds)\n",
    "    # compute the test scores, I think we need to flatten these before computing the scores - or can use tf, but the answers are going to be the same\n",
    "    test_preds_flatten = test_preds.flatten()\n",
    "    test_targets_flatten = test_targets.flatten()\n",
    "    mae = mean_absolute_error(test_targets_flatten, test_preds_flatten)\n",
    "    test_mae.append(mae)\n",
    "    rmse = np.sqrt(mean_squared_error(test_targets_flatten, test_preds_flatten))\n",
    "    test_rmse.append(rmse)\n",
    "    rsquare = r2_score(test_targets_flatten, test_preds_flatten)\n",
    "    test_r2.append(rsquare)\n",
    "    pearsonr_score = pearsonr(test_targets_flatten, test_preds_flatten)[0]\n",
    "    test_personr.append(pearsonr_score)"
   ]
  },
  {
   "cell_type": "code",
   "execution_count": 8,
   "id": "376b38be-a399-456c-835c-1f796678756e",
   "metadata": {},
   "outputs": [],
   "source": [
    "# test_preds.shape"
   ]
  },
  {
   "cell_type": "code",
   "execution_count": 9,
   "id": "9edfb464-d62a-4ce9-87e7-d45ff1e207cb",
   "metadata": {},
   "outputs": [],
   "source": [
    "# preds[0].shape"
   ]
  },
  {
   "cell_type": "code",
   "execution_count": 10,
   "id": "45ecac81-8407-4ca6-95f5-08605302bc70",
   "metadata": {},
   "outputs": [],
   "source": [
    "# Make sure to also have a train script without relu activation"
   ]
  },
  {
   "cell_type": "code",
   "execution_count": 11,
   "id": "2d78a52d-56ed-4c59-b2f1-9282c3d84c02",
   "metadata": {},
   "outputs": [
    {
     "data": {
      "text/plain": [
       "[0.30817848,\n",
       " 0.29190674,\n",
       " 0.30174834,\n",
       " 0.28407466,\n",
       " 0.3162589,\n",
       " 0.30801052,\n",
       " 0.28900272,\n",
       " 0.34542254,\n",
       " 0.31593293,\n",
       " 0.2976515,\n",
       " 0.29901716,\n",
       " 0.3307212,\n",
       " 0.31968552]"
      ]
     },
     "execution_count": 11,
     "metadata": {},
     "output_type": "execute_result"
    }
   ],
   "source": [
    "test_rmse"
   ]
  },
  {
   "cell_type": "code",
   "execution_count": 12,
   "id": "d2db3650-b373-4db4-b1e2-ec4d85e8864d",
   "metadata": {},
   "outputs": [
    {
     "data": {
      "text/plain": [
       "[0.14700195,\n",
       " 0.13444678,\n",
       " 0.14118999,\n",
       " 0.13030937,\n",
       " 0.1495598,\n",
       " 0.1457912,\n",
       " 0.13270512,\n",
       " 0.16239701,\n",
       " 0.14796063,\n",
       " 0.13996702,\n",
       " 0.13976054,\n",
       " 0.15674771,\n",
       " 0.14942487]"
      ]
     },
     "execution_count": 12,
     "metadata": {},
     "output_type": "execute_result"
    }
   ],
   "source": [
    "test_mae"
   ]
  },
  {
   "cell_type": "code",
   "execution_count": 13,
   "id": "7db8f714-9191-4201-9c8e-f597e09185cb",
   "metadata": {},
   "outputs": [
    {
     "data": {
      "text/plain": [
       "[0.7572155017253988,\n",
       " 0.8072256836862943,\n",
       " 0.7869350146691263,\n",
       " 0.8120676055729109,\n",
       " 0.7461398226447957,\n",
       " 0.7327348127718495,\n",
       " 0.8124007329928593,\n",
       " 0.7019205179568582,\n",
       " 0.7448710631458986,\n",
       " 0.7610479280833753,\n",
       " 0.7762393128828577,\n",
       " 0.7214341103869577,\n",
       " 0.7455742017969514]"
      ]
     },
     "execution_count": 13,
     "metadata": {},
     "output_type": "execute_result"
    }
   ],
   "source": [
    "test_r2"
   ]
  },
  {
   "cell_type": "code",
   "execution_count": 14,
   "id": "36310a12-9c37-4070-b1dc-a71063ab7079",
   "metadata": {},
   "outputs": [
    {
     "data": {
      "text/plain": [
       "[0.8703177904540282,\n",
       " 0.9001042966932388,\n",
       " 0.8909525926670814,\n",
       " 0.9032772176558256,\n",
       " 0.8643709314151917,\n",
       " 0.8560129503473228,\n",
       " 0.9032438505503798,\n",
       " 0.8378380784981865,\n",
       " 0.8631710840815606,\n",
       " 0.8728201193603392,\n",
       " 0.8813033170444302,\n",
       " 0.8494642538656734,\n",
       " 0.8634747021326035]"
      ]
     },
     "execution_count": 14,
     "metadata": {},
     "output_type": "execute_result"
    }
   ],
   "source": [
    "test_personr"
   ]
  },
  {
   "cell_type": "code",
   "execution_count": 15,
   "id": "4f12d007-f180-43b3-b5de-3face03d0d65",
   "metadata": {},
   "outputs": [],
   "source": [
    "# Now, do this for all test data at once?"
   ]
  },
  {
   "cell_type": "code",
   "execution_count": 16,
   "id": "11e0b6c1-f2e9-491d-aa00-210a7299de81",
   "metadata": {},
   "outputs": [],
   "source": [
    "# stack all input and outputs"
   ]
  },
  {
   "cell_type": "code",
   "execution_count": 19,
   "id": "e45515cb-404d-48b1-ae16-1b48ea23540c",
   "metadata": {},
   "outputs": [],
   "source": [
    "all_test_features_list = [np.load(os.path.join(input_features_loc, file)) for file in input_contents]"
   ]
  },
  {
   "cell_type": "code",
   "execution_count": 22,
   "id": "9c674d58-6805-4d1e-887f-519ff056f2f9",
   "metadata": {},
   "outputs": [],
   "source": [
    "# all_test_features_list[0].shape"
   ]
  },
  {
   "cell_type": "code",
   "execution_count": 23,
   "id": "83ec4e71-a20c-44cc-8604-f50cb674722a",
   "metadata": {},
   "outputs": [],
   "source": [
    "# len(all_test_features_list)"
   ]
  },
  {
   "cell_type": "code",
   "execution_count": 24,
   "id": "176695a6-9fca-4e93-9986-02afcbd4dcd5",
   "metadata": {},
   "outputs": [],
   "source": [
    "# stack all data together\n",
    "all_test_features = np.vstack(all_test_features_list)"
   ]
  },
  {
   "cell_type": "code",
   "execution_count": 25,
   "id": "a09108ab-266f-4094-98b0-0df04e8b5c82",
   "metadata": {},
   "outputs": [
    {
     "data": {
      "text/plain": [
       "(11830, 13, 30, 30, 3)"
      ]
     },
     "execution_count": 25,
     "metadata": {},
     "output_type": "execute_result"
    }
   ],
   "source": [
    "all_test_features.shape"
   ]
  },
  {
   "cell_type": "code",
   "execution_count": 26,
   "id": "7a1ae958-0cc2-4a8c-a3cd-b22db666a887",
   "metadata": {},
   "outputs": [],
   "source": [
    "all_test_targets_list = [np.load(os.path.join(out_targets_loc, file)) for file in out_contents]"
   ]
  },
  {
   "cell_type": "code",
   "execution_count": 30,
   "id": "ac5a2bc4-33b6-42c3-8cd7-2113cf9ae6d9",
   "metadata": {},
   "outputs": [],
   "source": [
    "# all_test_targets_list[0].shape"
   ]
  },
  {
   "cell_type": "code",
   "execution_count": 29,
   "id": "31fe2eda-e3bb-419e-ad80-c9f5eda6c2ff",
   "metadata": {},
   "outputs": [],
   "source": [
    "# len(all_test_targets_list)"
   ]
  },
  {
   "cell_type": "code",
   "execution_count": 31,
   "id": "2ae14d0e-fb1f-4ee5-a6ef-b303eb69aa4a",
   "metadata": {},
   "outputs": [],
   "source": [
    "# stack all data together\n",
    "all_test_targets = np.vstack(all_test_targets_list)"
   ]
  },
  {
   "cell_type": "code",
   "execution_count": 32,
   "id": "9b8262ac-1f7c-493d-aeb9-24157440310d",
   "metadata": {},
   "outputs": [
    {
     "data": {
      "text/plain": [
       "(11830, 7, 32)"
      ]
     },
     "execution_count": 32,
     "metadata": {},
     "output_type": "execute_result"
    }
   ],
   "source": [
    "all_test_targets.shape"
   ]
  },
  {
   "cell_type": "code",
   "execution_count": 34,
   "id": "104c67f4-8c0e-4684-9ba7-419c4b98d5a2",
   "metadata": {},
   "outputs": [],
   "source": [
    "# get all test predictions\n",
    "# all_test_preds"
   ]
  },
  {
   "cell_type": "code",
   "execution_count": null,
   "id": "73b73436-7937-4e71-b559-b27de6ac1231",
   "metadata": {},
   "outputs": [],
   "source": []
  }
 ],
 "metadata": {
  "kernelspec": {
   "display_name": "Python (nrdstor_tfp_for_TN)",
   "language": "python",
   "name": "nrdstor_tfp_for_tn"
  },
  "language_info": {
   "codemirror_mode": {
    "name": "ipython",
    "version": 3
   },
   "file_extension": ".py",
   "mimetype": "text/x-python",
   "name": "python",
   "nbconvert_exporter": "python",
   "pygments_lexer": "ipython3",
   "version": "3.10.14"
  }
 },
 "nbformat": 4,
 "nbformat_minor": 5
}
